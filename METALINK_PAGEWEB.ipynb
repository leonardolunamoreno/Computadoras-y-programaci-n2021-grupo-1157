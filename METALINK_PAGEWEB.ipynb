{
  "nbformat": 4,
  "nbformat_minor": 0,
  "metadata": {
    "colab": {
      "name": "METALINK.PAGEWEB.ipynb",
      "provenance": [],
      "authorship_tag": "ABX9TyNauZVpBbJxNdcUVsp2lQP3",
      "include_colab_link": true
    },
    "kernelspec": {
      "name": "python3",
      "display_name": "Python 3"
    },
    "language_info": {
      "name": "python"
    }
  },
  "cells": [
    {
      "cell_type": "markdown",
      "metadata": {
        "id": "view-in-github",
        "colab_type": "text"
      },
      "source": [
        "<a href=\"https://colab.research.google.com/github/leonardolunamoreno/Computadoras-y-programaci-n2021-grupo-1157/blob/main/METALINK_PAGEWEB.ipynb\" target=\"_parent\"><img src=\"https://colab.research.google.com/assets/colab-badge.svg\" alt=\"Open In Colab\"/></a>"
      ]
    },
    {
      "cell_type": "code",
      "execution_count": null,
      "metadata": {
        "id": "XQSyhslRV9OX"
      },
      "outputs": [],
      "source": [
        "from flask import Flask, render_template\n",
        "\n",
        "app = Flask(__name__)\n",
        "@app.route('/')\n",
        "def home (): \n",
        "    return 'Hola Mundo!'\n",
        "@app.route('/about')\n",
        "def home (): \n",
        "    return 'About Page'\n",
        "\n",
        "if __name__== '__main__': \n",
        "    app.run() "
      ]
    },
    {
      "cell_type": "code",
      "source": [
        "from IPython.core.display import HTML\n",
        "<!DOCTYPE HTML> \n",
        "<html lang = \"en\"> \n",
        "<head> \n",
        "    <meta charset= \"UTF-8\"> \n",
        "    <meta name= \"viewport\" content =\"whidth=device-width, initial-scale=1.0\">\n",
        "    <meta http-equiv=\"X-UA-Compatible\" content=\"ie=edge\">\n",
        "    <title>Práctica de la página WEB de DISNACK</title>\n",
        "</head> \n",
        "<body>\n",
        "    <h1> METALINK: SI LO PIENSAS PODEMOS HACERLO REALIDAD  \n",
        "</head> \n",
        "<body>"
      ],
      "metadata": {
        "id": "NaSWZkpRnoQS"
      },
      "execution_count": null,
      "outputs": []
    }
  ]
}