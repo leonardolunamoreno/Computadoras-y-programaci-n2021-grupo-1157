{
  "nbformat": 4,
  "nbformat_minor": 0,
  "metadata": {
    "colab": {
      "name": "Tarea 6_Ejercicios del capítulo2_Leonardo Luna_1157.ipynb",
      "provenance": [],
      "authorship_tag": "ABX9TyP41onyHTOAclLiVzgLHeSG",
      "include_colab_link": true
    },
    "kernelspec": {
      "name": "python3",
      "display_name": "Python 3"
    },
    "language_info": {
      "name": "python"
    }
  },
  "cells": [
    {
      "cell_type": "markdown",
      "metadata": {
        "id": "view-in-github",
        "colab_type": "text"
      },
      "source": [
        "<a href=\"https://colab.research.google.com/github/leonardolunamoreno/Computadoras-y-programaci-n2021-grupo-1157/blob/main/Tarea_6_Ejercicios_del_cap%C3%ADtulo2_Leonardo_Luna_1157.ipynb\" target=\"_parent\"><img src=\"https://colab.research.google.com/assets/colab-badge.svg\" alt=\"Open In Colab\"/></a>"
      ]
    },
    {
      "cell_type": "markdown",
      "metadata": {
        "id": "kiXXdBal5wTF"
      },
      "source": [
        ""
      ]
    },
    {
      "cell_type": "code",
      "metadata": {
        "colab": {
          "base_uri": "https://localhost:8080/"
        },
        "id": "eZEQQY7j5gDe",
        "outputId": "b5522018-abc9-4e9c-b4ac-4fd33f088a93"
      },
      "source": [
        "#Ejemplo 2.1\n",
        "CAL = float(input(\"Introduzca la calificación del alumno: \"))\n",
        "if CAL > 8: \n",
        "    print(\"Aprobado\")"
      ],
      "execution_count": null,
      "outputs": [
        {
          "output_type": "stream",
          "name": "stdout",
          "text": [
            "Introduzca la calificación del alumno: 9\n",
            "Aprobado\n"
          ]
        }
      ]
    },
    {
      "cell_type": "code",
      "metadata": {
        "colab": {
          "base_uri": "https://localhost:8080/"
        },
        "id": "c776qqgN9Q7q",
        "outputId": "67b5e826-5dac-4715-df46-ab4185de158f"
      },
      "source": [
        "#Ejemplo 2.2 \n",
        "SUE = float(input(\"Ingrese el sueldo del trabajador:$\"))\n",
        "AUM = SUE*0.15\n",
        "NSUE = SUE + AUM\n",
        "if SUE < 1000:\n",
        "    print(f\"El nuevo sueldo del trabajador es ${NSUE}\")\n",
        "else: \n",
        "    print(f\"{SUE}\")\n",
        "\n",
        "print(\"-----------------\")\n",
        "#Solucion alterna 1\n",
        "SUE = float(input(\"Ingrese el sueldo del trabajador:$\"))\n",
        "NSUE = SUE*1.15\n",
        "if SUE < 1000:\n",
        "    print(f\"El nuevo sueldo del trabajador es ${NSUE}\")\n",
        "else: \n",
        "    print(f\"{SUE}\")\n",
        "\n",
        "print(\"-----------------\")\n",
        "#Solucion alterna 2\n",
        "SUE = float(input(\"Ingrese el sueldo del trabajador:$\"))\n",
        "if SUE < 1000:\n",
        "    NSUE = SUE*1.15     \n",
        "    print(f\"El nuevo sueldo del trabajador es ${NSUE}\")\n",
        "else: \n",
        "    print(f\"{SUE}\")\n"
      ],
      "execution_count": null,
      "outputs": [
        {
          "output_type": "stream",
          "name": "stdout",
          "text": [
            "Ingrese el sueldo del trabajador:$454\n",
            "El nuevo sueldo del trabajador es $522.1\n",
            "-----------------\n",
            "Ingrese el sueldo del trabajador:$454\n",
            "El nuevo sueldo del trabajador es $522.0999999999999\n",
            "-----------------\n",
            "Ingrese el sueldo del trabajador:$454\n",
            "El nuevo sueldo del trabajador es $522.0999999999999\n"
          ]
        }
      ]
    },
    {
      "cell_type": "code",
      "metadata": {
        "colab": {
          "base_uri": "https://localhost:8080/"
        },
        "id": "xKmcMVjyARxf",
        "outputId": "57759697-894a-40d2-9c58-9e9625696017"
      },
      "source": [
        "#Ejemplo 2.3 \n",
        "CAL = float(input(\"Ingrese la calificación: \"))\n",
        "if CAL >= 8:\n",
        "    print(\"Aprobado\")\n",
        "else:\n",
        "    print(\"Reprobado\")"
      ],
      "execution_count": null,
      "outputs": [
        {
          "output_type": "stream",
          "name": "stdout",
          "text": [
            "Ingrese la calificación: 10\n",
            "Aprobado\n"
          ]
        }
      ]
    },
    {
      "cell_type": "code",
      "metadata": {
        "colab": {
          "base_uri": "https://localhost:8080/"
        },
        "id": "EEVRvC5wAVEB",
        "outputId": "12a349b3-60ed-4349-9777-e5ba7914ec97"
      },
      "source": [
        "#Ejemplo 2.4\n",
        "SUE = float(input(\"Ingrese el sueldo del trabajador:$\"))\n",
        "if SUE < 1000:\n",
        "    NSUE = SUE*1.15\n",
        "    print(f\"${NSUE}\")\n",
        "else:\n",
        "    NSUE = SUE*1.12\n",
        "    print(f\"${NSUE}\")"
      ],
      "execution_count": null,
      "outputs": [
        {
          "output_type": "stream",
          "name": "stdout",
          "text": [
            "Ingrese el sueldo del trabajador:$1789\n",
            "$2003.6800000000003\n"
          ]
        }
      ]
    },
    {
      "cell_type": "code",
      "metadata": {
        "id": "7utvaHQEHeq4"
      },
      "source": [
        "#Ejemplo 2.5\n",
        "Valor1 = int(input(\"Ingresa un valor:\"))\n",
        "Valor2 = int(input(\"Ingresa un valor:\"))\n",
        "Valor3 = int(input(\"Ingresa un valor:\"))\n",
        "ValorN = int(input(\"Ingresa un valor:\"))\n",
        "if Valor1:\n",
        "    a = operacion1 \n",
        "    print({a})\n",
        "elif Valor2:\n",
        "    b = operacion2 \n",
        "    print({b})\n",
        "elif Valor3:\n",
        "    c = operacion3 \n",
        "    print({c})\n",
        "elif ValorN:\n",
        "    n = operacion4 \n",
        "    print({n})\n"
      ],
      "execution_count": null,
      "outputs": []
    },
    {
      "cell_type": "code",
      "metadata": {
        "colab": {
          "base_uri": "https://localhost:8080/"
        },
        "id": "iKNzZ4qHHeXn",
        "outputId": "ef411f48-486b-4aaf-c29b-ad480cea66f5"
      },
      "source": [
        "#Ejemplo 2.6 \n",
        "valor = int(input(\"Ingrese un valor:\"))\n",
        "if valor ==1:\n",
        "    print(\"Acción 1\")\n",
        "    print(\"Acción x\")\n",
        "elif valor ==2:\n",
        "    print(\"Acción 1\")\n",
        "    print(\"Acción x\")\n",
        "elif valor == 3: \n",
        "    print(\"Acción 2\")\n",
        "    print(\"Acción x\")\n",
        "elif valor == 4:\n",
        "    print(\"Acción 2\")\n",
        "    print(\"Acción x\")\n",
        "elif valor == 5:\n",
        "    print(\"Acción 2\")\n",
        "    print(\"Acción x\")\n",
        "elif valor > 5:\n",
        "    print(\"Acción 3\")\n",
        "    print(\"Acción x\")\n",
        "\n",
        "#Continua leyendo desde la página 76"
      ],
      "execution_count": null,
      "outputs": [
        {
          "output_type": "stream",
          "name": "stdout",
          "text": [
            "Ingrese un valor:6\n",
            "Acción 3\n",
            "Acción x\n"
          ]
        }
      ]
    },
    {
      "cell_type": "code",
      "metadata": {
        "colab": {
          "base_uri": "https://localhost:8080/"
        },
        "id": "I1eG1QzYyOp5",
        "outputId": "97f49a7a-a10e-410c-b8ce-84c6f4bea6ea"
      },
      "source": [
        "#Ejemplo 2.7 \n",
        "NUM = int(input(\"Ingrese un valor\"))\n",
        "V = int(input(\"Ingrese otro valor\"))\n",
        "if NUM == 1:\n",
        "    VAL = 100 * V;\n",
        "elif NUM ==2:\n",
        "    VAL = 100**V;\n",
        "elif NUM == 3: \n",
        "    VAL = 100/V;\n",
        "elif NUM > 3:\n",
        "    VAL = 0\n",
        "print(f\"{VAL}\")"
      ],
      "execution_count": 27,
      "outputs": [
        {
          "output_type": "stream",
          "name": "stdout",
          "text": [
            "Ingrese un valor1\n",
            "Ingrese otro valor4\n",
            "400\n"
          ]
        }
      ]
    },
    {
      "cell_type": "code",
      "metadata": {
        "colab": {
          "base_uri": "https://localhost:8080/"
        },
        "id": "VtRjB2Y41aqX",
        "outputId": "412168e0-d90f-4e0c-ecaa-e1cce065fc6c"
      },
      "source": [
        "#Ejemplo 2.8 \n",
        "CATE = int(input(\"Ingrese la categoría del trabajador: \"))\n",
        "SUE = float(input(\"Ingrese el sueldo del trabajador:$ \"))\n",
        "if CATE ==1:\n",
        "    NSUE = SUE *1.15;\n",
        "elif CATE == 2:\n",
        "    NSUE = SUE*1.10;\n",
        "elif CATE == 3:\n",
        "    NSUE = SUE*1.08;\n",
        "elif CATE ==4:\n",
        "    NSUE = SUE *1.07;\n",
        "print(f\"Categoría: {CATE}, sueldo: ${NSUE}\")"
      ],
      "execution_count": 22,
      "outputs": [
        {
          "output_type": "stream",
          "name": "stdout",
          "text": [
            "Ingrese la categoría del trabajador: 3\n",
            "Ingrese el sueldo del trabajador:$ 3800\n",
            "Categoría: 3, sueldo: $4104.0\n"
          ]
        }
      ]
    },
    {
      "cell_type": "code",
      "metadata": {
        "id": "KfGRurYIDKvX"
      },
      "source": [
        "#Ejemplo 2.9 \n"
      ],
      "execution_count": null,
      "outputs": []
    },
    {
      "cell_type": "code",
      "metadata": {
        "id": "64hGWiBhEJh9"
      },
      "source": [
        ""
      ],
      "execution_count": null,
      "outputs": []
    }
  ]
}