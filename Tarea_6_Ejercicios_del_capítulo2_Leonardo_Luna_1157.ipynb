{
  "nbformat": 4,
  "nbformat_minor": 0,
  "metadata": {
    "colab": {
      "name": "Tarea 6_Ejercicios del capítulo2_Leonardo Luna_1157.ipynb",
      "provenance": [],
      "collapsed_sections": [],
      "authorship_tag": "ABX9TyN7VINKRCS6PWG/5bOTZUTX",
      "include_colab_link": true
    },
    "kernelspec": {
      "name": "python3",
      "display_name": "Python 3"
    },
    "language_info": {
      "name": "python"
    }
  },
  "cells": [
    {
      "cell_type": "markdown",
      "metadata": {
        "id": "view-in-github",
        "colab_type": "text"
      },
      "source": [
        "<a href=\"https://colab.research.google.com/github/leonardolunamoreno/Computadoras-y-programaci-n2021-grupo-1157/blob/main/Tarea_6_Ejercicios_del_cap%C3%ADtulo2_Leonardo_Luna_1157.ipynb\" target=\"_parent\"><img src=\"https://colab.research.google.com/assets/colab-badge.svg\" alt=\"Open In Colab\"/></a>"
      ]
    },
    {
      "cell_type": "markdown",
      "metadata": {
        "id": "kiXXdBal5wTF"
      },
      "source": [
        "#Problema 2.1 \n",
        "El número de sonidos emitidos por un grillo en un minuto, es una función de la temperatura. Como resultado de esto, es posible determinar el nivel de la temperatura haciendo uso de un grillito como termometro.\n",
        "Haga un programa que le permita calcular la temperatura, teniendo en cuenta el número de sonidos emitidos en un minuto por el grillo. \n"
      ]
    },
    {
      "cell_type": "code",
      "metadata": {
        "colab": {
          "base_uri": "https://localhost:8080/"
        },
        "id": "3AvbkXGzroCF",
        "outputId": "10e13c1f-695c-45ef-cc8a-985c9a3bfe54"
      },
      "source": [
        "#Problema 2.1 \n",
        "print(\"Buenas noches usuario, si el grillo del patio no le permite dormir,\\n cuente el número de sonidos emitidos por el mismo en un minuto y siga las instrucciones\")\n",
        "N = int(input(\"Ingrese el número de sonidos emitidos por el grillo en un minuto:\"))\n",
        "if N > 0:\n",
        "    T = N/4 + 40 \n",
        "    print(f\"La temperatura es de {T} grados Fahrenheit\")\n",
        "else:\n",
        "    print(\"No hay grillos en la costa, fin del programa\")     \n",
        "print(\"Continue descansando y contando sonidos, buenas noches.\")"
      ],
      "execution_count": 1,
      "outputs": [
        {
          "output_type": "stream",
          "name": "stdout",
          "text": [
            "Buenas noches usuario, si el grillo del patio no le permite dormir,\n",
            " cuente el número de sonidos emitidos por el mismo en un minuto y siga las instrucciones\n",
            "Ingrese el número de sonidos emitidos por el grillo en un minuto:20\n",
            "La temperatura es de 45.0 grados Fahrenheit\n",
            "Continue descansando y contando sonidos, buenas noches.\n"
          ]
        }
      ]
    },
    {
      "cell_type": "markdown",
      "metadata": {
        "id": "IOHtjTrMDkGN"
      },
      "source": [
        "#Problema 2.2\n",
        "Construya un diagrama de flujo tal que dado como datos los valores enteros P y Q, determine si los msmos satisfacen la siguiente expresión: \n",
        "P^3+Q^4-2P*Q^2 < 680\n",
        "\n",
        "En caso afirmativo debo imprimir los valores P y Q "
      ]
    },
    {
      "cell_type": "code",
      "metadata": {
        "colab": {
          "base_uri": "https://localhost:8080/"
        },
        "id": "5SwPpwFLubKW",
        "outputId": "63ef4ac8-6116-4aec-8904-7a7bb8707d07"
      },
      "source": [
        "#2.2 Problema \n",
        "P = int(input(\"Ingrese un número:\"))\n",
        "Q = int(input(\"Ingrese otro número:\"))\n",
        "EXP = P**3+Q**4-2*P**2\n",
        "if EXP < 680:\n",
        "    print(f\"{P},{Q}\")\n",
        "else: \n",
        "    print(\"Fin del programa\")"
      ],
      "execution_count": 23,
      "outputs": [
        {
          "output_type": "stream",
          "name": "stdout",
          "text": [
            "Ingrese un número:4\n",
            "Ingrese otro número:5\n",
            "4,5\n"
          ]
        }
      ]
    },
    {
      "cell_type": "markdown",
      "metadata": {
        "id": "1BpzSPrUGQpL"
      },
      "source": [
        "#Problema 2.3 \n",
        "Las raíces reales de la expresión ax^2 + bx + c =  0 se obtienen a través de la fórmula:    \n",
        "\n",
        "x = (-b ± √(b^2 - 4ac) ) / 2a\n",
        "\n",
        "Elabore un programa que calcule las raíces reales, de ser posible de una ecuación de segundo grado. \n",
        "\n"
      ]
    },
    {
      "cell_type": "code",
      "metadata": {
        "colab": {
          "base_uri": "https://localhost:8080/"
        },
        "id": "Hco2OcjOHcwm",
        "outputId": "c166ec1b-6628-45cd-e2e8-8b75b58873cc"
      },
      "source": [
        "#Problema 2.3 \n",
        "A = int(input(\"Ingrese un número:\"))\n",
        "B = int(input(\"Ingrese un número:\"))\n",
        "C = int(input(\"Ingrese un número:\"))\n",
        "DIS = B**2 - 4*A*C\n",
        "if DIS >= 0 and A != 0:  #A != 0, significa A no es igual a 0 \n",
        "    X1 = ((-B)+DIS**0.5/ 2*A)\n",
        "    X2 = ((-B)-DIS**0.5/ 2*A)\n",
        "    print(f\"Las raíces reales de la ecuación son {X1} y {X2}\")\n",
        "else: \n",
        "    print(\"No es posible realizar está operación\")"
      ],
      "execution_count": 32,
      "outputs": [
        {
          "output_type": "stream",
          "name": "stdout",
          "text": [
            "Ingrese un número:-1\n",
            "Ingrese un número:1\n",
            "Ingrese un número:1\n",
            "Las raíces reales de la ecuación son -2.118033988749895 y 0.1180339887498949\n"
          ]
        }
      ]
    },
    {
      "cell_type": "markdown",
      "metadata": {
        "id": "B7rWDyjmK1bn"
      },
      "source": [
        "#Problema 2.4 \n",
        "Haga un programa tal que dados los datos de la matrícula y las 5 calificaciones del alumno, imprima la matrícula, el promedio y la palabra aprobado,, si el alumno tiene un promedio mayor o igual que 6, y la palabra \"no aprobado\" en caso contrario."
      ]
    },
    {
      "cell_type": "code",
      "metadata": {
        "colab": {
          "base_uri": "https://localhost:8080/"
        },
        "id": "DujYPMp0OuDO",
        "outputId": "e2ca15b2-20ed-4c95-f96a-819f00566b3b"
      },
      "source": [
        "#Problema 2.4 \n",
        "MAT = int(input(\"Ingrese la matrícula del alumno: \")) #Restringir los valores de entrada, a 9 digitos\n",
        "CAL1 = float(input(\"Ingresa la calificación 1: \")) #Restringir los valores de entrada de 0 a 10 \n",
        "CAL2 = float(input(\"Ingresa la calificación 2: \"))\n",
        "CAL3 = float(input(\"Ingresa la calificación 3: \"))\n",
        "CAL4 = float(input(\"Ingresa la calificación 4: \"))\n",
        "CAL5 = float(input(\"Ingresa la calificación 5: \"))\n",
        "PRO = (CAL1+CAL2+CAL3+CAL4+CAL5)/5\n",
        "if PRO >=6:\n",
        "    print(f\"Matricula del alumno: {MAT}\")\n",
        "    print(f\"Promedio: {PRO}\")\n",
        "    print(\"APROBADO\")\n",
        "else: \n",
        "    print(\"REPROBADO\")\n",
        "\n",
        "\n",
        "\n"
      ],
      "execution_count": 38,
      "outputs": [
        {
          "output_type": "stream",
          "name": "stdout",
          "text": [
            "Ingrese la matrícula del alumno: 649871264\n",
            "Ingresa la calificación 1: 9\n",
            "Ingresa la calificación 2: 10\n",
            "Ingresa la calificación 3: 10\n",
            "Ingresa la calificación 4: 9\n",
            "Ingresa la calificación 5: 10\n",
            "649871264\n",
            "9.6\n",
            "APROBADO\n"
          ]
        }
      ]
    },
    {
      "cell_type": "markdown",
      "metadata": {
        "id": "s5nEYGCmS1Jd"
      },
      "source": [
        "#Problema 2.5\n",
        "Haga un programa tal que dado un número entero, determine si el mismo es positivo, negativo o nulo. "
      ]
    },
    {
      "cell_type": "code",
      "metadata": {
        "colab": {
          "base_uri": "https://localhost:8080/"
        },
        "id": "DB16UIZkUGZ3",
        "outputId": "a9211005-a27f-4ac7-f3c1-6821f189b32a"
      },
      "source": [
        "#Problema 2.5\n",
        "NUM = int(input(\"Ingrese un número: \"))\n",
        "if NUM > 0:\n",
        "    print(\"POSITIVO\")\n",
        "elif NUM == 0:\n",
        "    print(\"NULO\")\n",
        "else:\n",
        "     print(\"NEGATIVO\")"
      ],
      "execution_count": 52,
      "outputs": [
        {
          "output_type": "stream",
          "name": "stdout",
          "text": [
            "Ingrese un número: -10000\n",
            "NEGATIVO\n"
          ]
        }
      ]
    },
    {
      "cell_type": "markdown",
      "metadata": {
        "id": "i4HbkSfsYseR"
      },
      "source": [
        "#Problema 2.6\n",
        "Dado un número entero A, haga un programa para determinar si el mismo es par, impar o nulo."
      ]
    },
    {
      "cell_type": "code",
      "metadata": {
        "colab": {
          "base_uri": "https://localhost:8080/"
        },
        "id": "tyzFXrefZyib",
        "outputId": "4a8a1734-4763-4e27-817e-c4fb0ded0529"
      },
      "source": [
        "#Problema 2.6\n",
        "A = int(input(\"Ingrese un número: \"))\n",
        "if A == 0:\n",
        "    print(\"NULO\")\n",
        "elif A % 2 == 0:\n",
        "    print(\"PAR\")\n",
        "else:\n",
        "    print(\"IMPAR\")\n",
        "\n",
        "#A = int(input(\"Ingrese un número: \"))\n",
        "#if A == 0:\n",
        "#    print(\"NULO)\n",
        "#elif [-1**A > 0:]<-------#Descarté está parte de la solución, debido al \n",
        "#    print(\"PAR\")  #hecho de que si ingresaba un número par, el \n",
        "#else:             #algoritmo devolvía un número impar, y viceversa\n",
        "#    print(\"IMPAR\")''' #La solución fue colocar A % 2 == 0: \n",
        "                      #En lugar de -1**A > 0:"
      ],
      "execution_count": 129,
      "outputs": [
        {
          "output_type": "stream",
          "name": "stdout",
          "text": [
            "Ingrese un número: 23\n",
            "IMPAR\n"
          ]
        }
      ]
    },
    {
      "cell_type": "markdown",
      "metadata": {
        "id": "GTNlZ-aprZd2"
      },
      "source": [
        "#Problema 2.7\n",
        "Haga un programa tal que dado los datos de entrada de tres números enteros diferentes entre sí, determine si los mismos están en orden creciente. \n",
        "\n",
        "\n",
        "\n",
        "\n",
        "\n"
      ]
    },
    {
      "cell_type": "code",
      "metadata": {
        "colab": {
          "base_uri": "https://localhost:8080/"
        },
        "id": "N5w5LAvAhAfR",
        "outputId": "5888e081-2239-4fb3-cdd4-3e2d13c6eb45"
      },
      "source": [
        "#Problema 2.7\n",
        "A = int(input(\"Ingrese un número: \"))\n",
        "B = int(input(\"Ingrese un número diferente del anterior: \"))\n",
        "C = int(input(\"Ingrese un número diferente de los dos anteriores: \"))\n",
        "if A < B:\n",
        "  if B < C:\n",
        "      if A < C:\n",
        "        print(\"Los números están escritos en orden creciente\")\n",
        "elif B < A:\n",
        "    print(\"Los números no están escritos en orden creciente\")\n",
        "elif C < B:\n",
        "    print(\"Los números no están escritos en orden creciente\")\n",
        "elif C < A:\n",
        "    print(\"Los números no están escritos en orden creciente\")\n"
      ],
      "execution_count": 161,
      "outputs": [
        {
          "name": "stdout",
          "output_type": "stream",
          "text": [
            "Ingrese un número: 2\n",
            "Ingrese un número diferente del anterior: 5\n",
            "Ingrese un número diferente de los dos anteriores: 3\n"
          ]
        }
      ]
    },
    {
      "cell_type": "code",
      "metadata": {
        "colab": {
          "base_uri": "https://localhost:8080/"
        },
        "id": "sMM9q67z92xd",
        "outputId": "e7f9d9e1-865c-488c-f479-4e1e349806b1"
      },
      "source": [
        "#Ejemplo 2.12, Ejercicio \n",
        "A = int(input(\"Ingrese un número:\"))\n",
        "B = int(input(\"Ingrese otro número:\"))\n",
        "C = int(input(\"Ingrese otro número diferente de los dos números anteriores:\"))\n",
        "if A > B:\n",
        "    if A > C:\n",
        "        if B > C:\n",
        "            print(f\"El orden de los números es: {A}, {B} y {C}\")\n",
        "        else:\n",
        "            print(f\"El orden de los números es: {A}, {C} y {B}\")\n",
        "    else:\n",
        "            print(f\"El orden de los números es: {C}, {A} y {B}\")\n",
        "else:\n",
        "    if B > C:\n",
        "        if A > C:\n",
        "            print(f\"El orden de los números es: {B}, {A} y {C}\")\n",
        "        else:\n",
        "            print(f\"El orden de los números es: {B}, {C} y {A}\")\n",
        "    else:\n",
        "            print(f\"El orden de los números es: {C}, {B} y {A}\")\n",
        "print(\"Fin del programa\") \n",
        "\n",
        "#¿Este algoritmo podría escribirse con menos varialbes de entrada, y de ser así puede escribirlo?\n",
        "#¿Puede este algoritmo escribirse en menos líneas de código? de ser así trate de hacerlo \n",
        "\n",
        "#Hacer ejercicios de todo el capitulo 2"
      ],
      "execution_count": 162,
      "outputs": [
        {
          "output_type": "stream",
          "name": "stdout",
          "text": [
            "Ingrese un número:4\n",
            "Ingrese otro número:1\n",
            "Ingrese otro número diferente de los dos números anteriores:6\n",
            "El orden de los números es: 6, 4 y 1\n",
            "Fin del programa\n"
          ]
        }
      ]
    },
    {
      "cell_type": "markdown",
      "metadata": {
        "id": "UJ83c2iGC-WK"
      },
      "source": [
        "#Problema 2.8 \n",
        "En una tienda efectuán un descuento a los clientes dependiendo del monto de la compra. El descuento se efectúa con base en el siguiente criterio:    \n",
        "\n",
        "Si el monto es menor que $500 --->No hay descuento \n",
        "\n",
        "Si el monto está comprendido entre $500 y $1000--->Incluye un descuento del 5% \n",
        "\n",
        "Si el monto está comprendido entre $1000 y $7000--->Incluye un descuento del 11%\n",
        "\n",
        "Si el monto está comprendido entre $7000 y $15000--->Incluye un descuento del 18%\n",
        "\n",
        "Si el monto es mayor a $15000--->25% de descuento\n",
        "\n",
        "Haga un programa tal que dado el monto de la compra de un cliente, determine lo que el mismo debe pagar\n"
      ]
    },
    {
      "cell_type": "code",
      "metadata": {
        "colab": {
          "base_uri": "https://localhost:8080/"
        },
        "id": "B5Np9tDoFbK7",
        "outputId": "c087db5c-d68f-4282-e7f8-721651d33542"
      },
      "source": [
        "#Problema 2.8\n",
        "N = float(input(\"Ingrese el monto de la compra:$\"))\n",
        "COMPRA = N\n",
        "if COMPRA < 500:\n",
        "    print(f\"No hay descuento, total a pagar:${COMPRA}\")\n",
        "elif  500 < COMPRA < 1000:\n",
        "    PAGAR1 = COMPRA - (COMPRA*0.05)\n",
        "    print(f\"La compra incluye un descuento del 5%, total a pagar:{PAGAR1}\")\n",
        "elif 1000 < COMPRA < 7000:\n",
        "    PAGAR2 = COMPRA - (COMPRA*0.11)\n",
        "    print(f\"La compra incluye un descuento del 11%, total a pagar:{PAGAR2}\")\n",
        "elif 7000 < COMPRA < 15000:\n",
        "    PAGAR3 = COMPRA - (COMPRA*0.18)\n",
        "    print(f\"La compra incluye un descuento del 18%, total a pagar:{PAGAR3}\")\n",
        "elif 25000< COMPRA:\n",
        "    PAGAR4 = COMPRA - (COMPRA*0.25)\n",
        "    print(f\"La compra incluye un descuento del 25%, total a pagar:{PAGAR4}\")\n",
        "else:\n",
        "    print(f\"No hay descuento, total a pagar:${COMPRA}\")\n"
      ],
      "execution_count": 17,
      "outputs": [
        {
          "output_type": "stream",
          "name": "stdout",
          "text": [
            "Ingrese el monto de la compra:$100000\n",
            "La compra incluye un descuento del 25%, total a pagar:75000.0\n"
          ]
        }
      ]
    },
    {
      "cell_type": "markdown",
      "metadata": {
        "id": "1_jGx_5MiGZU"
      },
      "source": [
        ""
      ]
    },
    {
      "cell_type": "code",
      "metadata": {
        "colab": {
          "base_uri": "https://localhost:8080/"
        },
        "id": "eZEQQY7j5gDe",
        "outputId": "b5522018-abc9-4e9c-b4ac-4fd33f088a93"
      },
      "source": [
        "#Ejemplo 2.1\n",
        "CAL = float(input(\"Introduzca la calificación del alumno: \"))\n",
        "if CAL > 8: \n",
        "    print(\"Aprobado\")"
      ],
      "execution_count": null,
      "outputs": [
        {
          "output_type": "stream",
          "name": "stdout",
          "text": [
            "Introduzca la calificación del alumno: 9\n",
            "Aprobado\n"
          ]
        }
      ]
    },
    {
      "cell_type": "code",
      "metadata": {
        "colab": {
          "base_uri": "https://localhost:8080/"
        },
        "id": "c776qqgN9Q7q",
        "outputId": "67b5e826-5dac-4715-df46-ab4185de158f"
      },
      "source": [
        "#Ejemplo 2.2 \n",
        "SUE = float(input(\"Ingrese el sueldo del trabajador:$\"))\n",
        "AUM = SUE*0.15\n",
        "NSUE = SUE + AUM\n",
        "if SUE < 1000:\n",
        "    print(f\"El nuevo sueldo del trabajador es ${NSUE}\")\n",
        "else: \n",
        "    print(f\"{SUE}\")\n",
        "\n",
        "print(\"-----------------\")\n",
        "#Solucion alterna 1\n",
        "SUE = float(input(\"Ingrese el sueldo del trabajador:$\"))\n",
        "NSUE = SUE*1.15\n",
        "if SUE < 1000:\n",
        "    print(f\"El nuevo sueldo del trabajador es ${NSUE}\")\n",
        "else: \n",
        "    print(f\"{SUE}\")\n",
        "\n",
        "print(\"-----------------\")\n",
        "#Solucion alterna 2\n",
        "SUE = float(input(\"Ingrese el sueldo del trabajador:$\"))\n",
        "if SUE < 1000:\n",
        "    NSUE = SUE*1.15     \n",
        "    print(f\"El nuevo sueldo del trabajador es ${NSUE}\")\n",
        "else: \n",
        "    print(f\"{SUE}\")\n"
      ],
      "execution_count": null,
      "outputs": [
        {
          "output_type": "stream",
          "name": "stdout",
          "text": [
            "Ingrese el sueldo del trabajador:$454\n",
            "El nuevo sueldo del trabajador es $522.1\n",
            "-----------------\n",
            "Ingrese el sueldo del trabajador:$454\n",
            "El nuevo sueldo del trabajador es $522.0999999999999\n",
            "-----------------\n",
            "Ingrese el sueldo del trabajador:$454\n",
            "El nuevo sueldo del trabajador es $522.0999999999999\n"
          ]
        }
      ]
    },
    {
      "cell_type": "code",
      "metadata": {
        "colab": {
          "base_uri": "https://localhost:8080/"
        },
        "id": "xKmcMVjyARxf",
        "outputId": "57759697-894a-40d2-9c58-9e9625696017"
      },
      "source": [
        "#Ejemplo 2.3 \n",
        "CAL = float(input(\"Ingrese la calificación: \"))\n",
        "if CAL >= 8:\n",
        "    print(\"Aprobado\")\n",
        "else:\n",
        "    print(\"Reprobado\")"
      ],
      "execution_count": null,
      "outputs": [
        {
          "output_type": "stream",
          "name": "stdout",
          "text": [
            "Ingrese la calificación: 10\n",
            "Aprobado\n"
          ]
        }
      ]
    },
    {
      "cell_type": "code",
      "metadata": {
        "colab": {
          "base_uri": "https://localhost:8080/"
        },
        "id": "EEVRvC5wAVEB",
        "outputId": "12a349b3-60ed-4349-9777-e5ba7914ec97"
      },
      "source": [
        "#Ejemplo 2.4\n",
        "SUE = float(input(\"Ingrese el sueldo del trabajador:$\"))\n",
        "if SUE < 1000:\n",
        "    NSUE = SUE*1.15\n",
        "    print(f\"${NSUE}\")\n",
        "else:\n",
        "    NSUE = SUE*1.12\n",
        "    print(f\"${NSUE}\")"
      ],
      "execution_count": null,
      "outputs": [
        {
          "output_type": "stream",
          "name": "stdout",
          "text": [
            "Ingrese el sueldo del trabajador:$1789\n",
            "$2003.6800000000003\n"
          ]
        }
      ]
    },
    {
      "cell_type": "code",
      "metadata": {
        "id": "7utvaHQEHeq4"
      },
      "source": [
        "#Ejemplo 2.5\n",
        "Valor1 = int(input(\"Ingresa un valor:\"))\n",
        "Valor2 = int(input(\"Ingresa un valor:\"))\n",
        "Valor3 = int(input(\"Ingresa un valor:\"))\n",
        "ValorN = int(input(\"Ingresa un valor:\"))\n",
        "if Valor1:\n",
        "    a = operacion1 \n",
        "    print({a})\n",
        "elif Valor2:\n",
        "    b = operacion2 \n",
        "    print({b})\n",
        "elif Valor3:\n",
        "    c = operacion3 \n",
        "    print({c})\n",
        "elif ValorN:\n",
        "    n = operacion4 \n",
        "    print({n})\n"
      ],
      "execution_count": null,
      "outputs": []
    },
    {
      "cell_type": "code",
      "metadata": {
        "colab": {
          "base_uri": "https://localhost:8080/"
        },
        "id": "iKNzZ4qHHeXn",
        "outputId": "ef411f48-486b-4aaf-c29b-ad480cea66f5"
      },
      "source": [
        "#Ejemplo 2.6 \n",
        "valor = int(input(\"Ingrese un valor:\"))\n",
        "if valor ==1:\n",
        "    print(\"Acción 1\")\n",
        "    print(\"Acción x\")\n",
        "elif valor ==2:\n",
        "    print(\"Acción 1\")\n",
        "    print(\"Acción x\")\n",
        "elif valor == 3: \n",
        "    print(\"Acción 2\")\n",
        "    print(\"Acción x\")\n",
        "elif valor == 4:\n",
        "    print(\"Acción 2\")\n",
        "    print(\"Acción x\")\n",
        "elif valor == 5:\n",
        "    print(\"Acción 2\")\n",
        "    print(\"Acción x\")\n",
        "elif valor > 5:\n",
        "    print(\"Acción 3\")\n",
        "    print(\"Acción x\")\n",
        "\n",
        "#Continua leyendo desde la página 76"
      ],
      "execution_count": null,
      "outputs": [
        {
          "output_type": "stream",
          "name": "stdout",
          "text": [
            "Ingrese un valor:6\n",
            "Acción 3\n",
            "Acción x\n"
          ]
        }
      ]
    },
    {
      "cell_type": "code",
      "metadata": {
        "colab": {
          "base_uri": "https://localhost:8080/"
        },
        "id": "I1eG1QzYyOp5",
        "outputId": "97f49a7a-a10e-410c-b8ce-84c6f4bea6ea"
      },
      "source": [
        "#Ejemplo 2.7 \n",
        "NUM = int(input(\"Ingrese un valor\"))\n",
        "V = int(input(\"Ingrese otro valor\"))\n",
        "if NUM == 1:\n",
        "    VAL = 100 * V;\n",
        "elif NUM ==2:\n",
        "    VAL = 100**V;\n",
        "elif NUM == 3: \n",
        "    VAL = 100/V;\n",
        "elif NUM > 3:\n",
        "    VAL = 0\n",
        "print(f\"{VAL}\")"
      ],
      "execution_count": null,
      "outputs": [
        {
          "output_type": "stream",
          "name": "stdout",
          "text": [
            "Ingrese un valor1\n",
            "Ingrese otro valor4\n",
            "400\n"
          ]
        }
      ]
    },
    {
      "cell_type": "code",
      "metadata": {
        "colab": {
          "base_uri": "https://localhost:8080/"
        },
        "id": "VtRjB2Y41aqX",
        "outputId": "412168e0-d90f-4e0c-ecaa-e1cce065fc6c"
      },
      "source": [
        "#Ejemplo 2.8 \n",
        "CATE = int(input(\"Ingrese la categoría del trabajador: \"))\n",
        "SUE = float(input(\"Ingrese el sueldo del trabajador:$ \"))\n",
        "if CATE ==1:\n",
        "    NSUE = SUE *1.15;\n",
        "elif CATE == 2:\n",
        "    NSUE = SUE*1.10;\n",
        "elif CATE == 3:\n",
        "    NSUE = SUE*1.08;\n",
        "elif CATE ==4:\n",
        "    NSUE = SUE *1.07;\n",
        "print(f\"Categoría: {CATE}, sueldo: ${NSUE}\")"
      ],
      "execution_count": null,
      "outputs": [
        {
          "output_type": "stream",
          "name": "stdout",
          "text": [
            "Ingrese la categoría del trabajador: 3\n",
            "Ingrese el sueldo del trabajador:$ 3800\n",
            "Categoría: 3, sueldo: $4104.0\n"
          ]
        }
      ]
    },
    {
      "cell_type": "code",
      "metadata": {
        "id": "KfGRurYIDKvX"
      },
      "source": [
        "#Ejemplo 2.9 \n"
      ],
      "execution_count": null,
      "outputs": []
    },
    {
      "cell_type": "code",
      "metadata": {
        "id": "64hGWiBhEJh9"
      },
      "source": [
        ""
      ],
      "execution_count": null,
      "outputs": []
    }
  ]
}