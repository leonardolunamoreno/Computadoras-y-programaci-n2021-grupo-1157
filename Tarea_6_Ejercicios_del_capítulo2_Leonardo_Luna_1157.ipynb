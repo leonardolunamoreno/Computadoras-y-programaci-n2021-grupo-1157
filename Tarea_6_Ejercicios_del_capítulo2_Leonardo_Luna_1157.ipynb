{
  "nbformat": 4,
  "nbformat_minor": 0,
  "metadata": {
    "colab": {
      "name": "Tarea 6_Ejercicios del capítulo2_Leonardo Luna_1157.ipynb",
      "provenance": [],
      "collapsed_sections": [
        "kiXXdBal5wTF",
        "IOHtjTrMDkGN",
        "1BpzSPrUGQpL",
        "B7rWDyjmK1bn",
        "s5nEYGCmS1Jd",
        "i4HbkSfsYseR"
      ],
      "authorship_tag": "ABX9TyOFIXXNy1EuJy0Pb/O0c3Z/",
      "include_colab_link": true
    },
    "kernelspec": {
      "display_name": "Python 3",
      "name": "python3"
    },
    "language_info": {
      "name": "python"
    }
  },
  "cells": [
    {
      "cell_type": "markdown",
      "metadata": {
        "id": "view-in-github",
        "colab_type": "text"
      },
      "source": [
        "<a href=\"https://colab.research.google.com/github/leonardolunamoreno/Computadoras-y-programaci-n2021-grupo-1157/blob/main/Tarea_6_Ejercicios_del_cap%C3%ADtulo2_Leonardo_Luna_1157.ipynb\" target=\"_parent\"><img src=\"https://colab.research.google.com/assets/colab-badge.svg\" alt=\"Open In Colab\"/></a>"
      ]
    },
    {
      "cell_type": "code",
      "metadata": {
        "colab": {
          "base_uri": "https://localhost:8080/"
        },
        "id": "3AvbkXGzroCF",
        "outputId": "10e13c1f-695c-45ef-cc8a-985c9a3bfe54"
      },
      "source": [
        "#Problema 2.1 \n",
        "print(\"Buenas noches usuario, si el grillo del patio no le permite dormir,\\n cuente el número de sonidos emitidos por el mismo en un minuto y siga las instrucciones\")\n",
        "N = int(input(\"Ingrese el número de sonidos emitidos por el grillo en un minuto:\"))\n",
        "if N > 0:\n",
        "    T = N/4 + 40 \n",
        "    print(f\"La temperatura es de {T} grados Fahrenheit\")\n",
        "else:\n",
        "    print(\"No hay grillos en la costa, fin del programa\")     \n",
        "print(\"Continue descansando y contando sonidos, buenas noches.\")"
      ],
      "execution_count": null,
      "outputs": [
        {
          "name": "stdout",
          "output_type": "stream",
          "text": [
            "Buenas noches usuario, si el grillo del patio no le permite dormir,\n",
            " cuente el número de sonidos emitidos por el mismo en un minuto y siga las instrucciones\n",
            "Ingrese el número de sonidos emitidos por el grillo en un minuto:20\n",
            "La temperatura es de 45.0 grados Fahrenheit\n",
            "Continue descansando y contando sonidos, buenas noches.\n"
          ]
        }
      ]
    },
    {
      "cell_type": "code",
      "metadata": {
        "colab": {
          "base_uri": "https://localhost:8080/"
        },
        "id": "5SwPpwFLubKW",
        "outputId": "63ef4ac8-6116-4aec-8904-7a7bb8707d07"
      },
      "source": [
        "#2.2 Problema \n",
        "P = int(input(\"Ingrese un número:\"))\n",
        "Q = int(input(\"Ingrese otro número:\"))\n",
        "EXP = P**3+Q**4-2*P**2\n",
        "if EXP < 680:\n",
        "    print(f\"{P},{Q}\")\n",
        "else: \n",
        "    print(\"Fin del programa\")"
      ],
      "execution_count": null,
      "outputs": [
        {
          "name": "stdout",
          "output_type": "stream",
          "text": [
            "Ingrese un número:4\n",
            "Ingrese otro número:5\n",
            "4,5\n"
          ]
        }
      ]
    },
    {
      "cell_type": "code",
      "metadata": {
        "colab": {
          "base_uri": "https://localhost:8080/"
        },
        "id": "Hco2OcjOHcwm",
        "outputId": "c166ec1b-6628-45cd-e2e8-8b75b58873cc"
      },
      "source": [
        "#Problema 2.3 \n",
        "A = int(input(\"Ingrese un número:\"))\n",
        "B = int(input(\"Ingrese un número:\"))\n",
        "C = int(input(\"Ingrese un número:\"))\n",
        "DIS = B**2 - 4*A*C\n",
        "if DIS >= 0 and A != 0:  #A != 0, significa A no es igual a 0 \n",
        "    X1 = ((-B)+DIS**0.5/ 2*A)\n",
        "    X2 = ((-B)-DIS**0.5/ 2*A)\n",
        "    print(f\"Las raíces reales de la ecuación son {X1} y {X2}\")\n",
        "else: \n",
        "    print(\"No es posible realizar está operación\")"
      ],
      "execution_count": null,
      "outputs": [
        {
          "name": "stdout",
          "output_type": "stream",
          "text": [
            "Ingrese un número:-1\n",
            "Ingrese un número:1\n",
            "Ingrese un número:1\n",
            "Las raíces reales de la ecuación son -2.118033988749895 y 0.1180339887498949\n"
          ]
        }
      ]
    },
    {
      "cell_type": "code",
      "metadata": {
        "colab": {
          "base_uri": "https://localhost:8080/"
        },
        "id": "DujYPMp0OuDO",
        "outputId": "e2ca15b2-20ed-4c95-f96a-819f00566b3b"
      },
      "source": [
        "#Problema 2.4 \n",
        "MAT = int(input(\"Ingrese la matrícula del alumno: \")) #Restringir los valores de entrada, a 9 digitos\n",
        "CAL1 = float(input(\"Ingresa la calificación 1: \")) #Restringir los valores de entrada de 0 a 10 \n",
        "CAL2 = float(input(\"Ingresa la calificación 2: \"))\n",
        "CAL3 = float(input(\"Ingresa la calificación 3: \"))\n",
        "CAL4 = float(input(\"Ingresa la calificación 4: \"))\n",
        "CAL5 = float(input(\"Ingresa la calificación 5: \"))\n",
        "PRO = (CAL1+CAL2+CAL3+CAL4+CAL5)/5\n",
        "if PRO >=6:\n",
        "    print(f\"Matricula del alumno: {MAT}\")\n",
        "    print(f\"Promedio: {PRO}\")\n",
        "    print(\"APROBADO\")\n",
        "else: \n",
        "    print(\"REPROBADO\")"
      ],
      "execution_count": null,
      "outputs": [
        {
          "name": "stdout",
          "output_type": "stream",
          "text": [
            "Ingrese la matrícula del alumno: 649871264\n",
            "Ingresa la calificación 1: 9\n",
            "Ingresa la calificación 2: 10\n",
            "Ingresa la calificación 3: 10\n",
            "Ingresa la calificación 4: 9\n",
            "Ingresa la calificación 5: 10\n",
            "649871264\n",
            "9.6\n",
            "APROBADO\n"
          ]
        }
      ]
    },
    {
      "cell_type": "code",
      "metadata": {
        "colab": {
          "base_uri": "https://localhost:8080/"
        },
        "id": "DB16UIZkUGZ3",
        "outputId": "a9211005-a27f-4ac7-f3c1-6821f189b32a"
      },
      "source": [
        "#Problema 2.5\n",
        "NUM = int(input(\"Ingrese un número: \"))\n",
        "if NUM > 0:\n",
        "    print(\"POSITIVO\")\n",
        "elif NUM == 0:\n",
        "    print(\"NULO\")\n",
        "else:\n",
        "     print(\"NEGATIVO\")"
      ],
      "execution_count": null,
      "outputs": [
        {
          "name": "stdout",
          "output_type": "stream",
          "text": [
            "Ingrese un número: -10000\n",
            "NEGATIVO\n"
          ]
        }
      ]
    },
    {
      "cell_type": "code",
      "metadata": {
        "colab": {
          "base_uri": "https://localhost:8080/"
        },
        "id": "tyzFXrefZyib",
        "outputId": "4a8a1734-4763-4e27-817e-c4fb0ded0529"
      },
      "source": [
        "#Problema 2.6\n",
        "A = int(input(\"Ingrese un número: \"))\n",
        "if A == 0:\n",
        "    print(\"NULO\")\n",
        "elif A % 2 == 0:\n",
        "    print(\"PAR\")\n",
        "else:\n",
        "    print(\"IMPAR\")\n",
        "\n",
        "#A = int(input(\"Ingrese un número: \"))\n",
        "#if A == 0:\n",
        "#    print(\"NULO)\n",
        "#elif [-1**A > 0:]<-------#Descarté está parte de la solución, debido al \n",
        "#    print(\"PAR\")  #hecho de que si ingresaba un número par, el \n",
        "#else:             #algoritmo devolvía un número impar, y viceversa\n",
        "#    print(\"IMPAR\")''' #La solución fue colocar A % 2 == 0: \n",
        "                      #En lugar de -1**A > 0:"
      ],
      "execution_count": null,
      "outputs": [
        {
          "name": "stdout",
          "output_type": "stream",
          "text": [
            "Ingrese un número: 23\n",
            "IMPAR\n"
          ]
        }
      ]
    },
    {
      "cell_type": "code",
      "metadata": {
        "colab": {
          "base_uri": "https://localhost:8080/"
        },
        "id": "N5w5LAvAhAfR",
        "outputId": "10da2fb8-9ce9-433f-d7d4-858c594c40ee"
      },
      "source": [
        "#Problema 2.7\n",
        "A = int(input(\"Ingrese un número: \"))\n",
        "B = int(input(\"Ingrese un número diferente del anterior: \"))\n",
        "C = int(input(\"Ingrese un número diferente de los dos anteriores: \"))\n",
        "if A < B < C:\n",
        "    print(\"Los números están escritos en orden creciente\")\n",
        "elif A < C < B:\n",
        "    print(\"Los números están escritos en orden creciente\")\n",
        "elif B < A < C:\n",
        "    print(\"Los números están escritos en orden creciente\")\n",
        "elif B < C < A:\n",
        "    print(\"Los números están escritos en orden creciente\")\n",
        "elif C < A < B:\n",
        "    print(\"Los números están escritos en orden creciente\")\n",
        "elif C < B < A:\n",
        "    print(\"Los números están escritos en orden creciente\")\n",
        "else: \n",
        "    print(\"Los números no están escritos en orden creciente\")\n"
      ],
      "execution_count": 8,
      "outputs": [
        {
          "output_type": "stream",
          "name": "stdout",
          "text": [
            "Ingrese un número: 2\n",
            "Ingrese un número diferente del anterior: 4\n",
            "Ingrese un número diferente de los dos anteriores: 1\n",
            "Los números están escritos en orden creciente\n"
          ]
        }
      ]
    },
    {
      "cell_type": "code",
      "metadata": {
        "colab": {
          "base_uri": "https://localhost:8080/"
        },
        "id": "B5Np9tDoFbK7",
        "outputId": "c087db5c-d68f-4282-e7f8-721651d33542"
      },
      "source": [
        "#Problema 2.8\n",
        "N = float(input(\"Ingrese el monto de la compra:$\"))\n",
        "COMPRA = N\n",
        "if COMPRA < 500:\n",
        "    print(f\"No hay descuento, total a pagar:${COMPRA}\")\n",
        "elif  500 < COMPRA < 1000:\n",
        "    PAGAR1 = COMPRA - (COMPRA*0.05)\n",
        "    print(f\"La compra incluye un descuento del 5%, total a pagar:{PAGAR1}\")\n",
        "elif 1000 < COMPRA < 7000:\n",
        "    PAGAR2 = COMPRA - (COMPRA*0.11)\n",
        "    print(f\"La compra incluye un descuento del 11%, total a pagar:{PAGAR2}\")\n",
        "elif 7000 < COMPRA < 15000:\n",
        "    PAGAR3 = COMPRA - (COMPRA*0.18)\n",
        "    print(f\"La compra incluye un descuento del 18%, total a pagar:{PAGAR3}\")\n",
        "elif 25000< COMPRA:\n",
        "    PAGAR4 = COMPRA - (COMPRA*0.25)\n",
        "    print(f\"La compra incluye un descuento del 25%, total a pagar:{PAGAR4}\")\n",
        "else:\n",
        "    print(f\"No hay descuento, total a pagar:${COMPRA}\")\n"
      ],
      "execution_count": null,
      "outputs": [
        {
          "name": "stdout",
          "output_type": "stream",
          "text": [
            "Ingrese el monto de la compra:$100000\n",
            "La compra incluye un descuento del 25%, total a pagar:75000.0\n"
          ]
        }
      ]
    },
    {
      "cell_type": "code",
      "metadata": {
        "colab": {
          "base_uri": "https://localhost:8080/"
        },
        "id": "jIjGbjEOsLCJ",
        "outputId": "c89fe203-6832-477d-9998-969e5022ce88"
      },
      "source": [
        "#Problema 2.9\n",
        "PREBAS = float(input(\"Ingrese el precio del producto:$\" ))\n",
        "if PREBAS > 500:\n",
        "    IMP = 20 * 0.30 + (PREBAS - 40)*0.50\n",
        "    PRETOT = PREBAS + IMP\n",
        "    print(f\"${PREBAS} , ${PRETOT}\")\n",
        "elif PREBAS > 40:\n",
        "    IMP = 20*0.30 + (PREBAS - 40) * 0.40\n",
        "    PRETOT = PREBAS + IMP\n",
        "    print(f\"${PREBAS} , ${PRETOT}\")\n",
        "elif PREBAS > 20:\n",
        "    IMP = (PREBAS - 20) * 0.30 \n",
        "    PRETOT = PREBAS + IMP \n",
        "    print(f\"${PREBAS}, ${PRETOT}\") \n",
        "else: \n",
        "    IMP = 0\n",
        "    print(f\"${PREBAS}, ${IMP}\")"
      ],
      "execution_count": 9,
      "outputs": [
        {
          "output_type": "stream",
          "name": "stdout",
          "text": [
            "Ingrese el precio del producto:$676\n",
            "$676.0 , $1000.0\n"
          ]
        }
      ]
    },
    {
      "cell_type": "code",
      "metadata": {
        "colab": {
          "base_uri": "https://localhost:8080/"
        },
        "id": "f5drMorlN8Yt",
        "outputId": "ee09e386-5d5b-4bf7-8ebb-aa32d4312fba"
      },
      "source": [
        "#Problema 2.10 \n",
        "A = int(input(\"Ingrese un número: \"))\n",
        "B = int(input(\"Ingrese un número: \"))\n",
        "C = int(input(\"Ingrese un número: \"))\n",
        "if A > B: \n",
        "   if A > C:\n",
        "        print(f\"El número A={A} es el mayor\")\n",
        "   elif A == C: \n",
        "       print(f\"El número A={A} y C={C} son mayores\")\n",
        "   else:\n",
        "        print(f\"C={C} es el mayor\")\n",
        "elif A == B:\n",
        "    if A > C: \n",
        "        print(f\"A={A} y B={B} son los mayores\")\n",
        "    elif A == C: \n",
        "        print(f\"A={A}, B={B} y C={C} son iguales\")\n",
        "    else: \n",
        "        print(f\"C={C} es el mayor\")\n",
        "elif B > C: \n",
        "    print(f\"B={B} es el mayor\")\n",
        "elif B == C:\n",
        "    print (f\"B={B} y C={C} son los mayores\")\n",
        "else: \n",
        "    print(f\"C={C} es el mayor\")"
      ],
      "execution_count": null,
      "outputs": [
        {
          "output_type": "stream",
          "name": "stdout",
          "text": [
            "Ingrese un número: 1\n",
            "Ingrese un número: 2\n",
            "Ingrese un número: 2\n",
            "B=2 y C=2 son los mayores\n"
          ]
        }
      ]
    },
    {
      "cell_type": "code",
      "metadata": {
        "id": "B9vlikaHtElz",
        "colab": {
          "base_uri": "https://localhost:8080/"
        },
        "outputId": "25d8747a-f89e-4da9-b305-78980ddcd123"
      },
      "source": [
        "CLAVE = int(input(\"Introduce la clave de la zona geográfica a la cual se llamó: \"))\n",
        "NUMIN = float(input(\"Introduce la duración (en minutos) de la llamada: \"))\n",
        "if CLAVE == 12:\n",
        "    COST = NUMIN * 2.0\n",
        "elif CLAVE == 15:\n",
        "    COST = NUMIN * 2.2 \n",
        "elif CLAVE == 18:\n",
        "    COST = NUMIN * 4.5\n",
        "elif CLAVE == 19: \n",
        "    COST = NUMIN * 3.5\n",
        "elif CLAVE == 23:\n",
        "    COST = NUMIN * 6\n",
        "elif CLAVE == 25:\n",
        "    COST = NUMIN * 6\n",
        "elif CLAVE == 29:\n",
        "    COST = NUMIN * 5\n",
        "print(f\"Costo total de la llamada: ${COST}\")\n"
      ],
      "execution_count": 11,
      "outputs": [
        {
          "output_type": "stream",
          "name": "stdout",
          "text": [
            "Introduce la clave de la zona geográfica a la cual se llamó: 29\n",
            "Introduce la duración (en minutos) de la llamada: 3\n",
            "Costo total de la llamada: $15.0\n"
          ]
        }
      ]
    },
    {
      "cell_type": "code",
      "metadata": {
        "id": "n0lDgK_TTK3N",
        "outputId": "9309b961-ed4d-42b3-f1bc-688ed20f5db7",
        "colab": {
          "base_uri": "https://localhost:8080/"
        }
      },
      "source": [
        "#Problema 2.12 \n",
        "SUE = float(input(\"Ingrese el sueldo del trabajador:$\"))\n",
        "CATE = int(input(\"Ingrese la categoría del trabajador:\"))\n",
        "HE = int(input(\"Ingrese las horas extras del trabajador:\"))\n",
        "if CATE == 1: \n",
        "    PHE = 30 \n",
        "    if HE > 30:\n",
        "        NSUE = SUE +30*PHE\n",
        "        print(f\"El sueldo del trabajador es: ${NSUE}\")\n",
        "    else: \n",
        "        NSUE = SUE + HE*PHE \n",
        "        print(f\"El sueldo del trabajador es:${NSUE } \")  \n",
        "elif CATE == 2: \n",
        "    PHE = 38 \n",
        "    if HE > 30: \n",
        "        NSUE = SUE + 30*PHE\n",
        "        print(f\"El sueldo del trabajador es:${NSUE}\")\n",
        "    else: \n",
        "        NSUE = SUE + HE*PHE\n",
        "        print(f\"El sueldo del trabajador es:${NSUE}\")\n",
        "elif CATE == 3: \n",
        "    PHE = 50 \n",
        "    if HE > 30: \n",
        "        NSUE = SUE + 30*PHE\n",
        "        print(f\"El sueldo del trabajador es:${NSUE}\")\n",
        "    else: \n",
        "        NSUE = SUE + HE*PHE\n",
        "        print(f\"El sueldo del trabajador es:${NSUE}\")\n",
        "elif CATE == 4: \n",
        "    PHE = 70 \n",
        "    if HE > 30:  \n",
        "        NSUE = SUE + 30*PHE\n",
        "        print(f\"El sueldo del trabajador es:${NSUE}\")\n",
        "    else: \n",
        "        NSUE = SUE + HE*PHE\n",
        "        print(f\"El sueldo del trabajador es:${NSUE}\")\n",
        "elif CATE >= 4 and CATE <= 8:\n",
        "    PHE = 0\n",
        "    if HE > 30: \n",
        "        NSUE = SUE + 30*PHE \n",
        "        print(f\"El sueldo del trabajador es:${NSUE}\")\n",
        "    else: \n",
        "        NSUE = SUE + HE*PHE\n",
        "        print(f\"El sueldo del trabajador es:${NSUE}\") "
      ],
      "execution_count": 28,
      "outputs": [
        {
          "output_type": "stream",
          "name": "stdout",
          "text": [
            "Ingrese el sueldo del trabajador:$4000 \n",
            "Ingrese la categoría del trabajador:4\n",
            "Ingrese las horas extras del trabajador:23\n",
            "El sueldo del trabajador es:$5610.0\n"
          ]
        }
      ]
    },
    {
      "cell_type": "code",
      "metadata": {
        "id": "_pJsbOIjZr0L",
        "outputId": "c3ba0d79-657e-4c7d-abc6-fd1b7e3448f3",
        "colab": {
          "base_uri": "https://localhost:8080/",
          "height": 130
        }
      },
      "source": [
        "#Problema 2.13\n",
        "MAT = int(input(\"Ingrese la matrícula del alumno:\"))\n",
        "CARR = input(\"Ingrese la carrera en que está inscrito el alumno:\")\n",
        "SEM = int(input(\"Ingrese el semestre que tiene aprobado el alumno: \"))\n",
        "PROM = float(input(\"Ingrese el promedio del alumno: \"))\n",
        "if CARR == Economía: \n",
        "    if SEM >= 6 and PROM >= 8.8:\n",
        "        MAT = 0.0\n",
        "        CARR = Economía\n",
        "        PROM = PROM = float(input(\"Ingrese el promedio del alumno: \"))\n",
        "        print(f\"{MAT},{CARR}, \"ACEPTADO\"\")\n",
        "    else: \n",
        "        print(\"fin del programa\")\n",
        "elif CARR == Computación: \n",
        "    if SEM >= 6 and PROM >= 8.5:\n",
        "        print(f\"{MAT},{CARR}, \"ACEPTADO\"\")\n",
        "    else: \n",
        "        print(\"fin del programa\"= \n",
        "elif CAR == Contabilidad == Administración: \n",
        "    if SEM >= 5 and PROM >= 8.5:\n",
        "        print(f\"{MAT},{CARR}, \"ACEPTADO\"\")\n",
        "    else: \n",
        "        print(\"fin del programa\")\n",
        "\n"
      ],
      "execution_count": 31,
      "outputs": [
        {
          "output_type": "error",
          "ename": "SyntaxError",
          "evalue": "ignored",
          "traceback": [
            "\u001b[0;36m  File \u001b[0;32m\"<ipython-input-31-f36890360d44>\"\u001b[0;36m, line \u001b[0;32m11\u001b[0m\n\u001b[0;31m    print(f\"{MAT},{CARR}, \"ACEPTADO\"\")\u001b[0m\n\u001b[0m                                  ^\u001b[0m\n\u001b[0;31mSyntaxError\u001b[0m\u001b[0;31m:\u001b[0m invalid syntax\n"
          ]
        }
      ]
    },
    {
      "cell_type": "code",
      "metadata": {
        "id": "0ZjKDVVhBmq8"
      },
      "source": [
        "#Problema 2.14 \n",
        "\n",
        "TIPOENF = int(input(\"Introduce el tipo de enfermedad:\"))\n",
        "EDAD = int(input(\"Introuce la edad:\"))\n",
        "DIAS = int(input(\"Introduce el número de días\"))\n",
        "COSTO = 0.0 \n",
        "\n",
        "if TIPOENF == 1:\n",
        "    COSTO = DIAS *25.0\n",
        "elif TIPOENF == 2:\n",
        "    COSTO = DIAS * 16.0 \n",
        "elif TIPOENF == 3:\n",
        "    COSTO = DIAS *20.0 \n",
        "elif TIPOENF ==4: \n",
        "    COSTO = DIAS *32.0\n",
        "\n",
        "if EDAD >= 14 and EDAD <= 22:\n",
        "    COSTO  = COSTO *1.10\n",
        "\n",
        "print(\"Costo total = $\", COSTO)"
      ],
      "execution_count": null,
      "outputs": []
    },
    {
      "cell_type": "code",
      "metadata": {
        "id": "MjAg5Z_wAHq6"
      },
      "source": [
        ""
      ],
      "execution_count": null,
      "outputs": []
    },
    {
      "cell_type": "code",
      "metadata": {
        "colab": {
          "base_uri": "https://localhost:8080/"
        },
        "id": "sMM9q67z92xd",
        "outputId": "e7f9d9e1-865c-488c-f479-4e1e349806b1"
      },
      "source": [
        "#Ejemplo 2.12, Ejercicio \n",
        "A = int(input(\"Ingrese un número:\"))\n",
        "B = int(input(\"Ingrese otro número:\"))\n",
        "C = int(input(\"Ingrese otro número diferente de los dos números anteriores:\"))\n",
        "if A > B:\n",
        "    if A > C:\n",
        "        if B > C:\n",
        "            print(f\"El orden de los números es: {A}, {B} y {C}\")\n",
        "        else:\n",
        "            print(f\"El orden de los números es: {A}, {C} y {B}\")\n",
        "    else:\n",
        "            print(f\"El orden de los números es: {C}, {A} y {B}\")\n",
        "else:\n",
        "    if B > C:\n",
        "        if A > C:\n",
        "            print(f\"El orden de los números es: {B}, {A} y {C}\")\n",
        "        else:\n",
        "            print(f\"El orden de los números es: {B}, {C} y {A}\")\n",
        "    else:\n",
        "            print(f\"El orden de los números es: {C}, {B} y {A}\")\n",
        "print(\"Fin del programa\") \n",
        "\n",
        "#¿Este algoritmo podría escribirse con menos varialbes de entrada, y de ser así puede escribirlo?\n",
        "#¿Puede este algoritmo escribirse en menos líneas de código? de ser así trate de hacerlo \n",
        "\n",
        "#Hacer ejercicios de todo el capitulo 2"
      ],
      "execution_count": null,
      "outputs": [
        {
          "name": "stdout",
          "output_type": "stream",
          "text": [
            "Ingrese un número:4\n",
            "Ingrese otro número:1\n",
            "Ingrese otro número diferente de los dos números anteriores:6\n",
            "El orden de los números es: 6, 4 y 1\n",
            "Fin del programa\n"
          ]
        }
      ]
    },
    {
      "cell_type": "code",
      "metadata": {
        "colab": {
          "base_uri": "https://localhost:8080/"
        },
        "id": "eZEQQY7j5gDe",
        "outputId": "b5522018-abc9-4e9c-b4ac-4fd33f088a93"
      },
      "source": [
        "#Ejemplo 2.1\n",
        "CAL = float(input(\"Introduzca la calificación del alumno: \"))\n",
        "if CAL > 8: \n",
        "    print(\"Aprobado\")"
      ],
      "execution_count": null,
      "outputs": [
        {
          "name": "stdout",
          "output_type": "stream",
          "text": [
            "Introduzca la calificación del alumno: 9\n",
            "Aprobado\n"
          ]
        }
      ]
    },
    {
      "cell_type": "code",
      "metadata": {
        "colab": {
          "base_uri": "https://localhost:8080/"
        },
        "id": "c776qqgN9Q7q",
        "outputId": "67b5e826-5dac-4715-df46-ab4185de158f"
      },
      "source": [
        "#Ejemplo 2.2 \n",
        "SUE = float(input(\"Ingrese el sueldo del trabajador:$\"))\n",
        "AUM = SUE*0.15\n",
        "NSUE = SUE + AUM\n",
        "if SUE < 1000:\n",
        "    print(f\"El nuevo sueldo del trabajador es ${NSUE}\")\n",
        "else: \n",
        "    print(f\"{SUE}\")\n",
        "\n",
        "print(\"-----------------\")\n",
        "#Solucion alterna 1\n",
        "SUE = float(input(\"Ingrese el sueldo del trabajador:$\"))\n",
        "NSUE = SUE*1.15\n",
        "if SUE < 1000:\n",
        "    print(f\"El nuevo sueldo del trabajador es ${NSUE}\")\n",
        "else: \n",
        "    print(f\"{SUE}\")\n",
        "\n",
        "print(\"-----------------\")\n",
        "#Solucion alterna 2\n",
        "SUE = float(input(\"Ingrese el sueldo del trabajador:$\"))\n",
        "if SUE < 1000:\n",
        "    NSUE = SUE*1.15     \n",
        "    print(f\"El nuevo sueldo del trabajador es ${NSUE}\")\n",
        "else: \n",
        "    print(f\"{SUE}\")\n"
      ],
      "execution_count": null,
      "outputs": [
        {
          "name": "stdout",
          "output_type": "stream",
          "text": [
            "Ingrese el sueldo del trabajador:$454\n",
            "El nuevo sueldo del trabajador es $522.1\n",
            "-----------------\n",
            "Ingrese el sueldo del trabajador:$454\n",
            "El nuevo sueldo del trabajador es $522.0999999999999\n",
            "-----------------\n",
            "Ingrese el sueldo del trabajador:$454\n",
            "El nuevo sueldo del trabajador es $522.0999999999999\n"
          ]
        }
      ]
    },
    {
      "cell_type": "code",
      "metadata": {
        "colab": {
          "base_uri": "https://localhost:8080/"
        },
        "id": "xKmcMVjyARxf",
        "outputId": "57759697-894a-40d2-9c58-9e9625696017"
      },
      "source": [
        "#Ejemplo 2.3 \n",
        "CAL = float(input(\"Ingrese la calificación: \"))\n",
        "if CAL >= 8:\n",
        "    print(\"Aprobado\")\n",
        "else:\n",
        "    print(\"Reprobado\")"
      ],
      "execution_count": null,
      "outputs": [
        {
          "name": "stdout",
          "output_type": "stream",
          "text": [
            "Ingrese la calificación: 10\n",
            "Aprobado\n"
          ]
        }
      ]
    },
    {
      "cell_type": "code",
      "metadata": {
        "colab": {
          "base_uri": "https://localhost:8080/"
        },
        "id": "EEVRvC5wAVEB",
        "outputId": "12a349b3-60ed-4349-9777-e5ba7914ec97"
      },
      "source": [
        "#Ejemplo 2.4\n",
        "SUE = float(input(\"Ingrese el sueldo del trabajador:$\"))\n",
        "if SUE < 1000:\n",
        "    NSUE = SUE*1.15\n",
        "    print(f\"${NSUE}\")\n",
        "else:\n",
        "    NSUE = SUE*1.12\n",
        "    print(f\"${NSUE}\")"
      ],
      "execution_count": null,
      "outputs": [
        {
          "name": "stdout",
          "output_type": "stream",
          "text": [
            "Ingrese el sueldo del trabajador:$1789\n",
            "$2003.6800000000003\n"
          ]
        }
      ]
    },
    {
      "cell_type": "code",
      "metadata": {
        "id": "7utvaHQEHeq4"
      },
      "source": [
        "#Ejemplo 2.5\n",
        "Valor1 = int(input(\"Ingresa un valor:\"))\n",
        "Valor2 = int(input(\"Ingresa un valor:\"))\n",
        "Valor3 = int(input(\"Ingresa un valor:\"))\n",
        "ValorN = int(input(\"Ingresa un valor:\"))\n",
        "if Valor1:\n",
        "    a = operacion1 \n",
        "    print({a})\n",
        "elif Valor2:\n",
        "    b = operacion2 \n",
        "    print({b})\n",
        "elif Valor3:\n",
        "    c = operacion3 \n",
        "    print({c})\n",
        "elif ValorN:\n",
        "    n = operacion4 \n",
        "    print({n})\n"
      ],
      "execution_count": null,
      "outputs": []
    },
    {
      "cell_type": "code",
      "metadata": {
        "colab": {
          "base_uri": "https://localhost:8080/"
        },
        "id": "iKNzZ4qHHeXn",
        "outputId": "ef411f48-486b-4aaf-c29b-ad480cea66f5"
      },
      "source": [
        "#Ejemplo 2.6 \n",
        "valor = int(input(\"Ingrese un valor:\"))\n",
        "if valor ==1:\n",
        "    print(\"Acción 1\")\n",
        "    print(\"Acción x\")\n",
        "elif valor ==2:\n",
        "    print(\"Acción 1\")\n",
        "    print(\"Acción x\")\n",
        "elif valor == 3: \n",
        "    print(\"Acción 2\")\n",
        "    print(\"Acción x\")\n",
        "elif valor == 4:\n",
        "    print(\"Acción 2\")\n",
        "    print(\"Acción x\")\n",
        "elif valor == 5:\n",
        "    print(\"Acción 2\")\n",
        "    print(\"Acción x\")\n",
        "elif valor > 5:\n",
        "    print(\"Acción 3\")\n",
        "    print(\"Acción x\")\n",
        "\n",
        "#Continua leyendo desde la página 76"
      ],
      "execution_count": null,
      "outputs": [
        {
          "name": "stdout",
          "output_type": "stream",
          "text": [
            "Ingrese un valor:6\n",
            "Acción 3\n",
            "Acción x\n"
          ]
        }
      ]
    },
    {
      "cell_type": "code",
      "metadata": {
        "colab": {
          "base_uri": "https://localhost:8080/"
        },
        "id": "I1eG1QzYyOp5",
        "outputId": "97f49a7a-a10e-410c-b8ce-84c6f4bea6ea"
      },
      "source": [
        "#Ejemplo 2.7 \n",
        "NUM = int(input(\"Ingrese un valor\"))\n",
        "V = int(input(\"Ingrese otro valor\"))\n",
        "if NUM == 1:\n",
        "    VAL = 100 * V;\n",
        "elif NUM ==2:\n",
        "    VAL = 100**V;\n",
        "elif NUM == 3: \n",
        "    VAL = 100/V;\n",
        "elif NUM > 3:\n",
        "    VAL = 0\n",
        "print(f\"{VAL}\")"
      ],
      "execution_count": null,
      "outputs": [
        {
          "name": "stdout",
          "output_type": "stream",
          "text": [
            "Ingrese un valor1\n",
            "Ingrese otro valor4\n",
            "400\n"
          ]
        }
      ]
    },
    {
      "cell_type": "code",
      "metadata": {
        "colab": {
          "base_uri": "https://localhost:8080/"
        },
        "id": "VtRjB2Y41aqX",
        "outputId": "412168e0-d90f-4e0c-ecaa-e1cce065fc6c"
      },
      "source": [
        "#Ejemplo 2.8 \n",
        "CATE = int(input(\"Ingrese la categoría del trabajador: \"))\n",
        "SUE = float(input(\"Ingrese el sueldo del trabajador:$ \"))\n",
        "if CATE ==1:\n",
        "    NSUE = SUE *1.15;\n",
        "elif CATE == 2:\n",
        "    NSUE = SUE*1.10;\n",
        "elif CATE == 3:\n",
        "    NSUE = SUE*1.08;\n",
        "elif CATE ==4:\n",
        "    NSUE = SUE *1.07;\n",
        "print(f\"Categoría: {CATE}, sueldo: ${NSUE}\")"
      ],
      "execution_count": null,
      "outputs": [
        {
          "name": "stdout",
          "output_type": "stream",
          "text": [
            "Ingrese la categoría del trabajador: 3\n",
            "Ingrese el sueldo del trabajador:$ 3800\n",
            "Categoría: 3, sueldo: $4104.0\n"
          ]
        }
      ]
    }
  ]
}