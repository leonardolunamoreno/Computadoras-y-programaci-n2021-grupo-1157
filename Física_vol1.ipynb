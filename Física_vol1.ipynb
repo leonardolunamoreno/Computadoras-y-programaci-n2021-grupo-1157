{
  "nbformat": 4,
  "nbformat_minor": 0,
  "metadata": {
    "colab": {
      "name": "Física vol1.ipynb",
      "provenance": [],
      "collapsed_sections": [],
      "authorship_tag": "ABX9TyOpptU8CafwfTSjKRJZSDXF",
      "include_colab_link": true
    },
    "kernelspec": {
      "name": "python3",
      "display_name": "Python 3"
    },
    "language_info": {
      "name": "python"
    }
  },
  "cells": [
    {
      "cell_type": "markdown",
      "metadata": {
        "id": "view-in-github",
        "colab_type": "text"
      },
      "source": [
        "<a href=\"https://colab.research.google.com/github/leonardolunamoreno/Computadoras-y-programaci-n2021-grupo-1157/blob/main/F%C3%ADsica_vol1.ipynb\" target=\"_parent\"><img src=\"https://colab.research.google.com/assets/colab-badge.svg\" alt=\"Open In Colab\"/></a>"
      ]
    },
    {
      "cell_type": "code",
      "execution_count": 6,
      "metadata": {
        "colab": {
          "base_uri": "https://localhost:8080/"
        },
        "id": "nce-5Fj69Cna",
        "outputId": "6ca7d493-b134-4d47-f707-2c26343cc642"
      },
      "outputs": [
        {
          "output_type": "stream",
          "name": "stdout",
          "text": [
            "Ingresa el número de kilometros por hora a la cual se desplaza el cuerpo: 1228\n",
            "341.1111111111111 metros por segundo\n"
          ]
        }
      ],
      "source": [
        "#Unidades, Cantidades Físicas y Vectores \n",
        "\n",
        "#Ejemplo 1.1 Conversión de unidades de rapidez \n",
        "\n",
        "#Este programa es un conversor de unidades de kilometros/ hora \n",
        "KM = int(input(\"Ingresa el número de kilometros por hora a la cual se desplaza el cuerpo: \"))\n",
        "if KM > 0: \n",
        "    m = (KM * (1000/1) * (1/3600))\n",
        "    print(f\"{m} metros por segundo\")\n",
        "# La resolución de este problema esta básado en el automóvil \n",
        "# con motor a reacción Thrust SSC, el cual actualmente posee \n",
        "# El récord mundial oficial de rapidez terresetre, el cual es de \n",
        "# 1228 km / h, el programa muestra que el resultado de convertir \n",
        "# 1228 km / h a metros por segundo es = 341.1111111 mmetros por \n",
        "# segundo, un madral \n",
        "\n",
        "\n",
        "# Ejemplo 1.2 \n",
        "\n",
        "# Este programa sirve para convertir pulgadas cúbicas a centimetros \n",
        "# cúbicos y también a metros cúbicos.\n",
        "\n",
        "inch = float(input(\"Ingrese el número de pulgadas que quiera convertir a centímetros cúbicos: \"))\n",
        "if inch > 0:\n",
        "    cm = (inch * (2.54)**3) \n",
        "    print(f\"{cm} centímetros cúbicos\")\n",
        "\n",
        "# ¿ Cómo podría abrirse un menú de opciones para elegir entre \n",
        "# cm cúbicos o metros cúbicos \n",
        "\n",
        "inch = float(input(\"Ingrese el número de pulgadas que quiera convertir a centímetros cúbicos: \"))\n",
        "if inch > 0:\n",
        "    m = (inch * ((2.54)**3 / 1000000)) \n",
        "    print(f\"{m} metros cúbicos\")\n",
        "\n",
        "# El programa está inspurado en el diamante tallado más grande del \n",
        "# mundo, la Primera Estrella de Africa (montada en el centro real \n",
        "# británico y guardado en la torre de Londres) cuyo Volumen es de \n",
        "# 1.84 pulgadas cúbicas.\n",
        "\n",
        "\n",
        "# Ejemplo 1.3 \n",
        "# La famosa formula de E = mc**2, expresada en este algoritmo\n",
        "# donde la masa es igual a 9.11 x 10**-31 kg \n",
        "# note que en el resultado real el valor del exponente es una cifra \n",
        "# significativa del orden de x10-14 y no e-15 \n",
        "m = float(input(\"Ingrese la masa del cuerpo, en kilogramos: \"))\n",
        "E = (m * (299792458)**2) #aquí c = 299792458 metros por segundo \n",
        "print(f\"{E}\")\n",
        "\n",
        "#¿Cómo redondear un valor a cierto número de cifras en python? \n",
        "\n",
        "#Evalue su comprensión de la sección 1.5, Yo digo, que todas las \n",
        "# respuestas son matemáticamente equivalentes "
      ]
    },
    {
      "cell_type": "code",
      "source": [
        "# Ejemplo 1.3 \n",
        "# La famosa formula de E = mc**2, expresada en este algoritmo\n",
        "# donde la masa es igual a 9.11 x 10**-31 kg \n",
        "# note que en el resultado real el valor del exponente es una cifra \n",
        "# significativa del orden de x10-14 y no e-15 \n",
        "m = float(input(\"Ingrese la masa del cuerpo, en kilogramos: \"))\n",
        "E = (m * (299792458)**2) #aquí c = 299792458 metros por segundo \n",
        "print(f\"{E}\")\n",
        "\n",
        "#¿Cómo redondear un valor? \n"
      ],
      "metadata": {
        "colab": {
          "base_uri": "https://localhost:8080/"
        },
        "id": "SOcItcLor43f",
        "outputId": "b5af0de6-5cfd-48a6-bed8-c520c88ce1a5"
      },
      "execution_count": 16,
      "outputs": [
        {
          "output_type": "stream",
          "name": "stdout",
          "text": [
            "Ingrese la masa del cuerpo, en kilogramos: 0.0000000000000000000000000000000911\n",
            "8.187659678292407e-15\n"
          ]
        }
      ]
    }
  ]
}