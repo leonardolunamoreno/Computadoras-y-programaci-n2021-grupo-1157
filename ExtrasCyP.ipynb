{
  "nbformat": 4,
  "nbformat_minor": 0,
  "metadata": {
    "colab": {
      "name": "ExtrasCyP.ipynb",
      "provenance": [],
      "collapsed_sections": [],
      "authorship_tag": "ABX9TyMUUg3a737bGNdbUcwfGd2O",
      "include_colab_link": true
    },
    "kernelspec": {
      "name": "python3",
      "display_name": "Python 3"
    },
    "language_info": {
      "name": "python"
    }
  },
  "cells": [
    {
      "cell_type": "markdown",
      "metadata": {
        "id": "view-in-github",
        "colab_type": "text"
      },
      "source": [
        "<a href=\"https://colab.research.google.com/github/leonardolunamoreno/Computadoras-y-programaci-n2021-grupo-1157/blob/main/ExtrasCyP.ipynb\" target=\"_parent\"><img src=\"https://colab.research.google.com/assets/colab-badge.svg\" alt=\"Open In Colab\"/></a>"
      ]
    },
    {
      "cell_type": "markdown",
      "source": [
        "## Ordenamiento por el método de la burbuja\n",
        "\n",
        "Consiste en recibir un arreglo de datos desordenados y pasar los elementos más pesados (de mayor valor) al final de la misma en varias pasadas, y al final obtener un arreglo ordenado "
      ],
      "metadata": {
        "id": "ceevbVVLQYVN"
      }
    },
    {
      "cell_type": "code",
      "source": [
        "def ord_burbuja( datos ):\n",
        "    print(\" Lista original: \", datos)\n",
        "    for tope in range( len(datos) - 1, 0, -1): # for puntero in range( 0, len(datos) - 1, 1 ): # Esta es una forma de hacerlo\n",
        "        for puntero in range( 0, tope, 1):            #datos[puntero + 1] = tmp \n",
        "            if datos[puntero] > datos[puntero + 1]:  \n",
        "                tmp = datos[puntero]\n",
        "                datos[puntero] = datos[puntero + 1 ]\n",
        "                datos[puntero + 1] = tmp\n",
        "    print(datos) #tmp = datos[puntero]         #datos [puntero] = datos [puntero + 1 ]\n"
      ],
      "metadata": {
        "id": "QAeDIb6_Vf4R"
      },
      "execution_count": 23,
      "outputs": []
    },
    {
      "cell_type": "code",
      "source": [
        "ord_burbuja([2,3,7,1,5])\n",
        "info = [2,65,23,8,1,45,56,245,346, 54]\n",
        "ord_burbuja(info)"
      ],
      "metadata": {
        "colab": {
          "base_uri": "https://localhost:8080/"
        },
        "id": "-4k3nkrPV805",
        "outputId": "46b36ad1-0ff1-4621-8756-d21860f943d9"
      },
      "execution_count": 27,
      "outputs": [
        {
          "output_type": "stream",
          "name": "stdout",
          "text": [
            " Lista original:  [2, 3, 7, 1, 5]\n",
            "[1, 2, 3, 5, 7]\n",
            " Lista original:  [2, 65, 23, 8, 1, 45, 56, 245, 346, 54]\n",
            "[1, 2, 8, 23, 45, 54, 56, 65, 245, 346]\n"
          ]
        }
      ]
    },
    {
      "cell_type": "code",
      "execution_count": 15,
      "metadata": {
        "id": "wuUZbFGGP-0k"
      },
      "outputs": [],
      "source": [
        "def ord_burbuja( datos ):\n",
        "    print(\" Lista original: \", datos)\n",
        "    for tope in range( len(datos) - 1, 0, -1): # for puntero in range( 0, len(datos) - 1, 1 ): # Esta es una forma de hacerlo\n",
        "        for puntero in range( 0, tope, 1): \n",
        "            print(\"Puntero =\", puntero) \n",
        "        print(\"Decremento de tope\") #print(tope)\n",
        "# El tope es el tamaño del arreglo menos un número determinado"
      ]
    },
    {
      "cell_type": "code",
      "source": [
        "ord_burbuja( [3,7,2,9] ) # Esto se comporta como un arreglo, porque de hecho es un arreglo "
      ],
      "metadata": {
        "colab": {
          "base_uri": "https://localhost:8080/"
        },
        "id": "3j2QbmeERCjf",
        "outputId": "1f37f11b-6adc-457e-f38b-2318af8af6c6"
      },
      "execution_count": 16,
      "outputs": [
        {
          "output_type": "stream",
          "name": "stdout",
          "text": [
            " Lista original:  [3, 7, 2, 9]\n",
            "Puntero = 0\n",
            "Puntero = 1\n",
            "Puntero = 2\n",
            "Decremento de tope\n",
            "Puntero = 0\n",
            "Puntero = 1\n",
            "Decremento de tope\n",
            "Puntero = 0\n",
            "Decremento de tope\n"
          ]
        }
      ]
    },
    {
      "cell_type": "markdown",
      "source": [
        "## Hacer un programa que imprima un cuadrado de asteriscos de 5 por 4"
      ],
      "metadata": {
        "id": "74MHlyIYaVCj"
      }
    },
    {
      "cell_type": "code",
      "source": [
        "for x in range(0,4,1):\n",
        "    print(\"*****\")\n",
        "\n",
        "for x in range(5):\n",
        "    print(\"*****\") \n",
        "#print(\"*\")\n",
        "\n",
        "for x in range(5):\n",
        "    for j in range(5):\n",
        "        print('*', end = '')\n",
        "    print()\n",
        "\n",
        "for x in range(6):\n",
        "    for j in range(12):\n",
        "        print('*', end = '')\n",
        "    print()"
      ],
      "metadata": {
        "colab": {
          "base_uri": "https://localhost:8080/"
        },
        "id": "0eOQGus7aTby",
        "outputId": "28b6a792-8734-4cc6-fef1-a5fdb9e634e9"
      },
      "execution_count": 38,
      "outputs": [
        {
          "output_type": "stream",
          "name": "stdout",
          "text": [
            "*****\n",
            "*****\n",
            "*****\n",
            "*****\n",
            "*****\n",
            "*****\n",
            "*****\n",
            "*****\n",
            "*****\n",
            "*****\n",
            "*****\n",
            "*****\n",
            "*****\n",
            "*****\n",
            "************\n",
            "************\n",
            "************\n",
            "************\n",
            "************\n",
            "************\n"
          ]
        }
      ]
    },
    {
      "cell_type": "code",
      "source": [
        "for ren in range (6):\n",
        "    for col in range (11):\n",
        "        if ren == 0 or ren == 5 or col == 0 or col == 10:\n",
        "            print('*', end = '')\n",
        "        else:\n",
        "            print(' ', end = '')\n",
        "    print()"
      ],
      "metadata": {
        "colab": {
          "base_uri": "https://localhost:8080/"
        },
        "id": "keiKnwv6e3HQ",
        "outputId": "223d89f9-fc40-4314-d0a7-9335ee0d9444"
      },
      "execution_count": 46,
      "outputs": [
        {
          "output_type": "stream",
          "name": "stdout",
          "text": [
            "***********\n",
            "*         *\n",
            "*         *\n",
            "*         *\n",
            "*         *\n",
            "***********\n"
          ]
        }
      ]
    },
    {
      "cell_type": "code",
      "source": [
        "#print(\"*\")\n",
        "#Modificar para que el tamaño de renglon y columna sean capturados por teclado y ambos deben ser mayores que 4 \n",
        "ren = int(input(\"Ingresa el valor de ren\"))\n",
        "if ren > 4:\n",
        "    for ren in range (6):\n",
        "        for col in range (11):\n",
        "            if ren == 0 or ren == 5 or col == 0 or col == 10:\n",
        "                print('*', end = '')\n",
        "            else:\n",
        "                 print(' ', end = '')\n",
        "    print()"
      ],
      "metadata": {
        "colab": {
          "base_uri": "https://localhost:8080/"
        },
        "id": "FbkdnnvffzeB",
        "outputId": "145b0576-62e1-447e-fb2e-d9b8941e96a6"
      },
      "execution_count": 48,
      "outputs": [
        {
          "output_type": "stream",
          "name": "stdout",
          "text": [
            "Ingresa el valor de ren6\n",
            "***********\n",
            "*         *\n",
            "*         *\n",
            "*         *\n",
            "*         *\n",
            "***********\n"
          ]
        }
      ]
    },
    {
      "cell_type": "code",
      "source": [
        "alt = 0 \n",
        "while alt <= 4: \n",
        "    alt = int (input(\"Ingrese la longitud de altura: \"))\n",
        "anch  = 0 \n",
        "while anch <= 4:\n",
        "   anch = int(input(\"Ingrese la longitu de el anchgo \"))\n",
        "\n",
        "for ren in range(alt):\n",
        "    for col in range (anch):\n",
        "        if ren == 0 or ren == (alt - 1) or col == 0 or col ==(anch - 1):\n",
        "            print(\"*\", end = \"\")\n",
        "        else: \n",
        "            print(\" \", end = \"\")\n",
        "    print()\n"
      ],
      "metadata": {
        "colab": {
          "base_uri": "https://localhost:8080/"
        },
        "id": "1bP0wVvcf3W_",
        "outputId": "29ccb5a4-0ee9-4f95-f418-7301fdb45529"
      },
      "execution_count": 51,
      "outputs": [
        {
          "output_type": "stream",
          "name": "stdout",
          "text": [
            "Ingrese la longitud de altura: 10\n",
            "Ingrese la longitu de el anchgo 16\n",
            "****************\n",
            "*              *\n",
            "*              *\n",
            "*              *\n",
            "*              *\n",
            "*              *\n",
            "*              *\n",
            "*              *\n",
            "*              *\n",
            "****************\n"
          ]
        }
      ]
    },
    {
      "cell_type": "code",
      "source": [
        "# Hacer un programa que pida 2 números enteros, el segundo número debe ser mayor al primero\n",
        "\n",
        "# Imprimir la secuencia de números del primer número al segundo número\n",
        "# realizar 2 variantes con for y 2 variables con while "
      ],
      "metadata": {
        "id": "dMGcYKLwh5X-"
      },
      "execution_count": null,
      "outputs": []
    }
  ]
}