{
  "nbformat": 4,
  "nbformat_minor": 0,
  "metadata": {
    "colab": {
      "name": "ExtrasCyP.ipynb",
      "provenance": [],
      "collapsed_sections": [],
      "authorship_tag": "ABX9TyNshJ16kLRf62KPdB/r+aSr",
      "include_colab_link": true
    },
    "kernelspec": {
      "name": "python3",
      "display_name": "Python 3"
    },
    "language_info": {
      "name": "python"
    }
  },
  "cells": [
    {
      "cell_type": "markdown",
      "metadata": {
        "id": "view-in-github",
        "colab_type": "text"
      },
      "source": [
        "<a href=\"https://colab.research.google.com/github/leonardolunamoreno/Computadoras-y-programaci-n2021-grupo-1157/blob/main/ExtrasCyP.ipynb\" target=\"_parent\"><img src=\"https://colab.research.google.com/assets/colab-badge.svg\" alt=\"Open In Colab\"/></a>"
      ]
    },
    {
      "cell_type": "markdown",
      "source": [
        "## Ordenamiento por el método de la burbuja\n",
        "\n",
        "Consiste en recibir un arreglo de datos desordenados y pasar los elementos más pesados (de mayor valor) al final de la misma en varias pasadas, y al final obtener un arreglo ordenado "
      ],
      "metadata": {
        "id": "ceevbVVLQYVN"
      }
    },
    {
      "cell_type": "code",
      "source": [
        "def ord_burbuja( datos ):\n",
        "    print(\" Lista original: \", datos)\n",
        "    for tope in range( len(datos) - 1, 0, -1): # for puntero in range( 0, len(datos) - 1, 1 ): # Esta es una forma de hacerlo\n",
        "        for puntero in range( 0, tope, 1):            #datos[puntero + 1] = tmp \n",
        "            if datos[puntero] > datos[puntero + 1]:  \n",
        "                tmp = datos[puntero]\n",
        "                datos[puntero] = datos[puntero + 1 ]\n",
        "                datos[puntero + 1] = tmp\n",
        "    print(datos) #tmp = datos[puntero]         #datos [puntero] = datos [puntero + 1 ]\n"
      ],
      "metadata": {
        "id": "QAeDIb6_Vf4R"
      },
      "execution_count": null,
      "outputs": []
    },
    {
      "cell_type": "code",
      "source": [
        "ord_burbuja([2,3,7,1,5])\n",
        "info = [2,65,23,8,1,45,56,245,346, 54]\n",
        "ord_burbuja(info)"
      ],
      "metadata": {
        "colab": {
          "base_uri": "https://localhost:8080/"
        },
        "id": "-4k3nkrPV805",
        "outputId": "46b36ad1-0ff1-4621-8756-d21860f943d9"
      },
      "execution_count": null,
      "outputs": [
        {
          "output_type": "stream",
          "name": "stdout",
          "text": [
            " Lista original:  [2, 3, 7, 1, 5]\n",
            "[1, 2, 3, 5, 7]\n",
            " Lista original:  [2, 65, 23, 8, 1, 45, 56, 245, 346, 54]\n",
            "[1, 2, 8, 23, 45, 54, 56, 65, 245, 346]\n"
          ]
        }
      ]
    },
    {
      "cell_type": "code",
      "execution_count": null,
      "metadata": {
        "id": "wuUZbFGGP-0k"
      },
      "outputs": [],
      "source": [
        "def ord_burbuja( datos ):\n",
        "    print(\" Lista original: \", datos)\n",
        "    for tope in range( len(datos) - 1, 0, -1): # for puntero in range( 0, len(datos) - 1, 1 ): # Esta es una forma de hacerlo\n",
        "        for puntero in range( 0, tope, 1): \n",
        "            print(\"Puntero =\", puntero) \n",
        "        print(\"Decremento de tope\") #print(tope)\n",
        "# El tope es el tamaño del arreglo menos un número determinado"
      ]
    },
    {
      "cell_type": "code",
      "source": [
        "ord_burbuja( [3,7,2,9] ) # Esto se comporta como un arreglo, porque de hecho es un arreglo "
      ],
      "metadata": {
        "colab": {
          "base_uri": "https://localhost:8080/"
        },
        "id": "3j2QbmeERCjf",
        "outputId": "1f37f11b-6adc-457e-f38b-2318af8af6c6"
      },
      "execution_count": null,
      "outputs": [
        {
          "output_type": "stream",
          "name": "stdout",
          "text": [
            " Lista original:  [3, 7, 2, 9]\n",
            "Puntero = 0\n",
            "Puntero = 1\n",
            "Puntero = 2\n",
            "Decremento de tope\n",
            "Puntero = 0\n",
            "Puntero = 1\n",
            "Decremento de tope\n",
            "Puntero = 0\n",
            "Decremento de tope\n"
          ]
        }
      ]
    },
    {
      "cell_type": "markdown",
      "source": [
        "## Hacer un programa que imprima un cuadrado de asteriscos de 5 por 4"
      ],
      "metadata": {
        "id": "74MHlyIYaVCj"
      }
    },
    {
      "cell_type": "code",
      "source": [
        "for x in range(0,4,1):\n",
        "    print(\"*****\")\n",
        "\n",
        "for x in range(5):\n",
        "    print(\"*****\") \n",
        "#print(\"*\")\n",
        "\n",
        "for x in range(5):\n",
        "    for j in range(5):\n",
        "        print('*', end = '')\n",
        "    print()\n",
        "\n",
        "for x in range(6):\n",
        "    for j in range(12):\n",
        "        print('*', end = '')\n",
        "    print()"
      ],
      "metadata": {
        "colab": {
          "base_uri": "https://localhost:8080/"
        },
        "id": "0eOQGus7aTby",
        "outputId": "28b6a792-8734-4cc6-fef1-a5fdb9e634e9"
      },
      "execution_count": null,
      "outputs": [
        {
          "output_type": "stream",
          "name": "stdout",
          "text": [
            "*****\n",
            "*****\n",
            "*****\n",
            "*****\n",
            "*****\n",
            "*****\n",
            "*****\n",
            "*****\n",
            "*****\n",
            "*****\n",
            "*****\n",
            "*****\n",
            "*****\n",
            "*****\n",
            "************\n",
            "************\n",
            "************\n",
            "************\n",
            "************\n",
            "************\n"
          ]
        }
      ]
    },
    {
      "cell_type": "code",
      "source": [
        "for ren in range (6):\n",
        "    for col in range (11):\n",
        "        if ren == 0 or ren == 5 or col == 0 or col == 10:\n",
        "            print('*', end = '')\n",
        "        else:\n",
        "            print(' ', end = '')\n",
        "    print()"
      ],
      "metadata": {
        "colab": {
          "base_uri": "https://localhost:8080/"
        },
        "id": "keiKnwv6e3HQ",
        "outputId": "223d89f9-fc40-4314-d0a7-9335ee0d9444"
      },
      "execution_count": null,
      "outputs": [
        {
          "output_type": "stream",
          "name": "stdout",
          "text": [
            "***********\n",
            "*         *\n",
            "*         *\n",
            "*         *\n",
            "*         *\n",
            "***********\n"
          ]
        }
      ]
    },
    {
      "cell_type": "code",
      "source": [
        "#print(\"*\")\n",
        "#Modificar para que el tamaño de renglon y columna sean capturados por teclado y ambos deben ser mayores que 4 \n",
        "ren = int(input(\"Ingresa el valor de ren\"))\n",
        "if ren > 4:\n",
        "    for ren in range (6):\n",
        "        for col in range (11):\n",
        "            if ren == 0 or ren == 5 or col == 0 or col == 10:\n",
        "                print('*', end = '')\n",
        "            else:\n",
        "                 print(' ', end = '')\n",
        "    print()"
      ],
      "metadata": {
        "colab": {
          "base_uri": "https://localhost:8080/"
        },
        "id": "FbkdnnvffzeB",
        "outputId": "145b0576-62e1-447e-fb2e-d9b8941e96a6"
      },
      "execution_count": null,
      "outputs": [
        {
          "output_type": "stream",
          "name": "stdout",
          "text": [
            "Ingresa el valor de ren6\n",
            "***********\n",
            "*         *\n",
            "*         *\n",
            "*         *\n",
            "*         *\n",
            "***********\n"
          ]
        }
      ]
    },
    {
      "cell_type": "code",
      "source": [
        "alt = 0 \n",
        "while alt <= 4: \n",
        "    alt = int (input(\"Ingrese la longitud de altura: \"))\n",
        "anch  = 0 \n",
        "while anch <= 4:\n",
        "   anch = int(input(\"Ingrese la longitu de el anchgo \"))\n",
        "\n",
        "for ren in range(alt):\n",
        "    for col in range (anch):\n",
        "        if ren == 0 or ren == (alt - 1) or col == 0 or col ==(anch - 1):\n",
        "            print(\"*\", end = \"\")\n",
        "        else: \n",
        "            print(\" \", end = \"\")\n",
        "    print()\n"
      ],
      "metadata": {
        "colab": {
          "base_uri": "https://localhost:8080/"
        },
        "id": "1bP0wVvcf3W_",
        "outputId": "29ccb5a4-0ee9-4f95-f418-7301fdb45529"
      },
      "execution_count": null,
      "outputs": [
        {
          "output_type": "stream",
          "name": "stdout",
          "text": [
            "Ingrese la longitud de altura: 10\n",
            "Ingrese la longitu de el anchgo 16\n",
            "****************\n",
            "*              *\n",
            "*              *\n",
            "*              *\n",
            "*              *\n",
            "*              *\n",
            "*              *\n",
            "*              *\n",
            "*              *\n",
            "****************\n"
          ]
        }
      ]
    },
    {
      "cell_type": "code",
      "source": [
        "# Hacer un programa que pida 2 números enteros, el segundo número debe ser mayor al primero\n",
        "\n",
        "# Imprimir la secuencia de números del primer número al segundo número\n",
        "# realizar 2 variantes con for y 2 variables con while "
      ],
      "metadata": {
        "id": "dMGcYKLwh5X-"
      },
      "execution_count": null,
      "outputs": []
    },
    {
      "cell_type": "code",
      "source": [
        "# venta de camisas\n",
        "clave=0\n",
        "numero=0\n",
        "respuesta = 's'\n",
        "venta = [ {\"id\":1,\"cantidad\":0,\"precio\":190.0} \n",
        "         ,{\"id\":2,\"cantidad\":0,\"precio\":230.0} \n",
        "         ,{\"id\":3,\"cantidad\":0,\"precio\":310.0}]\n",
        " \n",
        "while respuesta == 's':\n",
        "    clave = int(input(\"Clave:\")) # validar que la clave este ntre 1 y 3\n",
        "    numero = int(input(\"Numero:\"))\n",
        "    # hace falta validacion\n",
        "    venta[clave-1]['cantidad'] = venta[clave-1]['cantidad'] + numero \n",
        "    respuesta = input(\"¿Deseas agregar más productos s/n ?\")\n",
        " \n",
        "subtotal = 0.0\n",
        "cantidad_prods = 0 \n",
        "for i in range(3): \n",
        "    subtotal += venta[i]['cantidad'] * venta[i]['precio']\n",
        "    cantidad_prods += venta[i]['cantidad']\n",
        " \n",
        "descuento = 0.0\n",
        "tipo_desc = 0\n",
        "print(\"Sub total: $\", subtotal)\n",
        "if cantidad_prods <= 2:\n",
        "    pass\n",
        "elif cantidad_prods > 2 and cantidad_prods <= 5:\n",
        "    descuento = subtotal * 0.05\n",
        "    tipo_desc = 5\n",
        "elif cantidad_prods > 5:\n",
        "    descuento = subtotal * 0.08\n",
        "    tipo_desc=8\n",
        " \n",
        "print(f\"Descuento {tipo_desc}%: ${descuento}\")\n",
        "print(f\"Total: ${subtotal - descuento } \")"
      ],
      "metadata": {
        "id": "IdcQID9Msj94",
        "outputId": "24fac3b7-d3c3-4cd9-f461-d40029bdb9f5",
        "colab": {
          "base_uri": "https://localhost:8080/"
        }
      },
      "execution_count": 29,
      "outputs": [
        {
          "output_type": "stream",
          "name": "stdout",
          "text": [
            "Clave:3\n",
            "Numero:2\n",
            "¿Deseas agregar más productos s/n ?3\n",
            "Sub total: $ 620.0\n",
            "Descuento 0%: $0.0\n",
            "Total: $620.0 \n"
          ]
        }
      ]
    },
    {
      "cell_type": "code",
      "source": [
        "def fn_regresiva (num):\n",
        "    if num == 0: \n",
        "        print(0)\n",
        "        return num \n",
        "    else: \n",
        "        n = fn\n",
        "        print( fn_regresiva( num - 1) )\n",
        "\n",
        "fn_regresiva(10)"
      ],
      "metadata": {
        "id": "5s8XFy0rsl-y"
      },
      "execution_count": 21,
      "outputs": []
    },
    {
      "cell_type": "code",
      "source": [
        "def fn_rec( num ):\n",
        "    print( fn_rec( num - 1))\n",
        "    fn_rec(10)"
      ],
      "metadata": {
        "id": "AU7A6O1us1yT"
      },
      "execution_count": 19,
      "outputs": []
    },
    {
      "cell_type": "code",
      "source": [
        "#caso base\n",
        "def fn_regresiva( num ):\n",
        "    if num >= 0: \n",
        "        print(num)\n",
        "        fn_regresiva( num - 1)\n",
        "\n",
        "fn_regresiva(10)"
      ],
      "metadata": {
        "id": "2YkCamjEtzAj",
        "outputId": "5419a5c7-efe2-4059-a372-fa46942a21d7",
        "colab": {
          "base_uri": "https://localhost:8080/"
        }
      },
      "execution_count": 28,
      "outputs": [
        {
          "output_type": "stream",
          "name": "stdout",
          "text": [
            "10\n",
            "9\n",
            "8\n",
            "7\n",
            "6\n",
            "5\n",
            "4\n",
            "3\n",
            "2\n",
            "1\n",
            "0\n"
          ]
        }
      ]
    },
    {
      "cell_type": "code",
      "source": [
        "#Evaluacion para definir el caso base, para encontrar el factorial de un número \n",
        "\n",
        "def factorial ( n ):\n",
        "    if n == 0: \n",
        "        return 1 \n",
        "    else: \n",
        "        return n * factorial(n-1)\n",
        "factorial(9)"
      ],
      "metadata": {
        "id": "s5w3t7ASv4NR",
        "outputId": "4f9bbfad-42e6-47a1-8379-c626881b82ad",
        "colab": {
          "base_uri": "https://localhost:8080/"
        }
      },
      "execution_count": 36,
      "outputs": [
        {
          "output_type": "execute_result",
          "data": {
            "text/plain": [
              "362880"
            ]
          },
          "metadata": {},
          "execution_count": 36
        }
      ]
    }
  ]
}