{
  "nbformat": 4,
  "nbformat_minor": 0,
  "metadata": {
    "colab": {
      "name": "Sprites.ipynb",
      "provenance": [],
      "authorship_tag": "ABX9TyM2bdCSkuY43zVmhcD8rEGy",
      "include_colab_link": true
    },
    "kernelspec": {
      "name": "python3",
      "display_name": "Python 3"
    },
    "language_info": {
      "name": "python"
    }
  },
  "cells": [
    {
      "cell_type": "markdown",
      "metadata": {
        "id": "view-in-github",
        "colab_type": "text"
      },
      "source": [
        "<a href=\"https://colab.research.google.com/github/leonardolunamoreno/Computadoras-y-programaci-n2021-grupo-1157/blob/main/Sprites.ipynb\" target=\"_parent\"><img src=\"https://colab.research.google.com/assets/colab-badge.svg\" alt=\"Open In Colab\"/></a>"
      ]
    },
    {
      "cell_type": "code",
      "execution_count": null,
      "metadata": {
        "id": "pqxjzuyKV9oi"
      },
      "outputs": [],
      "source": [
        "BLANC0 = (255,255,255)\n",
        "ROJO = (255,0,0) \n",
        "VERDE = (0,255,0)\n",
        "AZUL = (0,0,255)\n",
        "class Player(pygame.sprite.Sprite):\n",
        "    # Sprite del jugador \n",
        "    def __init__(self):\n",
        "        # Se hereda el init de la clase Sprite de Pygame\n",
        "        super().__init__()\n",
        "        # Forma del sprite, en este caso, para fines prácticos, será un rectángulo de momento\n",
        "        self.rect = self.image.get_rect()\n",
        "        # Centrar el Sprite (En este caso provisional el rectángulo)\n",
        "        self.rect.center = (WIDTH // 2, HEIGTH // 2 )"
      ]
    }
  ]
}