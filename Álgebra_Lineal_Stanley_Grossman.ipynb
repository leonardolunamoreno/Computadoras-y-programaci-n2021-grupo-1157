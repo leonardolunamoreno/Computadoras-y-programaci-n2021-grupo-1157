{
  "nbformat": 4,
  "nbformat_minor": 0,
  "metadata": {
    "colab": {
      "name": "Álgebra Lineal_Stanley_Grossman.ipynb",
      "provenance": [],
      "authorship_tag": "ABX9TyMUsMpUjuKKuu7xDW+MpvAD",
      "include_colab_link": true
    },
    "kernelspec": {
      "name": "python3",
      "display_name": "Python 3"
    },
    "language_info": {
      "name": "python"
    }
  },
  "cells": [
    {
      "cell_type": "markdown",
      "metadata": {
        "id": "view-in-github",
        "colab_type": "text"
      },
      "source": [
        "<a href=\"https://colab.research.google.com/github/leonardolunamoreno/Computadoras-y-programaci-n2021-grupo-1157/blob/main/%C3%81lgebra_Lineal_Stanley_Grossman.ipynb\" target=\"_parent\"><img src=\"https://colab.research.google.com/assets/colab-badge.svg\" alt=\"Open In Colab\"/></a>"
      ]
    },
    {
      "cell_type": "markdown",
      "source": [
        "\n",
        "#Sistemas de ecuaciones lineales y matrices \n",
        " \n",
        "######El álgebra lineal elemental es de hecho una generacización de las propiedades dela linea recta. A manera de repasao se daran algunos hechos fundamentales sobre las líneas rectas\n",
        "\n"
      ],
      "metadata": {
        "id": "YedJbyhwBtNg"
      }
    },
    {
      "cell_type": "code",
      "execution_count": 7,
      "metadata": {
        "colab": {
          "base_uri": "https://localhost:8080/"
        },
        "id": "wv_p5Y0IA9X-",
        "outputId": "54a90d87-0e95-440b-aad7-813f2febe592"
      },
      "outputs": [
        {
          "output_type": "stream",
          "name": "stdout",
          "text": [
            "Ingrese la coordenada ys2: 4\n",
            "Ingrese la coordenada ys1: 2\n",
            "Ingrese la coordenada xs2: 4\n",
            "Ingrese la coordenada xs1: 2\n",
            "La pendiente en ese punto es: 1.0\n"
          ]
        }
      ],
      "source": [
        "# La pendidente m de una recta que pasa por los puntos\n",
        "# (x sub1 , y sub1) y (x sub2, y sub2) , donde sub = subíndice\n",
        "# esta dada por la siguiente ecuación \n",
        "# m = (ys1 - ys2) / (xs2-xs1) = Delta y / Delta x , Si xs1 != xs2\n",
        "# resultado = operando_1 != operando_2, donde != es el operando de desigualdad\n",
        "\n",
        "\"\"\"\n",
        "#Prueba número 1\n",
        "\"\"\"\n",
        "\n",
        "ys2 = float(input(\"Ingrese la coordenada ys2: \"))\n",
        "ys1 = float(input(\"Ingrese la coordenada ys1: \"))\n",
        "xs2 = float(input(\"Ingrese la coordenada xs2: \"))\n",
        "xs1 = float(input(\"Ingrese la coordenada xs1: \"))\n",
        "m = (ys2 - ys1) / (xs2 - xs1) \n",
        "# Intrinsicamente  no es posible dividir entre 0 \n",
        "# Python lo tiene muy presente y por tal razón \n",
        "# inclso si el programa puede hacerlo, python también\n",
        "# Lanza una advertencia seguida del print de este bloque \n",
        "if xs2 - xs1 == 0: \n",
        "    print(\"No es posible realizar esta operación\")\n",
        "#Acá acaba este bloque:\n",
        "                                                #Programa\n",
        "if xs2 != xs1:                                  #que calcula \n",
        "    print(f\"La pendiente en ese punto es: {m}\") #la pendiente\n",
        "                                                #Usando 4 coordenadas en un plano \n",
        "                                                #2 puntos en el espacio \n",
        "# Si xs2 - xs1 = 0 y ys2 != ys1 entonces la recta es vertical y se dice que la pendiente es indefinida \n",
        "\n"
      ]
    },
    {
      "cell_type": "code",
      "source": [
        "\"\"\"\n",
        "Prueba número 2 \n",
        "\"\"\"\n",
        "\n",
        "print(\"Incluso cuando esté programa incluye la instrucción explicita\\nDe no dividir entre 0, python también la incluye, de manera que abstengase de\\nperder su tiempo intentandolo\\nEs decir xs2 - xs1 no ser igual a 0\\nEso significa que la pendiente en ese punto es indeifinida\")\n",
        "ys2 = int(input(\"Ingrese la coordenada ys2: \"))\n",
        "ys1 = int(input(\"Ingrese la coordenada ys1: \"))\n",
        "xs2 = int(input(\"Ingrese la coordenada xs2: \"))\n",
        "xs1 = int(input(\"Ingrese la coordenada xs1: \"))\n",
        "m = (ys2 - ys1) / (xs2 - xs1) \n",
        "if xs2 - xs1 == 0 and ys2 != ys1: \n",
        "    print(\"Entonces la recta es vertical e indefinida \")\n",
        "else: \n",
        "    print(f\"La pendiente de la recta en ese punto es m = {m}, y por lo tanto esta gráfica no presenta\\nUna pendiente indefinida\")"
      ],
      "metadata": {
        "colab": {
          "base_uri": "https://localhost:8080/"
        },
        "id": "BRkyTKC5HotR",
        "outputId": "9fd2f085-c277-483c-bff9-8959e830ecb1"
      },
      "execution_count": 24,
      "outputs": [
        {
          "output_type": "stream",
          "name": "stdout",
          "text": [
            "Incluso cuando esté programa incluye la instrucción explicita\n",
            "De no dividir entre 0, python también la incluye, de manera que abstengase de\n",
            "perder su tiempo intentandolo\n",
            "Es decir xs2 - xs1 no ser igual a 0\n",
            "Eso significa que la pendiente en ese punto es indeifinida\n",
            "Ingrese la coordenada ys2: 4\n",
            "Ingrese la coordenada ys1: 2\n",
            "Ingrese la coordenada xs2: 4\n",
            "Ingrese la coordenada xs1: 2\n",
            "La pendiente de la recta en ese punto es m = 1.0, y por lo tanto esta gráfica no presenta\n",
            "Una pendiente indefinida\n"
          ]
        }
      ]
    },
    {
      "cell_type": "code",
      "source": [
        "\"\"\"\n",
        "Prueba número 3 \n",
        "\"\"\"\n",
        "#La forma de la recta como pendiente-ordenada: y = m * x + b \n",
        "m = float(input(\"Ingrese el valor de la pendiente en el punto m: \"))\n",
        "x = float(input(\"Ingresa un valor para x: \"))\n",
        "b = float(input(\"Ingresa el valor de la ordenada al eje y: \"))\n",
        "y = (m * x) + b \n",
        "if x >= 0:\n",
        "    print(f\"El valor de y, con los parámetros establecidos es: {y}\")\n",
        "#Será posible convertir el resultado en números decimales a una fracción, en el caso anterior \n",
        "# utilizamos unos parametros y se optuvo el valor -0.4166666  "
      ],
      "metadata": {
        "colab": {
          "base_uri": "https://localhost:8080/"
        },
        "id": "awgKNGlBP9s2",
        "outputId": "e0347309-d78f-44c3-a283-02380ed6e14a"
      },
      "execution_count": 33,
      "outputs": [
        {
          "output_type": "stream",
          "name": "stdout",
          "text": [
            "Ingrese el valor de la pendiente en el punto m: 0.33333333\n",
            "Ingresa un valor para x: 1\n",
            "Ingresa el valor de la ordenada al eje y: -0.75\n",
            "El valor de y, con los parámetros establecidos es: -0.41666667\n"
          ]
        }
      ]
    },
    {
      "cell_type": "code",
      "source": [
        "#Implementar el código de arriba, de tal modo que se incluya la optencion de la pendiente, para posterior \n",
        "#Uso en el siguiente programa\n",
        "ys2 = int(input(\"Ingrese la coordenada ys2: \"))\n",
        "ys1 = int(input(\"Ingrese la coordenada ys1: \"))\n",
        "xs2 = int(input(\"Ingrese la coordenada xs2: \"))\n",
        "xs1 = int(input(\"Ingrese la coordenada xs1: \"))\n",
        "m = (ys2 - ys1) / (xs2 - xs1) \n",
        "print(f\"La pendiente es m = {m}\")\n",
        "m = float(input(\"Ingrese el valor de la pendiente en el punto m: \"))\n",
        "x = float(input(\"Ingresa un valor para x: \"))\n",
        "b = float(input(\"Ingresa el valor de la ordenada al eje y: \"))\n",
        "y = (m * x) + b  \n",
        "if x >= 0:\n",
        "    print(f\"El valor de y, con los parámetros establecidos es: {y}\")\n",
        "#El programa funciona "
      ],
      "metadata": {
        "colab": {
          "base_uri": "https://localhost:8080/"
        },
        "id": "IG9b4lpZTbxg",
        "outputId": "72c3b0ef-4196-486a-d987-df4a4edf51ca"
      },
      "execution_count": 39,
      "outputs": [
        {
          "output_type": "stream",
          "name": "stdout",
          "text": [
            "Ingrese la coordenada ys2: 4\n",
            "Ingrese la coordenada ys1: 4\n",
            "Ingrese la coordenada xs2: 4\n",
            "Ingrese la coordenada xs1: 2\n",
            "La pendiente es m = 0.0\n",
            "Ingrese el valor de la pendiente en el punto m: 1\n",
            "Ingresa un valor para x: 1\n",
            "Ingresa el valor de la ordenada al eje y: 0\n",
            "El valor de y, con los parámetros establecidos es: 1.0\n"
          ]
        }
      ]
    },
    {
      "cell_type": "code",
      "source": [
        "#Dos rectas son paralelas si y solo si tienen la misma pendiente"
      ],
      "metadata": {
        "id": "4LDdJYYNTWYm"
      },
      "execution_count": null,
      "outputs": []
    },
    {
      "cell_type": "code",
      "source": [
        "#Si la ecuacion de la recta se escribe en la forma ax + by = c, b! = 0 \n",
        "#entonces se puede calcular facilmente, m = - a / b "
      ],
      "metadata": {
        "id": "ohhkO3H1Vul_"
      },
      "execution_count": null,
      "outputs": []
    },
    {
      "cell_type": "code",
      "source": [
        "#Si ms1 es la pendiente de la recta Ls1, ms2 es la pendiente de la recta Ls2\n",
        "#ms1 != 0 y Ls1 y Ls2 son perpendiculares, entonces ms2 = -(1/ms1) "
      ],
      "metadata": {
        "id": "-lKlP0FBWayE"
      },
      "execution_count": null,
      "outputs": []
    },
    {
      "cell_type": "code",
      "source": [
        "#Las rectas paralelas al eje x tienen una pendiente 0 "
      ],
      "metadata": {
        "id": "UyesKhmmW2hy"
      },
      "execution_count": null,
      "outputs": []
    },
    {
      "cell_type": "code",
      "source": [
        "#Las rectas paralelas al eje y tienen una pendiente indefinida"
      ],
      "metadata": {
        "id": "paKgJV-tXRYy"
      },
      "execution_count": null,
      "outputs": []
    },
    {
      "cell_type": "markdown",
      "source": [
        ""
      ],
      "metadata": {
        "id": "qxBVO9eqES1s"
      }
    }
  ]
}