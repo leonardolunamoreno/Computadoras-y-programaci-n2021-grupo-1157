{
  "nbformat": 4,
  "nbformat_minor": 0,
  "metadata": {
    "colab": {
      "name": "03NumpyOperaciones.ipynb",
      "provenance": [],
      "authorship_tag": "ABX9TyNjVFlKLE5c/cmB2T1M8Gqk",
      "include_colab_link": true
    },
    "kernelspec": {
      "name": "python3",
      "display_name": "Python 3"
    },
    "language_info": {
      "name": "python"
    }
  },
  "cells": [
    {
      "cell_type": "markdown",
      "metadata": {
        "id": "view-in-github",
        "colab_type": "text"
      },
      "source": [
        "<a href=\"https://colab.research.google.com/github/leonardolunamoreno/Computadoras-y-programaci-n2021-grupo-1157/blob/main/03NumpyOperaciones.ipynb\" target=\"_parent\"><img src=\"https://colab.research.google.com/assets/colab-badge.svg\" alt=\"Open In Colab\"/></a>"
      ]
    },
    {
      "cell_type": "code",
      "execution_count": null,
      "metadata": {
        "id": "1MX5kVru3uCZ"
      },
      "outputs": [],
      "source": [
        "import numpy as np"
      ]
    },
    {
      "cell_type": "code",
      "source": [
        "n1 = np.array([[1,2,3],\n",
        "              [10,11,12],\n",
        "              [-5,-8,-14]])\n",
        "n1\n",
        "print(n1)\n",
        "print(n1.shape)"
      ],
      "metadata": {
        "colab": {
          "base_uri": "https://localhost:8080/"
        },
        "id": "2YKxbVNf3wum",
        "outputId": "5856c175-5b4d-4a76-e0c0-00ac13198a42"
      },
      "execution_count": null,
      "outputs": [
        {
          "output_type": "stream",
          "name": "stdout",
          "text": [
            "[[  1   2   3]\n",
            " [ 10  11  12]\n",
            " [ -5  -8 -14]]\n",
            "(3, 3)\n"
          ]
        }
      ]
    },
    {
      "cell_type": "code",
      "source": [
        "# Las operaciones aritmeticas se aplican a todos ls elementos de la matriz \n",
        "n1 * 200"
      ],
      "metadata": {
        "colab": {
          "base_uri": "https://localhost:8080/"
        },
        "id": "X-TuisB_4QF9",
        "outputId": "377d0a8b-1949-494b-9cf4-17ef1af739c1"
      },
      "execution_count": null,
      "outputs": [
        {
          "output_type": "execute_result",
          "data": {
            "text/plain": [
              "array([[  200,   400,   600],\n",
              "       [ 2000,  2200,  2400],\n",
              "       [-1000, -1600, -2800]])"
            ]
          },
          "metadata": {},
          "execution_count": 9
        }
      ]
    },
    {
      "cell_type": "code",
      "source": [
        "# Aplicar la operación a un elemento \n",
        "n1[1] + 15 # En este caso la primer columna se suman 15 a todos los elementos "
      ],
      "metadata": {
        "colab": {
          "base_uri": "https://localhost:8080/"
        },
        "id": "CD30AP3H4Xu_",
        "outputId": "44d62cc2-c50e-4a47-888c-96f33491beba"
      },
      "execution_count": null,
      "outputs": [
        {
          "output_type": "execute_result",
          "data": {
            "text/plain": [
              "array([25, 26, 27])"
            ]
          },
          "metadata": {},
          "execution_count": 10
        }
      ]
    },
    {
      "cell_type": "code",
      "source": [
        "n1 / 5.45 "
      ],
      "metadata": {
        "colab": {
          "base_uri": "https://localhost:8080/"
        },
        "id": "twAK3TjJ4xjk",
        "outputId": "21ff5db1-a0cd-4f20-dfd7-59f86dc73bdf"
      },
      "execution_count": null,
      "outputs": [
        {
          "output_type": "execute_result",
          "data": {
            "text/plain": [
              "array([[ 0.18348624,  0.36697248,  0.55045872],\n",
              "       [ 1.83486239,  2.01834862,  2.20183486],\n",
              "       [-0.91743119, -1.46788991, -2.56880734]])"
            ]
          },
          "metadata": {},
          "execution_count": 11
        }
      ]
    },
    {
      "cell_type": "code",
      "source": [
        "# Usar operadores lógicos por broadcasting \n",
        "n1 > 1 # Compara cada uno de los elementos contra la operación aquí descrita"
      ],
      "metadata": {
        "colab": {
          "base_uri": "https://localhost:8080/"
        },
        "id": "bzO8sD3g407r",
        "outputId": "9c804c60-bbf7-42af-b7e2-44b45d30182c"
      },
      "execution_count": null,
      "outputs": [
        {
          "output_type": "execute_result",
          "data": {
            "text/plain": [
              "array([[False,  True,  True],\n",
              "       [ True,  True,  True],\n",
              "       [False, False, False]])"
            ]
          },
          "metadata": {},
          "execution_count": 12
        }
      ]
    },
    {
      "cell_type": "code",
      "source": [
        "n2 = np.array([1,2,3])\n",
        "n3 = np.array([[2],[4],[3]]) \n",
        "print(n2)\n",
        "print(n2.shape)\n",
        "\n",
        "print(n3)\n",
        "print(n3.shape)\n",
        "\n",
        "print(n1)\n",
        "print(n1.shape)"
      ],
      "metadata": {
        "colab": {
          "base_uri": "https://localhost:8080/"
        },
        "id": "lcb14P_l5Bx8",
        "outputId": "4218712a-ae8f-4329-efbd-50baa8538f06"
      },
      "execution_count": null,
      "outputs": [
        {
          "output_type": "stream",
          "name": "stdout",
          "text": [
            "[1 2 3]\n",
            "(3,)\n",
            "[[2]\n",
            " [4]\n",
            " [3]]\n",
            "(3, 1)\n",
            "[[  1   2   3]\n",
            " [ 10  11  12]\n",
            " [ -5  -8 -14]]\n",
            "(3, 3)\n"
          ]
        }
      ]
    },
    {
      "cell_type": "code",
      "source": [
        "n1 * n2 # Operaciones de matrices "
      ],
      "metadata": {
        "colab": {
          "base_uri": "https://localhost:8080/"
        },
        "id": "D3NkcGme5wnE",
        "outputId": "a7fe4932-3fd3-4b8e-d598-00c658f6b67e"
      },
      "execution_count": null,
      "outputs": [
        {
          "output_type": "execute_result",
          "data": {
            "text/plain": [
              "array([[  1,   4,   9],\n",
              "       [ 10,  22,  36],\n",
              "       [ -5, -16, -42]])"
            ]
          },
          "metadata": {},
          "execution_count": 14
        }
      ]
    },
    {
      "cell_type": "code",
      "source": [
        "n1 / n3 # Más operaciones de matrices "
      ],
      "metadata": {
        "colab": {
          "base_uri": "https://localhost:8080/"
        },
        "id": "pwOTd-535yYA",
        "outputId": "e9d235ba-80b7-4164-a8ad-e5683076819f"
      },
      "execution_count": null,
      "outputs": [
        {
          "output_type": "execute_result",
          "data": {
            "text/plain": [
              "array([[ 0.5       ,  1.        ,  1.5       ],\n",
              "       [ 2.5       ,  2.75      ,  3.        ],\n",
              "       [-1.66666667, -2.66666667, -4.66666667]])"
            ]
          },
          "metadata": {},
          "execution_count": 15
        }
      ]
    },
    {
      "cell_type": "code",
      "source": [
        "n4 = n1 + 20 \n",
        "n4 "
      ],
      "metadata": {
        "colab": {
          "base_uri": "https://localhost:8080/"
        },
        "id": "f-R0dPtD58dF",
        "outputId": "26de4402-2783-4774-9dc6-59fc3eb574a4"
      },
      "execution_count": null,
      "outputs": [
        {
          "output_type": "execute_result",
          "data": {
            "text/plain": [
              "array([[21, 22, 23],\n",
              "       [30, 31, 32],\n",
              "       [15, 12,  6]])"
            ]
          },
          "metadata": {},
          "execution_count": 16
        }
      ]
    },
    {
      "cell_type": "code",
      "source": [
        "n1 * n4 # Aqui se multiplican todos los elementos de cada matriz "
      ],
      "metadata": {
        "colab": {
          "base_uri": "https://localhost:8080/"
        },
        "id": "RjWOk_H56GqI",
        "outputId": "1dd8dd76-216d-435a-af9f-ac406dcc5c93"
      },
      "execution_count": null,
      "outputs": [
        {
          "output_type": "execute_result",
          "data": {
            "text/plain": [
              "array([[ 21,  44,  69],\n",
              "       [300, 341, 384],\n",
              "       [-75, -96, -84]])"
            ]
          },
          "metadata": {},
          "execution_count": 17
        }
      ]
    },
    {
      "cell_type": "code",
      "source": [
        "# Generar arreglos con valores aleatorios\n",
        "np.random.rand(2,2,2)  \n",
        "# si se quieren guardar los valores random, tenemos que asignarlos a una variable"
      ],
      "metadata": {
        "colab": {
          "base_uri": "https://localhost:8080/"
        },
        "id": "fACzCR1q6OK_",
        "outputId": "faa68f1f-41c4-4ee7-9f78-127a9b1f291b"
      },
      "execution_count": null,
      "outputs": [
        {
          "output_type": "execute_result",
          "data": {
            "text/plain": [
              "array([[[0.4424985 , 0.79086989],\n",
              "        [0.93644581, 0.84594888]],\n",
              "\n",
              "       [[0.33024059, 0.39672568],\n",
              "        [0.09180989, 0.98681613]]])"
            ]
          },
          "metadata": {},
          "execution_count": 19
        }
      ]
    },
    {
      "cell_type": "code",
      "source": [
        "# randit genera valores aleatrois entre un rango \n",
        "np.random.randint(1,4,(2,2,2)) # Estamos usando el paquete \" random \" de numpy "
      ],
      "metadata": {
        "colab": {
          "base_uri": "https://localhost:8080/"
        },
        "id": "TArSYNxh6sDQ",
        "outputId": "09c5e99b-f1e0-4cf5-b535-407c965a636a"
      },
      "execution_count": null,
      "outputs": [
        {
          "output_type": "execute_result",
          "data": {
            "text/plain": [
              "array([[[3, 3],\n",
              "        [2, 1]],\n",
              "\n",
              "       [[1, 1],\n",
              "        [2, 1]]])"
            ]
          },
          "metadata": {},
          "execution_count": 21
        },
        {
          "output_type": "execute_result",
          "data": {
            "text/plain": [
              "array([[[1, 1],\n",
              "        [1, 1]],\n",
              "\n",
              "       [[1, 3],\n",
              "        [2, 3]]])"
            ]
          },
          "metadata": {},
          "execution_count": 22
        }
      ]
    },
    {
      "cell_type": "code",
      "source": [
        "np.random.randint(8,256,(3,2,4))"
      ],
      "metadata": {
        "colab": {
          "base_uri": "https://localhost:8080/"
        },
        "id": "YcSJnVPI7FAs",
        "outputId": "d68ea5ee-a68e-499b-9dfc-c2ea6b241745"
      },
      "execution_count": null,
      "outputs": [
        {
          "output_type": "execute_result",
          "data": {
            "text/plain": [
              "array([[[246, 214, 202, 142],\n",
              "        [ 59, 221,  17, 175]],\n",
              "\n",
              "       [[ 38, 183, 255,  31],\n",
              "        [ 48, 122,  80,  92]],\n",
              "\n",
              "       [[112, 184,  77, 224],\n",
              "        [152, 189,  10, 142]]])"
            ]
          },
          "metadata": {},
          "execution_count": 23
        }
      ]
    },
    {
      "cell_type": "code",
      "source": [
        "numeros = np.array([[2.43, -3, 48.9999, -5.61],\n",
        "                   [np.inf, -np.inf, np.inf, np.inf],\n",
        "                   [np.nan, 17.78, 12, 22]])\n",
        "numeros"
      ],
      "metadata": {
        "colab": {
          "base_uri": "https://localhost:8080/"
        },
        "id": "vwRYuWtn7lrR",
        "outputId": "a5d71c21-caf0-406b-b966-eb4873d87f5d"
      },
      "execution_count": null,
      "outputs": [
        {
          "output_type": "execute_result",
          "data": {
            "text/plain": [
              "array([[ 2.43  , -3.    , 48.9999, -5.61  ],\n",
              "       [    inf,    -inf,     inf,     inf],\n",
              "       [    nan, 17.78  , 12.    , 22.    ]])"
            ]
          },
          "metadata": {},
          "execution_count": 25
        }
      ]
    },
    {
      "cell_type": "code",
      "source": [
        "# Funciones de valor\n",
        "print(np.abs(numeros))\n",
        "print(np.floor(numeros))\n",
        "print(np.ceil(numeros))\n",
        "print(np.round(numeros))"
      ],
      "metadata": {
        "colab": {
          "base_uri": "https://localhost:8080/"
        },
        "id": "h6ax1Xlq8v4p",
        "outputId": "7d17d406-ad63-4b59-ec15-87b78d78bb7a"
      },
      "execution_count": null,
      "outputs": [
        {
          "output_type": "stream",
          "name": "stdout",
          "text": [
            "[[ 2.43    3.     48.9999  5.61  ]\n",
            " [    inf     inf     inf     inf]\n",
            " [    nan 17.78   12.     22.    ]]\n",
            "[[  2.  -3.  48.  -6.]\n",
            " [ inf -inf  inf  inf]\n",
            " [ nan  17.  12.  22.]]\n",
            "[[  3.  -3.  49.  -5.]\n",
            " [ inf -inf  inf  inf]\n",
            " [ nan  18.  12.  22.]]\n",
            "[[  2.  -3.  49.  -6.]\n",
            " [ inf -inf  inf  inf]\n",
            " [ nan  18.  12.  22.]]\n"
          ]
        }
      ]
    },
    {
      "cell_type": "markdown",
      "source": [
        "## Funciones de valor\n",
        "* ```np.abs()```\n",
        "* ```np.around()```\n",
        "* ```np.ceil()```\n",
        "* ```np.exp()```\n",
        "* ```np.exp2()```\n",
        "* ```np.fabs()```\n",
        "* ```np.fix()```\n",
        "* ```np.floor()```\n",
        "* ```np.log()```\n",
        "* ```np.log10()```\n",
        "* ```np.log1p()```\n",
        "* ```np.log2()```\n",
        "* ```np.logaddexp()```\n",
        "* ```np.logaddexp2()```\n",
        "* ```np.round()```\n"
      ],
      "metadata": {
        "id": "XBisSski_3vj"
      }
    },
    {
      "cell_type": "code",
      "source": [
        "# Funciones de evaluación de arreglos\n",
        "print(np.isfinite(numeros)) #segun esto no se puede correr debido a la configuracion\n",
        "print(np.isnan(numeros)) # Es similiar al \" null \"\n",
        "print(np.isreal(numeros))\n",
        "print(np.isscalar(numeros))"
      ],
      "metadata": {
        "colab": {
          "base_uri": "https://localhost:8080/"
        },
        "id": "oHgdGJH09HZ5",
        "outputId": "39e3910a-30c8-4bed-be1a-84933d0ceaf6"
      },
      "execution_count": null,
      "outputs": [
        {
          "output_type": "stream",
          "name": "stdout",
          "text": [
            "[[ True  True  True  True]\n",
            " [False False False False]\n",
            " [False  True  True  True]]\n",
            "[[False False False False]\n",
            " [False False False False]\n",
            " [ True False False False]]\n",
            "[[ True  True  True  True]\n",
            " [ True  True  True  True]\n",
            " [ True  True  True  True]]\n",
            "False\n"
          ]
        }
      ]
    },
    {
      "cell_type": "markdown",
      "source": [
        "## Funciones estadísticas.\n",
        "\n",
        "* ```np.amax()```\n",
        "* ```np amin()```\n",
        "* ```np.argmax()```\n",
        "* ```np.argmin()```\n",
        "* ```np.average()```\n",
        "* ```np.correlate()```\n",
        "* ```np.corrcoef()```\n",
        "* ```np.count_nonzero()```\n",
        "* ```np.cov()```\n",
        "* ```np.cumprod()```\n",
        "* ```np.cumsum()```\n",
        "* ```np.histogram()```\n",
        "* ```np.histogram2d()```\n",
        "* ```np.histogram_bin_edges()```\n",
        "* ```np.histogramdd()```\n",
        "* ```np.max()```\n",
        "* ```np.mean()```\n",
        "* ```np.median()```\n",
        "* ```np.min()```\n",
        "* ```np.nanargmax()```\n",
        "* ```np.nanargmin()```\n",
        "* ```np.nancumprod()```\n",
        "* ```np.nancumsum()```\n",
        "* ```np.nanmax()```\n",
        "* ```np.nanmean()```\n",
        "* ```np.nanmedian()```\n",
        "* ```np.nanmin()```\n",
        "* ```np.nanpercentile()```\n",
        "* ```np.nanquantile()```\n",
        "* ```np.nanstd()```\n",
        "* ```np.nansum()```\n",
        "* ```np.nanvar()```\n",
        "* ```np.percentile()```\n",
        "* ```np.quantile()```\n",
        "* ```np.std()```\n",
        "* ```np.var()```\n",
        "\n"
      ],
      "metadata": {
        "id": "RBcGIFoO-OIA"
      }
    },
    {
      "cell_type": "code",
      "source": [
        "# Funciones estadisticas \n",
        "numeros = np.random.randint(8,256,(3,2,4))\n",
        "numeros"
      ],
      "metadata": {
        "colab": {
          "base_uri": "https://localhost:8080/"
        },
        "id": "2Bq1CgFJ-BkQ",
        "outputId": "6dc27adb-502a-4c8d-ec7c-68834900fa4a"
      },
      "execution_count": null,
      "outputs": [
        {
          "output_type": "execute_result",
          "data": {
            "text/plain": [
              "array([[[ 53, 148,  30, 124],\n",
              "        [ 97, 247, 189, 201]],\n",
              "\n",
              "       [[181, 219,   9, 102],\n",
              "        [186, 129,  83, 163]],\n",
              "\n",
              "       [[200,  30,  27, 135],\n",
              "        [187, 193, 212,  64]]])"
            ]
          },
          "metadata": {},
          "execution_count": 33
        }
      ]
    },
    {
      "cell_type": "code",
      "source": [
        "print(np.max(numeros))\n",
        "print(np.mean(numeros))\n",
        "print(np.min(numeros))"
      ],
      "metadata": {
        "colab": {
          "base_uri": "https://localhost:8080/"
        },
        "id": "axVvA-In-6Ky",
        "outputId": "07f7bdfe-a668-4269-da51-438be73f73b3"
      },
      "execution_count": null,
      "outputs": [
        {
          "output_type": "stream",
          "name": "stdout",
          "text": [
            "247\n",
            "133.70833333333334\n",
            "9\n"
          ]
        }
      ]
    },
    {
      "cell_type": "code",
      "source": [
        "print(np.nanmax(numeros))\n",
        "print(np.nanmin(numeros))\n",
        "print(np.nanmean(numeros))\n",
        "print(np.nanmedian(numeros))"
      ],
      "metadata": {
        "colab": {
          "base_uri": "https://localhost:8080/"
        },
        "id": "XDu3DWba_GZC",
        "outputId": "4fcf102e-01f2-4699-c0db-b45f5a4357b6"
      },
      "execution_count": null,
      "outputs": [
        {
          "output_type": "stream",
          "name": "stdout",
          "text": [
            "247\n",
            "9\n",
            "133.70833333333334\n",
            "141.5\n"
          ]
        }
      ]
    },
    {
      "cell_type": "code",
      "source": [
        "np.histogram(numeros)"
      ],
      "metadata": {
        "colab": {
          "base_uri": "https://localhost:8080/"
        },
        "id": "NVBWpreu_Vli",
        "outputId": "ff94f62e-dde0-4a43-be69-725d76ed619c"
      },
      "execution_count": null,
      "outputs": [
        {
          "output_type": "execute_result",
          "data": {
            "text/plain": [
              "(array([4, 1, 1, 3, 1, 3, 1, 5, 4, 1]),\n",
              " array([  9. ,  32.8,  56.6,  80.4, 104.2, 128. , 151.8, 175.6, 199.4,\n",
              "        223.2, 247. ]))"
            ]
          },
          "metadata": {},
          "execution_count": 37
        }
      ]
    },
    {
      "cell_type": "markdown",
      "source": [
        "## Funciones de valor\n",
        "* ```np.abs()```\n",
        "* ```np.around()```\n",
        "* ```np.ceil()```\n",
        "* ```np.exp()```\n",
        "* ```np.exp2()```\n",
        "* ```np.fabs()```\n",
        "* ```np.fix()```\n",
        "* ```np.floor()```\n",
        "* ```np.log()```\n",
        "* ```np.log10()```\n",
        "* ```np.log1p()```\n",
        "* ```np.log2()```\n",
        "* ```np.logaddexp()```\n",
        "* ```np.logaddexp2()```\n",
        "* ```np.round()```\n"
      ],
      "metadata": {
        "id": "83DoHsEO_sYD"
      }
    },
    {
      "cell_type": "code",
      "source": [
        "# Copia y ordenamiento \n",
        "numeros1 = numeros # Alias de un arreglo determinado \n",
        "numeros1 = np.copy(numeros) # Copia del arreglo numeros \n",
        "numeros1 "
      ],
      "metadata": {
        "colab": {
          "base_uri": "https://localhost:8080/"
        },
        "id": "oQBxu1CD_rR6",
        "outputId": "a9e43d5b-8cd4-4317-a081-f4faeb4562fa"
      },
      "execution_count": null,
      "outputs": [
        {
          "output_type": "execute_result",
          "data": {
            "text/plain": [
              "array([[[ 53, 148,  30, 124],\n",
              "        [ 97, 247, 189, 201]],\n",
              "\n",
              "       [[181, 219,   9, 102],\n",
              "        [186, 129,  83, 163]],\n",
              "\n",
              "       [[200,  30,  27, 135],\n",
              "        [187, 193, 212,  64]]])"
            ]
          },
          "metadata": {},
          "execution_count": 38
        }
      ]
    },
    {
      "cell_type": "code",
      "source": [
        "numeros1.sort()\n",
        "numeros1"
      ],
      "metadata": {
        "colab": {
          "base_uri": "https://localhost:8080/"
        },
        "id": "kjLoPgs4AYmi",
        "outputId": "f2e8f3a5-a7d9-4e8e-fe12-96a3dfc0839c"
      },
      "execution_count": null,
      "outputs": [
        {
          "output_type": "execute_result",
          "data": {
            "text/plain": [
              "array([[[ 30,  53, 124, 148],\n",
              "        [ 97, 189, 201, 247]],\n",
              "\n",
              "       [[  9, 102, 181, 219],\n",
              "        [ 83, 129, 163, 186]],\n",
              "\n",
              "       [[ 27,  30, 135, 200],\n",
              "        [ 64, 187, 193, 212]]])"
            ]
          },
          "metadata": {},
          "execution_count": 39
        }
      ]
    },
    {
      "cell_type": "code",
      "source": [
        "numeros1.sort(axis=2) # Con estas lineas se pueden ordenar los elementos de una columna en partícular\n",
        "numeros1"
      ],
      "metadata": {
        "colab": {
          "base_uri": "https://localhost:8080/"
        },
        "id": "iye8XyuSAjfI",
        "outputId": "56b05680-774b-4086-af9c-dd9be3403bd6"
      },
      "execution_count": null,
      "outputs": [
        {
          "output_type": "execute_result",
          "data": {
            "text/plain": [
              "array([[[ 30,  53, 124, 148],\n",
              "        [ 97, 189, 201, 247]],\n",
              "\n",
              "       [[  9, 102, 181, 219],\n",
              "        [ 83, 129, 163, 186]],\n",
              "\n",
              "       [[ 27,  30, 135, 200],\n",
              "        [ 64, 187, 193, 212]]])"
            ]
          },
          "metadata": {},
          "execution_count": 40
        }
      ]
    },
    {
      "cell_type": "code",
      "source": [
        "a = np.array([1,2,3])\n",
        "b = np.array([(1,2,3), (4,5,6)])\n",
        "print(a)\n",
        "print(b)\n",
        "print(np.add(a,b))"
      ],
      "metadata": {
        "colab": {
          "base_uri": "https://localhost:8080/"
        },
        "id": "e0xr2zifAxXb",
        "outputId": "ee7e94c7-b33f-4558-b3d9-83fb27543de2"
      },
      "execution_count": null,
      "outputs": [
        {
          "output_type": "stream",
          "name": "stdout",
          "text": [
            "[1 2 3]\n",
            "[[1 2 3]\n",
            " [4 5 6]]\n",
            "[[2 4 6]\n",
            " [5 7 9]]\n"
          ]
        }
      ]
    },
    {
      "cell_type": "code",
      "source": [
        "# Raíz cuadrada \n",
        "np.sqrt(b)"
      ],
      "metadata": {
        "colab": {
          "base_uri": "https://localhost:8080/"
        },
        "id": "oYw2atygCk_0",
        "outputId": "dac401f5-e645-4976-c961-d76465cb307c"
      },
      "execution_count": null,
      "outputs": [
        {
          "output_type": "execute_result",
          "data": {
            "text/plain": [
              "array([[1.        , 1.41421356, 1.73205081],\n",
              "       [2.        , 2.23606798, 2.44948974]])"
            ]
          },
          "metadata": {},
          "execution_count": 42
        }
      ]
    },
    {
      "cell_type": "code",
      "source": [
        "c = b <= 4\n",
        "c "
      ],
      "metadata": {
        "colab": {
          "base_uri": "https://localhost:8080/"
        },
        "id": "YH3dsa8eCqo-",
        "outputId": "31b28542-bee4-4a8a-ee8a-c2f2e57dadb3"
      },
      "execution_count": null,
      "outputs": [
        {
          "output_type": "execute_result",
          "data": {
            "text/plain": [
              "array([[ True,  True,  True],\n",
              "       [ True, False, False]])"
            ]
          },
          "metadata": {},
          "execution_count": 43
        }
      ]
    },
    {
      "cell_type": "code",
      "source": [],
      "metadata": {
        "id": "fk_y3acDESTW"
      },
      "execution_count": null,
      "outputs": []
    }
  ]
}