{
  "nbformat": 4,
  "nbformat_minor": 0,
  "metadata": {
    "colab": {
      "name": "PythonFacil.ipynb",
      "provenance": [],
      "collapsed_sections": [],
      "authorship_tag": "ABX9TyPmgyxhGpKw5kjTWDlZzB2s",
      "include_colab_link": true
    },
    "kernelspec": {
      "name": "python3",
      "display_name": "Python 3"
    },
    "language_info": {
      "name": "python"
    }
  },
  "cells": [
    {
      "cell_type": "markdown",
      "metadata": {
        "id": "view-in-github",
        "colab_type": "text"
      },
      "source": [
        "<a href=\"https://colab.research.google.com/github/leonardolunamoreno/Computadoras-y-programaci-n2021-grupo-1157/blob/main/PythonFacil.ipynb\" target=\"_parent\"><img src=\"https://colab.research.google.com/assets/colab-badge.svg\" alt=\"Open In Colab\"/></a>"
      ]
    },
    {
      "cell_type": "code",
      "execution_count": null,
      "metadata": {
        "id": "k4Y80jx0DJee"
      },
      "outputs": [],
      "source": [
        "def suma(self,*matrices ):\n",
        "    for i in range (self.filas):\n",
        "        fila = []\n",
        "        for j in range (self.columnas):\n",
        "            temp = self.elems[i][j]\n",
        "            for m in matrices: \n",
        "                temp += m.elems[i][j]\n",
        "            fila.append(temp)\n",
        "        yield fila "
      ]
    },
    {
      "cell_type": "code",
      "source": [
        "#Este código permite calcular el cubo del número \"n\" que ocupa la posición \n",
        "#(n,potencia), la potencia también puede ser modificada a voluntad \n",
        "import math #Se utiliza la función import \n",
        "\n",
        "print(math.pow(2,4))\n",
        "print(math.pi)   #Aquí he aprendido a utilizar el valor del número pi \n",
        "print(math.e)    #Aquí he aprendido a utilizar el valor del número e "
      ],
      "metadata": {
        "colab": {
          "base_uri": "https://localhost:8080/"
        },
        "id": "KOY_9SvPs5wF",
        "outputId": "4745d7aa-dca1-4d75-e319-fbcb9fa3d8cb"
      },
      "execution_count": null,
      "outputs": [
        {
          "output_type": "stream",
          "name": "stdout",
          "text": [
            "16.0\n",
            "3.141592653589793\n",
            "2.718281828459045\n"
          ]
        }
      ]
    },
    {
      "cell_type": "code",
      "source": [
        "#El python path indica las rutas donde se buscarán los módulos\n",
        "#dicha ruta puede consultarse por medio de la variable path del módulo sys \n",
        "import sys \n",
        "sys.path  "
      ],
      "metadata": {
        "id": "vmEnyqbIugKw"
      },
      "execution_count": null,
      "outputs": []
    },
    {
      "cell_type": "markdown",
      "source": [
        "Existen dos formas de ejecutar códigos en python, el primero es el modo interprete, el cual resulta bastante útil cuando se desea probar códigos pequeños, funciones, operadores u operaciones del lenguaje. \n",
        "\n",
        "La segunda opción se basa en la idea de un conjunto de sentencias que conformen un scripo o fichero. \n",
        "\n",
        "En modo script es posible guardar los ficheros que representan el código del programa mientras que en el modo interactivo evidentemente no existe esta posibilidad. \n",
        "\n",
        "El intérprete puede ser útil para llevar a cabo experimentos pero para desarrollar un programa siempre debe utilizarse el modo scrip."
      ],
      "metadata": {
        "id": "NqSlwEyhv2DC"
      }
    },
    {
      "cell_type": "code",
      "source": [
        "lista = [2,3,5,8,13,21,34,55]\n",
        "for i in lista: \n",
        "    print (i) \n",
        "print(\".-.-.-.-.-.-.-.-.-..-.-.\")\n",
        "#Está es la sucesión de fibonacci, la diferencia respecto del código\n",
        "#de arriba estriba en la adición de \n",
        "# i = i + 1 \n",
        "lista = [2,3,5,8,13,21,34,55]\n",
        "for i in lista: \n",
        "    i = i + 1 \n",
        "    print(i)"
      ],
      "metadata": {
        "colab": {
          "base_uri": "https://localhost:8080/"
        },
        "id": "VlsDzjfeyIRu",
        "outputId": "abf0fb10-6b3a-4e7f-f780-a67e950145fa"
      },
      "execution_count": null,
      "outputs": [
        {
          "output_type": "stream",
          "name": "stdout",
          "text": [
            "2\n",
            "3\n",
            "5\n",
            "8\n",
            "13\n",
            "21\n",
            "34\n",
            "55\n",
            ".-.-.-.-.-.-.-.-.-..-.-.\n",
            "3\n",
            "4\n",
            "6\n",
            "9\n",
            "14\n",
            "22\n",
            "35\n",
            "56\n"
          ]
        }
      ]
    },
    {
      "cell_type": "code",
      "source": [
        "#Tokens de Python \n",
        "#Investigar para que sirven y en que situaciones se puede usar \n",
        "and \n",
        "as \n",
        "assert \n",
        "break \n",
        "class \n",
        "continue \n",
        "def \n",
        "del \n",
        "elif \n",
        "else \n",
        "except \n",
        "exec \n",
        "finally \n",
        "for \n",
        "from \n",
        "global \n",
        "if \n",
        "import \n",
        "in \n",
        "is \n",
        "lambda \n",
        "not \n",
        "or \n",
        "pass \n",
        "print \n",
        "raise \n",
        "return \n",
        "try \n",
        "while \n",
        "yield \n",
        "False \n",
        "None \n",
        "True \n",
        "# Es posible hacer uso de las palabras claves como \n",
        "#identificadores si se les antepone un guion bajo, \n",
        "#por ejempo,_def = 1 \n"
      ],
      "metadata": {
        "id": "nHhUcFgVHrDe"
      },
      "execution_count": null,
      "outputs": []
    },
    {
      "cell_type": "code",
      "source": [
        "#Delimitadores en Python \n",
        "() \n",
        "[]\n",
        "{}\n",
        ", \n",
        ": \n",
        ". \n",
        "''\n",
        "`\n",
        "= \n",
        "; \n",
        "+= \n",
        "-= \n",
        "*= \n",
        "/= \n",
        "//= \n",
        "%= \n",
        "&= \n",
        "l= #Barra larga \n",
        "^= \n",
        ">>= \n",
        "<<= \n",
        "**= "
      ],
      "metadata": {
        "id": "dZwa1eCPIFg_"
      },
      "execution_count": null,
      "outputs": []
    },
    {
      "cell_type": "code",
      "source": [
        "globalVar = 1 \n",
        "def function(): \n",
        "    localVar = 2 \n",
        "#Ejemplo sencillo de una variable global y una \n",
        "#variable local. \n",
        "#en caso de que se declare otra variable globalVar \n",
        "#en el interior de la función, esta sobrescribirá a la anterior"
      ],
      "metadata": {
        "id": "bpHyb0aWKyEx"
      },
      "execution_count": null,
      "outputs": []
    },
    {
      "cell_type": "code",
      "source": [
        "\\\\ blackslash \n",
        "\\' comilla simple \n",
        "\\''comilla doble\n",
        "\\a campana \n",
        "\\blackspace \n",
        "\\n nueva línea \n",
        "\\r retorno  \n",
        "\\t tab \n",
        "\\v tab vertical \n",
        "\\DDD valor octal \n",
        "\\xXX Valor hexadecimal XX "
      ],
      "metadata": {
        "id": "U_TgOf75RsXY"
      },
      "execution_count": null,
      "outputs": []
    },
    {
      "cell_type": "code",
      "source": [
        "#Una cadena \"String\" es un conjunto ordenado de caracteres que \n",
        "#se utiliza para representar información textual\n",
        "a = 'Cadena con comillas simples'\n",
        "b = \"Cadena con comillas dobles\"\n",
        "c = \"I'm the author\"\n",
        "print(a)\n",
        "print(b)\n",
        "print(c)\n",
        "# \\n\\ esto sirve para realizar saltos de línea \n",
        "d = \"Leonardo\\n\\\n",
        "Alexis\\n\\\n",
        "Luna\\n\\\n",
        "Moreno\"\n",
        "print(d)\n",
        "e = (\"Leonardo\\v\" \n",
        "\"Alexis\")\n",
        "print(e)"
      ],
      "metadata": {
        "colab": {
          "base_uri": "https://localhost:8080/"
        },
        "id": "rwcWWQX_Mnpf",
        "outputId": "16cdb537-eaf1-4736-9193-ab10698f6acf"
      },
      "execution_count": null,
      "outputs": [
        {
          "output_type": "stream",
          "name": "stdout",
          "text": [
            "Cadena con comillas simples\n",
            "Cadena con comillas dobles\n",
            "I'm the author\n",
            "Leonardo\n",
            "Alexis\n",
            "Luna\n",
            "Moreno\n",
            "Leonardo\u000bAlexis\n"
          ]
        }
      ]
    },
    {
      "cell_type": "code",
      "source": [
        "#Listas\n",
        "#Son secuencias de elementos ordenados que además tienen la \n",
        "#característica de ser mutables. Cada elemento puede ser de \n",
        "#cualquier tipo y la sintaxis para crearlas es bastante simple \n",
        "[] <----- Lista vacía\n",
        "[1,2,3,4] <------ Una lista con algunos elementos \n",
        "['Python',2.3, 34] <-------- Una lista con diferentes objetos\n",
        "\n",
        "#otra alternativa para crear listas es através de la función \n",
        "#predefinida list()  que toma como argumento una secuencia\n",
        "#y devuelve una lista con cada elemento de esa secuencia\n",
        "#en caso de no recibir argumento devuelve una lista vacía.  \n",
        "list()"
      ],
      "metadata": {
        "id": "rSpV3dAeTiN-"
      },
      "execution_count": null,
      "outputs": []
    },
    {
      "cell_type": "code",
      "source": [
        "print(list(\"python\"))\n",
        "print(list('python'))\n",
        "#Ambas funciones deveulven el mismo resultado, '' y \"\" "
      ],
      "metadata": {
        "colab": {
          "base_uri": "https://localhost:8080/"
        },
        "id": "b4zu77ICUgCs",
        "outputId": "59882645-29ab-4208-e137-616183b4e3a4"
      },
      "execution_count": null,
      "outputs": [
        {
          "output_type": "stream",
          "name": "stdout",
          "text": [
            "['p', 'y', 't', 'h', 'o', 'n']\n",
            "['p', 'y', 't', 'h', 'o', 'n']\n"
          ]
        }
      ]
    },
    {
      "cell_type": "code",
      "source": [
        "#Una tupla es una secuencia ordenada de elementos que, a \n",
        "#diferencia de la lista, tiene a característica de ser inmutable\n",
        "#y por ende, las operaciones de modificación que se realizan sobre \n",
        "#esta resultan en una nueva tupla, la original no sufre cambios \n",
        "#Los elementos de una tupla pueden ser de cualquier tipo\n",
        "#al igual que con las listas \n",
        "\n",
        "#tupla con números enteros \n",
        "t = (1,2,3)\n",
        "\n",
        "#tupla mixta \n",
        "t = (1, \"FCB\", 3.2)\n",
        "\n",
        "#tupla vacía \n",
        "t = () \n",
        "\n",
        "#tupla con un solo elemento\n",
        "(1,)\n",
        "\n",
        "#La función predefinida\n",
        "tuple()\n",
        "#Permite crear tuplas de manera análoga a la función \n",
        "list()"
      ],
      "metadata": {
        "id": "IzRKTkrKU7Sb"
      },
      "execution_count": null,
      "outputs": []
    },
    {
      "cell_type": "code",
      "source": [
        "#Sintaxis genérica para definir un diccionario \n",
        "#{llave_1:valor_1, llave_2:valor_2,...,llave_n:valor_n}\n",
        "\n",
        "#la función dict() permite crear un diccionario a partir de una \n",
        "#lista de listas que deve suministrarse como argumento \n",
        "#Cada lista debe contener dos elementos que representen los pares\n",
        "#llave y el valor \n",
        "print(dict([[\"Jordan\",23],[\"Messi\",10]]))"
      ],
      "metadata": {
        "colab": {
          "base_uri": "https://localhost:8080/"
        },
        "id": "osN9trZDWIaa",
        "outputId": "59b3a1d7-5b7e-4379-9f4d-8b8258116a73"
      },
      "execution_count": null,
      "outputs": [
        {
          "output_type": "stream",
          "name": "stdout",
          "text": [
            "{'Jordan': 23, 'Messi': 10}\n"
          ]
        }
      ]
    },
    {
      "cell_type": "code",
      "source": [
        "f1 = 0.02\n",
        "f2 = .003 \n",
        "f3 = 2.3 \n",
        "f4 = .001E+3 #E+n Es equivalente a multiplicar el número dado \n",
        "#por un exponente psotitivo \n",
        "f5 = .001e-3\n",
        "# e-n es equivalente a multipliar el número dado por un \n",
        "#exponente negativo, aunque tambien se puede expresar como E-n\n",
        "f6 = 6.67E-11\n",
        "print(f4)\n",
        "print(f5)\n",
        "print(f6)"
      ],
      "metadata": {
        "colab": {
          "base_uri": "https://localhost:8080/"
        },
        "id": "m50Uv4-7Yp7w",
        "outputId": "740cd804-2193-492d-ec2c-65ba3899aa2d"
      },
      "execution_count": null,
      "outputs": [
        {
          "output_type": "stream",
          "name": "stdout",
          "text": [
            "1.0\n",
            "1e-06\n",
            "6.67e-11\n"
          ]
        }
      ]
    },
    {
      "cell_type": "code",
      "source": [
        "a = 1 + 2j \n",
        "b = 2 + 2.5j \n",
        "#Aquí los números imaginarios se denotan con una letra j \n",
        "print(\"Parte real:\" + float.__str__(a.real))\n",
        "print(\"Parte imaginaria:\" + float.__str__(a.imag))\n",
        "print(\"Parte real:\" + float.__str__(b.real))\n",
        "print(\"Parte imaginaria:\" + float.__str__(b.imag))\n",
        "\n",
        "#La función \n",
        "__str__() \n",
        "#Con la que cuentan todos los obejtos en python devuelve su \n",
        "#representación como cadena, necesaria en este caso para imprimir\n",
        "#los calores de punto flotante que corresponden a las propiedades \n",
        "#real e imaginaria "
      ],
      "metadata": {
        "colab": {
          "base_uri": "https://localhost:8080/"
        },
        "id": "DIyKgdKVZ6zD",
        "outputId": "baf38858-f249-4f2d-bebb-17cd45e4edb9"
      },
      "execution_count": null,
      "outputs": [
        {
          "output_type": "stream",
          "name": "stdout",
          "text": [
            "Parte real:1.0\n",
            "Parte imaginaria:2.0\n",
            "Parte real:2.0\n",
            "Parte imaginaria:2.5\n"
          ]
        }
      ]
    },
    {
      "cell_type": "code",
      "source": [
        "#El interprete de python no imprimirá está sentencia del \n",
        "#tipo booleana, por que al estar a = [] vacía, el interprete la\n",
        "#evalua como false \n",
        "a = []    \n",
        "if (a):\n",
        "    print(a)\n",
        "\n",
        "#El interprete de python si imprime está sentencia porque la lista \n",
        "# b = [1], contiene al elemento 1 y por tanto la considera verdadera\n",
        "b = [1]\n",
        "if (b):\n",
        "    print(b)"
      ],
      "metadata": {
        "colab": {
          "base_uri": "https://localhost:8080/"
        },
        "id": "K5qvL-iub41h",
        "outputId": "836a5a11-a7ea-41a7-8e06-745fb941b456"
      },
      "execution_count": null,
      "outputs": [
        {
          "output_type": "stream",
          "name": "stdout",
          "text": [
            "[1]\n"
          ]
        }
      ]
    },
    {
      "cell_type": "code",
      "source": [
        "#Conjuntos \n",
        "cjto = set([1,2,3])\n",
        "print(cjto)\n",
        "cjto = set([1,1,2,2,2,3])\n",
        "print(cjto)\n",
        "\n",
        "#Los conjuntos permiten operaciones clásicas como pueden ser la \n",
        "#intersección, la unión o la diferencia de conjuntos."
      ],
      "metadata": {
        "colab": {
          "base_uri": "https://localhost:8080/"
        },
        "id": "T8LYiZ5_c0jR",
        "outputId": "a65f3f88-f2a7-46d1-a7f0-50c2e399ae6d"
      },
      "execution_count": null,
      "outputs": [
        {
          "output_type": "stream",
          "name": "stdout",
          "text": [
            "{1, 2, 3}\n",
            "{1, 2, 3}\n"
          ]
        }
      ]
    },
    {
      "cell_type": "code",
      "source": [
        "#Los operadores de comparación son binarios y cada uno de sus \n",
        "#argumentos puede ser una expresión que evalúe a un valor \n",
        "#de un tipo diferente (numéricos, cadenas, listas, etc)\n",
        "\n",
        "== #Devuelve \"True\" si los dos operandos son iguales. False en caso contrario \n",
        "\n",
        "!= #Devuelve True si los dos operandos son diferentes. False en caso contrario\n",
        "\n",
        "<> # Ídem a != pero no soportando en la versión 3.1 de python \n",
        "\n",
        "> #Devuelve True si el operador de la izquierda es mayor que el de la derecha \n",
        "\n",
        "< #Devuelve True si el operador de la derecha es mahyor que el de la izquierda. \n",
        "\n",
        ">= #DEvuelve True si el operador de la izquierda es mayor o igual que el de la derecha \n",
        "\n",
        "<= #Devueve True si el operador d ela derecha es mayor o igual que el de la derecha \n"
      ],
      "metadata": {
        "id": "_8c-3VVSdhEh"
      },
      "execution_count": null,
      "outputs": []
    },
    {
      "cell_type": "code",
      "source": [
        "a = 2 != 2\n",
        "b = [] == 1\n",
        "c = 2 > 1 \n",
        "d = 3 >= 3 \n",
        "print(a)\n",
        "print(b)\n",
        "print(c)\n",
        "print(d)\n",
        "\n",
        "#Los operadores de comparación suelen utilizarse en sentencias \n",
        "#condicionales para controlar el flujo de un programa de acuerdo \n",
        "#con determinadas condiciones. "
      ],
      "metadata": {
        "colab": {
          "base_uri": "https://localhost:8080/"
        },
        "id": "pZ2KxAdVep0i",
        "outputId": "41dce4f5-8ee1-4b07-e966-83e9a179e59b"
      },
      "execution_count": null,
      "outputs": [
        {
          "output_type": "stream",
          "name": "stdout",
          "text": [
            "False\n",
            "False\n",
            "True\n",
            "True\n"
          ]
        }
      ]
    },
    {
      "cell_type": "code",
      "source": [
        "#Operadores aritmeticos  \n",
        "print(\"Jazz de \" + \"New York\")\n",
        "print([] + [1])\n",
        "print((2+3)**2)\n",
        "print((4%3)-1)\n",
        "print(2*9/3)\n",
        "print(36/6)\n",
        "print(37/6)\n",
        "print(70//3)\n",
        "#Todos los operadores aritmeticos, excepto el operador de \n",
        "#potenciación son asociativos de izquierda a derecha. \n",
        "#la potenciación es asociativa de derecha a izquierda. "
      ],
      "metadata": {
        "colab": {
          "base_uri": "https://localhost:8080/"
        },
        "id": "luaxm_H5lulH",
        "outputId": "a59bd911-ca53-4455-8643-ff3a46d82b14"
      },
      "execution_count": null,
      "outputs": [
        {
          "output_type": "stream",
          "name": "stdout",
          "text": [
            "Jazz de New York\n",
            "[1]\n",
            "25\n",
            "0\n",
            "6.0\n",
            "6.0\n",
            "6.166666666666667\n",
            "23\n"
          ]
        }
      ]
    },
    {
      "cell_type": "code",
      "source": [
        "#Operadores lógicos \n",
        "print(0 or 2)\n",
        "print(True and 0)\n",
        "print(False or 1)\n",
        "print([] or 1)\n",
        "print([1] or 1)\n",
        "print(\"Hola\" and \"Leonardo\" and 0)\n",
        "print(\"Hola\" and 0 or \"Sting\")"
      ],
      "metadata": {
        "colab": {
          "base_uri": "https://localhost:8080/"
        },
        "id": "8p9gXAQmnfYP",
        "outputId": "8eb67196-057d-4982-f48d-82c733a138eb"
      },
      "execution_count": null,
      "outputs": [
        {
          "output_type": "stream",
          "name": "stdout",
          "text": [
            "2\n",
            "0\n",
            "1\n",
            "1\n",
            "[1]\n",
            "0\n",
            "Sting\n"
          ]
        }
      ]
    },
    {
      "cell_type": "code",
      "source": [
        "#Operadores sobre bits\n",
        "#& Realiza una conjunción lógica a nivel de bits. \n",
        "\n",
        "#| (barra larga) Realiza una disyunción lógica a nivel de bits\n",
        "\n",
        "#^ Realiza una disyunción exclusiva lógica a nivel de bits \n",
        "\n",
        "#~ Realiza una inversión lógica a nivel de bits la cual se define \n",
        "#para un operando entero x como -(x+1)\n",
        "\n",
        "#<< Desplaza los dígitos binarios de un número hacia la izquierda \n",
        "#la cantidad de veces indicadas por el operando de la derecha \n",
        "\n",
        "#>> Desplaza los dígitos binarios de un número hacia la derecha la \n",
        "#cantidad de veces indicadas por el operando de la derecha\n",
        "\n",
        "print(4 & 2) #Disyunción lógica \n",
        "print(7 & 2) #Disyunción lógica\n",
        "\n",
        "print(4 | 2) #Conjunción lógica\n",
        "print(7 | 2) #Conjunción lógica\n",
        "\n",
        "print(4 ^ 2) #Disyunción exclusiva \n",
        "print(7 ^ 2) #Disyunción exclusiva \n",
        "\n",
        "print(~2)\n",
        "\n",
        "print(2 >> 1)\n",
        "print(3 << 1)"
      ],
      "metadata": {
        "colab": {
          "base_uri": "https://localhost:8080/"
        },
        "id": "QBvm4m08oYks",
        "outputId": "f391962c-f096-4508-da1e-046492bc6a83"
      },
      "execution_count": null,
      "outputs": [
        {
          "output_type": "stream",
          "name": "stdout",
          "text": [
            "0\n",
            "2\n",
            "6\n",
            "7\n",
            "6\n",
            "5\n",
            "-3\n",
            "1\n",
            "6\n"
          ]
        }
      ]
    },
    {
      "cell_type": "code",
      "source": [
        "#Operadores de asignación \n",
        "# = Asigna a la expresión izquierda el valor de la expresión derecha\n",
        "\n",
        "# += Asigna a la expresión izquierda el valor de la expresión \n",
        "# derecha sumada al vlor de la propia expresión izquierda\n",
        "\n",
        "# -= Asigna a la expresión izquierda el valor de la expresión \n",
        "# derecha restada al valor dela propia expresión izquierda\n",
        "\n",
        "# /= Asigna a la expresión izquierda el valor de la expresión \n",
        "# derecha dividida al valor de la propia expresión izquierda\n",
        "\n",
        "# *=Asigna a la expresión izquierda el valor de la expresión \n",
        "# derecha multiplicada al valor de la propia expresión izquierda \n",
        "\n",
        "# %= Asigna a la expresión izquierda el valor de la potenciación de\n",
        "# La expresión izquieda por la expresión derecha \n",
        "\n",
        "# **= Asigna a la expresión izquierda el valor de la potenciación \n",
        "# de la expresión izquierda como base y la expresión derecha como \n",
        "# potencia.\n",
        "\n",
        "# &= Asigna a la expresión izquierda el valor de la conjunción lógica de\n",
        "# la expresión izquierda con la expresión derecha \n",
        "\n",
        "# |= Asigna a la expresión izquierda el valor de la disyunción lógica \n",
        "# de la expresión izquierda con la expresión derecha\n",
        "\n",
        "# ^= Asigna a la expresión izquierda el valor de la disyunción exclusiva \n",
        "# XOR de la expresión izquierda con la expresión derecha\n",
        "\n",
        "# >>= Asigna a la expresión izquierda con el desplazamiento a la derecha de \n",
        "# la expresión izquierda la cantidad de veces definida por la expresión derecha \n",
        "\n",
        "# <<= Asigna a la expresión izquierda el desplazamiento a la izquierda de la \n",
        "# expresión izquierda la cantidad de veces deifinida por la expresión derecha \n",
        "\n",
        "\n"
      ],
      "metadata": {
        "id": "obFXmMGgvcMk"
      },
      "execution_count": null,
      "outputs": []
    },
    {
      "cell_type": "code",
      "source": [
        "#Otros operadores\n",
        "# in Devuelve True si el elemnto de la izquierda se encuentra en la secuencia de la derecha \n",
        "\n",
        "# is Devuelve True si el operando de la izquierda es igual al operando de la derecha\n",
        "\n",
        "l = [1,2,3,]\n",
        "\n",
        "print(2 in l)\n",
        "print(2 is \"\")\n",
        "print(2 is 2 )\n",
        "\n",
        "print(int(2.3))\n",
        "print(float(\"2.5\" ))\n",
        "\n",
        "print(int(\"1001\",2)) #otro argumento que puede ser suministrado a las\n",
        "#funciones int y long es un entero entre 2 y 36 que indica la base \n",
        "#empleada para la conversión \n",
        "#En el último print la cadena \"1001\" se toma como una cadena binaria \n",
        "#y se realiza la conversión de acuerdo con la base indicada, lo que \n",
        "#resulta en el entero 9 \n"
      ],
      "metadata": {
        "colab": {
          "base_uri": "https://localhost:8080/"
        },
        "id": "DtVqTCJNyKCA",
        "outputId": "8d2f238c-3cb2-4c5a-a63f-4ddbef13c432"
      },
      "execution_count": null,
      "outputs": [
        {
          "output_type": "stream",
          "name": "stdout",
          "text": [
            "True\n",
            "False\n",
            "True\n",
            "2\n",
            "2.5\n",
            "9\n"
          ]
        }
      ]
    },
    {
      "cell_type": "code",
      "source": [
        "#Secuencias\n",
        "l = [1,2,3]\n",
        "print(l + l + l + l)\n",
        "print(l*4)\n",
        "#Del mismo modo que se pueden concatenar listas, se pueden concatenar \n",
        "#secuencias, también es posible concatenar tuplas y cadenas \n",
        "a = \"Hola \" + \"Leonardo\"\n",
        "b = (1,2) + (3,4)\n",
        "print(a) \n",
        "print(b)\n",
        "\n",
        "#Otra operacion recuerrente en secuencias es el test de membresía\n",
        "#para ello se emplea el operador in desciroen seccciones previas. \n",
        "#Dicho operarador puese ser utilizado en combinacion con (not) para \n",
        "#realizar un test negativo de membresía, o sea, para chequear que un \n",
        "#elemento no pertenece a una secuencia. \n",
        "print('L' in \"Leonardo\")\n",
        "print('L' not in \"Leonardo\")\n",
        "\n",
        "#Indexando una cadena\n",
        "a = \"Dolly \"\n",
        "print(a[0] + a[1])    \n",
        "#Indexando una cadena de izuiqerda a derecha\n",
        "#print(a[-1] + a[-2] + a[-3] a[-4] + a[-5]) sintaxis invalidad \n",
        "#segun el compilador \n",
        "\n",
        "#Slicing simple \n",
        "b= [1,2,3,4,5,6]\n",
        "print(b[1:3])\n",
        "print(b[:2])\n",
        "print(b[3:])\n",
        "\n",
        "#Slicing Extendido\n",
        "c = [1,2,3,4,5,6]\n",
        "print(c[0:4:2])\n",
        "print(c[::1]) \n",
        "print(c[::-1])\n",
        "\n",
        "#Slicing extendido que asigna o modifica parte de la secuencia d\n",
        "d = [1,2,3,4,5]\n",
        "d[1:3] = ['N','Y']\n",
        "print(d)\n",
        "\n",
        "#Eliminar parte de una secuencia usando del en un slicing \n",
        "e = [1,2,3,4,5]\n",
        "del e[4]\n",
        "print(e)"
      ],
      "metadata": {
        "colab": {
          "base_uri": "https://localhost:8080/"
        },
        "id": "PX7XYTpLF8M8",
        "outputId": "bad73c33-3658-4df7-a90d-1fb02bdcc842"
      },
      "execution_count": null,
      "outputs": [
        {
          "output_type": "stream",
          "name": "stdout",
          "text": [
            "[1, 2, 3, 1, 2, 3, 1, 2, 3, 1, 2, 3]\n",
            "[1, 2, 3, 1, 2, 3, 1, 2, 3, 1, 2, 3]\n",
            "Hola Leonardo\n",
            "(1, 2, 3, 4)\n",
            "True\n",
            "False\n",
            "Do\n",
            "[2, 3]\n",
            "[1, 2]\n",
            "[4, 5, 6]\n",
            "[1, 3]\n",
            "[1, 2, 3, 4, 5, 6]\n",
            "[6, 5, 4, 3, 2, 1]\n",
            "[1, 'N', 'Y', 4, 5]\n",
            "[1, 2, 3, 4]\n"
          ]
        }
      ]
    },
    {
      "cell_type": "code",
      "source": [
        "#Metodos de objetos en python \n",
        "\n",
        "#append(x) Añade x al final de la lista \n",
        "\n",
        "#insert(i,x) inserta x en el índice i de la lista\n",
        "\n",
        "#remove(x) ELimina la primera ocurrencia de x en a lista \n",
        "\n",
        "#sort(key = comparer) Ordena los elementos de la lista utilizando \n",
        "#comparer como comparador. EN caso de no indicarse comparer \n",
        "#se utiliza cmp para realizar las comparaciones . \n",
        "\n",
        "#reverse() Reverso de la lista \n",
        "\n",
        "#pop(i) Elimina el elemnto en el índice i y lo devuelve \n",
        "#como resultado del método \n",
        "\n",
        "#extend(l) Añade tdos los elementos de l a la lista \n",
        "\n",
        "# count(x) Devuelve la cantidad de veces que x aparece en la lista \n",
        "\n",
        "#index(x) Devuleve el índice de la primera ocurrencia de x en la lista \n",
        "a = [1,2,3,4,5]\n",
        "def comparer(c):\n",
        "    return -c \n",
        "\n",
        "a.sort(key = comparer)\n",
        "print(a)\n",
        "\n",
        "#Dado que la función de compararción devulve por cada llave recibida \n",
        "#el propio número negado, entonces parece natural que el orden resultante \n",
        "#para una lista ya ordenada sea la lista con los elementos dispuestos \n",
        "#de derecha a izquierda "
      ],
      "metadata": {
        "colab": {
          "base_uri": "https://localhost:8080/"
        },
        "id": "rz8Noj3UQcV4",
        "outputId": "58c0e6cf-dedf-4296-de64-9a4052d7ebaf"
      },
      "execution_count": null,
      "outputs": [
        {
          "output_type": "stream",
          "name": "stdout",
          "text": [
            "[5, 4, 3, 2, 1]\n"
          ]
        }
      ]
    },
    {
      "cell_type": "code",
      "source": [
        "#Diccionarios \n",
        "\n",
        "print(len({'autor':'Leonardo'}))\n",
        "\n",
        "#Para indexar un diccionario se procede de está manera \n",
        "dicc = {'autor':'Leonardo', \n",
        "        'Libro':'10'}\n",
        "print(dicc['autor'])\n",
        "print(dicc['Libro'])\n",
        "\n",
        "#En el caso de que la llave indica en una operación de indexación \n",
        "#no exista se lanzará una excepción.  Para añadir un par llave-valor\n",
        "#se define la llave y el valor que se se lea asociará. La sintaxis\n",
        "#general se ilustra a continuación. \n",
        "\n",
        "#diccionario[llave] = valor\n",
        "dicc['correo'] = 'al.leonardoseekcounter2@hotmail.com'\n",
        "print(dicc)\n",
        "del dicc['Libro']\n",
        "\n",
        "#Algunos d elos métodos de los diccionarios de python se muestran a \n",
        "#continuación. \n",
        "\n",
        "# has_key(k)  Devuelve True si el diccionario contiene la llave k \n",
        "\n",
        "# items()   Devuelve una lista de los elementos del diccionario. \n",
        "            #Pares llave, valor. \n",
        "\n",
        "# keys()   Devuelve una lista con las llaves del diccionario\n",
        "\n",
        "# values()   Devuelve una lista con los valores del diccionario. \n",
        "\n",
        "# iteritems() Devuelve un iterador de los elementos del diccionario. \n",
        "\n",
        "# iterkeys() Devuelve un iterador de las llaves del diccionario \n",
        "\n",
        "# itervalues() Devuelve un iterador de los valores del diccionario \n",
        "\n",
        "# get(K)  devuelve el valor que corresponde a la llave k del diccionario\n",
        "         #Si la llave no existe devuelve None. \n",
        "\n",
        "# get(k,x) Devuelve el valor que corresponde a llave k del diccionario. \n",
        "          # Si la llave no existe devuelve x \n",
        "\n",
        "# clear()   Elimina todos los elementos del diccionario. \n",
        "\n",
        "# popitem() Devuelve un elemento aleatorio del diccionario. \n",
        "\n",
        "#update(dicc2)  Por cada llave k en dicc2 actualiza o inserta la llave \n",
        "                #con el valor dicc2[k] en el diccionario.\n"
      ],
      "metadata": {
        "colab": {
          "base_uri": "https://localhost:8080/"
        },
        "id": "yvW6auiGShUQ",
        "outputId": "790f1106-bd7d-43af-f308-3df320c87e64"
      },
      "execution_count": null,
      "outputs": [
        {
          "output_type": "stream",
          "name": "stdout",
          "text": [
            "1\n",
            "Leonardo\n",
            "10\n",
            "{'autor': 'Leonardo', 'Libro': '10', 'correo': 'al.leonardoseekcounter2@hotmail.com'}\n"
          ]
        }
      ]
    },
    {
      "cell_type": "code",
      "source": [
        "#Funciones \n",
        "#se define una función del siguiente modo\n",
        "\n",
        "# def nombre (argumentos):\n",
        "\n",
        "#Argumentos \n",
        "#Se definen argumentos de la siguiente forma \n",
        "\n",
        "# def (arg1,...,argn): \n",
        "    #Sentencias\n",
        "\n",
        "def func(a,b = 2):\n",
        "    return a*b\n",
        "print(func(3))\n",
        "\n",
        "#Resulta importante notar que si una función modifica el valor por \n",
        "#defecto de un argumento opcional que posea la característica de\n",
        "#ser mutable (como una lista) entonces esta modificación persistirá\n",
        "#en subsecuentes llamados a la función. \n",
        "#dicha situación puede apreciarse en el siguiente cuadro de código "
      ],
      "metadata": {
        "colab": {
          "base_uri": "https://localhost:8080/"
        },
        "id": "JHh7-5hBE696",
        "outputId": "d64e2b6d-e42a-4c4c-82cb-e23ee26e42ce"
      },
      "execution_count": null,
      "outputs": [
        {
          "output_type": "stream",
          "name": "stdout",
          "text": [
            "6\n"
          ]
        }
      ]
    },
    {
      "cell_type": "code",
      "source": [
        "def func(a, b = {}):\n",
        "    b[a] = a \n",
        "    return b\n",
        "print(func(3))\n",
        "print(func(4))\n",
        "print(func(8))\n",
        "print(func(1))\n",
        "print(func(3))\n",
        "print(func(5))"
      ],
      "metadata": {
        "colab": {
          "base_uri": "https://localhost:8080/"
        },
        "id": "v_tSqlJpJdWm",
        "outputId": "fa3e7906-2741-42d3-d080-9a2a22fbe7d6"
      },
      "execution_count": null,
      "outputs": [
        {
          "output_type": "stream",
          "name": "stdout",
          "text": [
            "{3: 3}\n",
            "{3: 3, 4: 4}\n",
            "{3: 3, 4: 4, 8: 8}\n",
            "{3: 3, 4: 4, 8: 8, 1: 1}\n",
            "{3: 3, 4: 4, 8: 8, 1: 1}\n",
            "{3: 3, 4: 4, 8: 8, 1: 1, 5: 5}\n"
          ]
        }
      ]
    },
    {
      "cell_type": "code",
      "source": [
        "#También es posible crear funciones con una cantidad interminada de \n",
        "#argumentos, cumpliendo un objetivo similar al que cumple params[]\n",
        "#en C#. Para ello, debe especificarse *args como argumento de la \n",
        "#función \n",
        "\n",
        "#En este caso deben especificarse el *arg = numeros\n",
        "#La diferencia principal entre *args y **args radica en que \n",
        "#*args solo recibe valores, mientras que **args recibe valores ligados \n",
        "#a una variable\n",
        "def promedio(*numeros):\n",
        "    sum = 0 \n",
        "    for n in numeros:\n",
        "        sum += n \n",
        "    return sum/len(numeros)"
      ],
      "metadata": {
        "id": "pE8LlDr5McUZ"
      },
      "execution_count": null,
      "outputs": []
    },
    {
      "cell_type": "code",
      "source": [
        "def promedio (**numeros):\n",
        "    sum = 0 \n",
        "    for llave in numeros:\n",
        "        sum += numeros[llave]\n",
        "    return sum/len(numeros)\n",
        "print(promedio(a = 5, b = 4, c = 9))"
      ],
      "metadata": {
        "colab": {
          "base_uri": "https://localhost:8080/"
        },
        "id": "0otmGvPyNf_5",
        "outputId": "09bf4fe5-4e29-4bc2-b6a4-cdf702cbc43d"
      },
      "execution_count": null,
      "outputs": [
        {
          "output_type": "stream",
          "name": "stdout",
          "text": [
            "6.0\n"
          ]
        }
      ]
    },
    {
      "cell_type": "code",
      "source": [
        "#Funciones anidadas \n",
        "#Python ofrece la posibilidad de crear funciones anidadas. Una \n",
        "#función anidada es una función que se crea en el cuerpo de otra \n",
        "#función que se conoce como externa \n",
        "\n",
        "def promedio (*numeros):\n",
        "    def suma(lista = numeros):\n",
        "        sum = 0 \n",
        "        for n in lista: \n",
        "            sum += n \n",
        "        return sum \n",
        "    return suma()/len(numeros)\n"
      ],
      "metadata": {
        "id": "nk7J7CPbOldk"
      },
      "execution_count": null,
      "outputs": []
    },
    {
      "cell_type": "code",
      "source": [
        "def promedio(*numeros):\n",
        "    a = 3 \n",
        "    def suma(lista = numeros):\n",
        "        sum = 0 \n",
        "        for n in lista: \n",
        "            sum += n \n",
        "        return sum + a\n",
        "    return suma ()/ len(numeros)"
      ],
      "metadata": {
        "id": "y23l9XM6O_kt"
      },
      "execution_count": null,
      "outputs": []
    },
    {
      "cell_type": "code",
      "source": [
        "#Generadores \n",
        "#Las funciones que contienen en su cuerpo la palabra clave yield \n",
        "#son conocidas como generadores. Un generador es básicamente una \n",
        "#forma de construir un iterador de modo que cuando se realiza un \n",
        "#llamado a esta función se realizan los siguientes pasos. \n",
        "\n",
        "# 1.- Se crea un obejeto iterador ue envuelve el código de la función \n",
        "#así como sus variables locales, argumentos y el punto de ejecución \n",
        "# en que se encuentra, normalmente el principio de la función \n",
        "\n",
        "# 2.-Cuando el método next del objeto iterador es llamado, entonces\n",
        "# se ejecuta la función hasta la primera ocurrencia de yield. \n",
        "\n",
        "# 3.- Se retorna el valor indicado por la expresión que sigue a yield \n",
        "\n",
        "# 4.- Se resume la ejecución de la función a partir del punto donde \n",
        "#había quedado y hasta el próximo yield encontrado. \n",
        "\n",
        "#5.- La ejecución termina cuando se encuentra una sentencia return \n",
        "# (que no puede devolver valor alguno) o cuando se alcanza el final \n",
        "#del cuerpo de la función. \n",
        "\n",
        "#El método next se ejecuta cuando se solicita un nuevo elemento. \n",
        "\n",
        "def generador():\n",
        "    for i in [1,2,3]:\n",
        "        yield i \n",
        "for n in generador():\n",
        "    print(n)\n",
        "\n",
        "#Un beneficio notable que ofrecen los generadores es que estos proveen\n",
        "#evaluación perezosa. Esta característica garantiza que la evaluación o \n",
        "#cómputo de elementos se realice solo en el caso de que estos sean \n",
        "#requeridos. No sucede así con las funciones tradicionales que realizan\n",
        "#toda la computaicón de antemanoy que pueden requerir gran cantidad de \n",
        "#memoria. "
      ],
      "metadata": {
        "colab": {
          "base_uri": "https://localhost:8080/"
        },
        "id": "t-UX_sttP54m",
        "outputId": "e8cbf5ac-a810-44fa-9edf-fb57839f4aa7"
      },
      "execution_count": null,
      "outputs": [
        {
          "output_type": "stream",
          "name": "stdout",
          "text": [
            "1\n",
            "2\n",
            "3\n"
          ]
        }
      ]
    },
    {
      "cell_type": "code",
      "source": [
        "#El siguiente generador representa una lista infinita de números naturales\n",
        "\n",
        "def lista_infinita():\n",
        "    i = 1 \n",
        "    while True: \n",
        "        yield i \n",
        "        i += 1\n",
        "#No compilar a menos que quieras que el compilador se trabe :V "
      ],
      "metadata": {
        "id": "uoeZxnamSQrp"
      },
      "execution_count": null,
      "outputs": []
    },
    {
      "cell_type": "code",
      "source": [
        "def fib(n):\n",
        "    if n <= 2: \n",
        "        return 1 \n",
        "    else: \n",
        "        return fib(n - 2) + fib (n - 1)\n",
        "print(fib(3))\n",
        "print(fib(4))\n",
        "print(fib(5))\n",
        "print(fib(6))\n",
        "print(fib(7))\n",
        "print(fib(8))\n",
        "print(fib(9))\n",
        "print(fib(10))\n",
        "print(fib(11))\n",
        "print(fib(12))\n",
        "print(fib(13))\n",
        "\n"
      ],
      "metadata": {
        "colab": {
          "base_uri": "https://localhost:8080/"
        },
        "id": "cvmBx18YS0oa",
        "outputId": "80f07c02-4d13-4c43-a2a4-21b4067a8a68"
      },
      "execution_count": null,
      "outputs": [
        {
          "output_type": "stream",
          "name": "stdout",
          "text": [
            "2\n",
            "3\n",
            "5\n",
            "8\n",
            "13\n",
            "21\n",
            "34\n",
            "55\n",
            "89\n",
            "144\n",
            "233\n"
          ]
        }
      ]
    },
    {
      "cell_type": "code",
      "source": [
        "#Funciones nativas de Python \n",
        "\n",
        "# abs(x) Devuelve el valor absoluto de un número x. Si x es número \n",
        "#complejo entonces devuleve la raíz cuadrada de la suma de los \n",
        "#cuadrados de la parte imaginaria y la parte real \n",
        "(\n",
        "# all(iterable) Devuelve True su todos los elementos dle iterable \n",
        "#tienen valor de verdad Trueo si el iterable se encuentra vacío.\n",
        "\n",
        "# any(iterable) Devuelve True si algún elemento del iterable tiene \n",
        "# valor de verdad True. Si el iterable se encuntra vacío devuelve \n",
        "#False \n",
        "\n",
        "# apply(f,arg = (), keywords = {}) Realiza un llamado a la función f \n",
        "# y devuelve el resultado de su ejecución \n",
        " \n",
        "# bin(x) Devuelve una cadena que corresponde con la representación \n",
        "#binaria del entero x \n",
        " \n",
        "# bool(x) Devuelve 0 si x es False; en caso contrario devuelve 1 \n",
        "\n",
        "# chr(x) Devuelve una cadena de longitud 1 que respresente el \n",
        "# carácter al que se asocia el código x según la codificación \n",
        "# ASCII/ISO\n",
        "\n",
        "#  cmp(x,y) Devuelve 0 cuando x = y. En caso x < y retorna -1, de lo \n",
        "# contrario 1 \n",
        "\n",
        "#  compile(source, filename, mode) Compila source que puede ser una cadena\n",
        "# o AST, y devuelve un objeto de código ejecutable con exec o eval. \n",
        "# Lanza SyntaxError cuando source no es sintácticamente correcta.\n",
        "# Mode puede ser 'exec' si source es un conjunto de sentencias o 'eval'\n",
        "# si consta de solo una sentencia o expresión. \n",
        " \n",
        "# delattr(object, name) Elimina un atributo de un objeto dado el objeto\n",
        "#y una cadena name que respresenta el nombre del atributo a eliminar \n",
        " \n",
        "#  divmod(a,b) REcibe dos números complejos y devuleve un par que corresponde\n",
        "#con el cociente y resto de su división entera\n",
        " \n",
        "#  enumerate(iterable, start = 0 )Devuelve un objeto enumerato cuyo iterador, al \n",
        "#realizar un llmado al método __next__(), devuelve una tupla que contiene \n",
        "#un contador que comienza en star y el elemento correspondiente del iterable\n",
        "#(iterable[i], contador)\n",
        "\n",
        "# eval(expresion)  Analiza sintácticamente y evalúa la expresión suministrada\n",
        "#como argumento\n",
        " \n",
        "# exec(object)   Object debe ser una cadena o un objeto de código. En caso de \n",
        "#una cadena es analizada sintácticamente y ejecutada. En caso de ser un \n",
        "#objeto de código es simplemente ejecutada.\n",
        " \n",
        "#  filter(f,iterable) Construye un iterador cuyos elementos son aquellos \n",
        "#para los que la función f fue verdadera, o sea retornó valor True \n",
        " \n",
        "#  getattr(object,name)  Devuelve el valor del atributo name del objeto \n",
        "#suministrado como argumento. Name debe ser una cadena\n",
        " \n",
        "#  hasattr(object,name)Devuelve True si el objeto tiene la propiedad name \n",
        "#que debe ser especificada como una cadena\n",
        " \n",
        "#  max(iterable) Devuelve el máximo elemento del iterable no vacío\n",
        "#también puede recibir una cantidad indeterminada de elementos y \n",
        "#devolver el elemento máximo de estos. El argumento opcional key \n",
        "#especifica una función de ordenamiento, esto es, una llave que asocia \n",
        "#a cada elemento del iterable y que se utiliza en las comparaciones \n",
        " \n",
        "#  min(iterable) Devuelve el mínimo elemento del iterable no vacío\n",
        "# También puede recibir una cantidad indeterminada de elementos y devolver\n",
        "# el elemento mínimo de estos. El argumento opcional key especifíca una \n",
        "# función de ordenamiento, esto es, una llave que se asocia a cada \n",
        "# elemento del iterable y que se utiliza en las comparaciones \n",
        " \n",
        "# open(file)  Abre el fichero file y devuelve el flujo correspondiente. \n",
        "#file puede ser una cadena indicando el camino al fichero o un objeto bytes\n",
        "# indicando el descriptor de fichero \n",
        " \n",
        "# pow(a,b)  Devuelve  a elevado a la potencia b. Los argumentos a,b deben\n",
        "#ser de tipo númerico \n",
        " \n",
        "# reversed(s) Devuelve un iterador de la secuencia s pero con los elementos\n",
        "# en orden inverso, esto es, de derecha a izquierda \n",
        " \n",
        "# round(x) Redondea el número x al entero más cercano. Es posible \n",
        "# indicar como argumento adicional la cantidad de dígitos a los que se \n",
        "# desea redondear después del punto decimal. \n",
        " \n",
        "# setattr(object, name, value) Asigna el value al atributo name del \n",
        "# objeto object, si el atributo no existe es creado. \n",
        " \n",
        "# str(object)  Devuelve una representación como cadena dle objeto \n",
        "# suministrado como argumento \n",
        " \n",
        "# sum(iterable) Devuelve la suma de los elementos del iterable. Es \n",
        "#posible suministrar un argumento opcional start que suma al total. \n",
        "\n",
        "# type(object) Devuelve el tipo del objeto \n",
        " \n"
      ],
      "metadata": {
        "id": "gtL1kecbTp2z"
      },
      "execution_count": null,
      "outputs": []
    },
    {
      "cell_type": "code",
      "source": [
        "#Clases \n",
        "#Las clases son los componenetes básicos del paradigma de la \n",
        "#programación orientada a objetos \n",
        "\n",
        "#La sintaxis general para declarar una clase en python es la siguiente:\n",
        "# class nombre_clase[(clases_base)]:\n",
        "     #sentencias \n",
        "\n",
        "class persona:\n",
        "    nombre = \"\"\n",
        "    def __init__(self, nombre):\n",
        "        self.nombre = nombre \n",
        "    def damenombre(self):\n",
        "        return self.nombre \n",
        "    def definenombre(self,nombre):\n",
        "        self.nombre = nombre \n",
        "    def __str__(self):   #Método que devuelve la representación \n",
        "        return self.nombre #textual de un objeto \n",
        "\n",
        "class libro: \n",
        "    autor = persona(\"\")\n",
        "    titulo = \"\"\n",
        "    isbn = \"\"\n",
        "    def __init__(self,autor,titulo,isbn): #Está parte del código \n",
        "        self.autor = autor                #Es el equivalente a un\n",
        "        self.titulo = titulo              #Constructor en otros \n",
        "        self.isbn = isbn                  #lenguajes de programación\n",
        "    def dameautor(self):     #Un constructor es un método que se \n",
        "        return self.autor    #ejecuta cuando se crea una instancia \n",
        "    def defineautor(self, nombre):   #con una clase \n",
        "        self.autor.nombre = nombre \n",
        "    def dametitulo(self):\n",
        "        return self.titulo\n",
        "    def dameisbn(self):\n",
        "        return self.isbn\n",
        "#Todos los objetos en python contienen este método y cuando se define \n",
        "#en una clase meramente se sobrescribe la implementación por \n",
        "#defecto. En esete caso deolvemos el nombre como representación \n",
        "#textual de la clase persona. \n",
        "p = persona(\"Leonardo\")\n",
        "l = libro(p,\"10\",\"966-66-666-LLLL-L\")\n",
        "print(l.dameautor())\n",
        "print(l.dametitulo())\n",
        "print(l.dameisbn())"
      ],
      "metadata": {
        "id": "H0Coq8nFTpYU",
        "colab": {
          "base_uri": "https://localhost:8080/"
        },
        "outputId": "941a52e9-6da3-498c-dc0d-d30f53ed2b30"
      },
      "execution_count": null,
      "outputs": [
        {
          "output_type": "stream",
          "name": "stdout",
          "text": [
            "Leonardo\n",
            "10\n",
            "966-66-666-LLLL-L\n"
          ]
        }
      ]
    },
    {
      "cell_type": "code",
      "source": [
        "#Estructuras de control \n",
        "for i in range(5):\n",
        "    print(i)\n",
        "\n",
        "for a in range(1,10,2):\n",
        "    print(a)\n",
        "\n",
        "for c in range(22,10,-2):\n",
        "    print(c)"
      ],
      "metadata": {
        "colab": {
          "base_uri": "https://localhost:8080/"
        },
        "id": "E3kwzLw947Pp",
        "outputId": "fa6957ca-3f27-4e27-b528-1a6f38cbf0f7"
      },
      "execution_count": null,
      "outputs": [
        {
          "output_type": "stream",
          "name": "stdout",
          "text": [
            "0\n",
            "1\n",
            "2\n",
            "3\n",
            "4\n",
            "1\n",
            "3\n",
            "5\n",
            "7\n",
            "9\n",
            "22\n",
            "20\n",
            "18\n",
            "16\n",
            "14\n",
            "12\n"
          ]
        }
      ]
    },
    {
      "cell_type": "code",
      "source": [
        "#Ciclo for\n",
        "#Permite iterar sobre un bloque d instrucciones un número de iteraciones \n",
        "# que depende de la longitud de la expresión iterable que se le defina. \n",
        "#La sintaxis general se puede apreciar a continuación \n",
        "#  for elemento in iterable: \n",
        "       #sentencias\n",
        "\n",
        "#Es posible terminar la ejecución de un ciclo en cualquier momento \n",
        "#utilizando las palabras claves break o return. también es posible \n",
        "#pasar al próximo elemento del iterable y por ende a la última \n",
        "#iteración haciendo uso de la palabra clave continue. \n",
        "\n",
        "for i in range (10):\n",
        "    print(i)\n",
        "    break \n",
        "#for i in range (10):\n",
        "    #print(i)\n",
        "    #return \n",
        "\n",
        "#En el ejemplo que sigue no se llega a ejecutar nunca la función print\n",
        "#porque la sentencia continue que se encuentra al comienzo del bloque \n",
        "#de instrucciones prococa que el control del ciclo se lleve hacia el \n",
        "#proximo elemento del iterable en cada iteracipon, luego nunca se \n",
        "#produce el llamado a la función print \n",
        "for i in range(10):\n",
        "    continue\n",
        "    print(\"Hola Roger\")"
      ],
      "metadata": {
        "colab": {
          "base_uri": "https://localhost:8080/"
        },
        "id": "HaPvoGOA5n-A",
        "outputId": "68073b14-d23b-4941-db01-52593e0b4863"
      },
      "execution_count": null,
      "outputs": [
        {
          "output_type": "stream",
          "name": "stdout",
          "text": [
            "0\n"
          ]
        }
      ]
    },
    {
      "cell_type": "code",
      "source": [
        "#Existe la posibilidad de procesar múltiples identificadores si el \n",
        "#iterable contiene secuencias todas de una misma longitud y la \n",
        "#cantidad de identificadores coincide con la ongitud común. \n",
        "#Esto resulta muy útil para iterar sobre diccionarios\n",
        "\n",
        "l = [(1,2),(3,4)]\n",
        "\n",
        "for i, j in l: \n",
        "    print(\"(\" + str(i) + \",\" + str(j) + \")\" )\n",
        "\n",
        "#iterando sobre pares llave-valor de dic. \n",
        "\n",
        "dicc = {'autor':'Leonardo', 'Libro':'10'}\n",
        "for llave, valor in dicc.items():\n",
        "    print(\"(\" + llave + \",\" + valor + \")\")"
      ],
      "metadata": {
        "colab": {
          "base_uri": "https://localhost:8080/"
        },
        "id": "p9MWnqvG77PW",
        "outputId": "4cd63211-476f-467f-b443-888ae8422189"
      },
      "execution_count": null,
      "outputs": [
        {
          "output_type": "stream",
          "name": "stdout",
          "text": [
            "(1,2)\n",
            "(3,4)\n",
            "(autor,Leonardo)\n",
            "(Libro,10)\n"
          ]
        }
      ]
    },
    {
      "cell_type": "code",
      "source": [
        "#Sentencia while \n",
        "#la estructura de control iterativa while ejecuta un bloque de \n",
        "#instrucciones hasta que una condición es incumplida (devuleve False)\n",
        "#sintaxis     while condición:\n",
        "            #     sentencia\n",
        "iteracion = 0 \n",
        "while(iteracion < 5):\n",
        "    print(\"Chicago, Windy City\")\n",
        "    iteracion += 1\n",
        "\n",
        "#Tenga en cuenta que la condición debe retornar valor False en algún \n",
        "#momento porque de lo contrario el ciclo será infinito\n",
        "\n",
        "#ciclo infinito\n",
        "#iteracion = 0              He colocado está parte del código como \n",
        "#while(iteracion < 5):      un comentario, debido a que un ciclo \n",
        "    #print(\"Chicago, City of Rock\")    infinito tiende a trabar el \n",
        "    #Falta incrementar la variable      interprete de python "
      ],
      "metadata": {
        "colab": {
          "base_uri": "https://localhost:8080/"
        },
        "id": "XZg8x44j9ADJ",
        "outputId": "2eb5a71d-c2ba-4ce8-a585-880f4efe0cc5"
      },
      "execution_count": null,
      "outputs": [
        {
          "output_type": "stream",
          "name": "stdout",
          "text": [
            "Chicago, Windy City\n",
            "Chicago, Windy City\n",
            "Chicago, Windy City\n",
            "Chicago, Windy City\n"
          ]
        },
        {
          "output_type": "execute_result",
          "data": {
            "text/plain": [
              "12"
            ]
          },
          "metadata": {},
          "execution_count": 61
        }
      ]
    },
    {
      "cell_type": "code",
      "source": [
        "#Al igual que sucede en una sentencia for es posible utilizar \n",
        "#las palabras claves break, return y continue para romper o \n",
        "#continuar el ciclo"
      ],
      "metadata": {
        "id": "b_IAcW9--nEs"
      },
      "execution_count": null,
      "outputs": []
    },
    {
      "cell_type": "code",
      "source": [
        "#Sentencia if \n",
        "# if = si condición 1:\n",
        "    #sentencias \n",
        "# elif = en caso contrario si condicion 2: \n",
        "    # sentencias \n",
        "# else = en caso contrario\n",
        "\n",
        "x = 4 \n",
        "if 2 > x > 0: \n",
        "    print(\"0 < x < 2\")\n",
        "elif 5 > x > 2: \n",
        "    print(\"2 < x < 5\")\n",
        "else: \n",
        "    print(\"x > 5\")\n",
        "\n",
        "x = 3 \n",
        "if x - 3 is 0: \n",
        "    print(\"x = 3\")"
      ],
      "metadata": {
        "colab": {
          "base_uri": "https://localhost:8080/"
        },
        "id": "Ta6hZnSU-661",
        "outputId": "25d72125-8c11-4860-de3a-6ffa94c5db88"
      },
      "execution_count": null,
      "outputs": [
        {
          "output_type": "stream",
          "name": "stdout",
          "text": [
            "2 < x < 5\n",
            "x = 3\n"
          ]
        }
      ]
    },
    {
      "cell_type": "code",
      "source": [
        "# print([object],*,sep=\", end = \\n,\" file = sys.stdout)\n",
        "\n",
        "for i in range(3):\n",
        "    print(1,2,3,sep = '-', end = ' pasos\\n')\n",
        "\n",
        "respuesta = input(\"Nombre \")\n",
        "print(respuesta)"
      ],
      "metadata": {
        "colab": {
          "base_uri": "https://localhost:8080/"
        },
        "id": "5vqP55xjA_eo",
        "outputId": "7d71eeff-3b31-4568-a9f2-79818023676a"
      },
      "execution_count": null,
      "outputs": [
        {
          "output_type": "stream",
          "name": "stdout",
          "text": [
            "1-2-3 pasos\n",
            "1-2-3 pasos\n",
            "1-2-3 pasos\n",
            "Nombre Leonardo \n",
            "Leonardo \n"
          ]
        }
      ]
    },
    {
      "cell_type": "code",
      "source": [
        "def f(n):\n",
        "\n",
        "    l = n \n",
        "\n",
        "    for i in range (2,n):\n",
        "        if n % i is 0: \n",
        "            l = i \n",
        "            break \n",
        "    if l < n: \n",
        "        print(\"Hola mundo\")\n",
        "    else: \n",
        "        print(\"No soy yo, eres tú, ve a casa Piggeon.\")"
      ],
      "metadata": {
        "id": "099juvv4CHaL"
      },
      "execution_count": null,
      "outputs": []
    },
    {
      "cell_type": "code",
      "source": [
        "#A continuación se presentan 8 ejercicios que, supongo fueron \n",
        "#pensados con el único propósito de programar"
      ],
      "metadata": {
        "id": "4fkIInNpDlOg"
      },
      "execution_count": null,
      "outputs": []
    }
  ]
}