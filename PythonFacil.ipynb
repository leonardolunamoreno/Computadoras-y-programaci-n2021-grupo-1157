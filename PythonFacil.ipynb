{
  "nbformat": 4,
  "nbformat_minor": 0,
  "metadata": {
    "colab": {
      "name": "PythonFacil.ipynb",
      "provenance": [],
      "authorship_tag": "ABX9TyOjFDB2nz/y5i9pY0KgVRA6",
      "include_colab_link": true
    },
    "kernelspec": {
      "name": "python3",
      "display_name": "Python 3"
    },
    "language_info": {
      "name": "python"
    }
  },
  "cells": [
    {
      "cell_type": "markdown",
      "metadata": {
        "id": "view-in-github",
        "colab_type": "text"
      },
      "source": [
        "<a href=\"https://colab.research.google.com/github/leonardolunamoreno/Computadoras-y-programaci-n2021-grupo-1157/blob/main/PythonFacil.ipynb\" target=\"_parent\"><img src=\"https://colab.research.google.com/assets/colab-badge.svg\" alt=\"Open In Colab\"/></a>"
      ]
    },
    {
      "cell_type": "code",
      "execution_count": 1,
      "metadata": {
        "id": "k4Y80jx0DJee"
      },
      "outputs": [],
      "source": [
        "def suma(self,*matrices ):\n",
        "    for i in range (self.filas):\n",
        "        fila = []\n",
        "        for j in range (self.columnas):\n",
        "            temp = self.elems[i][j]\n",
        "            for m in matrices: \n",
        "                temp += m.elems[i][j]\n",
        "            fila.append(temp)\n",
        "        yield fila "
      ]
    },
    {
      "cell_type": "code",
      "source": [
        "#Este código permite calcular el cubo del número \"n\" que ocupa la posición \n",
        "#(n,potencia), la potencia también puede ser modificada a voluntad \n",
        "import math #Se utiliza la función import \n",
        "\n",
        "print(math.pow(2,4))"
      ],
      "metadata": {
        "colab": {
          "base_uri": "https://localhost:8080/"
        },
        "id": "KOY_9SvPs5wF",
        "outputId": "efa09774-c3ec-4082-e239-559e8a46fa8c"
      },
      "execution_count": 4,
      "outputs": [
        {
          "output_type": "stream",
          "name": "stdout",
          "text": [
            "16.0\n"
          ]
        }
      ]
    },
    {
      "cell_type": "code",
      "source": [
        "#El python path indica as rutas donde se buscarán los módulos\n",
        "#dicha ruta puede consultarse por medio de la variable path del módulo sys \n",
        "import sys \n",
        "sys.path  "
      ],
      "metadata": {
        "id": "vmEnyqbIugKw"
      },
      "execution_count": null,
      "outputs": []
    },
    {
      "cell_type": "markdown",
      "source": [
        "Existen dos formas de ejecutar códigos en python, el primero es el modo interprete, el cual resulta bastante útil cuando se desea probar códigos pequeños, funcioes, operadores u operaciones del lenguaje. \n",
        "\n",
        "La segunda opción se basa en la idea de un conjunto de sentencias que conformen un scripo o fichero. \n",
        "\n",
        "En modo script es posible guardar los ficheros que representan el código del programa mientras quene el modo interactivo evidentemente no existe esta posibilidad. \n",
        "\n",
        "El intérprete puede ser útil para llevar a cabo experimentos pero para desarrollar un programa siempre debe utilizarse el mod scrip."
      ],
      "metadata": {
        "id": "NqSlwEyhv2DC"
      }
    },
    {
      "cell_type": "code",
      "source": [
        "lista = [2,3,5,8,13,21,34,55]\n",
        "for i in lista: \n",
        "    print (i) \n",
        "print(\".-.-.-.-.-.-.-.-.-..-.-.\")\n",
        "#Está es la sucesión de fibonacci, la diferencia respecto del código\n",
        "#de arriba estriba en la adición de \n",
        "# i = i + 1 \n",
        "lista = [2,3,5,8,13,21,34,55]\n",
        "for i in lista: \n",
        "    i = i + 1 \n",
        "    print(i)"
      ],
      "metadata": {
        "colab": {
          "base_uri": "https://localhost:8080/"
        },
        "id": "VlsDzjfeyIRu",
        "outputId": "abf0fb10-6b3a-4e7f-f780-a67e950145fa"
      },
      "execution_count": 9,
      "outputs": [
        {
          "output_type": "stream",
          "name": "stdout",
          "text": [
            "2\n",
            "3\n",
            "5\n",
            "8\n",
            "13\n",
            "21\n",
            "34\n",
            "55\n",
            ".-.-.-.-.-.-.-.-.-..-.-.\n",
            "3\n",
            "4\n",
            "6\n",
            "9\n",
            "14\n",
            "22\n",
            "35\n",
            "56\n"
          ]
        }
      ]
    },
    {
      "cell_type": "code",
      "source": [
        "#Tokens de Python \n",
        "#Investigar para que sirven y en que situaciones se puede usar \n",
        "and \n",
        "as \n",
        "assert \n",
        "break \n",
        "class \n",
        "continue \n",
        "def \n",
        "del \n",
        "elif \n",
        "else \n",
        "except \n",
        "exec \n",
        "finally \n",
        "for \n",
        "from \n",
        "global \n",
        "if \n",
        "import \n",
        "in \n",
        "is \n",
        "lambda \n",
        "not \n",
        "or \n",
        "pass \n",
        "print \n",
        "raise \n",
        "return \n",
        "try \n",
        "while \n",
        "yield \n",
        "False \n",
        "None \n",
        "True \n",
        "# Es posible hacer uso de las palabras claves como \n",
        "#identificadores si se les antepone un guion bajo, \n",
        "#por ejempo,_def = 1 \n"
      ],
      "metadata": {
        "id": "nHhUcFgVHrDe"
      },
      "execution_count": null,
      "outputs": []
    },
    {
      "cell_type": "code",
      "source": [
        "#Delimitadores en Python \n",
        "() \n",
        "[]\n",
        "{}\n",
        ", \n",
        ": \n",
        ". \n",
        "''\n",
        "`\n",
        "= \n",
        "; \n",
        "+= \n",
        "-= \n",
        "*= \n",
        "/= \n",
        "//= \n",
        "%= \n",
        "&= \n",
        "l= #Barra larga \n",
        "^= \n",
        ">>= \n",
        "<<= \n",
        "**= "
      ],
      "metadata": {
        "id": "dZwa1eCPIFg_"
      },
      "execution_count": null,
      "outputs": []
    },
    {
      "cell_type": "code",
      "source": [
        "globalVar = 1 \n",
        "def function(): \n",
        "    localVar = 2 \n",
        "#Ejemplo sencillo de una variable globar y una \n",
        "#variable local. \n",
        "#en caso de que se declare otra variable globalVar \n",
        "#en el interior de la función, esta sobrescribirá a la anterior"
      ],
      "metadata": {
        "id": "bpHyb0aWKyEx"
      },
      "execution_count": 11,
      "outputs": []
    },
    {
      "cell_type": "code",
      "source": [
        "\\\\ blackslash \n",
        "\\' comilla simple \n",
        "\\''comilla doble\n",
        "\\a campana \n",
        "\\blackspace \n",
        "\\n nueva línea \n",
        "\\r retorno  \n",
        "\\t tab \n",
        "\\v tab vertical \n",
        "\\DDD valor octal \n",
        "\\xXX Valor hexadecimal XX "
      ],
      "metadata": {
        "id": "U_TgOf75RsXY"
      },
      "execution_count": null,
      "outputs": []
    },
    {
      "cell_type": "code",
      "source": [
        "#Una cadena \"String\" es un ocnjunto ordenado de caracteres que \n",
        "#se utiliza para representar información textual\n",
        "a = 'Cadena con comillas simples'\n",
        "b = \"Cadena con comillas dobles\"\n",
        "c = \"I'm the author\"\n",
        "print(a)\n",
        "print(b)\n",
        "print(c)\n",
        "# \\n\\ esto sirve para realizar saltos de línea \n",
        "d = \"Leonardo\\n\\\n",
        "Alexis\\n\\\n",
        "Luna\\n\\\n",
        "Moreno\"\n",
        "print(d)\n",
        "e = (\"Leonardo\\v\" \n",
        "\"Alexis\")\n",
        "print(e)"
      ],
      "metadata": {
        "colab": {
          "base_uri": "https://localhost:8080/"
        },
        "id": "rwcWWQX_Mnpf",
        "outputId": "16cdb537-eaf1-4736-9193-ab10698f6acf"
      },
      "execution_count": 28,
      "outputs": [
        {
          "output_type": "stream",
          "name": "stdout",
          "text": [
            "Cadena con comillas simples\n",
            "Cadena con comillas dobles\n",
            "I'm the author\n",
            "Leonardo\n",
            "Alexis\n",
            "Luna\n",
            "Moreno\n",
            "Leonardo\u000bAlexis\n"
          ]
        }
      ]
    },
    {
      "cell_type": "code",
      "source": [
        "#Listas\n",
        "#Son secuencias de elementos ordenados que además tienen la \n",
        "#característica de ser mutables. Cada elemento puede ser de \n",
        "#cualquier tipo y la sintaxis para crearlas es bastante simple \n",
        "[] <----- Lista vacía\n",
        "[1,2,3,4] <------ Una lista con algunos elementos \n",
        "['Python',2.3, 34] <-------- Una lista con diferentes objetos\n",
        "\n",
        "#otra alternativa para crear listas es através de la función \n",
        "#predefinida list()  que toma como argumento una secuencia\n",
        "#y devileve una lista con cada elemento de esa secuencia\n",
        "#en caso de no recibir argumento devuelve una lista vacía.  \n",
        "list()"
      ],
      "metadata": {
        "id": "rSpV3dAeTiN-"
      },
      "execution_count": null,
      "outputs": []
    },
    {
      "cell_type": "code",
      "source": [
        "print(list(\"python\"))\n",
        "print(list('python'))\n",
        "#Ambas funciones deveulven el mismo resultado, '' y \"\" "
      ],
      "metadata": {
        "colab": {
          "base_uri": "https://localhost:8080/"
        },
        "id": "b4zu77ICUgCs",
        "outputId": "59882645-29ab-4208-e137-616183b4e3a4"
      },
      "execution_count": 31,
      "outputs": [
        {
          "output_type": "stream",
          "name": "stdout",
          "text": [
            "['p', 'y', 't', 'h', 'o', 'n']\n",
            "['p', 'y', 't', 'h', 'o', 'n']\n"
          ]
        }
      ]
    },
    {
      "cell_type": "code",
      "source": [
        "#Una tupla es una secuencia ordenada de elementos que, a \n",
        "#diferencia de la lista, tiene a característica de ser inmutable\n",
        "#y por ende, las operaciones de modificación que se realizan sobre \n",
        "#esta resultan en una nueva tupla, la original no sufre cambios \n",
        "#Los elementos de una tupla pueden ser de cualquier tipo\n",
        "#al igual que con las listas \n",
        "\n",
        "#tupla con números enteros \n",
        "t = (1,2,3)\n",
        "\n",
        "#tupla mixta \n",
        "t = (1, \"FCB\", 3.2)\n",
        "\n",
        "#tupla vacía \n",
        "t = () \n",
        "\n",
        "#tupla con un solo elemento\n",
        "(1,)\n",
        "\n",
        "#La función predefinida\n",
        "tuple()\n",
        "#Permite crear tuplas de manera análoga a la función \n",
        "list()"
      ],
      "metadata": {
        "id": "IzRKTkrKU7Sb"
      },
      "execution_count": null,
      "outputs": []
    },
    {
      "cell_type": "code",
      "source": [
        "#Sintaxis genérica para definir un diccionario \n",
        "#{llave_1:valor_1, llave_2:valor_2,...,llave_n:valor_n}\n",
        "\n",
        "#la función dict() permite crear un diccionario a partir de una \n",
        "#lista de listas que deve suministrarse ocmo argumento \n",
        "#Cada lista debe contener dos elementos que representen los pares\n",
        "#llave y el valor \n",
        "print(dict([[\"Jordan\",23],[\"Messi\",10]]))"
      ],
      "metadata": {
        "colab": {
          "base_uri": "https://localhost:8080/"
        },
        "id": "osN9trZDWIaa",
        "outputId": "59b3a1d7-5b7e-4379-9f4d-8b8258116a73"
      },
      "execution_count": 32,
      "outputs": [
        {
          "output_type": "stream",
          "name": "stdout",
          "text": [
            "{'Jordan': 23, 'Messi': 10}\n"
          ]
        }
      ]
    },
    {
      "cell_type": "code",
      "source": [
        "f1 = 0.02\n",
        "f2 = .003 \n",
        "f3 = 2.3 \n",
        "f4 = .001E+3 #E+n Es equivalente a multiplicar el número dado \n",
        "#por un exponente psotitivo \n",
        "f5 = .001e-3\n",
        "# e-n es equivalente a multipliar el número dado por un \n",
        "#exponente negativo, aunque tambien se puede expresar como E-n\n",
        "f6 = 6.67E-11\n",
        "print(f4)\n",
        "print(f5)\n",
        "print(f6)"
      ],
      "metadata": {
        "colab": {
          "base_uri": "https://localhost:8080/"
        },
        "id": "m50Uv4-7Yp7w",
        "outputId": "740cd804-2193-492d-ec2c-65ba3899aa2d"
      },
      "execution_count": 36,
      "outputs": [
        {
          "output_type": "stream",
          "name": "stdout",
          "text": [
            "1.0\n",
            "1e-06\n",
            "6.67e-11\n"
          ]
        }
      ]
    },
    {
      "cell_type": "code",
      "source": [
        "a = 1 + 2j \n",
        "b = 2 + 2.5j \n",
        "#Aquí los números imaginarios se denotan con una letra j \n",
        "print(\"Parte real:\" + float.__str__(a.real))\n",
        "print(\"Parte imaginaria:\" + float.__str__(a.imag))\n",
        "print(\"Parte real:\" + float.__str__(b.real))\n",
        "print(\"Parte imaginaria:\" + float.__str__(b.imag))\n",
        "\n",
        "#La función \n",
        "__str__() \n",
        "#Con la que cuentan todos los obejtos en python devuelve su \n",
        "#representación como cadena, necesaria en este caso para imprimir\n",
        "#los calores de punto flotante que corresponden a las propiedades \n",
        "#real e imaginaria "
      ],
      "metadata": {
        "colab": {
          "base_uri": "https://localhost:8080/"
        },
        "id": "DIyKgdKVZ6zD",
        "outputId": "baf38858-f249-4f2d-bebb-17cd45e4edb9"
      },
      "execution_count": 42,
      "outputs": [
        {
          "output_type": "stream",
          "name": "stdout",
          "text": [
            "Parte real:1.0\n",
            "Parte imaginaria:2.0\n",
            "Parte real:2.0\n",
            "Parte imaginaria:2.5\n"
          ]
        }
      ]
    },
    {
      "cell_type": "code",
      "source": [
        "#El interprete de python no imprimirá está sentencia del \n",
        "#tipo booleana, por que al estar a = [] vacía, el interprete la\n",
        "#evalua como false \n",
        "a = []    \n",
        "if (a):\n",
        "    print(a)\n",
        "\n",
        "#El interprete de python si imprime está sentencia porque la lista \n",
        "# b = [1], contiene al elemento 1 y por tanto la considera verdadera\n",
        "b = [1]\n",
        "if (b):\n",
        "    print(b)"
      ],
      "metadata": {
        "colab": {
          "base_uri": "https://localhost:8080/"
        },
        "id": "K5qvL-iub41h",
        "outputId": "836a5a11-a7ea-41a7-8e06-745fb941b456"
      },
      "execution_count": 48,
      "outputs": [
        {
          "output_type": "stream",
          "name": "stdout",
          "text": [
            "[1]\n"
          ]
        }
      ]
    },
    {
      "cell_type": "code",
      "source": [
        "#Conjuntos \n",
        "cjto = set([1,2,3])\n",
        "print(cjto)\n",
        "cjto = set([1,1,2,2,2,3])\n",
        "print(cjto)\n",
        "\n",
        "#Los conjuntos permiten operaciones clásicas como pueden ser la \n",
        "#intersección, la unión o la diferencia de conjuntos."
      ],
      "metadata": {
        "colab": {
          "base_uri": "https://localhost:8080/"
        },
        "id": "T8LYiZ5_c0jR",
        "outputId": "a65f3f88-f2a7-46d1-a7f0-50c2e399ae6d"
      },
      "execution_count": 50,
      "outputs": [
        {
          "output_type": "stream",
          "name": "stdout",
          "text": [
            "{1, 2, 3}\n",
            "{1, 2, 3}\n"
          ]
        }
      ]
    },
    {
      "cell_type": "code",
      "source": [
        "#Los operadores de comparación son binarios y cada uno de sus \n",
        "#argumentos puede ser una expresión que evalúe a un valor \n",
        "#de un tipo diferente (numéricos, cadenas, listas, etc)\n",
        "\n",
        "== #Devuelve \"True\" si los dos operandos son iguales. False en caso contrario \n",
        "\n",
        "!= #Devuelve True si los dos operandos son diferentes. False en caso contrario\n",
        "\n",
        "<> # Ídem a != pero no soportando en la versión 3.1 de python \n",
        "\n",
        "> #Devuelve True si el operador de la izquierda es mayor que el de la derecha \n",
        "\n",
        "< #Devuelve True si el operador de la derecha es mahyor que el de la izquierda. \n",
        "\n",
        ">= #DEvuelve True si el operador de la izquierda es mayor o igual que el de la derecha \n",
        "\n",
        "<= #Devueve True si el operador d ela derecha es mayor o igual que el de la derecha \n"
      ],
      "metadata": {
        "id": "_8c-3VVSdhEh"
      },
      "execution_count": null,
      "outputs": []
    },
    {
      "cell_type": "code",
      "source": [
        "a = 2 != 2\n",
        "b = [] == 1\n",
        "c = 2 > 1 \n",
        "d = 3 >= 3 \n",
        "print(a)\n",
        "print(b)\n",
        "print(c)\n",
        "print(d)\n",
        "\n",
        "#Los operadores de comparación suelen utilizarse en sentencias \n",
        "#condicionales para controlar el flujo de un programa de acuerdo \n",
        "#con determinadas condiciones. "
      ],
      "metadata": {
        "colab": {
          "base_uri": "https://localhost:8080/"
        },
        "id": "pZ2KxAdVep0i",
        "outputId": "41dce4f5-8ee1-4b07-e966-83e9a179e59b"
      },
      "execution_count": 51,
      "outputs": [
        {
          "output_type": "stream",
          "name": "stdout",
          "text": [
            "False\n",
            "False\n",
            "True\n",
            "True\n"
          ]
        }
      ]
    }
  ]
}