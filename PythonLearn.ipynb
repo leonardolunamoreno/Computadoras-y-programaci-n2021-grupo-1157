{
  "nbformat": 4,
  "nbformat_minor": 0,
  "metadata": {
    "colab": {
      "name": "PythonLearn.ipynb",
      "provenance": [],
      "authorship_tag": "ABX9TyP4VrDgD+zlCP1GjpYwMkNc",
      "include_colab_link": true
    },
    "kernelspec": {
      "name": "python3",
      "display_name": "Python 3"
    },
    "language_info": {
      "name": "python"
    }
  },
  "cells": [
    {
      "cell_type": "markdown",
      "metadata": {
        "id": "view-in-github",
        "colab_type": "text"
      },
      "source": [
        "<a href=\"https://colab.research.google.com/github/leonardolunamoreno/Computadoras-y-programaci-n2021-grupo-1157/blob/main/PythonLearn.ipynb\" target=\"_parent\"><img src=\"https://colab.research.google.com/assets/colab-badge.svg\" alt=\"Open In Colab\"/></a>"
      ]
    },
    {
      "cell_type": "code",
      "execution_count": null,
      "metadata": {
        "colab": {
          "base_uri": "https://localhost:8080/",
          "height": 561
        },
        "id": "D-tKWg686ahz",
        "outputId": "8eb58d2b-f8e3-4952-da39-e378e07f26e9"
      },
      "outputs": [
        {
          "output_type": "error",
          "ename": "KeyboardInterrupt",
          "evalue": "ignored",
          "traceback": [
            "\u001b[0;31m---------------------------------------------------------------------------\u001b[0m",
            "\u001b[0;31mKeyboardInterrupt\u001b[0m                         Traceback (most recent call last)",
            "\u001b[0;32m/usr/local/lib/python3.7/dist-packages/ipykernel/kernelbase.py\u001b[0m in \u001b[0;36m_input_request\u001b[0;34m(self, prompt, ident, parent, password)\u001b[0m\n\u001b[1;32m    728\u001b[0m             \u001b[0;32mtry\u001b[0m\u001b[0;34m:\u001b[0m\u001b[0;34m\u001b[0m\u001b[0;34m\u001b[0m\u001b[0m\n\u001b[0;32m--> 729\u001b[0;31m                 \u001b[0mident\u001b[0m\u001b[0;34m,\u001b[0m \u001b[0mreply\u001b[0m \u001b[0;34m=\u001b[0m \u001b[0mself\u001b[0m\u001b[0;34m.\u001b[0m\u001b[0msession\u001b[0m\u001b[0;34m.\u001b[0m\u001b[0mrecv\u001b[0m\u001b[0;34m(\u001b[0m\u001b[0mself\u001b[0m\u001b[0;34m.\u001b[0m\u001b[0mstdin_socket\u001b[0m\u001b[0;34m,\u001b[0m \u001b[0;36m0\u001b[0m\u001b[0;34m)\u001b[0m\u001b[0;34m\u001b[0m\u001b[0;34m\u001b[0m\u001b[0m\n\u001b[0m\u001b[1;32m    730\u001b[0m             \u001b[0;32mexcept\u001b[0m \u001b[0mException\u001b[0m\u001b[0;34m:\u001b[0m\u001b[0;34m\u001b[0m\u001b[0;34m\u001b[0m\u001b[0m\n",
            "\u001b[0;32m/usr/local/lib/python3.7/dist-packages/jupyter_client/session.py\u001b[0m in \u001b[0;36mrecv\u001b[0;34m(self, socket, mode, content, copy)\u001b[0m\n\u001b[1;32m    802\u001b[0m         \u001b[0;32mtry\u001b[0m\u001b[0;34m:\u001b[0m\u001b[0;34m\u001b[0m\u001b[0;34m\u001b[0m\u001b[0m\n\u001b[0;32m--> 803\u001b[0;31m             \u001b[0mmsg_list\u001b[0m \u001b[0;34m=\u001b[0m \u001b[0msocket\u001b[0m\u001b[0;34m.\u001b[0m\u001b[0mrecv_multipart\u001b[0m\u001b[0;34m(\u001b[0m\u001b[0mmode\u001b[0m\u001b[0;34m,\u001b[0m \u001b[0mcopy\u001b[0m\u001b[0;34m=\u001b[0m\u001b[0mcopy\u001b[0m\u001b[0;34m)\u001b[0m\u001b[0;34m\u001b[0m\u001b[0;34m\u001b[0m\u001b[0m\n\u001b[0m\u001b[1;32m    804\u001b[0m         \u001b[0;32mexcept\u001b[0m \u001b[0mzmq\u001b[0m\u001b[0;34m.\u001b[0m\u001b[0mZMQError\u001b[0m \u001b[0;32mas\u001b[0m \u001b[0me\u001b[0m\u001b[0;34m:\u001b[0m\u001b[0;34m\u001b[0m\u001b[0;34m\u001b[0m\u001b[0m\n",
            "\u001b[0;32m/usr/local/lib/python3.7/dist-packages/zmq/sugar/socket.py\u001b[0m in \u001b[0;36mrecv_multipart\u001b[0;34m(self, flags, copy, track)\u001b[0m\n\u001b[1;32m    624\u001b[0m         \"\"\"\n\u001b[0;32m--> 625\u001b[0;31m         \u001b[0mparts\u001b[0m \u001b[0;34m=\u001b[0m \u001b[0;34m[\u001b[0m\u001b[0mself\u001b[0m\u001b[0;34m.\u001b[0m\u001b[0mrecv\u001b[0m\u001b[0;34m(\u001b[0m\u001b[0mflags\u001b[0m\u001b[0;34m,\u001b[0m \u001b[0mcopy\u001b[0m\u001b[0;34m=\u001b[0m\u001b[0mcopy\u001b[0m\u001b[0;34m,\u001b[0m \u001b[0mtrack\u001b[0m\u001b[0;34m=\u001b[0m\u001b[0mtrack\u001b[0m\u001b[0;34m)\u001b[0m\u001b[0;34m]\u001b[0m\u001b[0;34m\u001b[0m\u001b[0;34m\u001b[0m\u001b[0m\n\u001b[0m\u001b[1;32m    626\u001b[0m         \u001b[0;31m# have first part already, only loop while more to receive\u001b[0m\u001b[0;34m\u001b[0m\u001b[0;34m\u001b[0m\u001b[0;34m\u001b[0m\u001b[0m\n",
            "\u001b[0;32mzmq/backend/cython/socket.pyx\u001b[0m in \u001b[0;36mzmq.backend.cython.socket.Socket.recv\u001b[0;34m()\u001b[0m\n",
            "\u001b[0;32mzmq/backend/cython/socket.pyx\u001b[0m in \u001b[0;36mzmq.backend.cython.socket.Socket.recv\u001b[0;34m()\u001b[0m\n",
            "\u001b[0;32mzmq/backend/cython/socket.pyx\u001b[0m in \u001b[0;36mzmq.backend.cython.socket._recv_copy\u001b[0;34m()\u001b[0m\n",
            "\u001b[0;32m/usr/local/lib/python3.7/dist-packages/zmq/backend/cython/checkrc.pxd\u001b[0m in \u001b[0;36mzmq.backend.cython.checkrc._check_rc\u001b[0;34m()\u001b[0m\n",
            "\u001b[0;31mKeyboardInterrupt\u001b[0m: ",
            "\nDuring handling of the above exception, another exception occurred:\n",
            "\u001b[0;31mKeyboardInterrupt\u001b[0m                         Traceback (most recent call last)",
            "\u001b[0;32m<ipython-input-37-da260430b5d9>\u001b[0m in \u001b[0;36m<module>\u001b[0;34m()\u001b[0m\n\u001b[0;32m----> 1\u001b[0;31m \u001b[0mname\u001b[0m \u001b[0;34m=\u001b[0m \u001b[0minput\u001b[0m\u001b[0;34m(\u001b[0m\u001b[0;34m\"Enter file: \"\u001b[0m\u001b[0;34m)\u001b[0m\u001b[0;34m\u001b[0m\u001b[0;34m\u001b[0m\u001b[0m\n\u001b[0m\u001b[1;32m      2\u001b[0m \u001b[0mhandle\u001b[0m \u001b[0;34m=\u001b[0m \u001b[0mopen\u001b[0m\u001b[0;34m(\u001b[0m\u001b[0mname\u001b[0m\u001b[0;34m,\u001b[0m \u001b[0;34m'r'\u001b[0m\u001b[0;34m)\u001b[0m\u001b[0;34m\u001b[0m\u001b[0;34m\u001b[0m\u001b[0m\n\u001b[1;32m      3\u001b[0m \u001b[0mcounts\u001b[0m \u001b[0;34m=\u001b[0m \u001b[0mdict\u001b[0m\u001b[0;34m(\u001b[0m\u001b[0;34m)\u001b[0m\u001b[0;34m\u001b[0m\u001b[0;34m\u001b[0m\u001b[0m\n\u001b[1;32m      4\u001b[0m \u001b[0;32mfor\u001b[0m \u001b[0mline\u001b[0m \u001b[0;32min\u001b[0m \u001b[0mhandle\u001b[0m\u001b[0;34m:\u001b[0m\u001b[0;34m\u001b[0m\u001b[0;34m\u001b[0m\u001b[0m\n\u001b[1;32m      5\u001b[0m     \u001b[0mwords\u001b[0m \u001b[0;34m=\u001b[0m \u001b[0mline\u001b[0m\u001b[0;34m.\u001b[0m\u001b[0msplit\u001b[0m\u001b[0;34m\u001b[0m\u001b[0;34m\u001b[0m\u001b[0m\n",
            "\u001b[0;32m/usr/local/lib/python3.7/dist-packages/ipykernel/kernelbase.py\u001b[0m in \u001b[0;36mraw_input\u001b[0;34m(self, prompt)\u001b[0m\n\u001b[1;32m    702\u001b[0m             \u001b[0mself\u001b[0m\u001b[0;34m.\u001b[0m\u001b[0m_parent_ident\u001b[0m\u001b[0;34m,\u001b[0m\u001b[0;34m\u001b[0m\u001b[0;34m\u001b[0m\u001b[0m\n\u001b[1;32m    703\u001b[0m             \u001b[0mself\u001b[0m\u001b[0;34m.\u001b[0m\u001b[0m_parent_header\u001b[0m\u001b[0;34m,\u001b[0m\u001b[0;34m\u001b[0m\u001b[0;34m\u001b[0m\u001b[0m\n\u001b[0;32m--> 704\u001b[0;31m             \u001b[0mpassword\u001b[0m\u001b[0;34m=\u001b[0m\u001b[0;32mFalse\u001b[0m\u001b[0;34m,\u001b[0m\u001b[0;34m\u001b[0m\u001b[0;34m\u001b[0m\u001b[0m\n\u001b[0m\u001b[1;32m    705\u001b[0m         )\n\u001b[1;32m    706\u001b[0m \u001b[0;34m\u001b[0m\u001b[0m\n",
            "\u001b[0;32m/usr/local/lib/python3.7/dist-packages/ipykernel/kernelbase.py\u001b[0m in \u001b[0;36m_input_request\u001b[0;34m(self, prompt, ident, parent, password)\u001b[0m\n\u001b[1;32m    732\u001b[0m             \u001b[0;32mexcept\u001b[0m \u001b[0mKeyboardInterrupt\u001b[0m\u001b[0;34m:\u001b[0m\u001b[0;34m\u001b[0m\u001b[0;34m\u001b[0m\u001b[0m\n\u001b[1;32m    733\u001b[0m                 \u001b[0;31m# re-raise KeyboardInterrupt, to truncate traceback\u001b[0m\u001b[0;34m\u001b[0m\u001b[0;34m\u001b[0m\u001b[0;34m\u001b[0m\u001b[0m\n\u001b[0;32m--> 734\u001b[0;31m                 \u001b[0;32mraise\u001b[0m \u001b[0mKeyboardInterrupt\u001b[0m\u001b[0;34m\u001b[0m\u001b[0;34m\u001b[0m\u001b[0m\n\u001b[0m\u001b[1;32m    735\u001b[0m             \u001b[0;32melse\u001b[0m\u001b[0;34m:\u001b[0m\u001b[0;34m\u001b[0m\u001b[0;34m\u001b[0m\u001b[0m\n\u001b[1;32m    736\u001b[0m                 \u001b[0;32mbreak\u001b[0m\u001b[0;34m\u001b[0m\u001b[0;34m\u001b[0m\u001b[0m\n",
            "\u001b[0;31mKeyboardInterrupt\u001b[0m: "
          ]
        }
      ],
      "source": [
        "name = input(\"Enter file: \")\n",
        "handle = open(name, 'r')\n",
        "counts = dict()\n",
        "for line in handle: \n",
        "    words = line.split\n",
        "    for word in words: \n",
        "        counts[word] = counts.get(word, 0) + 1\n",
        "bigcount = None \n",
        "bigword = None \n",
        "for word, count in list(counts.items()):\n",
        "    if bigcount is None or count > bigcount: \n",
        "        bigword = word \n",
        "        bigcount = count \n",
        "print(bigword, bigcount )\n",
        "#Uno de los primeros programas compartidos \n",
        "#Por el libro pythonlearn \n",
        "#Se supone cuenta el número de palabras \n",
        "#o simbolos que se repiten en algun lugar \n",
        "#Como un libro o alguna pagina web "
      ]
    },
    {
      "cell_type": "markdown",
      "source": [
        "##Sentencia Print"
      ],
      "metadata": {
        "id": "5ebrQAD7-7Ti"
      }
    },
    {
      "cell_type": "code",
      "source": [
        "print('Hola mundo')\n",
        "print(\"Hola mundo\")\n"
      ],
      "metadata": {
        "colab": {
          "base_uri": "https://localhost:8080/"
        },
        "id": "gSfoRXGQ8PbE",
        "outputId": "17707c95-31e9-4ce9-912c-0b01da4e3bfd"
      },
      "execution_count": null,
      "outputs": [
        {
          "output_type": "stream",
          "name": "stdout",
          "text": [
            "Hola mundo\n",
            "Hola mundo \n"
          ]
        }
      ]
    },
    {
      "cell_type": "code",
      "source": [
        "#Ejercicio número 5 del libro Calculo de varias variables \n",
        "#El programa calcula el área superficial de una persona \n",
        "#Unicamente conociendo el peso de la persona en libras \n",
        "#Y la altura de la misma en pulgadas, cabe destacar \n",
        "#Que la altura desempeña un papel importante en el área \n",
        "#Superficial\n",
        "w = float(input(\"Ingrese el peso de la persona en libras: \"))\n",
        "h = float(input(\"Ingrese la altura de la persona en pulgadas: \"))\n",
        "if 0 < w  and 0 < h: #¿Como podre lorar que el programa distinga altura de peso? \n",
        "    if w > 500: \n",
        "       print(\"Una persona no puede pesar más de 227 kilogramos\")\n",
        "    if h > 100: \n",
        "        print(\"Una persona no puede pesar más de 227 kilogramos\")\n",
        "    else:\n",
        "        S = (0.1091)*(pow(w,0.425))*(pow(h,0.725))\n",
        "        Sm2 = S * 0.0929\n",
        "        print(f\"La superficie de la persona en metros cuadrados es: {Sm2}\")\n",
        "else: \n",
        "    print(\"Una persona no puede tener masa o altura negativa\")"
      ],
      "metadata": {
        "colab": {
          "base_uri": "https://localhost:8080/"
        },
        "id": "cl7HH-Fk8vp8",
        "outputId": "06ea7c4d-6de4-42b7-c7fb-5e9b7213c0ce"
      },
      "execution_count": null,
      "outputs": [
        {
          "output_type": "stream",
          "name": "stdout",
          "text": [
            "Ingrese el peso de la persona en libras: 543\n",
            "Ingrese la altura de la persona en pulgadas: 12\n",
            "Una persona no puede pesar más de 227 kilogramos\n",
            "La superficie de la persona en metros cuadrados es: 0.8923532208921661\n"
          ]
        }
      ]
    },
    {
      "cell_type": "markdown",
      "source": [
        "##Sentencia de Asignación"
      ],
      "metadata": {
        "id": "DRBMXbSu_VLO"
      }
    },
    {
      "cell_type": "code",
      "source": [
        "x = 43\n",
        "x = x + 1 \n",
        "print(x)"
      ],
      "metadata": {
        "colab": {
          "base_uri": "https://localhost:8080/"
        },
        "id": "QqQajYZB-IRo",
        "outputId": "02d426cd-b7fb-4903-f845-495ba55ba107"
      },
      "execution_count": null,
      "outputs": [
        {
          "output_type": "stream",
          "name": "stdout",
          "text": [
            "44\n"
          ]
        }
      ]
    },
    {
      "cell_type": "code",
      "source": [
        "print(\"2\")\n",
        "type(2)"
      ],
      "metadata": {
        "colab": {
          "base_uri": "https://localhost:8080/"
        },
        "id": "uXDQASrz12K2",
        "outputId": "9fdab6de-d561-4e7c-851c-2a21364d38ea"
      },
      "execution_count": null,
      "outputs": [
        {
          "output_type": "stream",
          "name": "stdout",
          "text": [
            "2\n"
          ]
        },
        {
          "output_type": "execute_result",
          "data": {
            "text/plain": [
              "int"
            ]
          },
          "metadata": {},
          "execution_count": 15
        }
      ]
    },
    {
      "cell_type": "code",
      "source": [
        "type(3.4)"
      ],
      "metadata": {
        "colab": {
          "base_uri": "https://localhost:8080/"
        },
        "id": "W0s9GU063uk5",
        "outputId": "72739d36-19c9-4789-e251-42879fb30822"
      },
      "execution_count": null,
      "outputs": [
        {
          "output_type": "execute_result",
          "data": {
            "text/plain": [
              "float"
            ]
          },
          "metadata": {},
          "execution_count": 13
        }
      ]
    },
    {
      "cell_type": "code",
      "source": [
        "type(\"\")"
      ],
      "metadata": {
        "colab": {
          "base_uri": "https://localhost:8080/"
        },
        "id": "oqEmCQRv4aaJ",
        "outputId": "e3599184-b775-4385-ff4e-2d7a9bcebfb4"
      },
      "execution_count": null,
      "outputs": [
        {
          "output_type": "execute_result",
          "data": {
            "text/plain": [
              "str"
            ]
          },
          "metadata": {},
          "execution_count": 14
        }
      ]
    },
    {
      "cell_type": "code",
      "source": [
        "print(1,000,000) #Esto no es un entero válido en Python, sin embargo \n",
        "#resulta váilido lo que escribimos\n",
        "\n",
        "#Bien, el programa funciona, Pero eso no es lo que esperábamos,\n",
        "#Python interpreta 1,000,000 como una secuencia de enteros separados por comas \n",
        "#Así que lo imprime con espacios en medio\n",
        "\n",
        "#Éste es el primer ejemplo que hemos visto de un error semántico: el código funciona sin producir\n",
        "#ningun mensaje de error, pero no hace su trabajo correctamente"
      ],
      "metadata": {
        "colab": {
          "base_uri": "https://localhost:8080/"
        },
        "id": "V_VeNBfN4s0U",
        "outputId": "2541b588-2a89-42f8-aa21-d28695494d2c"
      },
      "execution_count": null,
      "outputs": [
        {
          "output_type": "stream",
          "name": "stdout",
          "text": [
            "1 0 0\n"
          ]
        }
      ]
    },
    {
      "cell_type": "code",
      "source": [
        "print(2,000)\n",
        "#Al parecer tambien funciona para números disferentes de 1, así como para diferentes valores de 0 "
      ],
      "metadata": {
        "colab": {
          "base_uri": "https://localhost:8080/"
        },
        "id": "SmAOPWyc6KwC",
        "outputId": "fee56370-ad1e-4439-d578-3d32e9ecf04a"
      },
      "execution_count": null,
      "outputs": [
        {
          "output_type": "stream",
          "name": "stdout",
          "text": [
            "2 0\n"
          ]
        }
      ]
    },
    {
      "cell_type": "code",
      "source": [
        "print(3,000,000,000) #Aunque solo se imprimen los primeros 3 ceros dentro de print \n",
        "# Sin embargo, salida de ceros si puede ser menor de 3 "
      ],
      "metadata": {
        "colab": {
          "base_uri": "https://localhost:8080/"
        },
        "id": "-_pz5MvX6dnz",
        "outputId": "9d13df72-4e59-423d-ccb8-6fc5e01fcca6"
      },
      "execution_count": null,
      "outputs": [
        {
          "output_type": "stream",
          "name": "stdout",
          "text": [
            "3 0 0 0\n"
          ]
        }
      ]
    },
    {
      "cell_type": "code",
      "source": [
        "mensaje = 'Y ahora algo completamente diferente'\n",
        "n = 16 \n",
        "pi = 3.141592653589793 \n",
        "#El tipo de una variable es el tipo del valor al que se refiere \n",
        "type('mensaje')\n",
        "type(n)\n",
        "type(float)\n",
        "#Puesto que el interprete de Python ejecuta el código linea por linea \n",
        "#No es posible imprimir los 3 type, así que lo hare abajo"
      ],
      "metadata": {
        "colab": {
          "base_uri": "https://localhost:8080/"
        },
        "id": "5kXM5xrK64hO",
        "outputId": "9bd97de2-fd56-4a16-b4bb-c50bc1e3dcaf"
      },
      "execution_count": null,
      "outputs": [
        {
          "output_type": "execute_result",
          "data": {
            "text/plain": [
              "type"
            ]
          },
          "metadata": {},
          "execution_count": 25
        }
      ]
    },
    {
      "cell_type": "code",
      "source": [
        "mensaje = 'Y ahora algo completamente diferente'\n",
        "type(mensaje)"
      ],
      "metadata": {
        "colab": {
          "base_uri": "https://localhost:8080/"
        },
        "id": "hG0auw-37y2g",
        "outputId": "e52f9dfa-358b-4ae8-f985-eaf982c3e8ef"
      },
      "execution_count": null,
      "outputs": [
        {
          "output_type": "execute_result",
          "data": {
            "text/plain": [
              "str"
            ]
          },
          "metadata": {},
          "execution_count": 26
        }
      ]
    },
    {
      "cell_type": "code",
      "source": [
        "n = 14 \n",
        "type(n)"
      ],
      "metadata": {
        "colab": {
          "base_uri": "https://localhost:8080/"
        },
        "id": "WNbMdzDZ8i1N",
        "outputId": "c83c527a-e650-483b-f93a-99c6b80518fe"
      },
      "execution_count": null,
      "outputs": [
        {
          "output_type": "execute_result",
          "data": {
            "text/plain": [
              "int"
            ]
          },
          "metadata": {},
          "execution_count": 27
        }
      ]
    },
    {
      "cell_type": "code",
      "source": [
        "pi = 3.141692653589793\n",
        "type(pi)"
      ],
      "metadata": {
        "colab": {
          "base_uri": "https://localhost:8080/"
        },
        "id": "J92YMGnK8nGg",
        "outputId": "d4c00ffe-c808-4b62-ff2e-831e1604211f"
      },
      "execution_count": null,
      "outputs": [
        {
          "output_type": "execute_result",
          "data": {
            "text/plain": [
              "float"
            ]
          },
          "metadata": {},
          "execution_count": 28
        }
      ]
    },
    {
      "cell_type": "code",
      "source": [
        "type(float)"
      ],
      "metadata": {
        "colab": {
          "base_uri": "https://localhost:8080/"
        },
        "id": "YfNuPlnD80Gp",
        "outputId": "c4a570a3-bf87-43fa-e6bc-b60d62af7f48"
      },
      "execution_count": null,
      "outputs": [
        {
          "output_type": "execute_result",
          "data": {
            "text/plain": [
              "type"
            ]
          },
          "metadata": {},
          "execution_count": 29
        }
      ]
    },
    {
      "cell_type": "code",
      "source": [
        "type(str)"
      ],
      "metadata": {
        "colab": {
          "base_uri": "https://localhost:8080/"
        },
        "id": "h79LyD5w82xL",
        "outputId": "bbc4a220-a49f-4363-f464-ac74cf204772"
      },
      "execution_count": null,
      "outputs": [
        {
          "output_type": "execute_result",
          "data": {
            "text/plain": [
              "type"
            ]
          },
          "metadata": {},
          "execution_count": 31
        }
      ]
    },
    {
      "cell_type": "code",
      "source": [
        "type(int)"
      ],
      "metadata": {
        "colab": {
          "base_uri": "https://localhost:8080/"
        },
        "id": "CZo4l_Ux88zO",
        "outputId": "369b70c4-a5e9-405c-cd71-d7d7f9868a84"
      },
      "execution_count": null,
      "outputs": [
        {
          "output_type": "execute_result",
          "data": {
            "text/plain": [
              "type"
            ]
          },
          "metadata": {},
          "execution_count": 32
        }
      ]
    },
    {
      "cell_type": "markdown",
      "source": [
        "##Buscarse las palabras clave de Python \n"
      ],
      "metadata": {
        "id": "s9L8s6bZA4es"
      }
    },
    {
      "cell_type": "code",
      "source": [
        "#Los siguientes códigos no compilan por razones de Python\n",
        "56trombones = 'gran desfile'\n",
        "mora@ = 1000000\n",
        "class = 'Teorema avanzado de Zymurgy'"
      ],
      "metadata": {
        "colab": {
          "base_uri": "https://localhost:8080/",
          "height": 129
        },
        "id": "VC83CmHa88Q0",
        "outputId": "d70ded72-22ef-4919-b237-360cbaa1b9ad"
      },
      "execution_count": null,
      "outputs": [
        {
          "output_type": "error",
          "ename": "SyntaxError",
          "evalue": "ignored",
          "traceback": [
            "\u001b[0;36m  File \u001b[0;32m\"<ipython-input-36-981d1d828d79>\"\u001b[0;36m, line \u001b[0;32m2\u001b[0m\n\u001b[0;31m    56trombones = 'gran desfile'\u001b[0m\n\u001b[0m              ^\u001b[0m\n\u001b[0;31mSyntaxError\u001b[0m\u001b[0;31m:\u001b[0m invalid syntax\n"
          ]
        }
      ]
    },
    {
      "cell_type": "code",
      "source": [
        "#Esto es un Script\n",
        "#Un Scrip contiene una secuencia de sentencias \n",
        "#Si hay más de una sentencias los resultados aparecen de uno en uno según \n",
        "#Se van ejecutando las sentencias\n",
        "print(1)\n",
        "print() #Se puede imprimir espacio vacio :0 \n",
        "x = 2 #Esta sentencias no produce ninguna salida\n",
        "print(x)"
      ],
      "metadata": {
        "colab": {
          "base_uri": "https://localhost:8080/"
        },
        "id": "FjWrDV3Z_qKI",
        "outputId": "de287f8f-4cab-440d-8747-5ee480703588"
      },
      "execution_count": null,
      "outputs": [
        {
          "output_type": "stream",
          "name": "stdout",
          "text": [
            "1\n",
            "\n",
            "2\n"
          ]
        }
      ]
    },
    {
      "cell_type": "markdown",
      "source": [
        "##Operadores y operandos"
      ],
      "metadata": {
        "id": "mbSgWGRrAoiu"
      }
    },
    {
      "cell_type": "code",
      "source": [
        "a = 32 + 20\n",
        "print(a)\n",
        "print()\n",
        "b = 60 -1 \n",
        "print(b)\n",
        "print()\n",
        "c = (60 * 60) + 60\n",
        "print(c)\n",
        "print()\n",
        "d = 60 / 60\n",
        "print(d)\n",
        "print()\n",
        "e = 5**2\n",
        "print(e)\n",
        "print()\n",
        "f = (5+9)*(15-7)\n",
        "print(f)\n",
        "print()\n",
        "g = 20 // 2\n",
        "print(g)\n",
        "print()\n",
        "h = 20 / 2\n",
        "print(h)"
      ],
      "metadata": {
        "colab": {
          "base_uri": "https://localhost:8080/"
        },
        "id": "s_h_dhu_AspT",
        "outputId": "92851659-a794-41ae-a51d-21de04384583"
      },
      "execution_count": null,
      "outputs": [
        {
          "output_type": "stream",
          "name": "stdout",
          "text": [
            "52\n",
            "\n",
            "59\n",
            "\n",
            "3660\n",
            "\n",
            "1.0\n",
            "\n",
            "25\n",
            "\n",
            "112\n",
            "\n",
            "10\n",
            "\n",
            "10.0\n"
          ]
        }
      ]
    },
    {
      "cell_type": "markdown",
      "source": [
        "##Expresiones "
      ],
      "metadata": {
        "id": "_EftdwZgD2Yd"
      }
    },
    {
      "cell_type": "code",
      "source": [
        "#Las siguientes son expresiones \n",
        "17 \n",
        "x \n",
        "x + 17\n",
        "1 + 1\n",
        "100*100\n",
        "#El interprete de Python evalua el resultado \n",
        "#Sim embargo, en un scrip, una expresión por si misma no hace nada"
      ],
      "metadata": {
        "colab": {
          "base_uri": "https://localhost:8080/"
        },
        "id": "EOVTc8EtD2AL",
        "outputId": "15ec27cb-804c-41fa-a7c4-6f8c56c1aff5"
      },
      "execution_count": null,
      "outputs": [
        {
          "output_type": "execute_result",
          "data": {
            "text/plain": [
              "10000"
            ]
          },
          "metadata": {},
          "execution_count": 56
        }
      ]
    },
    {
      "cell_type": "code",
      "source": [
        "4"
      ],
      "metadata": {
        "colab": {
          "base_uri": "https://localhost:8080/"
        },
        "id": "fCoXjeF_FJoF",
        "outputId": "1508a80b-33dd-4da7-bd7a-7839f4d9a097"
      },
      "execution_count": null,
      "outputs": [
        {
          "output_type": "execute_result",
          "data": {
            "text/plain": [
              "4"
            ]
          },
          "metadata": {},
          "execution_count": 57
        }
      ]
    },
    {
      "cell_type": "code",
      "source": [
        "x = 5"
      ],
      "metadata": {
        "id": "12eUscz7FLNr"
      },
      "execution_count": null,
      "outputs": []
    },
    {
      "cell_type": "code",
      "source": [
        "x + 1 "
      ],
      "metadata": {
        "colab": {
          "base_uri": "https://localhost:8080/"
        },
        "id": "USTV9OvGFSSc",
        "outputId": "ec7638ff-1a56-4f5a-c8ca-459de31afb48"
      },
      "execution_count": null,
      "outputs": [
        {
          "output_type": "execute_result",
          "data": {
            "text/plain": [
              "6"
            ]
          },
          "metadata": {},
          "execution_count": 60
        }
      ]
    },
    {
      "cell_type": "markdown",
      "source": [
        "##Orden de las operaciones \n",
        "Estoy muy conciente de todo lo referente a este tema y por tal razón no lo escribo aquí \n"
      ],
      "metadata": {
        "id": "FS_NjtfHF6m5"
      }
    },
    {
      "cell_type": "markdown",
      "source": [
        "##Operador módulo \n",
        "\n",
        "```\n",
        "# Tiene formato de código\n",
        "```\n",
        "\n"
      ],
      "metadata": {
        "id": "imnrO2avGacl"
      }
    },
    {
      "cell_type": "code",
      "source": [
        "#Pagina 30 o 36 del pythonlearn \n",
        "quotient = 7 // 3\n",
        "print(quotient)"
      ],
      "metadata": {
        "id": "NlsHutmiF6PX",
        "colab": {
          "base_uri": "https://localhost:8080/"
        },
        "outputId": "b1cdd326-cfad-4d08-80b1-5506574c6c20"
      },
      "execution_count": 1,
      "outputs": [
        {
          "output_type": "stream",
          "name": "stdout",
          "text": [
            "2\n"
          ]
        }
      ]
    },
    {
      "cell_type": "code",
      "source": [
        "cociente = 7//3\n",
        "print(cociente)"
      ],
      "metadata": {
        "colab": {
          "base_uri": "https://localhost:8080/"
        },
        "id": "nfDCuxlqsKAY",
        "outputId": "584e6323-f385-4f70-872c-ea4a2b24ee1b"
      },
      "execution_count": 2,
      "outputs": [
        {
          "output_type": "stream",
          "name": "stdout",
          "text": [
            "2\n"
          ]
        }
      ]
    },
    {
      "cell_type": "code",
      "source": [
        "remainder = 12 % 5\n",
        "print(remainder)\n",
        "#La función remainder devuelve el resto de la división entre a / b\n",
        "#Este resto es la diferencia de "
      ],
      "metadata": {
        "colab": {
          "base_uri": "https://localhost:8080/"
        },
        "id": "JJHk0xhssgW9",
        "outputId": "a70e76e2-fc0d-456a-ac29-1c8871add425"
      },
      "execution_count": 4,
      "outputs": [
        {
          "output_type": "stream",
          "name": "stdout",
          "text": [
            "2\n"
          ]
        }
      ]
    },
    {
      "cell_type": "code",
      "source": [
        "x = np.remainder = ([4, 7], [2, 3])\n",
        "print(x)\n",
        "#Estos ejemplos los encontre en internet "
      ],
      "metadata": {
        "colab": {
          "base_uri": "https://localhost:8080/",
          "height": 180
        },
        "id": "sMKJJQXGvwD4",
        "outputId": "66d81374-fcc4-4458-cd2d-22e0ee2b1dff"
      },
      "execution_count": 7,
      "outputs": [
        {
          "output_type": "error",
          "ename": "NameError",
          "evalue": "ignored",
          "traceback": [
            "\u001b[0;31m---------------------------------------------------------------------------\u001b[0m",
            "\u001b[0;31mNameError\u001b[0m                                 Traceback (most recent call last)",
            "\u001b[0;32m<ipython-input-7-5a91449a63cb>\u001b[0m in \u001b[0;36m<module>\u001b[0;34m()\u001b[0m\n\u001b[0;32m----> 1\u001b[0;31m \u001b[0mx\u001b[0m \u001b[0;34m=\u001b[0m \u001b[0mnp\u001b[0m\u001b[0;34m.\u001b[0m\u001b[0mremainder\u001b[0m \u001b[0;34m=\u001b[0m \u001b[0;34m(\u001b[0m\u001b[0;34m[\u001b[0m\u001b[0;36m4\u001b[0m\u001b[0;34m,\u001b[0m \u001b[0;36m7\u001b[0m\u001b[0;34m]\u001b[0m\u001b[0;34m,\u001b[0m \u001b[0;34m[\u001b[0m\u001b[0;36m2\u001b[0m\u001b[0;34m,\u001b[0m \u001b[0;36m3\u001b[0m\u001b[0;34m]\u001b[0m\u001b[0;34m)\u001b[0m\u001b[0;34m\u001b[0m\u001b[0;34m\u001b[0m\u001b[0m\n\u001b[0m\u001b[1;32m      2\u001b[0m \u001b[0mprint\u001b[0m\u001b[0;34m(\u001b[0m\u001b[0mx\u001b[0m\u001b[0;34m)\u001b[0m\u001b[0;34m\u001b[0m\u001b[0;34m\u001b[0m\u001b[0m\n",
            "\u001b[0;31mNameError\u001b[0m: name 'np' is not defined"
          ]
        }
      ]
    },
    {
      "cell_type": "code",
      "source": [
        "x1 = np.arange(7)\n",
        "x1 % 5\n",
        "#Este ejemplo también "
      ],
      "metadata": {
        "colab": {
          "base_uri": "https://localhost:8080/",
          "height": 180
        },
        "id": "3GxIa1eOwqf8",
        "outputId": "dd36bbf8-d8cf-4a69-e6c9-b4b30fe2b601"
      },
      "execution_count": 8,
      "outputs": [
        {
          "output_type": "error",
          "ename": "NameError",
          "evalue": "ignored",
          "traceback": [
            "\u001b[0;31m---------------------------------------------------------------------------\u001b[0m",
            "\u001b[0;31mNameError\u001b[0m                                 Traceback (most recent call last)",
            "\u001b[0;32m<ipython-input-8-bf653c7bf0ff>\u001b[0m in \u001b[0;36m<module>\u001b[0;34m()\u001b[0m\n\u001b[0;32m----> 1\u001b[0;31m \u001b[0mx1\u001b[0m \u001b[0;34m=\u001b[0m \u001b[0mnp\u001b[0m\u001b[0;34m.\u001b[0m\u001b[0marange\u001b[0m\u001b[0;34m(\u001b[0m\u001b[0;36m7\u001b[0m\u001b[0;34m)\u001b[0m\u001b[0;34m\u001b[0m\u001b[0;34m\u001b[0m\u001b[0m\n\u001b[0m\u001b[1;32m      2\u001b[0m \u001b[0mx1\u001b[0m \u001b[0;34m%\u001b[0m \u001b[0;36m5\u001b[0m\u001b[0;34m\u001b[0m\u001b[0;34m\u001b[0m\u001b[0m\n",
            "\u001b[0;31mNameError\u001b[0m: name 'np' is not defined"
          ]
        }
      ]
    },
    {
      "cell_type": "code",
      "source": [
        "#Utilidad de la función Módulo \n",
        "#Si x % y = 0, entonces, x es divisible sobre y \n",
        "x = float(input(\"Ingrese un número: \"))\n",
        "y = float(input(\"Ingrese otro número: \"))\n",
        "e = x % y \n",
        "if x % y == 0: \n",
        "    print(f\"El resultado es: {e}, entonces x es divisible entre y \")\n",
        "else: \n",
        "    print(f\"El resultado es: {e}, el cual es el resto de la división de x % y\")\n",
        "\n"
      ],
      "metadata": {
        "colab": {
          "base_uri": "https://localhost:8080/"
        },
        "id": "CV53qveqxH6h",
        "outputId": "39cc20c6-0c59-445e-fd04-78abd3c72217"
      },
      "execution_count": 30,
      "outputs": [
        {
          "output_type": "stream",
          "name": "stdout",
          "text": [
            "Ingrese un número: 12\n",
            "Ingrese otro número: 3\n",
            "El resultado es: 0.0, entonces x es divisible entre y \n"
          ]
        }
      ]
    },
    {
      "cell_type": "code",
      "source": [
        "x = float(input(\"Ingrese un número: \"))\n",
        "y = float(input(\"Ingrese otro número: \"))\n",
        "a = x / y \n",
        "print(f\"{a}\")\n",
        "#Este programa puede resultar util en otro momento"
      ],
      "metadata": {
        "colab": {
          "base_uri": "https://localhost:8080/"
        },
        "id": "8SLcAecdzfij",
        "outputId": "67214b99-6d59-4f4a-d8a7-7a528265792a"
      },
      "execution_count": 29,
      "outputs": [
        {
          "output_type": "stream",
          "name": "stdout",
          "text": [
            "Ingrese un número: 2\n",
            "Ingrese otro número: 10000\n",
            "0.0002\n"
          ]
        }
      ]
    },
    {
      "cell_type": "code",
      "source": [
        "x = x % 1,000,000\n",
        "print(x)"
      ],
      "metadata": {
        "colab": {
          "base_uri": "https://localhost:8080/"
        },
        "id": "V3rzxsqj0GcP",
        "outputId": "8c4a6afa-491f-4a7e-b596-1ec248724d5e"
      },
      "execution_count": 37,
      "outputs": [
        {
          "output_type": "stream",
          "name": "stdout",
          "text": [
            "(0.0, 0, 0)\n"
          ]
        }
      ]
    },
    {
      "cell_type": "code",
      "source": [
        "x = float(input(\"Ingrese un número: \"))\n",
        "\n",
        "x = x % 1, x % 10, x % 100, x % 1001\n",
        "print(f\"{x}\")\n",
        "#Otro buen programa que puede ser de ayuda en otro momento"
      ],
      "metadata": {
        "colab": {
          "base_uri": "https://localhost:8080/"
        },
        "id": "dByHxSnW0ZOp",
        "outputId": "af0d1759-9148-4093-80e2-6dfc584b43bf"
      },
      "execution_count": 50,
      "outputs": [
        {
          "output_type": "stream",
          "name": "stdout",
          "text": [
            "Ingrese un número: 100\n",
            "(0.0, 0.0, 0.0, 0.0)\n"
          ]
        }
      ]
    },
    {
      "cell_type": "markdown",
      "source": [
        "##Operaciones con cadenas"
      ],
      "metadata": {
        "id": "Q4j3po5t11A3"
      }
    },
    {
      "cell_type": "code",
      "source": [
        "primero = 10 \n",
        "segundo = 15 \n",
        "print(primero+segundo)"
      ],
      "metadata": {
        "colab": {
          "base_uri": "https://localhost:8080/"
        },
        "id": "VGqq6NeK1zIN",
        "outputId": "5b5fdb56-7c81-4be8-8b54-65e004c44ea3"
      },
      "execution_count": 51,
      "outputs": [
        {
          "output_type": "stream",
          "name": "stdout",
          "text": [
            "25\n"
          ]
        }
      ]
    },
    {
      "cell_type": "code",
      "source": [
        "primero = 10 \n",
        "segundo = 15 \n",
        "print(primero + segundo)"
      ],
      "metadata": {
        "colab": {
          "base_uri": "https://localhost:8080/"
        },
        "id": "vl9l8KPT1-eH",
        "outputId": "c4aff714-6a6a-4468-eaba-466f4394b200"
      },
      "execution_count": 52,
      "outputs": [
        {
          "output_type": "stream",
          "name": "stdout",
          "text": [
            "25\n"
          ]
        }
      ]
    },
    {
      "cell_type": "code",
      "source": [
        "primero = 10 \n",
        "segundo = 15 \n",
        "print (primero + segundo)"
      ],
      "metadata": {
        "colab": {
          "base_uri": "https://localhost:8080/"
        },
        "id": "DM_IHvWS2HZr",
        "outputId": "c789b810-5193-4ca9-db29-c25af9f99cb8"
      },
      "execution_count": 53,
      "outputs": [
        {
          "output_type": "stream",
          "name": "stdout",
          "text": [
            "25\n"
          ]
        }
      ]
    },
    {
      "cell_type": "code",
      "source": [
        "primero = 10 \n",
        "segundo = 15 \n",
        "print (primero+segundo)"
      ],
      "metadata": {
        "colab": {
          "base_uri": "https://localhost:8080/"
        },
        "id": "dSCPo_Q92Knh",
        "outputId": "124232d1-5b55-4030-fa7b-42ac4134f958"
      },
      "execution_count": 54,
      "outputs": [
        {
          "output_type": "stream",
          "name": "stdout",
          "text": [
            "25\n"
          ]
        }
      ]
    },
    {
      "cell_type": "code",
      "source": [
        "primero = '100'\n",
        "segundo = '150'\n",
        "print(primero + segundo)\n",
        "#Este programa, a diferencia de los 4 anteriores escritos arriba \n",
        "#permite colocar la cadena que contiene la variable primero, \n",
        "# osea '100' y la cadena que contiene la variable segundo = '150'\n",
        "# de esta manera '100' + '150' = 100150 \n",
        "#Lo mismo es cierto para otras cadenas "
      ],
      "metadata": {
        "colab": {
          "base_uri": "https://localhost:8080/"
        },
        "id": "_IcEmAMi2RcA",
        "outputId": "5360cbb3-03a4-4734-991f-9cd4b1321147"
      },
      "execution_count": 56,
      "outputs": [
        {
          "output_type": "stream",
          "name": "stdout",
          "text": [
            "100150\n"
          ]
        }
      ]
    },
    {
      "cell_type": "code",
      "source": [
        "primero = 'Leonardo '\n",
        "segundo = 'Luna '\n",
        "print(primero + segundo)\n"
      ],
      "metadata": {
        "colab": {
          "base_uri": "https://localhost:8080/"
        },
        "id": "r6nR06Cr2-er",
        "outputId": "70ac8a69-407a-4454-b748-66ad2c85d0fa"
      },
      "execution_count": 63,
      "outputs": [
        {
          "output_type": "stream",
          "name": "stdout",
          "text": [
            "Leonardo Luna \n"
          ]
        }
      ]
    },
    {
      "cell_type": "code",
      "source": [
        "#El operador * también trabaja con cadenas multiplicando el contenido de una \n",
        "#cadena por el entero\n",
        "primero = 'Prueba 1 '\n",
        "segundo = 3 \n",
        "print (primero * segundo)"
      ],
      "metadata": {
        "colab": {
          "base_uri": "https://localhost:8080/"
        },
        "id": "CmVzR0of3Qox",
        "outputId": "9a80f01d-ba19-4d62-f515-fac614cd2dbd"
      },
      "execution_count": 69,
      "outputs": [
        {
          "output_type": "stream",
          "name": "stdout",
          "text": [
            "Prueba 1 Prueba 1 Prueba 1 \n"
          ]
        }
      ]
    },
    {
      "cell_type": "markdown",
      "source": [
        "##Solicitud de información al ususario \n"
      ],
      "metadata": {
        "id": "mx9bFwQ54kVu"
      }
    },
    {
      "cell_type": "code",
      "source": [
        "entrada = input()"
      ],
      "metadata": {
        "colab": {
          "base_uri": "https://localhost:8080/"
        },
        "id": "UyGHC4-74j0n",
        "outputId": "0081720f-23c6-470b-ce51-028722fc2dd5"
      },
      "execution_count": 70,
      "outputs": [
        {
          "name": "stdout",
          "output_type": "stream",
          "text": [
            "Buenos Días \n"
          ]
        }
      ]
    },
    {
      "cell_type": "code",
      "source": [
        "nombre = input('¿Cómo te llamas? \\n') # Es un New Line \\n"
      ],
      "metadata": {
        "colab": {
          "base_uri": "https://localhost:8080/"
        },
        "id": "c9QnTCnX5QmM",
        "outputId": "bd32a6d5-7d54-4118-9b40-bfb41f8ea239"
      },
      "execution_count": 73,
      "outputs": [
        {
          "output_type": "stream",
          "name": "stdout",
          "text": [
            "¿Cómo te llamas? \n",
            "Leonardo\n",
            "Leonardo\n"
          ]
        }
      ]
    },
    {
      "cell_type": "code",
      "source": [
        "prompt = '¿Cuál es la velocidad de vuelo de una golondrina sin carga? \\n' #Anuncia lo que el programa \n",
        "velocidad = input(prompt) #Se ingresan datos                              #Puede resolver \n",
        "int(velocidad) + 5 #Funciona para cualquier operador matemático +, - , * , // , % \n",
        "#Finalmente el programa imprime el resultado sin necesidad de llamar a la \n",
        "#Sentencia print (o función) como se prefiera"
      ],
      "metadata": {
        "colab": {
          "base_uri": "https://localhost:8080/"
        },
        "id": "1jTOyhZD5r8N",
        "outputId": "0b2f6015-9e3b-4072-b57d-be2e95f40a08"
      },
      "execution_count": 86,
      "outputs": [
        {
          "name": "stdout",
          "output_type": "stream",
          "text": [
            "¿Cuál es la velocidad de vuelo de una golondrina sin carga? \n",
            "60\n"
          ]
        },
        {
          "output_type": "execute_result",
          "data": {
            "text/plain": [
              "12.0"
            ]
          },
          "metadata": {},
          "execution_count": 86
        }
      ]
    },
    {
      "cell_type": "code",
      "source": [
        "# Formula para obtener las horas de un año \n",
        "8760 + (-24)*(46) \n"
      ],
      "metadata": {
        "colab": {
          "base_uri": "https://localhost:8080/"
        },
        "id": "G7qU6Row8aVh",
        "outputId": "db0ee022-6ac0-49cd-b7a7-5d39b8a97490"
      },
      "execution_count": 91,
      "outputs": [
        {
          "output_type": "execute_result",
          "data": {
            "text/plain": [
              "7656"
            ]
          },
          "metadata": {},
          "execution_count": 91
        }
      ]
    },
    {
      "cell_type": "code",
      "source": [
        "hora = 2\n",
        "salario = 3\n",
        "tarifa = salario * hora \n",
        "print(tarifa)"
      ],
      "metadata": {
        "colab": {
          "base_uri": "https://localhost:8080/"
        },
        "id": "awxinnEA-GH2",
        "outputId": "38e5b063-7ad5-4f9a-d881-6b6105a07629"
      },
      "execution_count": 94,
      "outputs": [
        {
          "output_type": "stream",
          "name": "stdout",
          "text": [
            "6\n"
          ]
        }
      ]
    },
    {
      "cell_type": "markdown",
      "source": [
        "##Depuración "
      ],
      "metadata": {
        "id": "G4R4xKlRAREJ"
      }
    },
    {
      "cell_type": "code",
      "source": [
        "#Pagina 35 - 41 del Pythonlearn "
      ],
      "metadata": {
        "id": "V9QGxFkvAORG"
      },
      "execution_count": null,
      "outputs": []
    },
    {
      "cell_type": "code",
      "source": [
        "35 "
      ],
      "metadata": {
        "id": "eb3IaaESAPbc"
      },
      "execution_count": null,
      "outputs": []
    }
  ]
}