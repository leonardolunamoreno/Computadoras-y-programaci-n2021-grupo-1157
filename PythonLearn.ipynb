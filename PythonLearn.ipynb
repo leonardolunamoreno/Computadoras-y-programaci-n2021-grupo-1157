{
  "nbformat": 4,
  "nbformat_minor": 0,
  "metadata": {
    "colab": {
      "name": "PythonLearn.ipynb",
      "provenance": [],
      "authorship_tag": "ABX9TyN3gjRRylJUtkMHZf+3Eaml",
      "include_colab_link": true
    },
    "kernelspec": {
      "name": "python3",
      "display_name": "Python 3"
    },
    "language_info": {
      "name": "python"
    }
  },
  "cells": [
    {
      "cell_type": "markdown",
      "metadata": {
        "id": "view-in-github",
        "colab_type": "text"
      },
      "source": [
        "<a href=\"https://colab.research.google.com/github/leonardolunamoreno/Computadoras-y-programaci-n2021-grupo-1157/blob/main/PythonLearn.ipynb\" target=\"_parent\"><img src=\"https://colab.research.google.com/assets/colab-badge.svg\" alt=\"Open In Colab\"/></a>"
      ]
    },
    {
      "cell_type": "code",
      "execution_count": 3,
      "metadata": {
        "colab": {
          "base_uri": "https://localhost:8080/",
          "height": 248
        },
        "id": "D-tKWg686ahz",
        "outputId": "1171c5e2-6a7a-4521-94fb-54d2f9132a00"
      },
      "outputs": [
        {
          "name": "stdout",
          "output_type": "stream",
          "text": [
            "Enter file: l llll \n"
          ]
        },
        {
          "output_type": "error",
          "ename": "FileNotFoundError",
          "evalue": "ignored",
          "traceback": [
            "\u001b[0;31m---------------------------------------------------------------------------\u001b[0m",
            "\u001b[0;31mFileNotFoundError\u001b[0m                         Traceback (most recent call last)",
            "\u001b[0;32m<ipython-input-3-ce0f18fa3d24>\u001b[0m in \u001b[0;36m<module>\u001b[0;34m()\u001b[0m\n\u001b[1;32m      1\u001b[0m \u001b[0mname\u001b[0m \u001b[0;34m=\u001b[0m \u001b[0minput\u001b[0m\u001b[0;34m(\u001b[0m\u001b[0;34m\"Enter file: \"\u001b[0m\u001b[0;34m)\u001b[0m\u001b[0;34m\u001b[0m\u001b[0;34m\u001b[0m\u001b[0m\n\u001b[0;32m----> 2\u001b[0;31m \u001b[0mhandle\u001b[0m \u001b[0;34m=\u001b[0m \u001b[0mopen\u001b[0m\u001b[0;34m(\u001b[0m\u001b[0mname\u001b[0m\u001b[0;34m,\u001b[0m \u001b[0;34m'r'\u001b[0m\u001b[0;34m)\u001b[0m\u001b[0;34m\u001b[0m\u001b[0;34m\u001b[0m\u001b[0m\n\u001b[0m\u001b[1;32m      3\u001b[0m \u001b[0mcounts\u001b[0m \u001b[0;34m=\u001b[0m \u001b[0mdict\u001b[0m\u001b[0;34m(\u001b[0m\u001b[0;34m)\u001b[0m\u001b[0;34m\u001b[0m\u001b[0;34m\u001b[0m\u001b[0m\n\u001b[1;32m      4\u001b[0m \u001b[0;32mfor\u001b[0m \u001b[0mline\u001b[0m \u001b[0;32min\u001b[0m \u001b[0mhandle\u001b[0m\u001b[0;34m:\u001b[0m\u001b[0;34m\u001b[0m\u001b[0;34m\u001b[0m\u001b[0m\n\u001b[1;32m      5\u001b[0m     \u001b[0mwords\u001b[0m \u001b[0;34m=\u001b[0m \u001b[0mline\u001b[0m\u001b[0;34m.\u001b[0m\u001b[0msplit\u001b[0m\u001b[0;34m\u001b[0m\u001b[0;34m\u001b[0m\u001b[0m\n",
            "\u001b[0;31mFileNotFoundError\u001b[0m: [Errno 2] No such file or directory: 'l llll '"
          ]
        }
      ],
      "source": [
        "name = input(\"Enter file: \")\n",
        "handle = open(name, 'r')\n",
        "counts = dict()\n",
        "for line in handle: \n",
        "    words = line.split\n",
        "    for word in words: \n",
        "        counts[word] = counts.get(word, 0) + 1\n",
        "bigcount = None \n",
        "bigword = None \n",
        "for word, count in list(counts.items()):\n",
        "    if bigcount is None or count > bigcount: \n",
        "        bigword = word \n",
        "        bigcount = count \n",
        "print(bigword, bigcount )\n",
        "#Uno de los primeros programas compartidos \n",
        "#Por el libro pythonlearn \n",
        "#Se supone cuenta el número de palabras \n",
        "#o simbolos que se repiten en algun lugar \n",
        "#Como un libro o alguna pagina web "
      ]
    },
    {
      "cell_type": "code",
      "source": [
        "print('Hola mundo')\n",
        "print(\"Hola mundo\")\n"
      ],
      "metadata": {
        "colab": {
          "base_uri": "https://localhost:8080/"
        },
        "id": "gSfoRXGQ8PbE",
        "outputId": "17707c95-31e9-4ce9-912c-0b01da4e3bfd"
      },
      "execution_count": 6,
      "outputs": [
        {
          "output_type": "stream",
          "name": "stdout",
          "text": [
            "Hola mundo\n",
            "Hola mundo \n"
          ]
        }
      ]
    },
    {
      "cell_type": "markdown",
      "source": [
        ""
      ],
      "metadata": {
        "id": "j5n46Icd6cjw"
      }
    },
    {
      "cell_type": "markdown",
      "source": [
        ""
      ],
      "metadata": {
        "id": "10HhMbfj6cpV"
      }
    },
    {
      "cell_type": "code",
      "source": [
        "#Ejercicio número 5 del libro Calculo de varias variables \n",
        "#El programa calcula el área superficial de una persona \n",
        "#Unicamente conociendo el peso de la persona en libras \n",
        "#Y la altura de la misma en pulgadas, cabe destacar \n",
        "#Que la altura desempeña un papel importante en el área \n",
        "#Superficial\n",
        "w = float(input(\"Ingrese el peso de la persona en libras: \"))\n",
        "h = float(input(\"Ingrese la altura de la persona en pulgadas: \"))\n",
        "if 0 < w  and 0 < h: #¿Como podre lorar que el programa distinga altura de peso? \n",
        "    if w > 500: \n",
        "       print(\"Una persona no puede pesar más de 227 kilogramos\")\n",
        "    if h > 100: \n",
        "        print(\"Una persona no puede pesar más de 227 kilogramos\")\n",
        "    else:\n",
        "        S = (0.1091)*(pow(w,0.425))*(pow(h,0.725))\n",
        "        Sm2 = S * 0.0929\n",
        "        print(f\"La superficie de la persona en metros cuadrados es: {Sm2}\")\n",
        "else: \n",
        "    print(\"Una persona no puede tener masa o altura negativa\")"
      ],
      "metadata": {
        "colab": {
          "base_uri": "https://localhost:8080/"
        },
        "id": "cl7HH-Fk8vp8",
        "outputId": "06ea7c4d-6de4-42b7-c7fb-5e9b7213c0ce"
      },
      "execution_count": 22,
      "outputs": [
        {
          "output_type": "stream",
          "name": "stdout",
          "text": [
            "Ingrese el peso de la persona en libras: 543\n",
            "Ingrese la altura de la persona en pulgadas: 12\n",
            "Una persona no puede pesar más de 227 kilogramos\n",
            "La superficie de la persona en metros cuadrados es: 0.8923532208921661\n"
          ]
        }
      ]
    },
    {
      "cell_type": "code",
      "source": [
        ""
      ],
      "metadata": {
        "colab": {
          "base_uri": "https://localhost:8080/"
        },
        "id": "QqQajYZB-IRo",
        "outputId": "0b1d6f9c-a9e4-407a-cfe9-368db831f0fe"
      },
      "execution_count": 13,
      "outputs": [
        {
          "output_type": "stream",
          "name": "stdout",
          "text": [
            "a**b\n"
          ]
        }
      ]
    }
  ]
}