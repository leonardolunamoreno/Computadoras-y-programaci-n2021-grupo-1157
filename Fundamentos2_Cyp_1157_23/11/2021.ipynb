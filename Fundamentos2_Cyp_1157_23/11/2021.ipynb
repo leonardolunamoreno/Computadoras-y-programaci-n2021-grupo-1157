{
  "nbformat": 4,
  "nbformat_minor": 0,
  "metadata": {
    "colab": {
      "name": "Fundamentos2_Cyp_1157.ipynb",
      "provenance": [],
      "collapsed_sections": [],
      "authorship_tag": "ABX9TyOgjCJtxbLozjz3kpt+PRQ0",
      "include_colab_link": true
    },
    "kernelspec": {
      "name": "python3",
      "display_name": "Python 3"
    },
    "language_info": {
      "name": "python"
    }
  },
  "cells": [
    {
      "cell_type": "markdown",
      "metadata": {
        "id": "view-in-github",
        "colab_type": "text"
      },
      "source": [
        "<a href=\"https://colab.research.google.com/github/leonardolunamoreno/Computadoras-y-programaci-n2021-grupo-1157/blob/main/Fundamentos2_Cyp_1157_23/11/2021.ipynb\" target=\"_parent\"><img src=\"https://colab.research.google.com/assets/colab-badge.svg\" alt=\"Open In Colab\"/></a>"
      ]
    },
    {
      "cell_type": "markdown",
      "metadata": {
        "id": "4tzSKogHwZoV"
      },
      "source": [
        "#Tuplas\n",
        "\n",
        "###Características de las tuplas \n",
        "\n",
        "-Datos agrupados \n",
        "\n",
        "-Estructura secuncial, indexada a partir de 0. \n",
        "\n",
        "-NO SON MUTABLES ( no se pueden eliminar o cambiar) \n",
        "\n",
        "-Son buenas para almacenar información de consulta \n",
        "\n",
        "-Pueden almacenar información de consulta \n",
        "\n",
        "-Pueden almacenar info. de diferentes tipos de dato\n",
        "\n",
        "-Pueden ser anidadas \n",
        "\n",
        "-Tienen métodos útiles \n",
        "\n",
        "-Se declaran de la siguiente manera \n",
        "1.-(), 2.- tuple(), 3.- \n"
      ]
    },
    {
      "cell_type": "code",
      "metadata": {
        "colab": {
          "base_uri": "https://localhost:8080/"
        },
        "id": "bc-wVU5kxWcd",
        "outputId": "07cc5207-41a9-4f48-af01-17c9544c9fa5"
      },
      "source": [
        "info = (\"juan23\" , \"dios1234\" , \"123.232.1.12\" )\n",
        "print(info)\n",
        "print(info[1])\n",
        "#info [ 1 ] = \"patito 23\" no se pueden agregar elementos a la tupla y por está razon no es mutable\n",
        "\n",
        "numeros= (0,1,2,3,4,5,6,7,8,9,10,11,12,13,14,15)\n",
        "print(numeros)\n",
        "print(numeros[5:11])\n",
        "\n",
        "cosas = (info, numeros)\n",
        "print(cosas)\n",
        "print(cosas[1][5:11]) #Aquí se selecciona la tupla 1, y después se hace slicing, en la tupla 1, seleccionando los elementos desde el 5 al 11\n",
        "\n",
        "print(cosas[0][2][4:7])\n",
        "print(cosas[0][2][-8:-5])\n",
        "\n"
      ],
      "execution_count": null,
      "outputs": [
        {
          "output_type": "stream",
          "name": "stdout",
          "text": [
            "('juan23', 'dios1234', '123.232.1.12')\n",
            "dios1234\n",
            "(0, 1, 2, 3, 4, 5, 6, 7, 8, 9, 10, 11, 12, 13, 14, 15)\n",
            "(5, 6, 7, 8, 9, 10)\n",
            "(('juan23', 'dios1234', '123.232.1.12'), (0, 1, 2, 3, 4, 5, 6, 7, 8, 9, 10, 11, 12, 13, 14, 15))\n",
            "(5, 6, 7, 8, 9, 10)\n",
            "232\n",
            "232\n"
          ]
        }
      ]
    },
    {
      "cell_type": "markdown",
      "metadata": {
        "id": "a46bj0OC0wLe"
      },
      "source": [
        "#Métodos de las tuplas \n",
        "\n",
        "Son los mismos de las listas pero unicamente los que no involucran mutabilidad"
      ]
    },
    {
      "cell_type": "code",
      "metadata": {
        "colab": {
          "base_uri": "https://localhost:8080/"
        },
        "id": "XFD4l2ik03G9",
        "outputId": "049f90f8-4d1e-4fa1-f0ec-4d072863891e"
      },
      "source": [
        "dir(tuple)"
      ],
      "execution_count": null,
      "outputs": [
        {
          "output_type": "execute_result",
          "data": {
            "text/plain": [
              "['__add__',\n",
              " '__class__',\n",
              " '__contains__',\n",
              " '__delattr__',\n",
              " '__dir__',\n",
              " '__doc__',\n",
              " '__eq__',\n",
              " '__format__',\n",
              " '__ge__',\n",
              " '__getattribute__',\n",
              " '__getitem__',\n",
              " '__getnewargs__',\n",
              " '__gt__',\n",
              " '__hash__',\n",
              " '__init__',\n",
              " '__init_subclass__',\n",
              " '__iter__',\n",
              " '__le__',\n",
              " '__len__',\n",
              " '__lt__',\n",
              " '__mul__',\n",
              " '__ne__',\n",
              " '__new__',\n",
              " '__reduce__',\n",
              " '__reduce_ex__',\n",
              " '__repr__',\n",
              " '__rmul__',\n",
              " '__setattr__',\n",
              " '__sizeof__',\n",
              " '__str__',\n",
              " '__subclasshook__',\n",
              " 'count',\n",
              " 'index']"
            ]
          },
          "metadata": {},
          "execution_count": 16
        }
      ]
    },
    {
      "cell_type": "markdown",
      "metadata": {
        "id": "N9jfcgTU1chu"
      },
      "source": [
        "El método \"count\" ya lo hemos revidado, y consiste en contar las veces que se repite un determinado elemento dentro de una lista en este caso dentro de la tupla, y el método \"index\" consiste en buscar un elemento dentro de una lista, en este caso de la tupla \n",
        "\n",
        "El uso de las tuplas se puede dar cuando, en una pagina web, se guardan ciertos datos que se conservan estaticos sobre cierto programa"
      ]
    },
    {
      "cell_type": "markdown",
      "metadata": {
        "id": "sShcX6vz2wue"
      },
      "source": [
        "#Diccionarios \n",
        "\n",
        "### Características de los diccionarios \n",
        "\n",
        "- Se declaran con:\n",
        "     1.-{} \n",
        "     2.-dict () \n",
        "\n",
        "-Agrupan daos pero de forma no lineal. \n",
        "\n",
        "- Formado por pares del tipo llave:valor , es decir, los diccionarios consisten en pares ordenados, donde\n",
        "      1.- llave es del tipo string (siempre) \n",
        "      2.-Valor puede ser de cualquier tipo de dato, incluyendo los diccionarios \n",
        "\n",
        "-Se seleccionan con la llave de la forma: [\"id_llave\"]\n",
        "\n",
        "-En las listas y en las tuplas, el selector se hacia con la posición () \n",
        "\n",
        "-Son mutables \n",
        "\n",
        "-Son equivalentes al tipo de dato JSON del lenguaje JavaScript (JS)\n",
        "\n",
        "-Son anidables, es decir, se pueden colocar otras cosas dentro de las tuplas "
      ]
    },
    {
      "cell_type": "code",
      "metadata": {
        "colab": {
          "base_uri": "https://localhost:8080/"
        },
        "id": "GuFmv0hE36i8",
        "outputId": "fd05f494-1b45-4e6a-f995-dd0cd4be9839"
      },
      "source": [
        "alumno = {\"nombre\" : \"José\"}\n",
        "print(alumno) #La llave es un concepto al cual se le asigna un valor \n",
        "print(alumno[\"nombre\"])\n",
        "alumno = {\"nombre\":\"José\", \"nc\":\"98210983108\", \"edad\":18}\n",
        "print(\"Edad del alumno =\" , alumno[\"edad\"])\n",
        "print(alumno[\"nombre\"].upper())\n",
        "\n",
        "print(\"alumno2:\")\n",
        "alumno2 = dict() #{}\n",
        "alumno2[\"nombre\"] = \"José\"\n",
        "print(alumno2)\n",
        "alumno2[\"nc\"] = \"98210983108\"\n",
        "alumno2[\"edad\"] = 18 \n",
        "print(alumno2)\n",
        "alumno2[\"edad\"] = alumno [\"edad\"] + 1 #Puede modificar elementos que ya esten guardados previamente\n",
        "print(alumno2)\n"
      ],
      "execution_count": null,
      "outputs": [
        {
          "output_type": "stream",
          "name": "stdout",
          "text": [
            "{'nombre': 'José'}\n",
            "José\n",
            "Edad del alumno = 18\n",
            "JOSÉ\n",
            "alumno2:\n",
            "{'nombre': 'José'}\n",
            "{'nombre': 'José', 'nc': '98210983108', 'edad': 18}\n",
            "{'nombre': 'José', 'nc': '98210983108', 'edad': 19}\n"
          ]
        }
      ]
    },
    {
      "cell_type": "code",
      "metadata": {
        "colab": {
          "base_uri": "https://localhost:8080/"
        },
        "id": "-0pUJfVH8Oa6",
        "outputId": "0d62f63f-62c1-4bfe-94a5-494bb3ad4d37"
      },
      "source": [
        "\n",
        "cliente = {\"id\":\"CT2121\",\n",
        "           \"nombre\":\"José Eduardo Pedroza Rosales\",\n",
        "           \"Teléfono\":\"casa=5544878787 cel:044556767677\" }\n",
        "print(cliente)    \n",
        "cliente = {\"id\":\"CT2121\" ,\n",
        "           \"nombre\": {\n",
        "               \"nombres\":[\"José\",\"Eduardo\"],\n",
        "               \"paterno\":\"Pedroza\",\n",
        "               \"materno\":\"Rosales\"\n",
        "              } ,\n",
        "           \"Teléfono\": {\n",
        "               \"casa\":\"5544878787\",\n",
        "               \"trabajo\":\"55-443-3232\",\n",
        "               \"celular\":\"044556767677\"\n",
        "            } \n",
        "            }\n",
        "print(cliente[\"Teléfono\"][\"casa\"])\n",
        "\n",
        "print(cliente)    \n",
        "cliente = {\"id\":\"CT2121\" ,\n",
        "           \"nombre\": {\n",
        "               \"nombres\":[\"José\",\"Eduardo\"],\n",
        "               \"paterno\":\"Pedroza\",\n",
        "               \"materno\":\"Rosales\"\n",
        "              } ,\n",
        "           \"Teléfono\": {\n",
        "               \"casa\":\"5544878787\",\n",
        "               \"celular\":\"044556767677\"\n",
        "            } ,\n",
        "           \"Productos\":{\n",
        "                        \"ahorro\":{ \"numero_cuenta\":\"7788\", \"ahorro\":2500.5},\n",
        "                        \"t_credito\":[\n",
        "                                     {\"tipo\":\"debito\", \"saldo\":10000.5},\n",
        "                                     {\"tipo\":\"credito preferente\",\"limite\":250000.5},\n",
        "                                     {\"tipo\":\"lite\",\"limite\":15000.5}\n",
        "                        ] ,\n",
        "                       \"direccion\":{\n",
        "                           \"calle\":\"Av central\",\n",
        "                           \"numero\":1245,\n",
        "                           \"colonia\":\"impulsora\",\n",
        "                           \"delegación\":\"neza\",\n",
        "                           \"estado\": {\n",
        "                               \"clave de estado\":15,\n",
        "                               \"nombre_corto\":\"EdoMex\",\n",
        "                               \"nombre\":\"Estado de México\"\n",
        "                           }\n",
        "                       },\n",
        "                      \n",
        "            } #Esto es una lista debido a los productos que maneja un banco\n",
        "            \n",
        "            }\n",
        "print(cliente)\n",
        "print(cliente[\"Productos\"][\"ahorro\"][\"ahorro\"])\n",
        "print(cliente[\"Productos\"][\"t_credito\"][2][\"limite\"])\n",
        "#print(cliente[\"direccion\"][\"estado\"][\"nombre\"].upper())\n"
      ],
      "execution_count": null,
      "outputs": [
        {
          "output_type": "stream",
          "name": "stdout",
          "text": [
            "{'id': 'CT2121', 'nombre': 'José Eduardo Pedroza Rosales', 'Teléfono': 'casa=5544878787 cel:044556767677'}\n",
            "5544878787\n",
            "{'id': 'CT2121', 'nombre': {'nombres': ['José', 'Eduardo'], 'paterno': 'Pedroza', 'materno': 'Rosales'}, 'Teléfono': {'casa': '5544878787', 'trabajo': '55-443-3232', 'celular': '044556767677'}}\n",
            "{'id': 'CT2121', 'nombre': {'nombres': ['José', 'Eduardo'], 'paterno': 'Pedroza', 'materno': 'Rosales'}, 'Teléfono': {'casa': '5544878787', 'celular': '044556767677'}, 'Productos': {'ahorro': {'numero_cuenta': '7788', 'ahorro': 2500.5}, 't_credito': [{'tipo': 'debito', 'saldo': 10000.5}, {'tipo': 'credito preferente', 'limite': 250000.5}, {'tipo': 'lite', 'limite': 15000.5}], 'direccion': {'calle': 'Av central', 'numero': 1245, 'colonia': 'impulsora', 'delegación': 'neza', 'estado': {'clave de estado': 15, 'nombre_corto': 'EdoMex', 'nombre': 'Estado de México'}}}}\n",
            "2500.5\n",
            "15000.5\n"
          ]
        }
      ]
    },
    {
      "cell_type": "markdown",
      "metadata": {
        "id": "gBl-WqRnGznR"
      },
      "source": [
        "#Objetos JSON "
      ]
    },
    {
      "cell_type": "code",
      "metadata": {
        "id": "RyB72dc1G7gX"
      },
      "source": [
        "var cliente = { }\n",
        "var cliente = { \"id cliente\" : \"CT01\" }\n",
        "var cliente = { \"id cliente\" : \"CT01\" : } #Esto funciona igual que los diccionarios en diseño web "
      ],
      "execution_count": null,
      "outputs": []
    },
    {
      "cell_type": "code",
      "metadata": {
        "id": "3kwsNuDtHv3W",
        "colab": {
          "base_uri": "https://localhost:8080/"
        },
        "outputId": "9e550f70-708b-4546-d3d8-c22d69d028c1"
      },
      "source": [
        " cliente = {\"id\":\"CT2121\" ,\n",
        "           \"nombre\": {\n",
        "               \"nombres\":[\"José\",\"Eduardo\"],\n",
        "               \"paterno\":\"Pedroza\",\n",
        "               \"materno\":\"Rosales\"\n",
        "              } ,\n",
        "           \"Teléfono\": {\n",
        "               \"casa\":\"5544878787\",\n",
        "               \"celular\":\"044556767677\"\n",
        "            } ,\n",
        "           \"Productos\":{\n",
        "                        \"ahorro\":{ \"numero_cuenta\":\"7788\", \"ahorro\":2500.5},\n",
        "                        \"t_credito\":[\n",
        "                                     {\"tipo\":\"debito\", \"saldo\":10000.5},\n",
        "                                     {\"tipo\":\"credito preferente\",\"limite\":250000.5},\n",
        "                                     {\"tipo\":\"lite\",\"limite\":15000.5}\n",
        "                        ] ,\n",
        "           \"direccion\":{\n",
        "                           \"calle\":\"Av central\",\n",
        "                           \"numero\":1245,\n",
        "                           \"colonia\":\"impulsora\",\n",
        "                           \"delegación\":\"neza\",\n",
        "                           \"estado\": {\n",
        "                               \"clave de estado\":15,\n",
        "                               \"nombre_corto\":\"EdoMex\",\n",
        "                               \"nombre\":\"Estado de México\"\n",
        "                           }\n",
        "                       },\n",
        "                      \n",
        "            } #Esto es una lista debido a los productos que maneja un banco\n",
        "            \n",
        "            }\n",
        "print(cliente)\n",
        "print(cliente[\"Productos\"][\"ahorro\"][\"ahorro\"])\n",
        "print(cliente[\"Productos\"][\"t_credito\"][2][\"limite\"])\n",
        "#print(cliente[\"direccion\"][\"estado\"][\"nombre\"].upper())\n",
        "\n",
        "cliente[\"Productos\"][\"ahorro\"][\"ahorro\"] -=1500.0\n",
        "print(cliente[\"Productos\"])"
      ],
      "execution_count": null,
      "outputs": [
        {
          "output_type": "stream",
          "name": "stdout",
          "text": [
            "{'id': 'CT2121', 'nombre': {'nombres': ['José', 'Eduardo'], 'paterno': 'Pedroza', 'materno': 'Rosales'}, 'Teléfono': {'casa': '5544878787', 'celular': '044556767677'}, 'Productos': {'ahorro': {'numero_cuenta': '7788', 'ahorro': 2500.5}, 't_credito': [{'tipo': 'debito', 'saldo': 10000.5}, {'tipo': 'credito preferente', 'limite': 250000.5}, {'tipo': 'lite', 'limite': 15000.5}], 'direccion': {'calle': 'Av central', 'numero': 1245, 'colonia': 'impulsora', 'delegación': 'neza', 'estado': {'clave de estado': 15, 'nombre_corto': 'EdoMex', 'nombre': 'Estado de México'}}}}\n",
            "2500.5\n",
            "15000.5\n",
            "{'ahorro': {'numero_cuenta': '7788', 'ahorro': 1000.5}, 't_credito': [{'tipo': 'debito', 'saldo': 10000.5}, {'tipo': 'credito preferente', 'limite': 250000.5}, {'tipo': 'lite', 'limite': 15000.5}], 'direccion': {'calle': 'Av central', 'numero': 1245, 'colonia': 'impulsora', 'delegación': 'neza', 'estado': {'clave de estado': 15, 'nombre_corto': 'EdoMex', 'nombre': 'Estado de México'}}}\n"
          ]
        }
      ]
    },
    {
      "cell_type": "markdown",
      "metadata": {
        "id": "8DcJU1ANJnV1"
      },
      "source": [
        ""
      ]
    },
    {
      "cell_type": "code",
      "metadata": {
        "id": "p98WSODXJoD9",
        "colab": {
          "base_uri": "https://localhost:8080/"
        },
        "outputId": "5f55070a-c6b7-48f0-e075-16c162cef29a"
      },
      "source": [
        " peliculas = {\"Matrix\":\"1\" ,\n",
        "           \"nombres\": {\n",
        "               \"reparto\":[\"keanu Raves\", \"lawrence fhisburne\", \"Carrie Anne Moss\", \"Hugo Weaving\", \"Joe Pantoliano\", \"Marcus Chong\", \"Paul Goddard\"\n",
        "\"Gloria Foster\"],\n",
        "               \n",
        "              } ,\n",
        "           \"Fecha y lugar de estreno\": {\n",
        "               \"1999, Estados Unidos\"\n",
        "            } ,\n",
        "           \"Estudio\":{\"Warner Bros\"} ,\n",
        "           \"Trama\":{ \"La Matrix es un ambiente de relación entre cosas y sucesos creado y controlado artificialmente. Una importante característica de la matrix es que en ella incluso las personas son consideradas cosas\"},\n",
        "                       } \n",
        "            \n",
        "print(peliculas)"
      ],
      "execution_count": null,
      "outputs": [
        {
          "output_type": "stream",
          "name": "stdout",
          "text": [
            "{'Matrix': '1', 'nombres': {'reparto': ['keanu Raves', 'lawrence fhisburne', 'Carrie Anne Moss', 'Hugo Weaving', 'Joe Pantoliano', 'Marcus Chong', 'Paul GoddardGloria Foster']}, 'Fecha y lugar de estreno': {'1999, Estados Unidos'}, 'Estudio': {'Warner Bros'}, 'Trama': {'La Matrix es un ambiente de relación entre cosas y sucesos creado y controlado artificialmente. Una importante característica de la matrix es que en ella incluso las personas son consideradas cosas'}}\n"
          ]
        }
      ]
    },
    {
      "cell_type": "markdown",
      "metadata": {
        "id": "cC9Xh7TOMoRV"
      },
      "source": [
        "#Estructura de programación\n",
        "\n",
        "Se puede crear cualquier tipo de algoritmo empleando solamente 3 estructuras de control: \n",
        "\n",
        "1.- Secuencia: La representación de la memoria de programas, en esete caso se le llama \"la arquitectura Von Nuemman\" \n",
        "\n",
        "2.- Selección: Es la estructura de control que decide si un bloque de programas se ejetuan o no se ejecutan, también permite ejecutar un bloque entre un conjunto de opciones. \n",
        " *En resumen existen los siguientes tipos de selección \n",
        " *Simple, \n",
        " *Selección con bifurcación: que tiene 2 caminos\n",
        " *Selección multiple: que tiene multiples caminos \n",
        "\n",
        "3.- Repetición: Este tipo de estructura nos permite automatizar la ejecución repetitiva de código mientras ciertas condiciones se cumplen, tenemos 3 variantes en todos los lenguajes de programación\n",
        "\n",
        "-Desde...hasta, o también conocido como estrutura \"or\"\n",
        "\n",
        "-haz mientras (structura while) \n",
        "\n",
        "-haz y luego valida mientras (estructura Do-while) \n"
      ]
    },
    {
      "cell_type": "markdown",
      "metadata": {
        "id": "IZFptr51SL6u"
      },
      "source": [
        "#Selección simple \n",
        "-Documentar, o poner notas \n",
        "\n",
        "la estructura if \n",
        "''''\n",
        "if<condición> : \n",
        "   <Cuerpo del if> \n",
        "'''''\n",
        "\n",
        "**Nota: Para establecer el cuerpo de una estructura de control en python se usan los tabuladores a la izquierda \n",
        "\n",
        "En otros lenguajes de programacion como java, c y c++, se usan las llaves \n",
        "''''\n",
        "int edad =0; \n",
        "\n",
        "printf(\"dame tu edad\");  \n",
        "\n",
        "scanf(\"%i, &edad); \n",
        "\n",
        "if(edad>= 18){ \n",
        "\n",
        "  prinf(\"Eres mayor de edad\"); \n",
        "\n",
        "}\n",
        "\n",
        "prinf(\"FIn del programa\");"
      ]
    },
    {
      "cell_type": "code",
      "metadata": {
        "id": "dryqex4ZM3lW",
        "colab": {
          "base_uri": "https://localhost:8080/"
        },
        "outputId": "1e36bb27-64e7-4c25-b449-d0750dbb8e69"
      },
      "source": [
        "edad = int(input(\"Dame tu edad\")    )\n",
        "print(f\"Tecleaste {edad} años\") #Aquí f significa que se imprimira \"Tecleaste (___) años\"\n",
        "#y (___) será el valor imputado por el usuario\n",
        "if edad >= 18 : \n",
        "  print(\"ERES MAYOR DE EDAD\")\n",
        "  print(\"algo\")\n",
        "  print(\"otra cosa\")\n",
        "print(\"Fin del programa\") \n",
        "#Los tabuladores se utilizan para definir el cuerpo de la función \n"
      ],
      "execution_count": null,
      "outputs": [
        {
          "output_type": "stream",
          "name": "stdout",
          "text": [
            "Dame tu edad11\n",
            "Tecleaste 11 años\n",
            "Fin del programa\n"
          ]
        }
      ]
    },
    {
      "cell_type": "code",
      "metadata": {
        "id": "Nji2WD0CM2Rc",
        "colab": {
          "base_uri": "https://localhost:8080/"
        },
        "outputId": "9dce80d8-5f7a-4819-c67b-f7a5831d3a2c"
      },
      "source": [
        "CAL = float(input(\"Dame tu calificación:\"))\n",
        "if CAL>8: \n",
        "    print(\"aprobado\")\n",
        "print(\"Fin del programa\")"
      ],
      "execution_count": null,
      "outputs": [
        {
          "output_type": "stream",
          "name": "stdout",
          "text": [
            "Dame tu calificación:9\n",
            "aprobado\n",
            "Fin del programa\n"
          ]
        }
      ]
    },
    {
      "cell_type": "code",
      "metadata": {
        "id": "jUQQj_cUYYYn",
        "colab": {
          "base_uri": "https://localhost:8080/"
        },
        "outputId": "2aed215c-9891-42ca-fc88-efa0bd9a4dcc"
      },
      "source": [
        "SUE = float(input(\"Escribe el sueldo:\"))\n",
        "AUM = 0\n",
        "MSUE = 0 \n",
        "\n",
        "if SUE < 1000 : \n",
        "  AUM = SUE* 0.15\n",
        "  MSUE = SUE * AUM \n",
        "  print(MSUE)\n"
      ],
      "execution_count": null,
      "outputs": [
        {
          "output_type": "stream",
          "name": "stdout",
          "text": [
            "Escribe el sueldo:678\n",
            "68952.6\n"
          ]
        }
      ]
    },
    {
      "cell_type": "markdown",
      "metadata": {
        "id": "Q_qh3QcRHTLM"
      },
      "source": [
        "##\n",
        "\n",
        "ejecuta un bloque si la condición se cumple o se ejecuta otro bloque si la condición no se cumple \n",
        "\n",
        "''' \n",
        "if <condición>:\n",
        "\n",
        "    <bloque de ejecución>\n",
        "\n",
        "else: \n",
        "\n",
        "'''\n",
        "     <bloque de ejecución alterno>     "
      ]
    },
    {
      "cell_type": "code",
      "metadata": {
        "id": "jrtZO_skHtWn",
        "colab": {
          "base_uri": "https://localhost:8080/"
        },
        "outputId": "49581f4b-9ed3-40de-8119-9bd9d6250058"
      },
      "source": [
        "edad = int(input(\"Dame tu edad:\"))\n",
        "print(f\"Tecleaste {edad} años\")\n",
        "if edad >= 18:\n",
        "    print(\"Eres mayor de edad,ten tu cheve\")\n",
        "else:\n",
        "        print(\"Eres menor de edad, ten tu Boing\")\n",
        "print(\"fin del programa\")\n"
      ],
      "execution_count": null,
      "outputs": [
        {
          "output_type": "stream",
          "name": "stdout",
          "text": [
            "Dame tu edad:56\n",
            "Tecleaste 56 años\n",
            "Eres mayor de edad,ten tu cheve\n",
            "fin del programa\n"
          ]
        }
      ]
    },
    {
      "cell_type": "code",
      "metadata": {
        "id": "qIRDckUmJYBA",
        "colab": {
          "base_uri": "https://localhost:8080/",
          "height": 135
        },
        "outputId": "b41a2811-2ad1-4add-c776-3c280a86fcc8"
      },
      "source": [
        "edad = int(input(\"Dame tu edad:\"))\n",
        "dinero = float(input(\"Dame tu cantidad de dinero:\"))\n",
        "print(f\"Tecleaste {dinero} pesos\")\n",
        "print(f\"Tecleaste {edad} años\")\n",
        "if edad >= 18 and dinero => 36:\n",
        "    print(\"Eres mayor de edad,ten tu cheve\")\n",
        "else:\n",
        "        print(\"Eres menor de edad, ten tu Boing\")\n",
        "print(\"fin del programa\")"
      ],
      "execution_count": null,
      "outputs": [
        {
          "output_type": "error",
          "ename": "SyntaxError",
          "evalue": "ignored",
          "traceback": [
            "\u001b[0;36m  File \u001b[0;32m\"<ipython-input-8-11b7ca85347b>\"\u001b[0;36m, line \u001b[0;32m5\u001b[0m\n\u001b[0;31m    if edad >= 18 and dinero => 36:\u001b[0m\n\u001b[0m                             ^\u001b[0m\n\u001b[0;31mSyntaxError\u001b[0m\u001b[0;31m:\u001b[0m invalid syntax\n"
          ]
        }
      ]
    },
    {
      "cell_type": "code",
      "metadata": {
        "id": "hlvd0GyDLGjy",
        "colab": {
          "base_uri": "https://localhost:8080/",
          "height": 135
        },
        "outputId": "3b3178d3-d595-461c-8b48-aaddc4eb9c41"
      },
      "source": [
        "edad= int(input(\"Dame tu edad:\"))\n",
        "dinero= int(input(\"¿Cuánto dinero tienes\"))\n",
        "if edad >= 18:\n",
        "    if dinero >= 36:\n",
        "        print(\"Eres mayor de edad y tienes dinero, ten tu cheve\")\n",
        "    else:\n",
        "        print(\"Notienes suficiente dinero\")\n",
        "else: \n",
        "        print(\"Eres menor de edad, ten tu boing\")\n",
        "           print(\"fin del programa\")"
      ],
      "execution_count": null,
      "outputs": [
        {
          "output_type": "error",
          "ename": "IndentationError",
          "evalue": "ignored",
          "traceback": [
            "\u001b[0;36m  File \u001b[0;32m\"<ipython-input-23-915bb7f6e046>\"\u001b[0;36m, line \u001b[0;32m10\u001b[0m\n\u001b[0;31m    print(\"fin del programa\")\u001b[0m\n\u001b[0m    ^\u001b[0m\n\u001b[0;31mIndentationError\u001b[0m\u001b[0;31m:\u001b[0m unexpected indent\n"
          ]
        }
      ]
    },
    {
      "cell_type": "code",
      "metadata": {
        "id": "GprVUxYUNGWx"
      },
      "source": [
        "print(f\"Tecleaste {edad} años\")\n",
        "print(f\"Tecleaste{dinero} dinero\")\n",
        "if edad >= 18 :\n",
        "    if dinero > 36 :\n",
        "        print(\"Ten tu cheve\")\n",
        "        else:\n",
        "            print(\"Tienes la edad, pero no tienes el dinero suficiente\") "
      ],
      "execution_count": null,
      "outputs": []
    },
    {
      "cell_type": "code",
      "metadata": {
        "id": "VPveBRcCPnpx",
        "colab": {
          "base_uri": "https://localhost:8080/"
        },
        "outputId": "b972878f-a570-4922-d4ef-d48c01e814a5"
      },
      "source": [
        "#Ejemplo 2.4 \n",
        "SUE = float(input(\"Escribe el sueldo:\"))\n",
        "AUM =0 \n",
        "MSUE = 0 \n",
        "\n",
        "if SUE < 1000: \n",
        "    AUM = SUE * 0.15\n",
        "    NSUE = SUE + AUM\n",
        "    print(MSUE)\n",
        "else:\n",
        "    AUM = SUE *0.12\n",
        "    NSUE = SUE +AUM \n",
        "print(NSUE)\n"
      ],
      "execution_count": null,
      "outputs": [
        {
          "output_type": "stream",
          "name": "stdout",
          "text": [
            "Escribe el sueldo:1000\n",
            "1120.0\n"
          ]
        }
      ]
    },
    {
      "cell_type": "code",
      "metadata": {
        "id": "5Nj5JDIaRV3e",
        "colab": {
          "base_uri": "https://localhost:8080/"
        },
        "outputId": "8856a1f0-998d-43f2-c742-70bce4315696"
      },
      "source": [
        "#Ejercicio 2.4 forma alterna y con menos lineas \n",
        "SUE=float(input(\"Dame tu sueldo: \"))\n",
        "if SUE<1000:\n",
        "    NSUE=SUE*1.15\n",
        "else:\n",
        "    NSUE=SUE*1.12\n",
        "print(f\"Tu nuevo sueldo es: {NSUE}\")"
      ],
      "execution_count": null,
      "outputs": [
        {
          "output_type": "stream",
          "name": "stdout",
          "text": [
            "Dame tu sueldo: 1000\n",
            "Tu nuevo sueldo es: 1120.0\n"
          ]
        }
      ]
    },
    {
      "cell_type": "markdown",
      "metadata": {
        "id": "XJO-u6HRSHS4"
      },
      "source": [
        "#Ejercicio if -else\n",
        "###Hacer un programa que solicite el dia d ela semana en un valor numerico entero del1  1 al 7, avisarle al usiuario si le proporciono un valor fuera del rango \n",
        "\n",
        "### Posteriormente imprimira el dia de la smean acoprerspondiente al dnmum ero capturado\n",
        "\n",
        "1.- lunes... 7. domingo "
      ]
    },
    {
      "cell_type": "code",
      "metadata": {
        "id": "Vim5y8b2SBOj",
        "colab": {
          "base_uri": "https://localhost:8080/",
          "height": 135
        },
        "outputId": "02cc0e93-de35-4759-dbee-c252caeb0087"
      },
      "source": [
        "dias de la semana = {\"1:Lunes\", \"2:Martes\", \"3:Miercoles\", \"4:Jueves\", \"5:Viernes\" , \"6:Sabado\" ,\"7:Domingo\"}\n",
        "int(input(\"Dame un numero {dias de la semana}:\"))\n",
        "if dia >=0 and dia <= 7:\n",
        "    else:\n",
        "        print(\"El dia de la semeana no esta definido\")\n",
        "\n",
        "print(\"El dia de la semana es:\")\n",
        "#Mi solucion \n",
        "\n",
        "\n"
      ],
      "execution_count": null,
      "outputs": [
        {
          "output_type": "error",
          "ename": "SyntaxError",
          "evalue": "ignored",
          "traceback": [
            "\u001b[0;36m  File \u001b[0;32m\"<ipython-input-31-d5e49bd702d1>\"\u001b[0;36m, line \u001b[0;32m1\u001b[0m\n\u001b[0;31m    dias de la semana = {\"1:Lunes\", \"2:Martes\", \"3:Miercoles\", \"4:Jueves\", \"5:Viernes\" , \"6:Sabado\" ,\"7:Domingo\"}\u001b[0m\n\u001b[0m          ^\u001b[0m\n\u001b[0;31mSyntaxError\u001b[0m\u001b[0;31m:\u001b[0m invalid syntax\n"
          ]
        }
      ]
    },
    {
      "cell_type": "code",
      "metadata": {
        "id": "-ErkM2_UVa_7",
        "colab": {
          "base_uri": "https://localhost:8080/",
          "height": 135
        },
        "outputId": "4b31a0f2-86dd-4952-9b62-68d0512a0769"
      },
      "source": [
        "dia = int (input( \"ingresa un numero entre 1 y 7\"))\n",
        "print(f\"Capturaste el numero{dia}\")\n",
        "\n",
        "if dia =>1 and dia <=7:\n",
        "    if dia ==1:\n",
        "        print(\"Lunes\")\n",
        "    else:\n",
        "        if dia ==2:\n",
        "            print(\"Martes\")\n",
        "        else:\n",
        "            if dia ==3:\n",
        "                 print(\"Miercoles\")\n",
        "            else: \n",
        "                if dia ==4\n",
        "                    print(\"Jueves\")\n",
        "                else:\n",
        "                    if dia ==5\n",
        "                        print(\"Viernes \")\n",
        "                    else:\n",
        "                         if dia==6\n",
        "                            print(\"Sbado\")\n",
        "                        else:\n",
        "                             if dia ==7 \n",
        "                                 print(\"Domingo\")\n",
        "else:\n",
        "    print(\"Ese numero no esta dentro del rango solicitado\")        "
      ],
      "execution_count": null,
      "outputs": [
        {
          "output_type": "error",
          "ename": "SyntaxError",
          "evalue": "ignored",
          "traceback": [
            "\u001b[0;36m  File \u001b[0;32m\"<ipython-input-33-16a94e3bf47d>\"\u001b[0;36m, line \u001b[0;32m4\u001b[0m\n\u001b[0;31m    if dia =>1 and dia <=7:\u001b[0m\n\u001b[0m           ^\u001b[0m\n\u001b[0;31mSyntaxError\u001b[0m\u001b[0;31m:\u001b[0m invalid syntax\n"
          ]
        }
      ]
    },
    {
      "cell_type": "code",
      "metadata": {
        "id": "JkMQ47dRYDC1",
        "colab": {
          "base_uri": "https://localhost:8080/",
          "height": 135
        },
        "outputId": "74433dfe-597d-44b0-b83c-8d676a28e996"
      },
      "source": [
        "dia = int( input(\"Ingresa un numero entre 1 y 7:\"))\n",
        "print(f\"Capturaste el numero { dia }\")\n",
        "\n",
        "if dia >=1 and dia <= 7:\n",
        "    if dia == 1:\n",
        "        print(\"Lunes\")\n",
        "    else:\n",
        "        if dia == 2:\n",
        "            print(\"Martes\")\n",
        "        else:\n",
        "            if dia == 3:\n",
        "                print(\"Miércoles\")\n",
        "            else:\n",
        "                if dia == 4:\n",
        "                    print(\"Jueves\")\n",
        "                else:\n",
        "                    if dia == 5:\n",
        "                        print(\"Viernes\")\n",
        "                    else:\n",
        "     \n",
        "                       if dia == 6:\n",
        "                            print(\"Sábado\")\n",
        "                        else:\n",
        "                            print(\"Domingo\")\n",
        "\n",
        "else:\n",
        "    print(\"Ese numero no esta dentro del rango solicitado\")"
      ],
      "execution_count": null,
      "outputs": [
        {
          "output_type": "error",
          "ename": "IndentationError",
          "evalue": "ignored",
          "traceback": [
            "\u001b[0;36m  File \u001b[0;32m\"<ipython-input-34-29f7715e5c9f>\"\u001b[0;36m, line \u001b[0;32m23\u001b[0m\n\u001b[0;31m    else:\u001b[0m\n\u001b[0m         ^\u001b[0m\n\u001b[0;31mIndentationError\u001b[0m\u001b[0;31m:\u001b[0m unindent does not match any outer indentation level\n"
          ]
        }
      ]
    },
    {
      "cell_type": "code",
      "metadata": {
        "id": "KqguvRK6TSbe",
        "colab": {
          "base_uri": "https://localhost:8080/"
        },
        "outputId": "b9622a0e-ff33-4e70-d04b-2999f6346cea"
      },
      "source": [
        "dia=int(input(\"Dame el día de la semana del 1-7: \"))\n",
        "if dia is 1:dia \n",
        "    print(\"LUNES\")\n",
        "elif dia is 2:\n",
        "    print(\"MARTES\")\n",
        "elif dia is 3:\n",
        "    print(\"MIERCOLES\")\n",
        "elif dia is 4:\n",
        "    print(\"JUEVES\")\n",
        "elif dia is 5:\n",
        "    print(\"VIERNES\")\n",
        "elif dia is 6:\n",
        "    print(\"SÁBADO\")\n",
        "elif dia is 7:\n",
        "    print(\"DOMINGO\")\n",
        "else:\n",
        "    print(\"Debe ser un numero del 1 al 7, ingresa nuevamente\")"
      ],
      "execution_count": null,
      "outputs": [
        {
          "output_type": "stream",
          "name": "stdout",
          "text": [
            "Dame el día de la semana del 1-7: 3\n",
            "MIERCOLES\n"
          ]
        }
      ]
    },
    {
      "cell_type": "markdown",
      "metadata": {
        "id": "78V03G5oZo5y"
      },
      "source": [
        "##3Hacer un programa que pida dos numros enterose imprima en pantalla el siguiente resultado \n",
        "\n",
        "1.- cual de ellos es el numero mayor \n",
        "\n",
        "2.- Cual de ellos es el numero menor o en su defencto imprimir que los valores son iguales \n",
        "ESTo es de tarea \n",
        "\n",
        "###Hacer un progrma que solicite tres numero enteros diferentes entre si y que imprima cual de los 3 es el mayor \n",
        "\n",
        "####Hacer un programa que solicite 3 numeros entereos diferentes entre si y que imprima cual de los 3 numeros es el menor \n",
        "\n",
        "\n",
        "###hacer un programa que solicite 4 numeros que solicite 4 numeros enteros diferentes y que  imprima cual de elos es el menor y cual de ellos es el menor "
      ]
    },
    {
      "cell_type": "markdown",
      "metadata": {
        "id": "4_uCJRgYa_EL"
      },
      "source": [
        "#Selección multiple (switch) \n",
        "En python no existe la estructura de selección swithc, en su lugar se emplea la palabra reservada: \n",
        "\n",
        "##elif <condificion>\n",
        "\n",
        "Por ejemplo en lenguaje Cy java seria de la forma:\n",
        "\n",
        "'''\n",
        "float SUE = 0.0;\n",
        "int CATE = 0;\n",
        "\n",
        "printf(\"Introduce la categoria:\");\n",
        "scanf(\"&i\", &CATE);\n",
        "printf(\"Introduce el sueldo:\");\n",
        "scanf(\"&f, &SUE);\n",
        "\n",
        "switch (CATE {\n",
        "\n",
        "    case 1:  \n",
        "    if CATE == 1: \n",
        "    SUE = SUE *1.15;\n",
        "    break;\n",
        "\n",
        "    case 2:\n",
        "    CATE == 2: \n",
        "    SUE = SUE *1.10;\n",
        "    break;\n",
        "\n",
        "    case 3:\n",
        "    CATE == 3: \n",
        "    SUE = SUE *1.08;\n",
        "    break;\n",
        "\n",
        "    case 4:\n",
        "    CATE == 4: \n",
        "    SUE = SUE *1.07;\n",
        "    break;\n",
        "\n",
        "    }\n",
        "prinft(\"Categorias = &i, Sueldo = &f, CATE,SUE\")\n"
      ]
    },
    {
      "cell_type": "code",
      "metadata": {
        "id": "qNoy9Jz-c1nW"
      },
      "source": [
        "#ejemplo 2.7\n",
        "\n",
        "NUM = int(input(\"Dame un numero entre 1 y 3:\"))\n",
        "V = float(input(\"Dame un valor float:\"))\n",
        "VAL = 0 \n",
        "if NUM == 1: \n",
        "    VAL = 100 *V \n",
        "elif NUM ==2: \n",
        "    VAL =100**V\n",
        "elif NUM ==3:\n",
        "    "
      ],
      "execution_count": null,
      "outputs": []
    },
    {
      "cell_type": "markdown",
      "metadata": {
        "id": "JClD11Iqzz9h"
      },
      "source": [
        ""
      ]
    },
    {
      "cell_type": "code",
      "metadata": {
        "id": "epbFIAA12ABa",
        "outputId": "8d8c83ac-5d8d-47ab-9220-1a7b33da33d1",
        "colab": {
          "base_uri": "https://localhost:8080/"
        }
      },
      "source": [
        "#Ejemplo 2.8 \n",
        "\n",
        "CATE = int(input(\"Introduce la categoria:\"))\n",
        "SUE = float(input(\"Introcue el sueldo:\"))\n",
        "\n",
        "if CATE == 1: \n",
        "    SUE = SUE *1.15;\n",
        "elif CATE == 2: \n",
        "    SUE = SUE *1.10;\n",
        "elif CATE == 3: \n",
        "    SUE = SUE *1.08;\n",
        "elif CATE == 4: \n",
        "    SUE = SUE *1.07;\n",
        "print(f\"Categoría = {CATE}, Sueldo = {SUE}\")\n"
      ],
      "execution_count": 2,
      "outputs": [
        {
          "output_type": "stream",
          "name": "stdout",
          "text": [
            "Introduce la categoria:2\n",
            "Introcue el sueldo:1999\n",
            "Categoría = 2, Sueldo = 2198.9\n"
          ]
        }
      ]
    },
    {
      "cell_type": "code",
      "metadata": {
        "id": "o2YrNWnT5KWv",
        "outputId": "c16917d1-5fd1-452d-cc56-a16c07a40187",
        "colab": {
          "base_uri": "https://localhost:8080/"
        }
      },
      "source": [
        "#Ejemplo 2.12, Ejercicio \n",
        "A = int(input(\"Ingrese un número:\"))\n",
        "B = int(input(\"Ingrese otro número:\"))\n",
        "C = int(input(\"Ingrese otro número diferente de los dos números anteriores:\"))\n",
        "if A > B:\n",
        "    if A > C:\n",
        "        if B > C:\n",
        "            print(f\"El orden de los números es: {A}, {B} y {C}\")\n",
        "        else:\n",
        "            print(f\"El orden de los números es: {A}, {C} y {B}\")\n",
        "    else:\n",
        "            print(f\"El orden de los números es: {C}, {A} y {B}\")\n",
        "else:\n",
        "    if B > C:\n",
        "        if A > C:\n",
        "            print(f\"El orden de los números es: {B}, {A} y {C}\")\n",
        "        else:\n",
        "            print(f\"El orden de los números es: {B}, {C} y {A}\")\n",
        "    else:\n",
        "            print(f\"El orden de los números es: {C}, {B} y {A}\")\n",
        "print(\"Fin del programa\") \n",
        "\n",
        "#¿Este algoritmo podría escribirse con menos varialbes de entrada, y de ser así puede escribirlo?\n",
        "#¿Puede este algoritmo escribirse en menos líneas de código? de ser así trate de hacerlo \n",
        "\n",
        "#Hacer ejercicios de todo el capitulo 2"
      ],
      "execution_count": 11,
      "outputs": [
        {
          "output_type": "stream",
          "name": "stdout",
          "text": [
            "Ingrese un número:4\n",
            "Ingrese otro número:7\n",
            "Ingrese otro número diferente de los dos números anteriores:6\n",
            "El orden de los números es: 7, 6 y 4\n",
            "Fin del programa\n"
          ]
        }
      ]
    },
    {
      "cell_type": "markdown",
      "metadata": {
        "id": "vkRP9kjcBNJy"
      },
      "source": [
        "#Tarea, resolver todos los ejerccios del capitulo 2, del 2.1 al 2.13 "
      ]
    },
    {
      "cell_type": "code",
      "metadata": {
        "id": "r4B4dRRlB3Tm",
        "outputId": "75ef5025-4d19-4e93-849e-af188077023a",
        "colab": {
          "base_uri": "https://localhost:8080/"
        }
      },
      "source": [
        "#Problema 2.14 \n",
        "\n",
        "TIPOENF = int(input(\"Introduce el tipo de enfermedad:\"))\n",
        "EDAD = int(input(\"Introuce la edad:\"))\n",
        "DIAS = int(input(\"Introduce el número de días\"))\n",
        "COSTO = 0.0 \n",
        "\n",
        "if TIPOENF == 1:\n",
        "    COSTO = DIAS *25.0\n",
        "elif TIPOENF == 2:\n",
        "    COSTO = DIAS * 16.0 \n",
        "elif TIPOENF == 3:\n",
        "    COSTO = DIAS *20.0 \n",
        "elif TIPOENF ==4: \n",
        "    COSTO = DIAS *32.0\n",
        "\n",
        "if EDAD >= 14 and EDAD <= 22:\n",
        "    COSTO  = COSTO *1.10\n",
        "\n",
        "print(\"Costo total = $\", COSTO)\n",
        "#El programa también funciona con las siguientes lineas\n",
        "# print(F\"Se pago ${COSTO})\n",
        "\n"
      ],
      "execution_count": 14,
      "outputs": [
        {
          "output_type": "stream",
          "name": "stdout",
          "text": [
            "Introduce el tipo de enfermedad:1\n",
            "Introuce la edad:41\n",
            "Introduce el número de días12\n",
            "Costo total = $ 300.0\n"
          ]
        }
      ]
    }
  ]
}