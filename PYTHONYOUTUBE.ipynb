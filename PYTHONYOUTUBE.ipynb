{
  "nbformat": 4,
  "nbformat_minor": 0,
  "metadata": {
    "colab": {
      "provenance": [],
      "authorship_tag": "ABX9TyO1TQQcgbVxmBft0i1pLl46",
      "include_colab_link": true
    },
    "kernelspec": {
      "name": "python3",
      "display_name": "Python 3"
    },
    "language_info": {
      "name": "python"
    }
  },
  "cells": [
    {
      "cell_type": "markdown",
      "metadata": {
        "id": "view-in-github",
        "colab_type": "text"
      },
      "source": [
        "<a href=\"https://colab.research.google.com/github/leonardolunamoreno/Computadoras-y-programaci-n2021-grupo-1157/blob/main/PYTHONYOUTUBE.ipynb\" target=\"_parent\"><img src=\"https://colab.research.google.com/assets/colab-badge.svg\" alt=\"Open In Colab\"/></a>"
      ]
    },
    {
      "cell_type": "code",
      "source": [
        "print(\"Hola de nuevo\");print(\"Leonardo Luna\")\n",
        "# Permite unir dos comandos print en una misma línea \n",
        "# E imprime ambas líneas, una tras otra, en la consola "
      ],
      "metadata": {
        "colab": {
          "base_uri": "https://localhost:8080/",
          "height": 0
        },
        "id": "9sE0MMNbL00B",
        "outputId": "cffe1cdd-500d-43d4-dc4b-11680cccaceb"
      },
      "execution_count": 2,
      "outputs": [
        {
          "output_type": "stream",
          "name": "stdout",
          "text": [
            "Hola de nuevo\n",
            "Leonardo Luna\n"
          ]
        }
      ]
    },
    {
      "cell_type": "code",
      "source": [
        "# Declarar una variable\n",
        "mi_nombre = \"Mí nombre es él Leonardo Alexis Luna Moreno\"\n",
        "mi_nombre # Muestra los valores que asignamos a la variable 'mi_nombre'"
      ],
      "metadata": {
        "colab": {
          "base_uri": "https://localhost:8080/",
          "height": 35
        },
        "id": "Lg9e47cnM7Tu",
        "outputId": "b406d3e0-278b-4567-e292-e90d86993537"
      },
      "execution_count": 6,
      "outputs": [
        {
          "output_type": "execute_result",
          "data": {
            "text/plain": [
              "'Mí nombre es él Leonardo Alexis Luna Moreno'"
            ],
            "application/vnd.google.colaboratory.intrinsic+json": {
              "type": "string"
            }
          },
          "metadata": {},
          "execution_count": 6
        }
      ]
    },
    {
      "cell_type": "code",
      "source": [
        "# Escribir usando saltos de línea\n",
        "mi_nombre = \"Mí nombre es él \\\n",
        "Leonardo Alexis Luna Moreno\" # Permite escribir la variable por separado\n",
        "mi_nombre # Muestra los valores que asignamos a la variable 'mi_nombre'"
      ],
      "metadata": {
        "colab": {
          "base_uri": "https://localhost:8080/",
          "height": 35
        },
        "id": "G3HHIOgVOoRu",
        "outputId": "f0de8f44-a8c6-41f1-c1e9-cce594a0501e"
      },
      "execution_count": 7,
      "outputs": [
        {
          "output_type": "execute_result",
          "data": {
            "text/plain": [
              "'Mí nombre es él Leonardo Alexis Luna Moreno'"
            ],
            "application/vnd.google.colaboratory.intrinsic+json": {
              "type": "string"
            }
          },
          "metadata": {},
          "execution_count": 7
        }
      ]
    },
    {
      "cell_type": "code",
      "source": [
        "a = 5  # Se declara la variable a, con el valor inicial 0\n",
        "for i in range(8): # Se establece una condición: para i, en el rango de valor 5, que será el número de iteraciones del programa \n",
        "    a += 5 # Sumar el valor de 1 a la variable a, en cada iteración\n",
        "    print(a)\n",
        "# Con esté código tan simple, se pueden modelar progresiones aritméticas\n",
        "\n",
        "# Puedo utilizarla en métodos númericos, para calcular valores\n",
        "# Puedo utilizarla para calcular series de potencias en métodos númericos\n"
      ],
      "metadata": {
        "colab": {
          "base_uri": "https://localhost:8080/",
          "height": 0
        },
        "id": "rBUvXTPNPXC9",
        "outputId": "2c4c9662-8dec-45c4-991a-3a6ca548a9be"
      },
      "execution_count": 24,
      "outputs": [
        {
          "output_type": "stream",
          "name": "stdout",
          "text": [
            "10\n",
            "15\n",
            "20\n",
            "25\n",
            "30\n",
            "35\n",
            "40\n",
            "45\n"
          ]
        }
      ]
    },
    {
      "cell_type": "code",
      "source": [
        "a = 8760  # Se declara la variable a, con el valor inicial 8760\n",
        "for i in range(365): \n",
        "    a -= 24 # ar el valor de  a la variable a, en cada iteración\n",
        "    print(a)\n",
        "# Antes de escribir estás líneas salí a caminar al patio, y hacia menos de un minuto que me había aprendido el método \n",
        "# Cuando volví al teclado escribí la solución de la sucesión aritmética del año en un momento"
      ],
      "metadata": {
        "colab": {
          "base_uri": "https://localhost:8080/",
          "height": 0
        },
        "id": "B_fzESP_PnCv",
        "outputId": "020ea4ff-0509-4c4c-fcf1-422cfd5aece7"
      },
      "execution_count": 25,
      "outputs": [
        {
          "output_type": "stream",
          "name": "stdout",
          "text": [
            "8736\n",
            "8712\n",
            "8688\n",
            "8664\n",
            "8640\n",
            "8616\n",
            "8592\n",
            "8568\n",
            "8544\n",
            "8520\n",
            "8496\n",
            "8472\n",
            "8448\n",
            "8424\n",
            "8400\n",
            "8376\n",
            "8352\n",
            "8328\n",
            "8304\n",
            "8280\n",
            "8256\n",
            "8232\n",
            "8208\n",
            "8184\n",
            "8160\n",
            "8136\n",
            "8112\n",
            "8088\n",
            "8064\n",
            "8040\n",
            "8016\n",
            "7992\n",
            "7968\n",
            "7944\n",
            "7920\n",
            "7896\n",
            "7872\n",
            "7848\n",
            "7824\n",
            "7800\n",
            "7776\n",
            "7752\n",
            "7728\n",
            "7704\n",
            "7680\n",
            "7656\n",
            "7632\n",
            "7608\n",
            "7584\n",
            "7560\n",
            "7536\n",
            "7512\n",
            "7488\n",
            "7464\n",
            "7440\n",
            "7416\n",
            "7392\n",
            "7368\n",
            "7344\n",
            "7320\n",
            "7296\n",
            "7272\n",
            "7248\n",
            "7224\n",
            "7200\n",
            "7176\n",
            "7152\n",
            "7128\n",
            "7104\n",
            "7080\n",
            "7056\n",
            "7032\n",
            "7008\n",
            "6984\n",
            "6960\n",
            "6936\n",
            "6912\n",
            "6888\n",
            "6864\n",
            "6840\n",
            "6816\n",
            "6792\n",
            "6768\n",
            "6744\n",
            "6720\n",
            "6696\n",
            "6672\n",
            "6648\n",
            "6624\n",
            "6600\n",
            "6576\n",
            "6552\n",
            "6528\n",
            "6504\n",
            "6480\n",
            "6456\n",
            "6432\n",
            "6408\n",
            "6384\n",
            "6360\n",
            "6336\n",
            "6312\n",
            "6288\n",
            "6264\n",
            "6240\n",
            "6216\n",
            "6192\n",
            "6168\n",
            "6144\n",
            "6120\n",
            "6096\n",
            "6072\n",
            "6048\n",
            "6024\n",
            "6000\n",
            "5976\n",
            "5952\n",
            "5928\n",
            "5904\n",
            "5880\n",
            "5856\n",
            "5832\n",
            "5808\n",
            "5784\n",
            "5760\n",
            "5736\n",
            "5712\n",
            "5688\n",
            "5664\n",
            "5640\n",
            "5616\n",
            "5592\n",
            "5568\n",
            "5544\n",
            "5520\n",
            "5496\n",
            "5472\n",
            "5448\n",
            "5424\n",
            "5400\n",
            "5376\n",
            "5352\n",
            "5328\n",
            "5304\n",
            "5280\n",
            "5256\n",
            "5232\n",
            "5208\n",
            "5184\n",
            "5160\n",
            "5136\n",
            "5112\n",
            "5088\n",
            "5064\n",
            "5040\n",
            "5016\n",
            "4992\n",
            "4968\n",
            "4944\n",
            "4920\n",
            "4896\n",
            "4872\n",
            "4848\n",
            "4824\n",
            "4800\n",
            "4776\n",
            "4752\n",
            "4728\n",
            "4704\n",
            "4680\n",
            "4656\n",
            "4632\n",
            "4608\n",
            "4584\n",
            "4560\n",
            "4536\n",
            "4512\n",
            "4488\n",
            "4464\n",
            "4440\n",
            "4416\n",
            "4392\n",
            "4368\n",
            "4344\n",
            "4320\n",
            "4296\n",
            "4272\n",
            "4248\n",
            "4224\n",
            "4200\n",
            "4176\n",
            "4152\n",
            "4128\n",
            "4104\n",
            "4080\n",
            "4056\n",
            "4032\n",
            "4008\n",
            "3984\n",
            "3960\n",
            "3936\n",
            "3912\n",
            "3888\n",
            "3864\n",
            "3840\n",
            "3816\n",
            "3792\n",
            "3768\n",
            "3744\n",
            "3720\n",
            "3696\n",
            "3672\n",
            "3648\n",
            "3624\n",
            "3600\n",
            "3576\n",
            "3552\n",
            "3528\n",
            "3504\n",
            "3480\n",
            "3456\n",
            "3432\n",
            "3408\n",
            "3384\n",
            "3360\n",
            "3336\n",
            "3312\n",
            "3288\n",
            "3264\n",
            "3240\n",
            "3216\n",
            "3192\n",
            "3168\n",
            "3144\n",
            "3120\n",
            "3096\n",
            "3072\n",
            "3048\n",
            "3024\n",
            "3000\n",
            "2976\n",
            "2952\n",
            "2928\n",
            "2904\n",
            "2880\n",
            "2856\n",
            "2832\n",
            "2808\n",
            "2784\n",
            "2760\n",
            "2736\n",
            "2712\n",
            "2688\n",
            "2664\n",
            "2640\n",
            "2616\n",
            "2592\n",
            "2568\n",
            "2544\n",
            "2520\n",
            "2496\n",
            "2472\n",
            "2448\n",
            "2424\n",
            "2400\n",
            "2376\n",
            "2352\n",
            "2328\n",
            "2304\n",
            "2280\n",
            "2256\n",
            "2232\n",
            "2208\n",
            "2184\n",
            "2160\n",
            "2136\n",
            "2112\n",
            "2088\n",
            "2064\n",
            "2040\n",
            "2016\n",
            "1992\n",
            "1968\n",
            "1944\n",
            "1920\n",
            "1896\n",
            "1872\n",
            "1848\n",
            "1824\n",
            "1800\n",
            "1776\n",
            "1752\n",
            "1728\n",
            "1704\n",
            "1680\n",
            "1656\n",
            "1632\n",
            "1608\n",
            "1584\n",
            "1560\n",
            "1536\n",
            "1512\n",
            "1488\n",
            "1464\n",
            "1440\n",
            "1416\n",
            "1392\n",
            "1368\n",
            "1344\n",
            "1320\n",
            "1296\n",
            "1272\n",
            "1248\n",
            "1224\n",
            "1200\n",
            "1176\n",
            "1152\n",
            "1128\n",
            "1104\n",
            "1080\n",
            "1056\n",
            "1032\n",
            "1008\n",
            "984\n",
            "960\n",
            "936\n",
            "912\n",
            "888\n",
            "864\n",
            "840\n",
            "816\n",
            "792\n",
            "768\n",
            "744\n",
            "720\n",
            "696\n",
            "672\n",
            "648\n",
            "624\n",
            "600\n",
            "576\n",
            "552\n",
            "528\n",
            "504\n",
            "480\n",
            "456\n",
            "432\n",
            "408\n",
            "384\n",
            "360\n",
            "336\n",
            "312\n",
            "288\n",
            "264\n",
            "240\n",
            "216\n",
            "192\n",
            "168\n",
            "144\n",
            "120\n",
            "96\n",
            "72\n",
            "48\n",
            "24\n",
            "0\n"
          ]
        }
      ]
    },
    {
      "cell_type": "code",
      "source": [
        "# Espacio de la memoria del ordenador \n",
        "# donde se almacenará un valor que podrá cambiar durante \n",
        "# la ejecución del programa \n",
        "\n",
        "5+6 # Sumar números "
      ],
      "metadata": {
        "colab": {
          "base_uri": "https://localhost:8080/",
          "height": 0
        },
        "id": "bPqB66632qCO",
        "outputId": "c90c960a-0d8d-4f52-c8b8-289ebd02a101"
      },
      "execution_count": 33,
      "outputs": [
        {
          "output_type": "execute_result",
          "data": {
            "text/plain": [
              "11"
            ]
          },
          "metadata": {},
          "execution_count": 33
        }
      ]
    },
    {
      "cell_type": "code",
      "source": [
        "10 % 3 # Operación modulo, resto de una división "
      ],
      "metadata": {
        "colab": {
          "base_uri": "https://localhost:8080/",
          "height": 0
        },
        "id": "qairzpIC6egb",
        "outputId": "a77c1dd3-df71-4749-b762-7f42e1146325"
      },
      "execution_count": 32,
      "outputs": [
        {
          "output_type": "execute_result",
          "data": {
            "text/plain": [
              "1"
            ]
          },
          "metadata": {},
          "execution_count": 32
        }
      ]
    },
    {
      "cell_type": "code",
      "source": [
        "10**3 # Exponente de un número, aquí tenemos a 10 elevado al cubo "
      ],
      "metadata": {
        "colab": {
          "base_uri": "https://localhost:8080/",
          "height": 0
        },
        "id": "kdzainw76gwE",
        "outputId": "0bc341d3-f07f-4279-8cd5-b87075b6d9b7"
      },
      "execution_count": 34,
      "outputs": [
        {
          "output_type": "execute_result",
          "data": {
            "text/plain": [
              "1000"
            ]
          },
          "metadata": {},
          "execution_count": 34
        }
      ]
    },
    {
      "cell_type": "code",
      "source": [
        "9/2 # División con punto flotante "
      ],
      "metadata": {
        "colab": {
          "base_uri": "https://localhost:8080/",
          "height": 0
        },
        "id": "2LjeDdDU6oY7",
        "outputId": "d0912d75-6b3f-4671-9575-f32f49c4a8c4"
      },
      "execution_count": 38,
      "outputs": [
        {
          "output_type": "execute_result",
          "data": {
            "text/plain": [
              "4.5"
            ]
          },
          "metadata": {},
          "execution_count": 38
        }
      ]
    },
    {
      "cell_type": "code",
      "source": [
        "9//2 # División cerrada "
      ],
      "metadata": {
        "colab": {
          "base_uri": "https://localhost:8080/",
          "height": 0
        },
        "id": "OW79t2Xh6wO9",
        "outputId": "059f434a-805b-44b5-8166-c07988a806f4"
      },
      "execution_count": 37,
      "outputs": [
        {
          "output_type": "execute_result",
          "data": {
            "text/plain": [
              "4"
            ]
          },
          "metadata": {},
          "execution_count": 37
        }
      ]
    },
    {
      "cell_type": "code",
      "source": [
        "# En python el tipo de variable lo establece el contenido \n",
        "# de la variable\n",
        "\n",
        "# Contenedor de un objeto = Objeto dentro del contenedor \n",
        "nombre = 5 \n",
        "type(nombre)  "
      ],
      "metadata": {
        "colab": {
          "base_uri": "https://localhost:8080/",
          "height": 0
        },
        "id": "I5m7reBf66JE",
        "outputId": "c83fda39-6936-48b2-cec5-fa2eee3bd553"
      },
      "execution_count": 39,
      "outputs": [
        {
          "output_type": "execute_result",
          "data": {
            "text/plain": [
              "int"
            ]
          },
          "metadata": {},
          "execution_count": 39
        }
      ]
    },
    {
      "cell_type": "code",
      "source": [
        "nombre = \"Leonardo\"\n",
        "type(nombre)  "
      ],
      "metadata": {
        "colab": {
          "base_uri": "https://localhost:8080/",
          "height": 0
        },
        "id": "6X-q89dP-L_K",
        "outputId": "9ccfc429-ae53-4554-9852-8ee9b4db43c4"
      },
      "execution_count": 41,
      "outputs": [
        {
          "output_type": "execute_result",
          "data": {
            "text/plain": [
              "str"
            ]
          },
          "metadata": {},
          "execution_count": 41
        }
      ]
    },
    {
      "cell_type": "code",
      "source": [
        "nombre = 422.0\n",
        "type(nombre)  "
      ],
      "metadata": {
        "colab": {
          "base_uri": "https://localhost:8080/",
          "height": 0
        },
        "id": "lkuYC8rq-Xmb",
        "outputId": "6585e930-3bb8-41be-b609-ba830874ea2b"
      },
      "execution_count": 42,
      "outputs": [
        {
          "output_type": "execute_result",
          "data": {
            "text/plain": [
              "float"
            ]
          },
          "metadata": {},
          "execution_count": 42
        }
      ]
    },
    {
      "cell_type": "code",
      "source": [
        "mensaje = \"\"\" Buenos días damas y caballeros \n",
        "somos el entretenimiento \"\"\" \n",
        "print(mensaje) # Permite imprimir el mensaje de esta forma "
      ],
      "metadata": {
        "colab": {
          "base_uri": "https://localhost:8080/",
          "height": 0
        },
        "id": "4J4NTFy6-rHc",
        "outputId": "06d6630e-3197-4375-bc51-62fc63a09ede"
      },
      "execution_count": 44,
      "outputs": [
        {
          "output_type": "stream",
          "name": "stdout",
          "text": [
            " Buenos días damas y caballeros \n",
            "somos el entretenimiento \n"
          ]
        }
      ]
    },
    {
      "cell_type": "code",
      "source": [
        "# Está es la estructura mostrada en el video\n",
        "numero1 = 5 \n",
        "numero2 = 7 \n",
        "if numero1>numero2: \n",
        "    print(\"El número 1 es mayor\")\n",
        "else: \n",
        "    print(\"El número 2 es mayor\")"
      ],
      "metadata": {
        "colab": {
          "base_uri": "https://localhost:8080/",
          "height": 0
        },
        "id": "Ou8kjiVCAEEl",
        "outputId": "3182f49b-3508-422f-bec4-5151fbd73f24"
      },
      "execution_count": 46,
      "outputs": [
        {
          "output_type": "stream",
          "name": "stdout",
          "text": [
            "El número 2 es mayor\n"
          ]
        }
      ]
    },
    {
      "cell_type": "code",
      "source": [
        "# Estructura condicional\n",
        "# Código escrito por mí \n",
        "numero1 = 1\n",
        "numero2 = 1\n",
        "if numero1==numero2: \n",
        "    print(\"Ambos números son iguales\")\n",
        "else: \n",
        "    if numero1<numero2:\n",
        "        print(\"El número 2 es mayor\")\n",
        "    else:\n",
        "        print(\"El número 1 es mayor\")"
      ],
      "metadata": {
        "colab": {
          "base_uri": "https://localhost:8080/"
        },
        "id": "GUoDN3hWB3iU",
        "outputId": "8a1a4321-8c0e-4f29-d8d7-bc9c2e206d19"
      },
      "execution_count": 49,
      "outputs": [
        {
          "output_type": "stream",
          "name": "stdout",
          "text": [
            "Ambos números son iguales\n"
          ]
        }
      ]
    },
    {
      "cell_type": "code",
      "source": [
        "# Fuciones en Python \n",
        "# Conjunto de líneas de código agrupadas (bloque de código)\n",
        "# que funciona como una unidad realizando una tarea específica\n",
        "\n",
        "# Las funciones en Python pueden devolver valores \n",
        "\n",
        "# Las funciones en Python pueden tener parámetros/argumentos \n",
        "\n",
        "# A las funciones también se les denomina \" métodos \" cuando se \n",
        "# encuentran definidas dentr de una clase \n",
        "\n",
        "# La utilidad de las funciones es el hecho de que se puede \n",
        "# reutilizar el código ( cuando sea o siempre que sea necesario)\n",
        "\n",
        "\n",
        "# Sintaxis de una función en python \n",
        "\n",
        "# def nombre_función():\n",
        "#     * Instrucciones de la función\n",
        "#     * return (opcional)   \n",
        "\n",
        "# def nombre_función(parámetros)\n",
        "#     * Instrucciones de la función\n",
        "#     * return (opcional)"
      ],
      "metadata": {
        "id": "iNFMvqsxGtV9"
      },
      "execution_count": null,
      "outputs": []
    },
    {
      "cell_type": "markdown",
      "source": [],
      "metadata": {
        "id": "RZ3YONWcL0e-"
      }
    },
    {
      "cell_type": "code",
      "source": [
        "a = float(input(\"Ingrese el valor 'a' del intervalo: \"))\n",
        "b = float(input(\"Ingrese el valor 'b' del intervalo: \"))\n",
        "for i in range(3): # Se establece una condición: para i, en el rango de valor 5, que será el número de iteraciones del programa \n",
        "    cn = (a+b) / 2  # Sumar el valor de 1 a la variable a, en cada iteración\n",
        "    print(f\"{cn}\")\n",
        "    for i in range(3): # Se establece una condición: para i, en el rango de valor 5, que será el número de iteraciones del programa \n",
        "        cn = (a+b) / 2  # Sumar el valor de 1 a la variable a, en cada iteración\n",
        "        print(f\"{cn}\")\n",
        "    \n",
        "# print(f\"El valor C(n) para la siguiente iteración es:{cn}\")"
      ],
      "metadata": {
        "id": "tTOZqWaQqSNF",
        "colab": {
          "base_uri": "https://localhost:8080/",
          "height": 0
        },
        "outputId": "9a73c73f-c470-4e1d-8980-3b3316dbfb1f"
      },
      "execution_count": 27,
      "outputs": [
        {
          "output_type": "stream",
          "name": "stdout",
          "text": [
            "Ingrese el valor 'a' del intervalo: 1\n",
            "Ingrese el valor 'b' del intervalo: 2\n",
            "1.5\n",
            "1.5\n",
            "1.5\n",
            "1.5\n",
            "1.5\n",
            "1.5\n",
            "1.5\n",
            "1.5\n",
            "1.5\n",
            "1.5\n",
            "1.5\n",
            "1.5\n"
          ]
        }
      ]
    },
    {
      "cell_type": "code",
      "source": [
        "# Aquí construi la función de la tarea 1 y la evalue con c1 = 1.5, f(Cn) = 4.5938, que concuerda con los valores obtenidos \n",
        "a = 1.5*1.5*1.5*1.5*1.5 - 2*1.5\n",
        "print(f\" {a}\")"
      ],
      "metadata": {
        "colab": {
          "base_uri": "https://localhost:8080/"
        },
        "id": "qdLIl2YtKH0m",
        "outputId": "181d2eb9-47fe-4f71-ee04-bd7ee84e425d"
      },
      "execution_count": null,
      "outputs": [
        {
          "output_type": "stream",
          "name": "stdout",
          "text": [
            " 4.59375\n"
          ]
        }
      ]
    },
    {
      "cell_type": "code",
      "source": [
        "import math \n",
        "print(math.pow(2,3)) # Esto significa, 2 elevado a la potencia 3, osease 2 al cubo igual a 8 "
      ],
      "metadata": {
        "id": "qy48vbYnK2Mq"
      },
      "execution_count": null,
      "outputs": []
    },
    {
      "cell_type": "code",
      "source": [
        "# Aquí he resuelto el problema para \n",
        "import math \n",
        "a = math.pow(1.5,5) - 2 * (1.5)\n",
        "print(f\" {a}\")"
      ],
      "metadata": {
        "colab": {
          "base_uri": "https://localhost:8080/"
        },
        "id": "5Tl9n2tmKnBT",
        "outputId": "1068bcb8-c64b-459a-eb14-33643bb9b953"
      },
      "execution_count": null,
      "outputs": [
        {
          "output_type": "stream",
          "name": "stdout",
          "text": [
            " 4.59375\n"
          ]
        }
      ]
    },
    {
      "cell_type": "code",
      "source": [],
      "metadata": {
        "id": "680CXRkSLtdk"
      },
      "execution_count": null,
      "outputs": []
    },
    {
      "cell_type": "code",
      "source": [],
      "metadata": {
        "id": "bB33H3yULgbZ"
      },
      "execution_count": null,
      "outputs": []
    },
    {
      "cell_type": "code",
      "source": [
        "# Interfaz actualizada de estructura de datos\n",
        "from tkinter import * \n",
        "import tkinter as tk   \n",
        "import datetime \n",
        "from datetime import date \n",
        "import time \n",
        "\n",
        "class Ventana():        \n",
        "    def __init__(self):    \n",
        "            # Ventana principal \n",
        "            self.ventana = tk.Tk()\n",
        "            self.ventana.iconbitmap(\"../pythonprog/graphics/mad.ico\") \n",
        "            self.ventana.geometry(\"750x150\") \n",
        "            self.ventana.resizable(1200,1200)\n",
        "            self.ventana.title(\"LA CALCULADORA DEL DIABLO\") \n",
        "            self.ventana.config(background = \"darkred\")    \n",
        "            self.ventana.config(bd = 10)   \n",
        "            self.ventana.config(relief = \"groove\")  \n",
        "            self.ventana.config(cursor = \"hand2\")   \n",
        "        \n",
        "            # Reloj dígital\n",
        "            self.etiquetahms = tk.Label(text = \"\", font = (\"Arial\", 32), fg = \"darkred\", bg = \"white\", pady = 10, padx = 10)\n",
        "            self.etiquetahms.config(bd = 10)   \n",
        "            self.etiquetahms.config(relief = \"groove\")   \n",
        "            self.etiquetahms.place(x = 0, y = 0)   \n",
        "            self.actualizacion()     \n",
        "\n",
        "            # Calendario dígital\n",
        "            self.week_day_label = tk.Label(text=\"ñau\", font=(\"Arial\",32), fg = 'darkred', bg = 'white', pady = 10, padx = 10)\n",
        "            self.week_day_label.config(bd= 10)\n",
        "            self.week_day_label.config(relief = \"groove\")\n",
        "            self.week_day_label.place(x = 1090, y = 0)\n",
        "            self.actualizar_fecha()\n",
        "\n",
        "            # Encabezado \" ESTRUCTURA DE DATOS \"\n",
        "            miFrame = Frame()  \n",
        "            miFrame.pack(side = \"top\") \n",
        "            miFrame.config(background = \"midnightblue\" ) \n",
        "            miFrame.config(width = \"750\", height = \"150\") \n",
        "            Label(miFrame, text = \"Estructura de Datos\", fg = \"midnightblue\", font = (\"Arial\", 30)).place(x = 190, y = 40)\n",
        "            miFrame.config(bd = 10)  \n",
        "            miFrame.config(relief = \"groove\") \n",
        "            miFrame.config(cursor = \"pirate\") \n",
        "            \n",
        "            # Nueva ventana, Ventana1 \n",
        "            def openNewWindow():\n",
        "                # Definición de la Venatana1, similar a la ventana principal\n",
        "                newWindow = Tk()\n",
        "                newWindow.iconbitmap(\"../pythonprog/graphics/mad.ico\") \n",
        "                newWindow.resizable(1200,1200)\n",
        "                newWindow.title(\"MENÚ DE LA CALCULADORA DEL DIABLO\")\n",
        "                newWindow.config(background = \"darkred\")\n",
        "                newWindow.config(bd = 10)\n",
        "                newWindow.config(relief = \"groove\")\n",
        "                \n",
        "                # Define el menú de operaciones en la Ventana1 \n",
        "                # ¿ Cuantas operaciones debe resolver el programa, por semestre, por equipo, ?\n",
        "                barraMenu = Menu(newWindow)\n",
        "                mnuArchivo = Menu(barraMenu)\n",
        "                mnuArchivo.add_command(label = \"Tarea 1: Transformación de 2 matrices triangulares inferiores A y B, en un arreglo rectangular AxB\")\n",
        "                mnuArchivo.add_command(label = \"Tarea 2: Programa que ordena datos por el método de la burbuja\")\n",
        "                mnuArchivo.add_command(label = \"Tarea 3: Programa que agrega y elimina datos en una pila, en una cola, y en una cola de doble entrada\")\n",
        "                mnuArchivo.add_command(label = \"Tarea 4: Ordenamiento de datos por el método de mínimos sucesivos\")\n",
        "                mnuArchivo.add_command(label = \"Tarea 5: \")\n",
        "                mnuArchivo.add_command(label = \"Tarea 6: \")\n",
        "                mnuArchivo.add_command(label = \"Tarea 7:\")\n",
        "                mnuArchivo.add_command(label = \"Tarea 8: \")\n",
        "                mnuArchivo.add_command(label = \"salir\")           \n",
        "                barraMenu.add_cascade(label = \" LOS CALCULOS DEL DIABLO \", menu = mnuArchivo)\n",
        "                newWindow.config(menu = barraMenu)\n",
        "\n",
        "                # Reloj dígital, Ventana1 \n",
        "                self.etiquetahms = tk.Label(newWindow, text = \"\", font = (\"Arial\", 32), fg = \"darkred\", bg = \"white\", pady = 10, padx = 10) \n",
        "                self.etiquetahms.config(bd = 10)   \n",
        "                self.etiquetahms.config(relief = \"groove\")   \n",
        "                self.etiquetahms.place(x = 0, y = 0)   \n",
        "                self.actualizacion()  \n",
        "                \n",
        "                # Calendario dígital, Ventana1\n",
        "                self.week_day_label = tk.Label(newWindow, text= \"\", font=(\"Arial\",32), fg = 'darkred', bg = 'white', pady = 10, padx = 10) # Aquí según parece me faltaba agregar NewWindow, al principio del comando\n",
        "                self.week_day_label.config(bd= 10)\n",
        "                self.week_day_label.config(relief = \"groove\")\n",
        "                self.week_day_label.place(x = 1090, y = 0)\n",
        "                self.actualizar_fecha()\n",
        "\n",
        "                # Encabezado de la Ventana1 \n",
        "                miFrame = Frame(newWindow) \n",
        "                miFrame.pack(side = \"top\") \n",
        "                miFrame.config(background = \"midnightblue\" ) \n",
        "                miFrame.config(width = \"750\", height = \"150\") \n",
        "                Label(miFrame, text = \"Estructura de Datos\", fg = \"midnightblue\", font = (\"Arial\", 30)).place(x = 190, y = 40)\n",
        "                miFrame.config(bd = 10)  \n",
        "                miFrame.config(relief = \"groove\") \n",
        "                miFrame.config(cursor = \"pirate\") \n",
        "                \n",
        "                # Botones de la ventana 1 \n",
        "                botonEnvio = Button(newWindow, text = \"Volver a la ventana principal y cerrar esta ventana\", command = newWindow.destroy) # Al agregar el comando \" exit \" en el botón \" Cerrar \", fue posible finalizar el programa\n",
        "                botonEnvio.config(cursor = \"pirate\")\n",
        "                botonEnvio.place(x = 0, y = 640)\n",
        "\n",
        "            # Botones de la ventana principal     \n",
        "            botonEnvio = Button(self.ventana, text = \" Menú \", command = openNewWindow)\n",
        "            botonEnvio.pack()    \n",
        "            botonEnvio = Button(self.ventana, text = \"Tarea 1: Transformación de 2 matrices triangulares inferiores A y B, en un arreglo rectangular AxB\") \n",
        "            botonEnvio.pack()\n",
        "            botonEnvio = Button(self.ventana, text = \"Tarea 2: Programa que ordena datos por el método de la burbuja\") \n",
        "            botonEnvio.pack()\n",
        "            botonEnvio = Button(self.ventana, text = \"Tarea 3: Programa que agrega y elimina datos en una pila, en una cola, y en una cola de doble entrada\") \n",
        "            botonEnvio.pack()\n",
        "            botonEnvio = Button(self.ventana, text = \"Tarea 4: Ordenamiento de datos por el método de mínimos sucesivos\") \n",
        "            botonEnvio.pack()\n",
        "            botonEnvio = Button(self.ventana, text = \"Tarea 5: \") \n",
        "            botonEnvio.pack()\n",
        "            botonEnvio = Button(self.ventana, text = \"Tarea 6: \") \n",
        "            botonEnvio.pack()\n",
        "            botonEnvio = Button(self.ventana, text = \"Tarea 7: \") \n",
        "            botonEnvio.pack()\n",
        "            botonEnvio = Button(self.ventana, text = \"Tarea 8: \") \n",
        "            botonEnvio.pack()    \n",
        "            botonEnvio = Button(self.ventana, text = \"Anuncios: Sobre las novedades de la informática\") # Colocar anuncios sobre las novedades de las computadoras\n",
        "            botonEnvio.pack()\n",
        "            botonEnvio = Button(self.ventana, text = \"Cerrar\", command = exit) # Al agregar el comando \" exit \" en el botón \" Cerrar \", fue posible finalizar el programa\n",
        "            botonEnvio.config(cursor = \"pirate\")\n",
        "            botonEnvio.place(x = 0, y = 660)\n",
        "            self.ventana.mainloop() \n",
        "# Al escribir la línea 124 es posible visualizar la ventana principal e interactuar con ella, incluyendo la ventana1 \n",
        "            \n",
        "    # Actualización de la hora\n",
        "    def actualizacion(self):       \n",
        "        hora = time.strftime(\"%Hh:%Mm:%Ss\")\n",
        "        self.etiquetahms.config(text = hora)\n",
        "        self.ventana.after(1000, self.actualizacion)\n",
        "\n",
        "    # Actualiza la fecha del calendario dígital    \n",
        "    def actualizar_fecha(self):\n",
        "        datetime_object = datetime.datetime.now()\n",
        "        today = date.today()\n",
        "        d1 = today.strftime(\"%d/%m/%Y\")\n",
        "        self.week_day_label.configure(text=d1)\n",
        "        \n",
        "# Mantiene la ventana principal en un loop infinito\n",
        "if __name__ == \"__main__\":\n",
        "    main = Ventana()\n",
        "\n",
        "# Como hacer que el reloj de la ventana 1 continué funcionando después "
      ],
      "metadata": {
        "id": "KLjTXYyuqLv_"
      },
      "execution_count": null,
      "outputs": []
    }
  ]
}