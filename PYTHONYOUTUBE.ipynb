{
  "nbformat": 4,
  "nbformat_minor": 0,
  "metadata": {
    "colab": {
      "provenance": [],
      "authorship_tag": "ABX9TyN5kd2D8+aQYasCyaIBdgHO",
      "include_colab_link": true
    },
    "kernelspec": {
      "name": "python3",
      "display_name": "Python 3"
    },
    "language_info": {
      "name": "python"
    }
  },
  "cells": [
    {
      "cell_type": "markdown",
      "metadata": {
        "id": "view-in-github",
        "colab_type": "text"
      },
      "source": [
        "<a href=\"https://colab.research.google.com/github/leonardolunamoreno/Computadoras-y-programaci-n2021-grupo-1157/blob/main/PYTHONYOUTUBE.ipynb\" target=\"_parent\"><img src=\"https://colab.research.google.com/assets/colab-badge.svg\" alt=\"Open In Colab\"/></a>"
      ]
    },
    {
      "cell_type": "code",
      "source": [
        "print(\"Hola de nuevo\");print(\"Leonardo Luna\")\n",
        "# Permite unir dos comandos print en una misma línea \n",
        "# E imprime ambas líneas, una tras otra, en la consola "
      ],
      "metadata": {
        "colab": {
          "base_uri": "https://localhost:8080/"
        },
        "id": "9sE0MMNbL00B",
        "outputId": "cffe1cdd-500d-43d4-dc4b-11680cccaceb"
      },
      "execution_count": null,
      "outputs": [
        {
          "output_type": "stream",
          "name": "stdout",
          "text": [
            "Hola de nuevo\n",
            "Leonardo Luna\n"
          ]
        }
      ]
    },
    {
      "cell_type": "code",
      "source": [
        "# Declarar una variable\n",
        "mi_nombre = \"Mí nombre es él Leonardo Alexis Luna Moreno\"\n",
        "mi_nombre # Muestra los valores que asignamos a la variable 'mi_nombre'"
      ],
      "metadata": {
        "colab": {
          "base_uri": "https://localhost:8080/",
          "height": 35
        },
        "id": "Lg9e47cnM7Tu",
        "outputId": "b406d3e0-278b-4567-e292-e90d86993537"
      },
      "execution_count": null,
      "outputs": [
        {
          "output_type": "execute_result",
          "data": {
            "text/plain": [
              "'Mí nombre es él Leonardo Alexis Luna Moreno'"
            ],
            "application/vnd.google.colaboratory.intrinsic+json": {
              "type": "string"
            }
          },
          "metadata": {},
          "execution_count": 6
        }
      ]
    },
    {
      "cell_type": "code",
      "source": [
        "# Escribir usando saltos de línea\n",
        "mi_nombre = \"Mí nombre es él \\\n",
        "Leonardo Alexis Luna Moreno\" # Permite escribir la variable por separado\n",
        "mi_nombre # Muestra los valores que asignamos a la variable 'mi_nombre'"
      ],
      "metadata": {
        "colab": {
          "base_uri": "https://localhost:8080/",
          "height": 35
        },
        "id": "G3HHIOgVOoRu",
        "outputId": "f0de8f44-a8c6-41f1-c1e9-cce594a0501e"
      },
      "execution_count": null,
      "outputs": [
        {
          "output_type": "execute_result",
          "data": {
            "text/plain": [
              "'Mí nombre es él Leonardo Alexis Luna Moreno'"
            ],
            "application/vnd.google.colaboratory.intrinsic+json": {
              "type": "string"
            }
          },
          "metadata": {},
          "execution_count": 7
        }
      ]
    },
    {
      "cell_type": "code",
      "source": [
        "a = 5  # Se declara la variable a, con el valor inicial 0\n",
        "for i in range(8): # Se establece una condición: para i, en el rango de valor 5, que será el número de iteraciones del programa \n",
        "    a += 5 * 2# Sumar el valor de 1 a la variable a, en cada iteración\n",
        "    print(a)\n",
        "# Con esté código tan simple, se pueden modelar progresiones aritméticas\n",
        "\n",
        "# Puedo utilizarla en métodos númericos, para calcular valores\n",
        "# Puedo utilizarla para calcular series de potencias en métodos númericos\n"
      ],
      "metadata": {
        "colab": {
          "base_uri": "https://localhost:8080/"
        },
        "id": "rBUvXTPNPXC9",
        "outputId": "1b470ebb-d475-4d2f-b465-ffed66d7dd4f"
      },
      "execution_count": null,
      "outputs": [
        {
          "output_type": "stream",
          "name": "stdout",
          "text": [
            "15\n",
            "25\n",
            "35\n",
            "45\n",
            "55\n",
            "65\n",
            "75\n",
            "85\n"
          ]
        }
      ]
    },
    {
      "cell_type": "code",
      "source": [
        "a = 8760  # Se declara la variable a, con el valor inicial 8760\n",
        "for i in range(365): \n",
        "    a -= 24 \n",
        "    print(a)\n",
        "# Antes de escribir estás líneas salí a caminar al patio, y hacia menos de un minuto que me había aprendido el método \n",
        "# Cuando volví al teclado escribí la solución de la sucesión aritmética del año en un momento"
      ],
      "metadata": {
        "colab": {
          "base_uri": "https://localhost:8080/"
        },
        "id": "B_fzESP_PnCv",
        "outputId": "020ea4ff-0509-4c4c-fcf1-422cfd5aece7"
      },
      "execution_count": null,
      "outputs": [
        {
          "output_type": "stream",
          "name": "stdout",
          "text": [
            "8736\n",
            "8712\n",
            "8688\n",
            "8664\n",
            "8640\n",
            "8616\n",
            "8592\n",
            "8568\n",
            "8544\n",
            "8520\n",
            "8496\n",
            "8472\n",
            "8448\n",
            "8424\n",
            "8400\n",
            "8376\n",
            "8352\n",
            "8328\n",
            "8304\n",
            "8280\n",
            "8256\n",
            "8232\n",
            "8208\n",
            "8184\n",
            "8160\n",
            "8136\n",
            "8112\n",
            "8088\n",
            "8064\n",
            "8040\n",
            "8016\n",
            "7992\n",
            "7968\n",
            "7944\n",
            "7920\n",
            "7896\n",
            "7872\n",
            "7848\n",
            "7824\n",
            "7800\n",
            "7776\n",
            "7752\n",
            "7728\n",
            "7704\n",
            "7680\n",
            "7656\n",
            "7632\n",
            "7608\n",
            "7584\n",
            "7560\n",
            "7536\n",
            "7512\n",
            "7488\n",
            "7464\n",
            "7440\n",
            "7416\n",
            "7392\n",
            "7368\n",
            "7344\n",
            "7320\n",
            "7296\n",
            "7272\n",
            "7248\n",
            "7224\n",
            "7200\n",
            "7176\n",
            "7152\n",
            "7128\n",
            "7104\n",
            "7080\n",
            "7056\n",
            "7032\n",
            "7008\n",
            "6984\n",
            "6960\n",
            "6936\n",
            "6912\n",
            "6888\n",
            "6864\n",
            "6840\n",
            "6816\n",
            "6792\n",
            "6768\n",
            "6744\n",
            "6720\n",
            "6696\n",
            "6672\n",
            "6648\n",
            "6624\n",
            "6600\n",
            "6576\n",
            "6552\n",
            "6528\n",
            "6504\n",
            "6480\n",
            "6456\n",
            "6432\n",
            "6408\n",
            "6384\n",
            "6360\n",
            "6336\n",
            "6312\n",
            "6288\n",
            "6264\n",
            "6240\n",
            "6216\n",
            "6192\n",
            "6168\n",
            "6144\n",
            "6120\n",
            "6096\n",
            "6072\n",
            "6048\n",
            "6024\n",
            "6000\n",
            "5976\n",
            "5952\n",
            "5928\n",
            "5904\n",
            "5880\n",
            "5856\n",
            "5832\n",
            "5808\n",
            "5784\n",
            "5760\n",
            "5736\n",
            "5712\n",
            "5688\n",
            "5664\n",
            "5640\n",
            "5616\n",
            "5592\n",
            "5568\n",
            "5544\n",
            "5520\n",
            "5496\n",
            "5472\n",
            "5448\n",
            "5424\n",
            "5400\n",
            "5376\n",
            "5352\n",
            "5328\n",
            "5304\n",
            "5280\n",
            "5256\n",
            "5232\n",
            "5208\n",
            "5184\n",
            "5160\n",
            "5136\n",
            "5112\n",
            "5088\n",
            "5064\n",
            "5040\n",
            "5016\n",
            "4992\n",
            "4968\n",
            "4944\n",
            "4920\n",
            "4896\n",
            "4872\n",
            "4848\n",
            "4824\n",
            "4800\n",
            "4776\n",
            "4752\n",
            "4728\n",
            "4704\n",
            "4680\n",
            "4656\n",
            "4632\n",
            "4608\n",
            "4584\n",
            "4560\n",
            "4536\n",
            "4512\n",
            "4488\n",
            "4464\n",
            "4440\n",
            "4416\n",
            "4392\n",
            "4368\n",
            "4344\n",
            "4320\n",
            "4296\n",
            "4272\n",
            "4248\n",
            "4224\n",
            "4200\n",
            "4176\n",
            "4152\n",
            "4128\n",
            "4104\n",
            "4080\n",
            "4056\n",
            "4032\n",
            "4008\n",
            "3984\n",
            "3960\n",
            "3936\n",
            "3912\n",
            "3888\n",
            "3864\n",
            "3840\n",
            "3816\n",
            "3792\n",
            "3768\n",
            "3744\n",
            "3720\n",
            "3696\n",
            "3672\n",
            "3648\n",
            "3624\n",
            "3600\n",
            "3576\n",
            "3552\n",
            "3528\n",
            "3504\n",
            "3480\n",
            "3456\n",
            "3432\n",
            "3408\n",
            "3384\n",
            "3360\n",
            "3336\n",
            "3312\n",
            "3288\n",
            "3264\n",
            "3240\n",
            "3216\n",
            "3192\n",
            "3168\n",
            "3144\n",
            "3120\n",
            "3096\n",
            "3072\n",
            "3048\n",
            "3024\n",
            "3000\n",
            "2976\n",
            "2952\n",
            "2928\n",
            "2904\n",
            "2880\n",
            "2856\n",
            "2832\n",
            "2808\n",
            "2784\n",
            "2760\n",
            "2736\n",
            "2712\n",
            "2688\n",
            "2664\n",
            "2640\n",
            "2616\n",
            "2592\n",
            "2568\n",
            "2544\n",
            "2520\n",
            "2496\n",
            "2472\n",
            "2448\n",
            "2424\n",
            "2400\n",
            "2376\n",
            "2352\n",
            "2328\n",
            "2304\n",
            "2280\n",
            "2256\n",
            "2232\n",
            "2208\n",
            "2184\n",
            "2160\n",
            "2136\n",
            "2112\n",
            "2088\n",
            "2064\n",
            "2040\n",
            "2016\n",
            "1992\n",
            "1968\n",
            "1944\n",
            "1920\n",
            "1896\n",
            "1872\n",
            "1848\n",
            "1824\n",
            "1800\n",
            "1776\n",
            "1752\n",
            "1728\n",
            "1704\n",
            "1680\n",
            "1656\n",
            "1632\n",
            "1608\n",
            "1584\n",
            "1560\n",
            "1536\n",
            "1512\n",
            "1488\n",
            "1464\n",
            "1440\n",
            "1416\n",
            "1392\n",
            "1368\n",
            "1344\n",
            "1320\n",
            "1296\n",
            "1272\n",
            "1248\n",
            "1224\n",
            "1200\n",
            "1176\n",
            "1152\n",
            "1128\n",
            "1104\n",
            "1080\n",
            "1056\n",
            "1032\n",
            "1008\n",
            "984\n",
            "960\n",
            "936\n",
            "912\n",
            "888\n",
            "864\n",
            "840\n",
            "816\n",
            "792\n",
            "768\n",
            "744\n",
            "720\n",
            "696\n",
            "672\n",
            "648\n",
            "624\n",
            "600\n",
            "576\n",
            "552\n",
            "528\n",
            "504\n",
            "480\n",
            "456\n",
            "432\n",
            "408\n",
            "384\n",
            "360\n",
            "336\n",
            "312\n",
            "288\n",
            "264\n",
            "240\n",
            "216\n",
            "192\n",
            "168\n",
            "144\n",
            "120\n",
            "96\n",
            "72\n",
            "48\n",
            "24\n",
            "0\n"
          ]
        }
      ]
    },
    {
      "cell_type": "code",
      "source": [
        "# Espacio de la memoria del ordenador \n",
        "# donde se almacenará un valor que podrá cambiar durante \n",
        "# la ejecución del programa \n",
        "\n",
        "5+6 # Sumar números "
      ],
      "metadata": {
        "colab": {
          "base_uri": "https://localhost:8080/"
        },
        "id": "bPqB66632qCO",
        "outputId": "c90c960a-0d8d-4f52-c8b8-289ebd02a101"
      },
      "execution_count": null,
      "outputs": [
        {
          "output_type": "execute_result",
          "data": {
            "text/plain": [
              "11"
            ]
          },
          "metadata": {},
          "execution_count": 33
        }
      ]
    },
    {
      "cell_type": "code",
      "source": [
        "10 % 3 # Operación modulo, resto de una división "
      ],
      "metadata": {
        "colab": {
          "base_uri": "https://localhost:8080/"
        },
        "id": "qairzpIC6egb",
        "outputId": "a77c1dd3-df71-4749-b762-7f42e1146325"
      },
      "execution_count": null,
      "outputs": [
        {
          "output_type": "execute_result",
          "data": {
            "text/plain": [
              "1"
            ]
          },
          "metadata": {},
          "execution_count": 32
        }
      ]
    },
    {
      "cell_type": "code",
      "source": [
        "10**3 # Exponente de un número, aquí tenemos a 10 elevado al cubo "
      ],
      "metadata": {
        "colab": {
          "base_uri": "https://localhost:8080/"
        },
        "id": "kdzainw76gwE",
        "outputId": "0bc341d3-f07f-4279-8cd5-b87075b6d9b7"
      },
      "execution_count": null,
      "outputs": [
        {
          "output_type": "execute_result",
          "data": {
            "text/plain": [
              "1000"
            ]
          },
          "metadata": {},
          "execution_count": 34
        }
      ]
    },
    {
      "cell_type": "code",
      "source": [
        "9/2 # División con punto flotante "
      ],
      "metadata": {
        "colab": {
          "base_uri": "https://localhost:8080/"
        },
        "id": "2LjeDdDU6oY7",
        "outputId": "d0912d75-6b3f-4671-9575-f32f49c4a8c4"
      },
      "execution_count": null,
      "outputs": [
        {
          "output_type": "execute_result",
          "data": {
            "text/plain": [
              "4.5"
            ]
          },
          "metadata": {},
          "execution_count": 38
        }
      ]
    },
    {
      "cell_type": "code",
      "source": [
        "9//2 # División cerrada "
      ],
      "metadata": {
        "colab": {
          "base_uri": "https://localhost:8080/"
        },
        "id": "OW79t2Xh6wO9",
        "outputId": "059f434a-805b-44b5-8166-c07988a806f4"
      },
      "execution_count": null,
      "outputs": [
        {
          "output_type": "execute_result",
          "data": {
            "text/plain": [
              "4"
            ]
          },
          "metadata": {},
          "execution_count": 37
        }
      ]
    },
    {
      "cell_type": "code",
      "source": [
        "# En python el tipo de variable lo establece el contenido \n",
        "# de la variable\n",
        "\n",
        "# Contenedor de un objeto = Objeto dentro del contenedor \n",
        "nombre = 5 \n",
        "type(nombre)  "
      ],
      "metadata": {
        "colab": {
          "base_uri": "https://localhost:8080/"
        },
        "id": "I5m7reBf66JE",
        "outputId": "c83fda39-6936-48b2-cec5-fa2eee3bd553"
      },
      "execution_count": null,
      "outputs": [
        {
          "output_type": "execute_result",
          "data": {
            "text/plain": [
              "int"
            ]
          },
          "metadata": {},
          "execution_count": 39
        }
      ]
    },
    {
      "cell_type": "code",
      "source": [
        "nombre = \"Leonardo\"\n",
        "type(nombre)  "
      ],
      "metadata": {
        "colab": {
          "base_uri": "https://localhost:8080/"
        },
        "id": "6X-q89dP-L_K",
        "outputId": "9ccfc429-ae53-4554-9852-8ee9b4db43c4"
      },
      "execution_count": null,
      "outputs": [
        {
          "output_type": "execute_result",
          "data": {
            "text/plain": [
              "str"
            ]
          },
          "metadata": {},
          "execution_count": 41
        }
      ]
    },
    {
      "cell_type": "code",
      "source": [
        "nombre = 422.0\n",
        "type(nombre)  "
      ],
      "metadata": {
        "colab": {
          "base_uri": "https://localhost:8080/"
        },
        "id": "lkuYC8rq-Xmb",
        "outputId": "6585e930-3bb8-41be-b609-ba830874ea2b"
      },
      "execution_count": null,
      "outputs": [
        {
          "output_type": "execute_result",
          "data": {
            "text/plain": [
              "float"
            ]
          },
          "metadata": {},
          "execution_count": 42
        }
      ]
    },
    {
      "cell_type": "code",
      "source": [
        "mensaje = \"\"\" Buenos días damas y caballeros \n",
        "somos el entretenimiento \"\"\" \n",
        "print(mensaje) # Permite imprimir el mensaje de esta forma "
      ],
      "metadata": {
        "colab": {
          "base_uri": "https://localhost:8080/"
        },
        "id": "4J4NTFy6-rHc",
        "outputId": "06d6630e-3197-4375-bc51-62fc63a09ede"
      },
      "execution_count": null,
      "outputs": [
        {
          "output_type": "stream",
          "name": "stdout",
          "text": [
            " Buenos días damas y caballeros \n",
            "somos el entretenimiento \n"
          ]
        }
      ]
    },
    {
      "cell_type": "code",
      "source": [
        "# Está es la estructura mostrada en el video\n",
        "numero1 = 5 \n",
        "numero2 = 7 \n",
        "if numero1>numero2: \n",
        "    print(\"El número 1 es mayor\")\n",
        "else: \n",
        "    print(\"El número 2 es mayor\")"
      ],
      "metadata": {
        "colab": {
          "base_uri": "https://localhost:8080/"
        },
        "id": "Ou8kjiVCAEEl",
        "outputId": "3182f49b-3508-422f-bec4-5151fbd73f24"
      },
      "execution_count": null,
      "outputs": [
        {
          "output_type": "stream",
          "name": "stdout",
          "text": [
            "El número 2 es mayor\n"
          ]
        }
      ]
    },
    {
      "cell_type": "code",
      "source": [
        "# Estructura condicional\n",
        "# Código escrito por mí \n",
        "numero1 = 1\n",
        "numero2 = 1\n",
        "if numero1==numero2: \n",
        "    print(\"Ambos números son iguales\")\n",
        "else: \n",
        "    if numero1<numero2:\n",
        "        print(\"El número 2 es mayor\")\n",
        "    else:\n",
        "        print(\"El número 1 es mayor\")"
      ],
      "metadata": {
        "colab": {
          "base_uri": "https://localhost:8080/"
        },
        "id": "GUoDN3hWB3iU",
        "outputId": "8a1a4321-8c0e-4f29-d8d7-bc9c2e206d19"
      },
      "execution_count": null,
      "outputs": [
        {
          "output_type": "stream",
          "name": "stdout",
          "text": [
            "Ambos números son iguales\n"
          ]
        }
      ]
    },
    {
      "cell_type": "code",
      "source": [
        "# Funciones en Python \n",
        "# Conjunto de líneas de código agrupadas (bloque de código)\n",
        "# que funciona como una unidad realizando una tarea específica\n",
        "\n",
        "# Las funciones en Python pueden devolver valores \n",
        "\n",
        "# Las funciones en Python pueden tener parámetros/argumentos \n",
        "\n",
        "# A las funciones también se les denomina \" métodos \" cuando se \n",
        "# encuentran definidas dentro de una clase \n",
        "\n",
        "# La utilidad de las funciones es el hecho de que se puede \n",
        "# reutilizar el código ( cuando sea o siempre que sea necesario)\n",
        "\n",
        "\n",
        "# Sintaxis de una función en python \n",
        "\n",
        "# def nombre_función():\n",
        "#     * Instrucciones de la función\n",
        "#     * return (opcional)   \n",
        "\n",
        "# def nombre_función(parámetros)\n",
        "#     * Instrucciones de la función\n",
        "#     * return (opcional)"
      ],
      "metadata": {
        "id": "iNFMvqsxGtV9"
      },
      "execution_count": null,
      "outputs": []
    },
    {
      "cell_type": "code",
      "source": [
        "# print() Es una función predefinida por python\n",
        "\n",
        "# También es posible crear nuestras propias funciones, este comentario \n",
        "# corresponde a la serie 5/79 \n",
        "# En este momento escucho el minuto 9 ; 17 "
      ],
      "metadata": {
        "id": "-I4xgQSSJScp"
      },
      "execution_count": null,
      "outputs": []
    },
    {
      "cell_type": "code",
      "source": [
        "# Está es una función\n",
        "def mensaje():             # Declaración de la función\n",
        "\n",
        "    print(\"Algo \")         #\n",
        "    print(\"Algo más\")      # Cuerpo de la función \n",
        "    print(\"Algo, más Algo más, más Algo más además de Algo más :V \") #\n",
        "\n",
        "# Está función si bien puede ejecutarse no produce nada :V \n",
        "# A menos que llamemos o invoquemos a la función mensaje \n",
        "   \n",
        "mensaje()                  # Llamado de la función # 1 \n",
        "mensaje()                  # Llamado de la función # 2 \n",
        "\n",
        "print(\"Ejecutando código fuera de la función\")\n",
        "\n",
        "mensaje()                  # Lllamado de la función # 3 \n",
        "\n",
        "# Entonces se puede invocar a la función mensaje tantas veces como se quiera \n",
        "# Solo basta invocar la función para mostrar todo el cuerpo "
      ],
      "metadata": {
        "colab": {
          "base_uri": "https://localhost:8080/"
        },
        "id": "jGYTcHxPKHYu",
        "outputId": "cfd6df69-755f-4f40-d570-209339a81d2b"
      },
      "execution_count": null,
      "outputs": [
        {
          "output_type": "stream",
          "name": "stdout",
          "text": [
            "Algo \n",
            "Algo más\n",
            "Algo, más Algo más, más Algo más además de Algo más :V \n",
            "Algo \n",
            "Algo más\n",
            "Algo, más Algo más, más Algo más además de Algo más :V \n",
            "Ejecutando código fuera de la función\n",
            "Algo \n",
            "Algo más\n",
            "Algo, más Algo más, más Algo más además de Algo más :V \n"
          ]
        }
      ]
    },
    {
      "cell_type": "code",
      "source": [
        "# El video 6 /79 dura 16:34 minutos\n",
        "\n",
        "# Parametro o Argumento \n",
        "\n",
        "def suma(): # Aquí hemos definido 2 parámetros, num1 y num2 \n",
        "    num1 = 5 \n",
        "    num2 = 7 \n",
        "    print(num1 + num2) \n",
        "\n",
        "suma()\n",
        "# Como hacer que la función suma, sume diferentes valores en cada \n",
        "# invocación de la función suma"
      ],
      "metadata": {
        "colab": {
          "base_uri": "https://localhost:8080/"
        },
        "id": "WH2TarfxdTCT",
        "outputId": "fb39f999-b30c-4c6d-97b2-b1107bc89cd0"
      },
      "execution_count": null,
      "outputs": [
        {
          "output_type": "stream",
          "name": "stdout",
          "text": [
            "12\n"
          ]
        }
      ]
    },
    {
      "cell_type": "code",
      "source": [
        "# Parametro o Argumento \n",
        "\n",
        "def suma(num1,num2): # Aquí hemos definido 2 parámetros, num1 y num2 \n",
        "#    num1 = 5          Al momento de definir los parámetros en la \n",
        "#    num2 = 7          función, ya no son necesarias estás 2 líneas\n",
        "    print(num1 + num2) \n",
        "suma(3,4) # Ahora al invocar la función, debo agregar los datos\n",
        "suma(59,76)\n",
        "suma(2000,476)\n",
        "suma(67,-17) # Porque sumar el negativo de un número es el equivalente a \n",
        "# restarlo \n",
        "# En estos casos, los valores, 3, 59, 2000, 67 se almacenan en el \n",
        "# parámetro num1  \n",
        "suma(2.3,4.7) \n",
        "suma(\"hola\",\" Leo\") # Al parecer también se pueden sumar strings\n",
        "suma(\"LEONARDO\",\" 422\")\n"
      ],
      "metadata": {
        "colab": {
          "base_uri": "https://localhost:8080/"
        },
        "id": "vOZyTECHeoaz",
        "outputId": "adc28b2a-015a-4db4-eb13-cd87cefb95bd"
      },
      "execution_count": null,
      "outputs": [
        {
          "output_type": "stream",
          "name": "stdout",
          "text": [
            "7\n",
            "135\n",
            "2476\n",
            "50\n",
            "7.0\n",
            "hola Leo\n",
            "LEONARDO 422\n"
          ]
        }
      ]
    },
    {
      "cell_type": "code",
      "source": [
        "def suma(num1,num2):\n",
        "    resultado = num1 + num2\n",
        "    return resultado \n",
        "print(suma(67,89))"
      ],
      "metadata": {
        "colab": {
          "base_uri": "https://localhost:8080/"
        },
        "id": "BZTLF9xyhIfV",
        "outputId": "bbb0d83b-ae4e-4fe2-a117-70f4dd5da452"
      },
      "execution_count": null,
      "outputs": [
        {
          "output_type": "stream",
          "name": "stdout",
          "text": [
            "156\n"
          ]
        }
      ]
    },
    {
      "cell_type": "code",
      "source": [
        "def suma(num1,num2):\n",
        "    resultado = num1 + num2\n",
        "    return resultado \n",
        "almacena_resultado = suma(5,8)\n",
        "print(almacena_resultado)"
      ],
      "metadata": {
        "colab": {
          "base_uri": "https://localhost:8080/"
        },
        "id": "CJf53npbiMfV",
        "outputId": "121718bf-dc18-472f-d206-6e7e29590e59"
      },
      "execution_count": null,
      "outputs": [
        {
          "output_type": "stream",
          "name": "stdout",
          "text": [
            "13\n"
          ]
        }
      ]
    },
    {
      "cell_type": "code",
      "source": [
        "# Video 7 / 79  Listas y demás relacionado 24 minutos \n",
        "milista = [\"1\",\"2\",\"3\",\"4\"]\n",
        "print(milista[:]) # De este modo se imprime la lista completa \n",
        "# Corchetes, comillas y comas incluidos"
      ],
      "metadata": {
        "colab": {
          "base_uri": "https://localhost:8080/"
        },
        "id": "cXhAAqbej5zw",
        "outputId": "779c3a36-39da-4c9b-a71c-ab3f6b3553f7"
      },
      "execution_count": null,
      "outputs": [
        {
          "output_type": "stream",
          "name": "stdout",
          "text": [
            "['1', '2', '3', '4']\n"
          ]
        }
      ]
    },
    {
      "cell_type": "code",
      "source": [
        "milista = [\"1\",\"2\",\"3\",\"4\"]\n",
        "print(milista[3]) # De esta manera se accede al elemento '4' de la lista"
      ],
      "metadata": {
        "colab": {
          "base_uri": "https://localhost:8080/"
        },
        "id": "8CW1wLseotrC",
        "outputId": "1453baad-3b13-4694-91ed-6ffc0a291c9a"
      },
      "execution_count": null,
      "outputs": [
        {
          "output_type": "stream",
          "name": "stdout",
          "text": [
            "4\n"
          ]
        }
      ]
    },
    {
      "cell_type": "code",
      "source": [
        "milista = [\"1\",\"2\",\"3\",\"4\"]\n",
        "print(milista[0:3]) # De esta manera se accede a los 3 primeros elementos\n",
        "# de la lista que escribí aquí"
      ],
      "metadata": {
        "colab": {
          "base_uri": "https://localhost:8080/"
        },
        "id": "2rktTZqEnxO4",
        "outputId": "57c59848-815c-47d2-faac-da77c021489e"
      },
      "execution_count": null,
      "outputs": [
        {
          "output_type": "stream",
          "name": "stdout",
          "text": [
            "['1', '2', '3']\n"
          ]
        }
      ]
    },
    {
      "cell_type": "code",
      "source": [
        "milista = [\"1\",\"2\",\"3\",\"4\"]\n",
        "print(milista[:3]) # Al parecer también funciona si se deja el \n",
        "# lado izquierdo de los corchetes vacío"
      ],
      "metadata": {
        "colab": {
          "base_uri": "https://localhost:8080/"
        },
        "id": "1ombEQ9TlH1G",
        "outputId": "b58756c7-b8a6-4031-b26c-58902cb190f3"
      },
      "execution_count": null,
      "outputs": [
        {
          "output_type": "stream",
          "name": "stdout",
          "text": [
            "['1', '2', '3']\n"
          ]
        }
      ]
    },
    {
      "cell_type": "code",
      "source": [
        "milista = [\"1\",\"2\",\"3\",\"4\"]\n",
        "print(milista[1:2]) "
      ],
      "metadata": {
        "colab": {
          "base_uri": "https://localhost:8080/"
        },
        "id": "UVwIPJlzk4t4",
        "outputId": "8f33ba36-30ab-4d13-cf7e-597e622c76ed"
      },
      "execution_count": null,
      "outputs": [
        {
          "output_type": "stream",
          "name": "stdout",
          "text": [
            "['2']\n"
          ]
        }
      ]
    },
    {
      "cell_type": "code",
      "source": [
        "milista = [\"1\",\"2\",\"3\",\"4\"]\n",
        "print(milista[2:])"
      ],
      "metadata": {
        "colab": {
          "base_uri": "https://localhost:8080/"
        },
        "id": "nVC8i44rmYe5",
        "outputId": "75ef5cf0-990d-4356-d093-669345668ba6"
      },
      "execution_count": null,
      "outputs": [
        {
          "output_type": "stream",
          "name": "stdout",
          "text": [
            "['3', '4']\n"
          ]
        }
      ]
    },
    {
      "cell_type": "code",
      "source": [
        "milista = [\"1\",\"2\",\"3\",\"4\"]\n",
        "milista.append(\"141\") # Se agrega un elemento nuevo a la lista\n",
        "                      # Y lo agrega al final de la lista \n",
        "print(milista[:])     # Con los corchetes con los puntos se agrega el elemento\n",
        "# 141 "
      ],
      "metadata": {
        "colab": {
          "base_uri": "https://localhost:8080/"
        },
        "id": "VtMIqtyCmY4-",
        "outputId": "dc7cbef5-5fe0-42ab-85a3-82eaf867c3fd"
      },
      "execution_count": null,
      "outputs": [
        {
          "output_type": "stream",
          "name": "stdout",
          "text": [
            "['1', '2', '3', '4', '141']\n"
          ]
        }
      ]
    },
    {
      "cell_type": "code",
      "source": [
        "milista = [\"1\",\"2\",\"3\",\"4\"]\n",
        "milista.insert(0,\"141\") # Se agrega un elemento nuevo a la lista\n",
        "# Con este metodo puedo agregar 141, en cualquier parte de la lista\n",
        "print(milista[:])     "
      ],
      "metadata": {
        "colab": {
          "base_uri": "https://localhost:8080/"
        },
        "id": "NIFmtSMinfeG",
        "outputId": "8c2a206e-8d66-4bf2-8954-d9fc66da831e"
      },
      "execution_count": null,
      "outputs": [
        {
          "output_type": "stream",
          "name": "stdout",
          "text": [
            "['141', '1', '2', '3', '4']\n"
          ]
        }
      ]
    },
    {
      "cell_type": "code",
      "source": [
        "# Para agregar varios elementos nuevos a la lista se utiliza el siguiente método\n",
        "milista = [\"1\",\"2\",\"3\",\"4\"]\n",
        "milista.extend([\"422\",\"141\",\"73\",\"1\"]) \n",
        "# Con este metodo se agregan 4 elementos, al final de la lista \n",
        "print(milista[:])  "
      ],
      "metadata": {
        "colab": {
          "base_uri": "https://localhost:8080/"
        },
        "id": "Dy5Fu_j-nxKc",
        "outputId": "b84df80e-c123-4230-dd9d-7993711d0882"
      },
      "execution_count": null,
      "outputs": [
        {
          "output_type": "stream",
          "name": "stdout",
          "text": [
            "['1', '2', '3', '4', '422', '141', '73', '1']\n"
          ]
        }
      ]
    },
    {
      "cell_type": "code",
      "source": [
        "# Con el metodo index, puedo conocer el número de elemento que ocupa un\n",
        "# un valor dentro de la lista, por ejemplo, el valor 422 ocupa el valor\n",
        "# dentro de la lista \n",
        "milista = [\"1\",\"2\",\"3\",\"4\"]\n",
        "milista.extend([\"422\",\"141\",\"73\",\"1\"]) \n",
        "# Con este metodo se agregan 4 elementos, al final de la lista \n",
        "print(milista.index(\"422\"))  "
      ],
      "metadata": {
        "colab": {
          "base_uri": "https://localhost:8080/"
        },
        "id": "CvGZ5VvXoBta",
        "outputId": "4d480a7e-568d-4a1a-9213-a0fd01de76a6"
      },
      "execution_count": null,
      "outputs": [
        {
          "output_type": "stream",
          "name": "stdout",
          "text": [
            "4\n"
          ]
        }
      ]
    },
    {
      "cell_type": "code",
      "source": [
        "# ¿Que hacer si se repite un elemento dentro de la lista \n",
        "# En esta caso el número 1 se repite \n",
        "# Al compilarlo, el primer el index reconocido es el del primer valor \n",
        "# Repetido dentro de la lista\n",
        "milista = [\"1\",\"2\",\"3\",\"4\"]\n",
        "milista.extend([\"422\",\"141\",\"73\",\"1\"]) \n",
        "# Con este metodo se agregan 4 elementos, al final de la lista \n",
        "print(\"141\" in milista)"
      ],
      "metadata": {
        "colab": {
          "base_uri": "https://localhost:8080/"
        },
        "id": "kYq5skWsoBhQ",
        "outputId": "bac7cebd-a689-4134-ed98-4a50248dfdf1"
      },
      "execution_count": null,
      "outputs": [
        {
          "output_type": "stream",
          "name": "stdout",
          "text": [
            "True\n"
          ]
        }
      ]
    },
    {
      "cell_type": "code",
      "source": [
        "# Con el metodo index, puedo conocer el número de elemento que ocupa un\n",
        "# un valor dentro de la lista, por ejemplo, el valor 422 ocupa el valor\n",
        "# dentro de la lista \n",
        "milista = [\"1\",\"2\",\"3\",\"4\"]\n",
        "milista.extend([\"422\",\"141\",\"73\",\"1\"]) \n",
        "# Con este metodo se agregan 4 elementos, al final de la lista \n",
        "print(\"2000\" in milista)"
      ],
      "metadata": {
        "colab": {
          "base_uri": "https://localhost:8080/"
        },
        "id": "n-hYF63Xq5o9",
        "outputId": "6d79c94f-5cc5-4b43-c12b-88c7ba2bfcd8"
      },
      "execution_count": null,
      "outputs": [
        {
          "output_type": "stream",
          "name": "stdout",
          "text": [
            "False\n"
          ]
        }
      ]
    },
    {
      "cell_type": "code",
      "source": [
        "milista = [\"1\",\"LEONARDO\",3.12,True]\n",
        "milista.extend([\"422\",\"141\",\"73\"]) \n",
        "# Con este metodo se agregan 4 elementos, al final de la lista \n",
        "print(milista[:])"
      ],
      "metadata": {
        "colab": {
          "base_uri": "https://localhost:8080/"
        },
        "id": "Vo5YLi4KqP2k",
        "outputId": "a0de5e53-73b1-44b9-da58-baba9f73b94b"
      },
      "execution_count": null,
      "outputs": [
        {
          "output_type": "stream",
          "name": "stdout",
          "text": [
            "['1', 'LEONARDO', 3.12, True, '422', '141', '73']\n"
          ]
        }
      ]
    },
    {
      "cell_type": "code",
      "source": [
        "milista = [\"1\",\"LEONARDO\",3.12,True]\n",
        "milista.extend([\"422\",\"141\",\"73\",1]) \n",
        "# Con este metodo se agregan 4 elementos, al final de la lista \n",
        "print(milista[1])"
      ],
      "metadata": {
        "colab": {
          "base_uri": "https://localhost:8080/"
        },
        "id": "IKnKUyJNoBRZ",
        "outputId": "b0dbc250-0f16-4fce-93ce-cb002ac2577f"
      },
      "execution_count": null,
      "outputs": [
        {
          "output_type": "stream",
          "name": "stdout",
          "text": [
            "LEONARDO\n"
          ]
        }
      ]
    },
    {
      "cell_type": "code",
      "source": [
        "# Eliminar elementos de la lista \n",
        "milista = [\"1\",\"LEONARDO\",3.12,True]\n",
        "milista.extend([\"422\",\"141\",\"73\",1]) \n",
        "milista.remove(\"73\")\n",
        "milista.remove(3.12)\n",
        "# Despues de usar .remove, elimine el elemento \" 73 \"\n",
        "# Al parecer con este metodo solo se puede eliminar un elemento a la vez\n",
        "print(milista[:])  # Cambiar aquí el valor antes y después de los : \n",
        "# no eliminaria los datos omitidos en el rango, sino que solo mostraría\n",
        "# aquellos elementos definidos por nosotros"
      ],
      "metadata": {
        "colab": {
          "base_uri": "https://localhost:8080/"
        },
        "id": "hr3s6UPOsf1h",
        "outputId": "c0668417-069e-4a65-e82e-f7c4ad931cae"
      },
      "execution_count": null,
      "outputs": [
        {
          "output_type": "stream",
          "name": "stdout",
          "text": [
            "['1', 'LEONARDO', True, '422', '141', 1]\n"
          ]
        }
      ]
    },
    {
      "cell_type": "code",
      "source": [
        "# Eliminar elementos de la lista \n",
        "milista = [\"1\",\"LEONARDO\",3.12,True]\n",
        "milista.extend([\"422\",\"141\",\"73\",1]) \n",
        "milista.pop() # Segun parece elimina el ultimo elemento de la lista\n",
        "print(milista[:])  # Cambiar aquí el valor antes y después de los : \n",
        "# no eliminaria los datos omitidos en el rango, sino que solo mostraría\n",
        "# aquellos elementos definidos por nosotros \n",
        "\n",
        "# No se si esto será válido para el programa de agregación y eliminación \n",
        "# de datos, pero sin duda haría el código más funcional"
      ],
      "metadata": {
        "colab": {
          "base_uri": "https://localhost:8080/"
        },
        "id": "1XNem94dtr1f",
        "outputId": "f393b066-dc41-400c-a11b-4b6827921128"
      },
      "execution_count": null,
      "outputs": [
        {
          "output_type": "stream",
          "name": "stdout",
          "text": [
            "['1', 'LEONARDO', 3.12, True, '422', '141', '73']\n"
          ]
        }
      ]
    },
    {
      "cell_type": "code",
      "source": [
        "# Sumar listas\n",
        "milista = [\"1\",\"LEONARDO\",3.12,True]\n",
        "milista.extend([\"422\",\"141\",\"73\",1]) \n",
        "\n",
        "milista2 = [\"LUNA\", \"2022\", True]\n",
        "milista3 = milista + milista2 # El operador suma, suma ambas listas\n",
        "# En una nueva lsita 3, que es la suma de la lista1 y la lista 2 \n",
        "print(milista3[:])"
      ],
      "metadata": {
        "colab": {
          "base_uri": "https://localhost:8080/"
        },
        "id": "u6cKMuYMskrB",
        "outputId": "ba31fe9a-22d0-48f7-a525-4a79372c9f13"
      },
      "execution_count": null,
      "outputs": [
        {
          "output_type": "stream",
          "name": "stdout",
          "text": [
            "['1', 'LEONARDO', 3.12, True, '422', '141', '73', 1, 'LUNA', '2022', True]\n"
          ]
        }
      ]
    },
    {
      "cell_type": "code",
      "source": [
        "# Multiplicar listas\n",
        "milista = [\"1\",\"LEONARDO\",3.12,True] * 4  \n",
        "milista.extend([\"422\",\"141\",\"73\",1])\n",
        "# Al parecer es posible multiplicar la lista un monton de veces posibles\n",
        "# En este caso 3, el problema es que solamente se multiplica la parte \n",
        "# De arriba, más no la parte de abajo de la lista, la parte extendida de la lista\n",
        "print(milista[:])"
      ],
      "metadata": {
        "colab": {
          "base_uri": "https://localhost:8080/"
        },
        "id": "asszGgp0sfhl",
        "outputId": "e1d03341-61a1-4e42-a867-0eca04e7e99b"
      },
      "execution_count": null,
      "outputs": [
        {
          "output_type": "stream",
          "name": "stdout",
          "text": [
            "['1', 'LEONARDO', 3.12, True, '1', 'LEONARDO', 3.12, True, '1', 'LEONARDO', 3.12, True, '1', 'LEONARDO', 3.12, True, '422', '141', '73', 1]\n"
          ]
        }
      ]
    },
    {
      "cell_type": "code",
      "source": [
        "# Las tuplas \n",
        "\n",
        "# Las tuplas no se pueden modificar después de su creción (añadir,\n",
        "# mover, elementos, etc)\n",
        "\n",
        "# Sí se pueden extraer porciones de una tupla determinada, pero el \n",
        "# resultado es una nueva tupla,\n",
        "\n",
        "# No se permiten las busquedas dentro de las tuplas  \n",
        "\n",
        "# Es posible comprobar si un elemento está dentro de la tupla\n",
        "\n",
        "# Ventajas de las tuplas respecto de las listas\n",
        "\n",
        "# Son más rápidas  \n",
        "\n",
        "# Ocupan menos espacio en memoria ( Mayor optimización ) \n",
        "\n",
        "# Formatean strings \n",
        "\n",
        "# Pueden utilizarze como claves en un diccionario, las listas no \n",
        "# tienen está capacidad"
      ],
      "metadata": {
        "id": "gLVcZ0zStBNt"
      },
      "execution_count": null,
      "outputs": []
    },
    {
      "cell_type": "code",
      "source": [
        "# Sintaxis de las tuplas \n",
        "\n",
        "# nombreLista = (elem1, elem2, elem3, ... elem(n+1))  y al parecer \n",
        "# los parentesis son opcionales\n",
        "mitupla = (\"Buenas noches\",\"Ecuaciones Diferenciales Ordinarias\",\"10\")\n",
        "print(mitupla)"
      ],
      "metadata": {
        "id": "uOe7jaUFsfeL",
        "outputId": "bcf7aa84-2d8a-4a3f-ec87-b237f605e4ef",
        "colab": {
          "base_uri": "https://localhost:8080/"
        }
      },
      "execution_count": null,
      "outputs": [
        {
          "output_type": "stream",
          "name": "stdout",
          "text": [
            "('Buenas noches', 'Ecuaciones Diferenciales Ordinarias', '10')\n"
          ]
        }
      ]
    },
    {
      "cell_type": "code",
      "source": [
        "mitupla = (\"Buenas noches\",\"Ecuaciones Diferenciales Ordinarias\",\"10\")\n",
        "print(mitupla[1])"
      ],
      "metadata": {
        "id": "a6RJUqvmsfZZ",
        "outputId": "57de8b31-54b7-4c97-8246-0ec6838d014d",
        "colab": {
          "base_uri": "https://localhost:8080/"
        }
      },
      "execution_count": null,
      "outputs": [
        {
          "output_type": "stream",
          "name": "stdout",
          "text": [
            "Ecuaciones Diferenciales Ordinarias\n"
          ]
        }
      ]
    },
    {
      "cell_type": "code",
      "source": [
        "# Convertir una tupla en una lista \n",
        "\n",
        "mitupla = (\"Buenas noches\",\"Ecuaciones Diferenciales Ordinarias\",\"Métodos,númericos\",\"Estructura de Datos\",\"10\")\n",
        "milista = list(mitupla) # Con está instrucción se convierte la tupla en lista\n",
        "print(milista)\n",
        "# Diferencia entre la forma en que se muestra milista y mitupla en consola\n",
        "print(\"-----------------------------------------\")\n",
        "print(mitupla)"
      ],
      "metadata": {
        "id": "RGOwTIVHwufp",
        "outputId": "911b69b5-4613-4870-f1ca-a5062fe616e5",
        "colab": {
          "base_uri": "https://localhost:8080/"
        }
      },
      "execution_count": null,
      "outputs": [
        {
          "output_type": "stream",
          "name": "stdout",
          "text": [
            "['Buenas noches', 'Ecuaciones Diferenciales Ordinarias', 'Métodos,númericos', 'Estructura de Datos', '10']\n",
            "-----------------------------------------\n",
            "('Buenas noches', 'Ecuaciones Diferenciales Ordinarias', 'Métodos,númericos', 'Estructura de Datos', '10')\n"
          ]
        }
      ]
    },
    {
      "cell_type": "code",
      "source": [
        "# Convertir una lista en una tupla \n",
        "\n",
        "milista = [\"Buenas noches\",\"Ecuaciones Diferenciales Ordinarias\",\"Métodos,númericos\",\"Estructura de Datos\",\"10\"]\n",
        "mitupla = tuple(milista) # Con está instrucción se convierte la tupla en lista\n",
        "print(mitupla)\n",
        "# Diferencia entre la forma en que se muestra milista y mitupla en consola\n",
        "print(\"-----------------------------------------\")\n",
        "print(milista)"
      ],
      "metadata": {
        "id": "6DDnhHOywvJM",
        "outputId": "90b4490b-6f21-4083-a865-70531eff225b",
        "colab": {
          "base_uri": "https://localhost:8080/"
        }
      },
      "execution_count": null,
      "outputs": [
        {
          "output_type": "stream",
          "name": "stdout",
          "text": [
            "('Buenas noches', 'Ecuaciones Diferenciales Ordinarias', 'Métodos,númericos', 'Estructura de Datos', '10')\n",
            "-----------------------------------------\n",
            "['Buenas noches', 'Ecuaciones Diferenciales Ordinarias', 'Métodos,númericos', 'Estructura de Datos', '10']\n"
          ]
        }
      ]
    },
    {
      "cell_type": "code",
      "source": [
        "# Encontrar un elemento dentro de la tupla\n",
        "milista = [\"Buenas noches\",\"Ecuaciones Diferenciales Ordinarias\",\"Métodos,númericos\",\"Estructura de Datos\",\"10\"]\n",
        "mitupla = tuple(milista) # Con está instrucción se convierte la tupla en lista\n",
        "print(\"2\" in mitupla)\n",
        "print(\"10\" in mitupla)"
      ],
      "metadata": {
        "id": "z5edyJXMwvvR",
        "outputId": "93a5b3c7-6de3-4c7c-aa77-ba259c8c04d5",
        "colab": {
          "base_uri": "https://localhost:8080/"
        }
      },
      "execution_count": null,
      "outputs": [
        {
          "output_type": "stream",
          "name": "stdout",
          "text": [
            "False\n",
            "True\n"
          ]
        }
      ]
    },
    {
      "cell_type": "code",
      "source": [
        "# Cuantas veces se repite algun elemento dentro de la tupla\n",
        "milista = [21,2,3,4,5,3,1,54,2,2,2,5,2,78]\n",
        "mitupla = tuple(milista) #\n",
        "print(mitupla.count(2))\n",
        "# Este método podría ser útil para la interfaz de estructura de datos"
      ],
      "metadata": {
        "id": "rFMt2Gj5wv_8",
        "outputId": "fe9ba20a-e1c1-4ce9-acff-672c86f8c202",
        "colab": {
          "base_uri": "https://localhost:8080/"
        }
      },
      "execution_count": null,
      "outputs": [
        {
          "output_type": "stream",
          "name": "stdout",
          "text": [
            "5\n"
          ]
        }
      ]
    },
    {
      "cell_type": "code",
      "source": [
        "# Longitud de una tupla\n",
        "# Cuantas veces se repite algun elemento dentro de la tupla\n",
        "milista = [21,2,3,4,5,3,1,54,2,2,2,5,2,78] # Son 14 elementos tal como marca la tupla\n",
        "mitupla = tuple(milista) #\n",
        "print(len(mitupla))\n",
        "# Este método podría ser útil para la interfaz de estructura de datos"
      ],
      "metadata": {
        "id": "YVNBnp4DwwWG",
        "outputId": "32fa1160-e8b2-447c-aeaa-32b976f356db",
        "colab": {
          "base_uri": "https://localhost:8080/"
        }
      },
      "execution_count": null,
      "outputs": [
        {
          "output_type": "stream",
          "name": "stdout",
          "text": [
            "14\n"
          ]
        }
      ]
    },
    {
      "cell_type": "code",
      "source": [
        "# Tuplas unitarias (tuplas con un solo elemento)\n",
        "mitupla = (\"LEONARDO LUNA\",) # Al colocar los parenteis he empaquetado la tupla\n",
        "print(len(mitupla))\n",
        "# Este método podría ser útil para la interfaz de estructura de datos\n",
        "# Si no se coloca la coma despues del elemento de la tupla \n",
        "# El interprete devuelve el valor 13, que son los elementos reales de \n",
        "# la tupla, con este metodo por asi decirlo es posible introducir\n",
        "# más datos de los realmente mostrados en consola"
      ],
      "metadata": {
        "id": "BwVtH8Qgwwm2",
        "outputId": "f6b8e71d-a818-4106-b489-9ef9602364aa",
        "colab": {
          "base_uri": "https://localhost:8080/"
        }
      },
      "execution_count": null,
      "outputs": [
        {
          "output_type": "stream",
          "name": "stdout",
          "text": [
            "1\n"
          ]
        }
      ]
    },
    {
      "cell_type": "code",
      "source": [
        "# Un caso para almacenar datos\n",
        "mitupla = (\"Nombre \",00,00,0000)\n",
        "nombre, dia, mes, año  = mitupla\n",
        "print(nombre) # Python asigna nombre, dia, mes y año a cada elemento \n",
        "print(dia)    # Correspondiente en la tupla, como nombre es a nombre \n",
        "print(mes)    # dia a 00, mes a 00 y año a 0000 \n",
        "print(año)    # Se imprime el valor de los atributos dados al inicio\n",
        "# Así podría almacenar datos inmutables que solo se muestren en consla \n",
        "\n",
        "# Esto que acabamos de hacer se llama desempaquetado de tupla\n",
        "# Todo lo visto de acuerdo a las tuplas fue visto en el video 8 "
      ],
      "metadata": {
        "id": "WIIpzHasww1R",
        "outputId": "fb0db89b-f634-4ef7-bff5-f3fa94927bb2",
        "colab": {
          "base_uri": "https://localhost:8080/"
        }
      },
      "execution_count": null,
      "outputs": [
        {
          "output_type": "stream",
          "name": "stdout",
          "text": [
            "Nombre \n",
            "0\n",
            "0\n",
            "0\n"
          ]
        }
      ]
    },
    {
      "cell_type": "code",
      "source": [
        "# Diccionarios, Este es el video 9 de 79 de la lista\n",
        "# Estructura de datos que permite almacenar valores de diferente tipo\n",
        "# (enteros, cadenas de texto, decimales) e incluso listas y otros \n",
        "# diccionarios\n",
        "\n",
        "# La principal característia de los diccionarios es que los datos se \n",
        "# almacenan asociads a una clave de tal forma que se crea una\n",
        "# asociación de tipo clave : valor para cada elemento almacenado \n",
        "\n",
        "# Los elementos almacenados no están ordenados. El orden es indiferente\n",
        "# a la hora de almacenar información en un diccionario"
      ],
      "metadata": {
        "id": "JVX1TY7qwuNK"
      },
      "execution_count": null,
      "outputs": []
    },
    {
      "cell_type": "code",
      "source": [
        "# Diccionarios\n",
        "# Este diccionario almacenará el conjunto, país : capital del país\n",
        "midiccionario = {\"Alemania\":\"Berlín\", \"Francia\":\"París\",\"Reino Unido\":\"Londres\"} \n",
        "# Acceder a un elemento del diccionario\n",
        "print(midiccionario[\"Francia\"])\n",
        "# En este ejemplo el elemento del diccionario que invocamos en la impresión\n",
        "# la clave es \" Francia \", y el valor devuelto es París, la capital\n",
        "# En este contexto particular de diccionario"
      ],
      "metadata": {
        "id": "17MiFpAcwtoR",
        "outputId": "755dcb30-678b-4da4-80e2-61c9581fb410",
        "colab": {
          "base_uri": "https://localhost:8080/"
        }
      },
      "execution_count": null,
      "outputs": [
        {
          "output_type": "stream",
          "name": "stdout",
          "text": [
            "París\n"
          ]
        }
      ]
    },
    {
      "cell_type": "code",
      "source": [
        "# Imprimir el diccionario entero\n",
        "midiccionario = {\"Alemania\":\"Berlín\", \"Francia\":\"París\",\"Reino Unido\":\"Londres\"} \n",
        "print(midiccionario)"
      ],
      "metadata": {
        "id": "IyrdfLaKvZof",
        "outputId": "0f683087-ae1a-4a74-dd6c-43a638cc04b6",
        "colab": {
          "base_uri": "https://localhost:8080/"
        }
      },
      "execution_count": null,
      "outputs": [
        {
          "output_type": "stream",
          "name": "stdout",
          "text": [
            "{'Alemania': 'Berlín', 'Francia': 'París', 'Reino Unido': 'Londres'}\n"
          ]
        }
      ]
    },
    {
      "cell_type": "code",
      "source": [
        "# Agregar un dato al diccionario\n",
        "midiccionario = {\"Alemania\":\"Berlín\", \"Francia\":\"París\",\"Reino Unido\":\"Londres\"} \n",
        "midiccionario[\"Italia\"] = \"Roma\" # Aquí agregué el elemento Italia y \n",
        "print(midiccionario)   # su capital al diccionario\n",
        "# En todo caso esto esta mal"
      ],
      "metadata": {
        "id": "BKmeW1dxs8or",
        "outputId": "3be1e24f-c223-4565-f382-899ace16195c",
        "colab": {
          "base_uri": "https://localhost:8080/"
        }
      },
      "execution_count": null,
      "outputs": [
        {
          "output_type": "stream",
          "name": "stdout",
          "text": [
            "{'Alemania': 'Berlín', 'Francia': 'París', 'Reino Unido': 'Londres', 'Italia': 'Roma'}\n"
          ]
        }
      ]
    },
    {
      "cell_type": "code",
      "source": [
        "# Agregar un dato al diccionario\n",
        "midiccionario = {\"Alemania\":\"Berlín\", \"Francia\":\"París\",\"Reino Unido\":\"Londres\"} \n",
        "midiccionario[\"Italia\"] = \"Lisboa\" # Aquí agregué el elemento Italia y \n",
        "print(midiccionario)   # su capital al diccionario\n",
        "midiccionario[\"Italia\"] = \"Roma\"\n",
        "print(midiccionario)\n",
        "# No pueden existir dos claves iguales en un diccionario, por ello es \n",
        "# que en el segundo print se imprime el valor Italia = Roma\n",
        "# Que es la verdadera capital del país "
      ],
      "metadata": {
        "id": "EhKQeDRKs8kg",
        "outputId": "242f5ff0-3267-43dd-b8bc-1f7716d9c0cc",
        "colab": {
          "base_uri": "https://localhost:8080/"
        }
      },
      "execution_count": null,
      "outputs": [
        {
          "output_type": "stream",
          "name": "stdout",
          "text": [
            "{'Alemania': 'Berlín', 'Francia': 'París', 'Reino Unido': 'Londres', 'Italia': 'Lisboa'}\n",
            "{'Alemania': 'Berlín', 'Francia': 'París', 'Reino Unido': 'Londres', 'Italia': 'Roma'}\n"
          ]
        }
      ]
    },
    {
      "cell_type": "code",
      "source": [
        "# Eliminar un elemento del diccionario\n",
        "midiccionario = {\"Alemania\":\"Berlín\",\"Francia\":\"París\",\"Reino Unido\":\"Londres\"} \n",
        "print(midiccionario)\n",
        "del midiccionario[\"Francia\"] # Al agregar está línea, no solo \n",
        "print(midiccionario)    # Elimine Francia, sino también París"
      ],
      "metadata": {
        "id": "2y193lEos8gK",
        "outputId": "d10be3f2-72a1-4557-ecd2-cce902ebd575",
        "colab": {
          "base_uri": "https://localhost:8080/"
        }
      },
      "execution_count": null,
      "outputs": [
        {
          "output_type": "stream",
          "name": "stdout",
          "text": [
            "{'Alemania': 'Berlín', 'Francia': 'París', 'Reino Unido': 'Londres'}\n",
            "{'Alemania': 'Berlín', 'Reino Unido': 'Londres'}\n"
          ]
        }
      ]
    },
    {
      "cell_type": "code",
      "source": [
        "# Diccionario con diferentes valores lógicos\n",
        "midiccionario = {\"Alemania\":\"Berlín\", 422.1:\"Leonardo\",\"Reino Unido\":\"Londres\",\"Leonardo Luna\":1} \n",
        "print(midiccionario)"
      ],
      "metadata": {
        "id": "YxzIhxQ9s8VP",
        "outputId": "038936aa-0949-4006-b5d1-2bdbd73e4456",
        "colab": {
          "base_uri": "https://localhost:8080/"
        }
      },
      "execution_count": null,
      "outputs": [
        {
          "output_type": "stream",
          "name": "stdout",
          "text": [
            "{'Alemania': 'Berlín', 422.1: 'Leonardo', 'Reino Unido': 'Londres', 'Leonardo Luna': 1}\n",
            "{'Alemania': 'Berlín', 422.1: 'Leonardo', 'Reino Unido': 'Londres', 'Leonardo Luna': 1}\n"
          ]
        }
      ]
    },
    {
      "cell_type": "code",
      "source": [
        "# Convertir una tupla en un diccionario, y utilizar sus valores\n",
        "mitupla = [\"Italia\",\"Fracia\",\"Reino Unido\",\"Alemania\"]\n",
        "midiccionario = {mitupla[0]:\"Roma\",mitupla[1]:\"París\",mitupla[2]:\"Londres\",mitupla[3]:\"Berlín\"}\n",
        "print(midiccionario)"
      ],
      "metadata": {
        "id": "8fzKbVbTxzn2",
        "outputId": "5978d415-4282-47f5-c3f0-658fe052af3a",
        "colab": {
          "base_uri": "https://localhost:8080/"
        }
      },
      "execution_count": null,
      "outputs": [
        {
          "output_type": "stream",
          "name": "stdout",
          "text": [
            "{'Italia': 'Roma', 'Fracia': 'París', 'Reino Unido': 'Londres', 'Alemania': 'Berlín'}\n"
          ]
        }
      ]
    },
    {
      "cell_type": "code",
      "source": [
        "# Acceder a un elemento en concreto del diccionario\n",
        "mitupla = [\"Italia\",\"Francia\",\"Reino Unido\",\"Alemania\"]\n",
        "midiccionario = {mitupla[0]:\"Roma\",mitupla[1]:\"París\",mitupla[2]:\"Londres\",mitupla[3]:\"Berlín\"}\n",
        "print(midiccionario[\"Francia\"]) # Aquí se accede a París a través de \n",
        "# Francia\n",
        "print(midiccionario[mitupla[0]]) # Aquí accedí a Roma a través del \n",
        "# valor númerico de la tupla "
      ],
      "metadata": {
        "id": "d_lttiYUxzZo",
        "outputId": "71da5914-6eb6-48e5-fde1-32866b18b780",
        "colab": {
          "base_uri": "https://localhost:8080/"
        }
      },
      "execution_count": null,
      "outputs": [
        {
          "output_type": "stream",
          "name": "stdout",
          "text": [
            "París\n",
            "Roma\n"
          ]
        }
      ]
    },
    {
      "cell_type": "code",
      "source": [
        "# Un diccionario almacenando una tupla de valores\n",
        "midiccionario = {10:\"LEONARDO\", \"NOMBRE\":\"LEONARDO\", \"EQUIPO\":\"METALINK\", \"LOGROS\":[2020,2021,2022]}\n",
        "print(midiccionario) # En la parte \"LOGROS\" del diccionario, la clave es logros, y tiene asignado \n",
        "# Una serie de valores que corresponde a un intervalo de años que a su vez \n",
        "# fueron almacenados dentro de una tupla, en este caso 2020, 2021, 2022 "
      ],
      "metadata": {
        "id": "_c40rOKHxzVO",
        "outputId": "1f76b828-3fb9-40ab-b1d9-e2f789b55a95",
        "colab": {
          "base_uri": "https://localhost:8080/"
        }
      },
      "execution_count": null,
      "outputs": [
        {
          "output_type": "stream",
          "name": "stdout",
          "text": [
            "{10: 'LEONARDO', 'NOMBRE': 'LEONARDO', 'EQUIPO': 'METALINK', 'LOGROS': [2020, 2021, 2022]}\n"
          ]
        }
      ]
    },
    {
      "cell_type": "code",
      "source": [
        "# Acceder al equipo en el cual estoy \n",
        "# Un diccionario almacenando una tupla de valores\n",
        "midiccionario = {10:\"LEONARDO\", \"NOMBRE\":\"LEONARDO\", \"EQUIPO\":\"METALINK\", \"LOGROS\":[2020,2021,2022]}\n",
        "print(midiccionario[\"EQUIPO\"])\n",
        "print(midiccionario[\"LOGROS\"])"
      ],
      "metadata": {
        "id": "Uo7dwnYX2CdU",
        "outputId": "0fbaae10-88cb-41a4-d20d-b294e74378ef",
        "colab": {
          "base_uri": "https://localhost:8080/"
        }
      },
      "execution_count": null,
      "outputs": [
        {
          "output_type": "stream",
          "name": "stdout",
          "text": [
            "METALINK\n",
            "[2020, 2021, 2022]\n"
          ]
        }
      ]
    },
    {
      "cell_type": "code",
      "source": [
        "# Se puede guardar un diccionario dentro de otro diccionario\n",
        "midiccionario1 = {10:\"LEONARDO\", \"NOMBRE\":\"LEONARDO\", \"EQUIPO\":\"METALINK\", \"LOGROS\":{2020,2021,2022}}\n",
        "midiccionario = {10:\"LEONARDO\", \"NOMBRE\":\"LEONARDO\", \"EQUIPO\":\"METALINK\", \"LOGROS\":[2020,2021,2022]}\n",
        "print(midiccionario1[\"LOGROS\"])\n",
        "print(midiccionario[\"LOGROS\"])"
      ],
      "metadata": {
        "id": "26dXONbd2ZkV",
        "outputId": "f5c644e4-aa24-4c86-e3d8-01f9d40f41db",
        "colab": {
          "base_uri": "https://localhost:8080/"
        }
      },
      "execution_count": null,
      "outputs": [
        {
          "output_type": "stream",
          "name": "stdout",
          "text": [
            "{2020, 2021, 2022}\n",
            "[2020, 2021, 2022]\n"
          ]
        }
      ]
    },
    {
      "cell_type": "code",
      "source": [
        "# Se puede guardar un diccionario dentro de otro diccionario\n",
        "midiccionario = {10:\"LEONARDO\", \"NOMBRE\":\"LEONARDO\", \"EQUIPO\":\"METALINK\", \"LOGROS\":{\"AÑOS\":[2020,2021,2022]}}\n",
        "print(midiccionario[\"LOGROS\"]) # Acá se imprimen los LOGROS como un \n",
        "# diccionario, incluye los años\n",
        "print(midiccionario)"
      ],
      "metadata": {
        "id": "otRPTo2p2att",
        "outputId": "bd6ef727-ffc1-4002-92d8-bef65d8bd758",
        "colab": {
          "base_uri": "https://localhost:8080/"
        }
      },
      "execution_count": null,
      "outputs": [
        {
          "output_type": "stream",
          "name": "stdout",
          "text": [
            "{'AÑOS': [2020, 2021, 2022]}\n",
            "{10: 'LEONARDO', 'NOMBRE': 'LEONARDO', 'EQUIPO': 'METALINK', 'LOGROS': {'AÑOS': [2020, 2021, 2022]}}\n"
          ]
        }
      ]
    },
    {
      "cell_type": "code",
      "source": [
        "# Algunos otros metodos con los diccionarios\n",
        "midiccionario = {10:\"LEONARDO\", \"NOMBRE\":\"LEONARDO\", \"EQUIPO\":\"METALINK\", \"LOGROS\":{\"AÑOS\":[2020,2021,2022]}}\n",
        "print(midiccionario.keys()) # Muestra las claves dentro del diccionario \n",
        "print(midiccionario.values()) # Muestra los valores asignados a las claves\n",
        "print(len(midiccionario)) # Muestra la longitud del diccionario"
      ],
      "metadata": {
        "id": "drXx0c4CxzP9",
        "outputId": "b6fc45e0-8bf5-4b39-d6f5-73c329ffa6e6",
        "colab": {
          "base_uri": "https://localhost:8080/"
        }
      },
      "execution_count": null,
      "outputs": [
        {
          "output_type": "stream",
          "name": "stdout",
          "text": [
            "dict_keys([10, 'NOMBRE', 'EQUIPO', 'LOGROS'])\n",
            "dict_values(['LEONARDO', 'LEONARDO', 'METALINK', {'AÑOS': [2020, 2021, 2022]}])\n",
            "4\n"
          ]
        }
      ]
    },
    {
      "cell_type": "code",
      "source": [
        "# Condicionales y bucles, video 10\n",
        "# instrucción if \n",
        "\n",
        "# Flujo de ejecución del programa, esto es igual a los diagramas de \n",
        "# flujo y demás \n",
        "\n",
        "# flujo del programa, orden en el cual se ejecutan las instrucciones \n",
        "# escritas dentro del código. "
      ],
      "metadata": {
        "id": "e8JcV_KMTP6Z"
      },
      "execution_count": null,
      "outputs": []
    },
    {
      "cell_type": "code",
      "source": [
        "def evaluacion(calificación):\n",
        "    valor = \"APROBADO\"\n",
        "    if calificación < 5:\n",
        "        valor = \"SUSPENDIDO\"\n",
        "    return valor                  # == igual que \n",
        "print(evaluacion(4))              # <= menor o igual que \n",
        "print(evaluacion(10))             # >= mayor o igual que \n",
        "                                  # != diferente que \n",
        "# if, si la condición es verdadera, se ejecuntan las instrucciones del bloque \n",
        "# si no, no sucede nada y se continuan con las instrucciones escritas después \n",
        "# del condicional "
      ],
      "metadata": {
        "id": "JGEfFgucTPh8",
        "outputId": "ae6e8503-0f2b-46f3-871f-c5a12b885e8a",
        "colab": {
          "base_uri": "https://localhost:8080/"
        }
      },
      "execution_count": null,
      "outputs": [
        {
          "output_type": "stream",
          "name": "stdout",
          "text": [
            "SUSPENDIDO\n",
            "APROBADO\n"
          ]
        }
      ]
    },
    {
      "cell_type": "code",
      "source": [
        "# introducir valores al programa \n",
        "print(\"Programa de evaluación de notas de alumno\")\n",
        "calificacion_alumno = input(int) # Con está linea podemos agregar valores a evaluar desde el teclado \n",
        "def evaluacion(calificación):\n",
        "    valor = \"APROBADO\"\n",
        "    if calificación < 5:\n",
        "        valor = \"SUSPENDIDO\"\n",
        "    return valor                 \n",
        "print(evaluacion(int(calificacion_alumno)))"
      ],
      "metadata": {
        "id": "5J5Xgg4gWt1h",
        "outputId": "931475ab-65a0-44df-e096-6a347bf3946d",
        "colab": {
          "base_uri": "https://localhost:8080/"
        }
      },
      "execution_count": null,
      "outputs": [
        {
          "output_type": "stream",
          "name": "stdout",
          "text": [
            "Programa de evaluación de notas de alumno\n",
            "<class 'int'>10\n",
            "APROBADO\n"
          ]
        }
      ]
    },
    {
      "cell_type": "code",
      "source": [
        "# introducir valores al programa \n",
        "print(\"Programa de evaluación de notas de alumno\")\n",
        "calificacion_alumno = input(int) # Con está linea podemos agregar valores a evaluar desde el teclado \n",
        "\n",
        "def evaluacion(calificación):\n",
        "    valor = \"APROBADO\"\n",
        "\n",
        "    if calificación < 5:\n",
        "        valor = \"SUSPENDIDO\"  # Una variable es accesible dentro de un ambito\n",
        "    return valor                 \n",
        "\n",
        "print(evaluacion(int(calificacion_alumno)))"
      ],
      "metadata": {
        "id": "bhxw9gGdZZ7v",
        "outputId": "0853865f-8fe5-4e14-9877-a5dcc5d01fb1",
        "colab": {
          "base_uri": "https://localhost:8080/"
        }
      },
      "execution_count": null,
      "outputs": [
        {
          "output_type": "stream",
          "name": "stdout",
          "text": [
            "Programa de evaluación de notas de alumno\n",
            "<class 'int'>10\n",
            "APROBADO\n"
          ]
        }
      ]
    },
    {
      "cell_type": "code",
      "source": [
        "# Condicionales II, video 11 \n",
        "print(\"Verificación de edad del usuario\")\n",
        "edad_usuario = int(input(\"Introduce tu edad, por favor\"))\n",
        "if edad_usuario < 18: \n",
        "    print(\"No puedes pasar\") # El programa no funciona correctamente\n",
        "print(\"Puedes pasar\") # aún\n",
        "# son necesarios 2 condicionales para el correcto funcionamiento"
      ],
      "metadata": {
        "id": "szZnzsq4WtNt",
        "outputId": "f60b2ffe-14c5-42ab-ba08-c264bf58ef47",
        "colab": {
          "base_uri": "https://localhost:8080/"
        }
      },
      "execution_count": null,
      "outputs": [
        {
          "output_type": "stream",
          "name": "stdout",
          "text": [
            "Verificación de edad del usuario\n",
            "Introduce tu edad, por favor29\n",
            "Puedes pasar\n"
          ]
        }
      ]
    },
    {
      "cell_type": "code",
      "source": [
        "print(\"Verificación de edad del usuario\")\n",
        "edad_usuario = int(input(\"Introduce tu edad, por favor: \"))\n",
        "if edad_usuario < 18: \n",
        "    print(\"No puedes pasar\") # El programa no funciona correctamente\n",
        "else:\n",
        "    print(\"Puedes pasar\") \n",
        "# Sin if, no hay else"
      ],
      "metadata": {
        "id": "m4S1LlMATPV-",
        "outputId": "6856f85e-3b3a-4674-ef1a-da835aa0e3b3",
        "colab": {
          "base_uri": "https://localhost:8080/"
        }
      },
      "execution_count": null,
      "outputs": [
        {
          "output_type": "stream",
          "name": "stdout",
          "text": [
            "Verificación de edad del usuario\n",
            "Introduce tu edad, por favor: 67\n",
            "Puedes pasar\n"
          ]
        }
      ]
    },
    {
      "cell_type": "code",
      "source": [
        "print(\"Verificación de edad del usuario\")\n",
        "\n",
        "edad_usuario = int(input(\"Introduce tu edad, por favor: \"))\n",
        "if edad_usuario < 18: \n",
        "    print(\"No puedes pasar\") # El programa no funciona correctamente\n",
        "elif edad_usuario > 110:  # Con este condicional es posible \n",
        "    print(\"Edad incorrecta\") # considerar if y elif en todo el \n",
        "else:   # flujo del programa \n",
        "    print(\"Puedes pasar\") "
      ],
      "metadata": {
        "id": "lmD5moDC5HYF",
        "outputId": "a056ef70-087c-4560-e6c0-b58519daf421",
        "colab": {
          "base_uri": "https://localhost:8080/"
        }
      },
      "execution_count": null,
      "outputs": [
        {
          "output_type": "stream",
          "name": "stdout",
          "text": [
            "Verificación de edad del usuario\n",
            "Introduce tu edad, por favor: 55\n",
            "Puedes pasar\n"
          ]
        }
      ]
    },
    {
      "cell_type": "code",
      "source": [
        "#  El programa ya funciona como debería funcionar \n",
        "print(\"Verificación acceso\")\n",
        "nota_alumno = int(input(\"Introduce tu nota, por favor: \"))\n",
        "if nota_alumno < 5:\n",
        "    print(\"insuficiente\")\n",
        "elif nota_alumno < 6:\n",
        "    print(\"Suficiente\")\n",
        "elif nota_alumno < 7:\n",
        "    print(\"Bien\")\n",
        "elif nota_alumno < 9:\n",
        "    print(\"Notable\")\n",
        "else: \n",
        "    print(\"Sobresaliente\")"
      ],
      "metadata": {
        "id": "BYuttJMy5HKp",
        "outputId": "ff5cd0f3-dcef-46fb-dd10-01e4b8e79854",
        "colab": {
          "base_uri": "https://localhost:8080/"
        }
      },
      "execution_count": 1,
      "outputs": [
        {
          "output_type": "stream",
          "name": "stdout",
          "text": [
            "Verificación acceso\n",
            "Introduce tu nota, por favor: 10\n",
            "Sobresaliente\n"
          ]
        }
      ]
    },
    {
      "cell_type": "code",
      "source": [
        "# Python 12 / 79 1: 06 de la tarde \n",
        "# Condicionales 3 parte III, concatenacion de sentencias condicionales\n",
        "\n",
        "edad = 50 \n",
        "if 0 < edad < 110: # Aquí se puede escribir varias veces el operador de \n",
        "    print(\"Edad correcta\") # comparación    \n",
        "else:   # Este es una concatenación sencilla\n",
        "    print(\"Edad incorrecta\")"
      ],
      "metadata": {
        "id": "52D3zF7jAZMO",
        "outputId": "d294faa6-c505-41a2-946c-0a3ef306f669",
        "colab": {
          "base_uri": "https://localhost:8080/"
        }
      },
      "execution_count": 5,
      "outputs": [
        {
          "output_type": "stream",
          "name": "stdout",
          "text": [
            "Edad correcta\n"
          ]
        }
      ]
    },
    {
      "cell_type": "code",
      "source": [
        "# Evaluar el salario de una serie de personas \n",
        "\n",
        "salario_presidente = int(input(\"Ingrese el salario del Presidente: \"))\n",
        "print(f\"Salario del Presidente: {salario_presidente}\") # De esta manera \n",
        "# agrupamos el valor que ingresamos desde el teclado o, el usuario, \n",
        "# y según parece existe una forma alterna"
      ],
      "metadata": {
        "id": "IgpM8AeoAZHU",
        "outputId": "92cf65ed-4f2e-494b-be5d-0f798567bb6c",
        "colab": {
          "base_uri": "https://localhost:8080/"
        }
      },
      "execution_count": 9,
      "outputs": [
        {
          "output_type": "stream",
          "name": "stdout",
          "text": [
            "Ingrese el salario del Presidente: 1000000000\n",
            "Salario Presidente: 1000000000\n"
          ]
        }
      ]
    },
    {
      "cell_type": "code",
      "source": [
        "# Forma mostrada en el video\n",
        "salario_presidente = int(input(\"Ingrese el salario del Presidente: \"))\n",
        "print(\"Salario del Presidente: \" + str(salario_presidente)) # De esta manera )\n",
        "# agrupamos el valor que ingresamos desde el teclado o, el usuario, \n",
        "# y según parece existe una forma alterna"
      ],
      "metadata": {
        "id": "1dSQ37266Dw1",
        "outputId": "e385a7da-53de-4f16-e8f7-87b2a7756756",
        "colab": {
          "base_uri": "https://localhost:8080/"
        }
      },
      "execution_count": 8,
      "outputs": [
        {
          "output_type": "stream",
          "name": "stdout",
          "text": [
            "Ingrese el salario del Presidente: 1000000\n",
            "Salario Presidente: 1000000\n"
          ]
        }
      ]
    },
    {
      "cell_type": "code",
      "source": [
        "# Evaluar el salario de una serie de personas \n",
        "# Forma mostrada en el video\n",
        "salario_presidente = int(input(\"Ingrese el salario del Presidente: \"))\n",
        "print(\"Salario del Presidente: \" + str(salario_presidente)) \n",
        "salario_director = int(input(\"Ingrese el salario del Director: \"))\n",
        "print(\"Salario del Director: \" + str(salario_director)) \n",
        "salario_jefe_area = int(input(\"Ingrese el salario del Jefe de Área: \"))\n",
        "print(\"Salario del Jefe de Área: \" + str(salario_jefe_area))  \n",
        "salario_administrativo = int(input(\"Ingrese el salario del Administrativo: \"))\n",
        "print(\"Salario del Administrativo: \" + str(salario_administrativo))\n",
        "\n",
        "if salario_administrativo < salario_jefe_area < salario_director < salario_presidente:\n",
        "    print(\"Todo bien, tenga un buen día\")\n",
        "else: \n",
        "    print(\"Algo está mal, nomms >:V  \")\n",
        "# De momento el programa no está del todo completo\n",
        "# Dado que conforme se ejecuta el código, se evaluan pares de parejas\n",
        "# para determinar los siguientes valores a evaluar, pero si por ejemplo \n",
        "# el salario del director es mayor que el salario del presidente\n",
        "# significa que algo ira mal, pero se ignoraran los siguientes pares \n",
        "# de salarios a evaluar, incluyendo la evaluacion jefe area - director \n",
        "# esto implicaria que si existiera mas de una persona ganango más que el \n",
        "# jefe, el programa no prodría detectarlo. "
      ],
      "metadata": {
        "id": "y1rzE27k6v01",
        "outputId": "6e6314da-cf8f-4c60-9f9a-d3d7666ab341",
        "colab": {
          "base_uri": "https://localhost:8080/"
        }
      },
      "execution_count": 10,
      "outputs": [
        {
          "output_type": "stream",
          "name": "stdout",
          "text": [
            "Ingrese el salario del Presidente: 1000000000\n",
            "Salario del Presidente: 1000000000\n",
            "Ingrese el salario del Director: 56888\n",
            "Salario del Director: 56888\n",
            "Ingrese el salario del Jefe de Área: 122\n",
            "Salario del Jefe de Área: 122\n",
            "Ingrese el salario del Administrativo: 10\n",
            "Salario del Administrativo: 10\n",
            "Todo bien, tenga un buen día\n"
          ]
        }
      ]
    },
    {
      "cell_type": "code",
      "source": [
        "# Python 13, condicionales IV, parte 4 "
      ],
      "metadata": {
        "id": "XEfQkK1y6vtR"
      },
      "execution_count": null,
      "outputs": []
    },
    {
      "cell_type": "code",
      "source": [],
      "metadata": {
        "id": "K1gOyY1eAY_Q"
      },
      "execution_count": null,
      "outputs": []
    },
    {
      "cell_type": "code",
      "source": [],
      "metadata": {
        "id": "-UldGwgIxzMj"
      },
      "execution_count": null,
      "outputs": []
    },
    {
      "cell_type": "code",
      "source": [
        "a = float(input(\"Ingrese el valor 'a' del intervalo: \"))\n",
        "b = float(input(\"Ingrese el valor 'b' del intervalo: \"))\n",
        "for i in range(3): # Se establece una condición: para i, en el rango de valor 5, que será el número de iteraciones del programa \n",
        "    cn = (a+b) / 2  # Sumar el valor de 1 a la variable a, en cada iteración\n",
        "    print(f\"{cn}\")\n",
        "    for i in range(3): # Se establece una condición: para i, en el rango de valor 5, que será el número de iteraciones del programa \n",
        "        cn = (a+b) / 2  # Sumar el valor de 1 a la variable a, en cada iteración\n",
        "        print(f\"{cn}\")\n",
        "    \n",
        "# print(f\"El valor C(n) para la siguiente iteración es:{cn}\")"
      ],
      "metadata": {
        "id": "tTOZqWaQqSNF",
        "colab": {
          "base_uri": "https://localhost:8080/"
        },
        "outputId": "9a73c73f-c470-4e1d-8980-3b3316dbfb1f"
      },
      "execution_count": null,
      "outputs": [
        {
          "output_type": "stream",
          "name": "stdout",
          "text": [
            "Ingrese el valor 'a' del intervalo: 1\n",
            "Ingrese el valor 'b' del intervalo: 2\n",
            "1.5\n",
            "1.5\n",
            "1.5\n",
            "1.5\n",
            "1.5\n",
            "1.5\n",
            "1.5\n",
            "1.5\n",
            "1.5\n",
            "1.5\n",
            "1.5\n",
            "1.5\n"
          ]
        }
      ]
    },
    {
      "cell_type": "code",
      "source": [
        "# Aquí construi la función de la tarea 1 y la evalue con c1 = 1.5, f(Cn) = 4.5938, que concuerda con los valores obtenidos \n",
        "a = 1.5*1.5*1.5*1.5*1.5 - 2*1.5\n",
        "print(f\" {a}\")"
      ],
      "metadata": {
        "colab": {
          "base_uri": "https://localhost:8080/"
        },
        "id": "qdLIl2YtKH0m",
        "outputId": "181d2eb9-47fe-4f71-ee04-bd7ee84e425d"
      },
      "execution_count": null,
      "outputs": [
        {
          "output_type": "stream",
          "name": "stdout",
          "text": [
            " 4.59375\n"
          ]
        }
      ]
    },
    {
      "cell_type": "code",
      "source": [
        "import math \n",
        "print(math.pow(2,3)) # Esto significa, 2 elevado a la potencia 3, osease 2 al cubo igual a 8 "
      ],
      "metadata": {
        "id": "qy48vbYnK2Mq"
      },
      "execution_count": null,
      "outputs": []
    },
    {
      "cell_type": "code",
      "source": [
        "# Aquí he resuelto el problema para \n",
        "import math \n",
        "a = math.pow(1.5,5) - 2 * (1.5)\n",
        "print(f\" {a}\")"
      ],
      "metadata": {
        "colab": {
          "base_uri": "https://localhost:8080/"
        },
        "id": "5Tl9n2tmKnBT",
        "outputId": "1068bcb8-c64b-459a-eb14-33643bb9b953"
      },
      "execution_count": null,
      "outputs": [
        {
          "output_type": "stream",
          "name": "stdout",
          "text": [
            " 4.59375\n"
          ]
        }
      ]
    },
    {
      "cell_type": "code",
      "source": [],
      "metadata": {
        "id": "680CXRkSLtdk"
      },
      "execution_count": null,
      "outputs": []
    },
    {
      "cell_type": "code",
      "source": [],
      "metadata": {
        "id": "bB33H3yULgbZ"
      },
      "execution_count": null,
      "outputs": []
    },
    {
      "cell_type": "code",
      "source": [
        "# Interfaz actualizada de estructura de datos\n",
        "from tkinter import * \n",
        "import tkinter as tk   \n",
        "import datetime \n",
        "from datetime import date \n",
        "import time \n",
        "\n",
        "class Ventana():        \n",
        "    def __init__(self):    \n",
        "            # Ventana principal \n",
        "            self.ventana = tk.Tk()\n",
        "            self.ventana.iconbitmap(\"../pythonprog/graphics/mad.ico\") \n",
        "            self.ventana.geometry(\"750x150\") \n",
        "            self.ventana.resizable(1200,1200)\n",
        "            self.ventana.title(\"LA CALCULADORA DEL DIABLO\") \n",
        "            self.ventana.config(background = \"darkred\")    \n",
        "            self.ventana.config(bd = 10)   \n",
        "            self.ventana.config(relief = \"groove\")  \n",
        "            self.ventana.config(cursor = \"hand2\")   \n",
        "        \n",
        "            # Reloj dígital\n",
        "            self.etiquetahms = tk.Label(text = \"\", font = (\"Arial\", 32), fg = \"darkred\", bg = \"white\", pady = 10, padx = 10)\n",
        "            self.etiquetahms.config(bd = 10)   \n",
        "            self.etiquetahms.config(relief = \"groove\")   \n",
        "            self.etiquetahms.place(x = 0, y = 0)   \n",
        "            self.actualizacion()     \n",
        "\n",
        "            # Calendario dígital\n",
        "            self.week_day_label = tk.Label(text=\"ñau\", font=(\"Arial\",32), fg = 'darkred', bg = 'white', pady = 10, padx = 10)\n",
        "            self.week_day_label.config(bd= 10)\n",
        "            self.week_day_label.config(relief = \"groove\")\n",
        "            self.week_day_label.place(x = 1090, y = 0)\n",
        "            self.actualizar_fecha()\n",
        "\n",
        "            # Encabezado \" ESTRUCTURA DE DATOS \"\n",
        "            miFrame = Frame()  \n",
        "            miFrame.pack(side = \"top\") \n",
        "            miFrame.config(background = \"midnightblue\" ) \n",
        "            miFrame.config(width = \"750\", height = \"150\") \n",
        "            Label(miFrame, text = \"Estructura de Datos\", fg = \"midnightblue\", font = (\"Arial\", 30)).place(x = 190, y = 40)\n",
        "            miFrame.config(bd = 10)  \n",
        "            miFrame.config(relief = \"groove\") \n",
        "            miFrame.config(cursor = \"pirate\") \n",
        "            \n",
        "            # Nueva ventana, Ventana1 \n",
        "            def openNewWindow():\n",
        "                # Definición de la Venatana1, similar a la ventana principal\n",
        "                newWindow = Tk()\n",
        "                newWindow.iconbitmap(\"../pythonprog/graphics/mad.ico\") \n",
        "                newWindow.resizable(1200,1200)\n",
        "                newWindow.title(\"MENÚ DE LA CALCULADORA DEL DIABLO\")\n",
        "                newWindow.config(background = \"darkred\")\n",
        "                newWindow.config(bd = 10)\n",
        "                newWindow.config(relief = \"groove\")\n",
        "                \n",
        "                # Define el menú de operaciones en la Ventana1 \n",
        "                # ¿ Cuantas operaciones debe resolver el programa, por semestre, por equipo, ?\n",
        "                barraMenu = Menu(newWindow)\n",
        "                mnuArchivo = Menu(barraMenu)\n",
        "                mnuArchivo.add_command(label = \"Tarea 1: Transformación de 2 matrices triangulares inferiores A y B, en un arreglo rectangular AxB\")\n",
        "                mnuArchivo.add_command(label = \"Tarea 2: Programa que ordena datos por el método de la burbuja\")\n",
        "                mnuArchivo.add_command(label = \"Tarea 3: Programa que agrega y elimina datos en una pila, en una cola, y en una cola de doble entrada\")\n",
        "                mnuArchivo.add_command(label = \"Tarea 4: Ordenamiento de datos por el método de mínimos sucesivos\")\n",
        "                mnuArchivo.add_command(label = \"Tarea 5: \")\n",
        "                mnuArchivo.add_command(label = \"Tarea 6: \")\n",
        "                mnuArchivo.add_command(label = \"Tarea 7:\")\n",
        "                mnuArchivo.add_command(label = \"Tarea 8: \")\n",
        "                mnuArchivo.add_command(label = \"salir\")           \n",
        "                barraMenu.add_cascade(label = \" LOS CALCULOS DEL DIABLO \", menu = mnuArchivo)\n",
        "                newWindow.config(menu = barraMenu)\n",
        "\n",
        "                # Reloj dígital, Ventana1 \n",
        "                self.etiquetahms = tk.Label(newWindow, text = \"\", font = (\"Arial\", 32), fg = \"darkred\", bg = \"white\", pady = 10, padx = 10) \n",
        "                self.etiquetahms.config(bd = 10)   \n",
        "                self.etiquetahms.config(relief = \"groove\")   \n",
        "                self.etiquetahms.place(x = 0, y = 0)   \n",
        "                self.actualizacion()  \n",
        "                \n",
        "                # Calendario dígital, Ventana1\n",
        "                self.week_day_label = tk.Label(newWindow, text= \"\", font=(\"Arial\",32), fg = 'darkred', bg = 'white', pady = 10, padx = 10) # Aquí según parece me faltaba agregar NewWindow, al principio del comando\n",
        "                self.week_day_label.config(bd= 10)\n",
        "                self.week_day_label.config(relief = \"groove\")\n",
        "                self.week_day_label.place(x = 1090, y = 0)\n",
        "                self.actualizar_fecha()\n",
        "\n",
        "                # Encabezado de la Ventana1 \n",
        "                miFrame = Frame(newWindow) \n",
        "                miFrame.pack(side = \"top\") \n",
        "                miFrame.config(background = \"midnightblue\" ) \n",
        "                miFrame.config(width = \"750\", height = \"150\") \n",
        "                Label(miFrame, text = \"Estructura de Datos\", fg = \"midnightblue\", font = (\"Arial\", 30)).place(x = 190, y = 40)\n",
        "                miFrame.config(bd = 10)  \n",
        "                miFrame.config(relief = \"groove\") \n",
        "                miFrame.config(cursor = \"pirate\") \n",
        "                \n",
        "                # Botones de la ventana 1 \n",
        "                botonEnvio = Button(newWindow, text = \"Volver a la ventana principal y cerrar esta ventana\", command = newWindow.destroy) # Al agregar el comando \" exit \" en el botón \" Cerrar \", fue posible finalizar el programa\n",
        "                botonEnvio.config(cursor = \"pirate\")\n",
        "                botonEnvio.place(x = 0, y = 640)\n",
        "\n",
        "            # Botones de la ventana principal     \n",
        "            botonEnvio = Button(self.ventana, text = \" Menú \", command = openNewWindow)\n",
        "            botonEnvio.pack()    \n",
        "            botonEnvio = Button(self.ventana, text = \"Tarea 1: Transformación de 2 matrices triangulares inferiores A y B, en un arreglo rectangular AxB\") \n",
        "            botonEnvio.pack()\n",
        "            botonEnvio = Button(self.ventana, text = \"Tarea 2: Programa que ordena datos por el método de la burbuja\") \n",
        "            botonEnvio.pack()\n",
        "            botonEnvio = Button(self.ventana, text = \"Tarea 3: Programa que agrega y elimina datos en una pila, en una cola, y en una cola de doble entrada\") \n",
        "            botonEnvio.pack()\n",
        "            botonEnvio = Button(self.ventana, text = \"Tarea 4: Ordenamiento de datos por el método de mínimos sucesivos\") \n",
        "            botonEnvio.pack()\n",
        "            botonEnvio = Button(self.ventana, text = \"Tarea 5: \") \n",
        "            botonEnvio.pack()\n",
        "            botonEnvio = Button(self.ventana, text = \"Tarea 6: \") \n",
        "            botonEnvio.pack()\n",
        "            botonEnvio = Button(self.ventana, text = \"Tarea 7: \") \n",
        "            botonEnvio.pack()\n",
        "            botonEnvio = Button(self.ventana, text = \"Tarea 8: \") \n",
        "            botonEnvio.pack()    \n",
        "            botonEnvio = Button(self.ventana, text = \"Anuncios: Sobre las novedades de la informática\") # Colocar anuncios sobre las novedades de las computadoras\n",
        "            botonEnvio.pack()\n",
        "            botonEnvio = Button(self.ventana, text = \"Cerrar\", command = exit) # Al agregar el comando \" exit \" en el botón \" Cerrar \", fue posible finalizar el programa\n",
        "            botonEnvio.config(cursor = \"pirate\")\n",
        "            botonEnvio.place(x = 0, y = 660)\n",
        "            self.ventana.mainloop() \n",
        "# Al escribir la línea 124 es posible visualizar la ventana principal e interactuar con ella, incluyendo la ventana1 \n",
        "            \n",
        "    # Actualización de la hora\n",
        "    def actualizacion(self):       \n",
        "        hora = time.strftime(\"%Hh:%Mm:%Ss\")\n",
        "        self.etiquetahms.config(text = hora)\n",
        "        self.ventana.after(1000, self.actualizacion)\n",
        "\n",
        "    # Actualiza la fecha del calendario dígital    \n",
        "    def actualizar_fecha(self):\n",
        "        datetime_object = datetime.datetime.now()\n",
        "        today = date.today()\n",
        "        d1 = today.strftime(\"%d/%m/%Y\")\n",
        "        self.week_day_label.configure(text=d1)\n",
        "        \n",
        "# Mantiene la ventana principal en un loop infinito\n",
        "if __name__ == \"__main__\":\n",
        "    main = Ventana()\n",
        "\n",
        "# Como hacer que el reloj de la ventana 1 continué funcionando después "
      ],
      "metadata": {
        "id": "KLjTXYyuqLv_"
      },
      "execution_count": null,
      "outputs": []
    }
  ]
}