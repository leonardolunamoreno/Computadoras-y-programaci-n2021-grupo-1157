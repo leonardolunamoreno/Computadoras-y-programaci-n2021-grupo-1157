{
  "nbformat": 4,
  "nbformat_minor": 0,
  "metadata": {
    "colab": {
      "provenance": [],
      "authorship_tag": "ABX9TyO26TKA3Ph5qfSEyKmaZw6O",
      "include_colab_link": true
    },
    "kernelspec": {
      "name": "python3",
      "display_name": "Python 3"
    },
    "language_info": {
      "name": "python"
    }
  },
  "cells": [
    {
      "cell_type": "markdown",
      "metadata": {
        "id": "view-in-github",
        "colab_type": "text"
      },
      "source": [
        "<a href=\"https://colab.research.google.com/github/leonardolunamoreno/Computadoras-y-programaci-n2021-grupo-1157/blob/main/SISTEMAS_OPERATIVOS.ipynb\" target=\"_parent\"><img src=\"https://colab.research.google.com/assets/colab-badge.svg\" alt=\"Open In Colab\"/></a>"
      ]
    },
    {
      "cell_type": "code",
      "execution_count": null,
      "metadata": {
        "id": "rPpCDbzGy1nw"
      },
      "outputs": [],
      "source": [
        "FUNCIONES DEL SISTEMA OPERATIVO\n",
        "\n",
        "CONTROL DE ERRORES DE INTERRUPTORES\n",
        "PLANIFICA LA EJECUCIÓN DE TAREAS (SE COLOCAN EN UNA LISTA DE ESPARA)\n",
        "CONTROLA TODAS LAS OPERACIONES DE ENTRADA / SALIDA\n",
        "PROTEGE CONTRA EL ACCESO INDEBIDO ALAS PROGRAMAS ESCRITOS DENTRO DE LA MEMORIA\n",
        "ES CAPAZ DE SOPORTAR A TODOS LOS USUARIOS\n",
        "TIENE QUE ASIGNAR RECURSOS A TODAS LAS TAREAS\n",
        "ACEPTA LOS TRABAJOS Y LOS CONSERVA HASTA LA FINALIZACIÓN DE LA EJECUCIÓN DEL SOFTWARE\n",
        "DETECTA ERRORES Y ACTÚA DE MODO APROPIADO EN CASO DE QUE SE PRODUCZANCA INCONVENIENTES\n",
        "\n",
        "\n",
        "EN ESTE CASO E ESTUDIA LA GESTIÓN DE TDOSO LOS RECURSOS FISICOS\n",
        "\n",
        "\n",
        "DICTADO:\n",
        "DEL SISTEMA CONMPUTACIONAL, YA QUR LA S COMPUTADORAS UTILIZAN TODOS LOS RECURSOS EN TIEMPO REAL\n",
        "AL CONJUNTO DE PROGRAMSA DE CONTROL LOS DIVIDIREMOS  EN VARISO URPOS\n",
        "\n",
        "1.- GRUOPI¿: GESTIÓN DE HARDWARE de la computadora\n",
        "\n",
        "\n",
        "Gestión de núcleo  o núcleos:\n",
        "1.- Núcleo de rutinas y programas de servicio ( es un programa que se ejecuta automática, en dondese explica en donde se coloca la interrupción\n",
        "2.- rutinas de interrupción\n",
        "3.- dispatcher: gestión de todos los procesadores\n",
        "4.- rutinas de apertura y cierre.\n",
        "\n",
        "Gestión de datos y archivos\n",
        "Se compone de una serie de rutinas de tratamiento ed archivos externos\n",
        "Estas rutinas también se utilizan para llevar datos entre la memoria y los\n",
        "Servicios de entrada y salida, maneja archivos datos e información\n",
        "3.- Gestión de trabajo: En este punto situado a nivel más interno y que definenen tareas\n",
        "Parea el sistema aq aportir e lso datos de entrad. TTambién se incluyen las prioridades\n",
        "A cada tarea, memoria y archivo. Tsamibne se hace cargo de todas lal comiuncaiccaion con esterior\n",
        "\n",
        "\n",
        "\n",
        "Gestión de memoria\n",
        "El sistema operativo debe se capaz de abamisnitrar eficiente mente todos sus espacios de meemoroiac a\n",
        "Aopraa tener y ordenar todos los programas yt archivos\n",
        "\n",
        "Gestión de entrada y salida\n",
        "\n",
        "Funciones del sistema operativo ( probablemente es una pregunta de examen)\n",
        "( El examen probablemente será en la primera quincena de marzo)"
      ]
    }
  ]
}