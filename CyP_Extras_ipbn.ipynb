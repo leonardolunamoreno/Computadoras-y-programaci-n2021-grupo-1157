{
  "nbformat": 4,
  "nbformat_minor": 0,
  "metadata": {
    "colab": {
      "name": "CyP_Extras.ipbn",
      "provenance": [],
      "authorship_tag": "ABX9TyNXN7KhTdNl2UpecIP6OiDi",
      "include_colab_link": true
    },
    "kernelspec": {
      "name": "python3",
      "display_name": "Python 3"
    },
    "language_info": {
      "name": "python"
    }
  },
  "cells": [
    {
      "cell_type": "markdown",
      "metadata": {
        "id": "view-in-github",
        "colab_type": "text"
      },
      "source": [
        "<a href=\"https://colab.research.google.com/github/leonardolunamoreno/Computadoras-y-programaci-n2021-grupo-1157/blob/main/CyP_Extras_ipbn.ipynb\" target=\"_parent\"><img src=\"https://colab.research.google.com/assets/colab-badge.svg\" alt=\"Open In Colab\"/></a>"
      ]
    },
    {
      "cell_type": "code",
      "execution_count": 14,
      "metadata": {
        "id": "rADqcgJ9FB-p"
      },
      "outputs": [],
      "source": [
        "habitaciones = []\n",
        "hx = {\"numero\":\"0\",\n",
        "      \"tipo\":\"sencilla\",\n",
        "      \"costo\":0.0,\n",
        "      \"dias\":0\n",
        "      \"huespedes\":\"[]\"}\n",
        "def menu():\n",
        "    print(\"1.-) Check in\")\n",
        "    print(\"2.-) Registro alimentos\")\n",
        "    print(\"3.-) Check out\")\n",
        "    print(\"0.-) Salir del sistema\")\n",
        "\n",
        "def menu_habitacion(hx):\n",
        "    opcion = 1 \n",
        "    while opcion !=0:\n",
        "        print(\"1) Hab.sencilla\")\n",
        "        print(\"2) Hab.doble\")\n",
        "        print(\"2) Hab.junior suite\")\n",
        "        opcion = int(input(\"¿Tipo de habitación?\"))\n",
        "        if opcion == 1: \n",
        "            hx['costo '] = 800.0 \n",
        "            hx['tipo'] = \"Sencilla\"\n",
        "            #Imprimir en pantalla\n",
        "            #hx['numero'] = int(input(\"Número de habitación:\"))\n",
        "        elif opcion ==2:\n",
        "            hx['costo '] = 1200.0 \n",
        "            hx['tipo'] = \"Doble\"\n",
        "            #Imprimir en pantalla\n",
        "            #hx['numero'] = int(input(\"Número de habitación:\"))\n",
        "        elif opcion ==3:\n",
        "            hx['costo '] = 1800.0 \n",
        "            hx['tipo'] = \"Junior Suite\"\n",
        "            #Imprimir en pantalla\n",
        "            #hx['numero'] = int(input(\"Número de habitación:\"))\n",
        "        else: \n",
        "            print(\"Opción no válida \")\n",
        "        #    \n",
        "        hx['numero'] = int(input(\"Número de habitación:\"))\n",
        "\n",
        " "
      ]
    },
    {
      "cell_type": "code",
      "source": [
        "opcion = 1 \n",
        "while opcion != 0:\n",
        "    menu()\n",
        "    opcion = int(input(\"Introduce tu elección:\")\n",
        "    print(f\"Elegiste {opcion}...\")\n",
        "    #Aquí va algo más del problema \n",
        "    if opcion ==1: \n",
        "        print(\"------Realizando Check-in-------\")\n",
        "        #Tipo de habitación\n",
        "        hab = menu_habitacion(hx.coppy())\n",
        "        #total de noches \n",
        "        hab[\"dias\"] = int(input(\"¿Cuantos días?\"))\n",
        "\n",
        "        #Nombre y apellido paterno de 1... a 3... personas, dependiendo de la habitacion \n",
        "        if hab['tipo'] ==  \"sencilla\":\n",
        "            huesped = {}\n",
        "            huesped ['nombre'] = input(\"Nombre del huesped\") \n",
        "            huesped ['paterno'] = input(\"Apellido del huesped\") \n",
        "            hab.huespedes.append(huesped) # valido para el caso 1 \n",
        "        elif hab ['tipo'] == \"doble\":\n",
        "            for numero in range (2):\n",
        "                huesped = {}\n",
        "                huesped ['nombre'] = input(\"Nombre del huesped\") \n",
        "                huesped ['paterno'] = input(\"Apellido del huesped\") \n",
        "                hab.huespedes.append(huesped)\n",
        "        elif hab ['tipo'] == \"doble\":\n",
        "            for numero in range (2):\n",
        "                huesped = {}\n",
        "                huesped ['nombre'] = input(\"Nombre del huesped\") \n",
        "                huesped ['paterno'] = input(\"Apellido del huesped\") \n",
        "                hab.huespedes.append(huesped)\n",
        "\n",
        "        #Registrar en una variable global \n",
        "    elif opcion == 2: \n",
        "        print(\"------Realizando registro de alimentos------\")\n",
        "    elif opcion == 3:\n",
        "        print(\"-------Realizando check-out--------\")\n",
        "    elif opcion == o: \n",
        "        print(\"-----Adios-----\")\n",
        "    else: \n",
        "        print(\"-----Opción no valida.--------\")"
      ],
      "metadata": {
        "colab": {
          "base_uri": "https://localhost:8080/",
          "height": 130
        },
        "id": "d6VSlibzFQIa",
        "outputId": "492287c3-fbce-430e-98b8-6333c110e1cb"
      },
      "execution_count": 16,
      "outputs": [
        {
          "output_type": "error",
          "ename": "SyntaxError",
          "evalue": "ignored",
          "traceback": [
            "\u001b[0;36m  File \u001b[0;32m\"<ipython-input-16-7fd215561e67>\"\u001b[0;36m, line \u001b[0;32m5\u001b[0m\n\u001b[0;31m    print(f\" Elegiste {opcion}...\")\u001b[0m\n\u001b[0m        ^\u001b[0m\n\u001b[0;31mSyntaxError\u001b[0m\u001b[0;31m:\u001b[0m invalid syntax\n"
          ]
        }
      ]
    },
    {
      "cell_type": "code",
      "source": [
        "opcion = 1 \n",
        "while opcion != 0:\n",
        "    menu()\n",
        "    opcion = int(input(\"Introduce tu elección:\")\n",
        "    print(f\"Elegiste {opcion}\")\n",
        "    #Aquí va algo más del problema \n",
        "    if opcion ==1: \n",
        "        print(\"------Realizando Check-in-------\")\n",
        "    elif opcion == 2: \n",
        "        print(\"------Realizando registro de alimentos------\")\n",
        "    elif opcion == 3:\n",
        "        print(\"-------Realizando check-out--------\")\n",
        "    elif opcion == o: \n",
        "        print(\"-----Adios-----\")\n",
        "    else: \n",
        "        print(\"-----Opción no valida.--------\")"
      ],
      "metadata": {
        "colab": {
          "base_uri": "https://localhost:8080/",
          "height": 130
        },
        "id": "INdCgFKCHTPO",
        "outputId": "fd195234-a3ec-499e-cb07-5b8bfa079247"
      },
      "execution_count": 5,
      "outputs": [
        {
          "output_type": "error",
          "ename": "SyntaxError",
          "evalue": "ignored",
          "traceback": [
            "\u001b[0;36m  File \u001b[0;32m\"<ipython-input-5-fc26677e65e0>\"\u001b[0;36m, line \u001b[0;32m5\u001b[0m\n\u001b[0;31m    print(f\"Elegiste {opcion}\")\u001b[0m\n\u001b[0m        ^\u001b[0m\n\u001b[0;31mSyntaxError\u001b[0m\u001b[0;31m:\u001b[0m invalid syntax\n"
          ]
        }
      ]
    }
  ]
}