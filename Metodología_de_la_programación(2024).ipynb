{
  "nbformat": 4,
  "nbformat_minor": 0,
  "metadata": {
    "colab": {
      "provenance": [],
      "authorship_tag": "ABX9TyNPzx1F4fgHWPuibrlz5HUn",
      "include_colab_link": true
    },
    "kernelspec": {
      "name": "python3",
      "display_name": "Python 3"
    },
    "language_info": {
      "name": "python"
    }
  },
  "cells": [
    {
      "cell_type": "markdown",
      "metadata": {
        "id": "view-in-github",
        "colab_type": "text"
      },
      "source": [
        "<a href=\"https://colab.research.google.com/github/leonardolunamoreno/Computadoras-y-programaci-n2021-grupo-1157/blob/main/Metodolog%C3%ADa_de_la_programaci%C3%B3n(2024).ipynb\" target=\"_parent\"><img src=\"https://colab.research.google.com/assets/colab-badge.svg\" alt=\"Open In Colab\"/></a>"
      ]
    },
    {
      "cell_type": "markdown",
      "source": [
        "# 1.3.3 Operaciones aritméticas"
      ],
      "metadata": {
        "id": "NsjNdv7C_2bD"
      }
    },
    {
      "cell_type": "code",
      "source": [
        "# Jerarquía de los operadores aritméticos\n",
        "# 1.- ()\n",
        "# 2.-  **  Potencia\n",
        "# 3.-  *  ,  /  ,  %  ,  //  , Multiplicación, División, Módulo, División entera\n",
        "# 4.-  +  ,  -  , Suma, resta"
      ],
      "metadata": {
        "id": "uD4Pjdx_BEmy"
      },
      "execution_count": null,
      "outputs": []
    },
    {
      "cell_type": "markdown",
      "source": [
        "## Ejemplos básicos de uso"
      ],
      "metadata": {
        "id": "QFw7y65jCGpa"
      }
    },
    {
      "cell_type": "code",
      "source": [
        "# Potencia **\n",
        "4**3"
      ],
      "metadata": {
        "colab": {
          "base_uri": "https://localhost:8080/"
        },
        "id": "30u8R24tAXlH",
        "outputId": "1d1d57ee-23a5-4417-d580-2df946536dfe"
      },
      "execution_count": 1,
      "outputs": [
        {
          "output_type": "execute_result",
          "data": {
            "text/plain": [
              "64"
            ]
          },
          "metadata": {},
          "execution_count": 1
        }
      ]
    },
    {
      "cell_type": "code",
      "source": [
        "# Multiplicación *\n",
        "8.25*7"
      ],
      "metadata": {
        "colab": {
          "base_uri": "https://localhost:8080/"
        },
        "id": "2n9hFvjgCKBF",
        "outputId": "d6523fa5-53c4-474f-f548-15cb3a3e6bdc"
      },
      "execution_count": 3,
      "outputs": [
        {
          "output_type": "execute_result",
          "data": {
            "text/plain": [
              "57.75"
            ]
          },
          "metadata": {},
          "execution_count": 3
        }
      ]
    },
    {
      "cell_type": "code",
      "source": [
        "# División /\n",
        "15/4"
      ],
      "metadata": {
        "colab": {
          "base_uri": "https://localhost:8080/"
        },
        "id": "eCj8AcI-CKTW",
        "outputId": "dd900097-84fb-49b2-ecfc-4648a53eeeb3"
      },
      "execution_count": 4,
      "outputs": [
        {
          "output_type": "execute_result",
          "data": {
            "text/plain": [
              "3.75"
            ]
          },
          "metadata": {},
          "execution_count": 4
        }
      ]
    },
    {
      "cell_type": "code",
      "source": [
        "# Módulo %\n",
        "15 % 2"
      ],
      "metadata": {
        "colab": {
          "base_uri": "https://localhost:8080/"
        },
        "id": "ycYqvgudCKQ0",
        "outputId": "4d2a49b4-b4f7-4f82-946c-fa9665f86633"
      },
      "execution_count": 5,
      "outputs": [
        {
          "output_type": "execute_result",
          "data": {
            "text/plain": [
              "1"
            ]
          },
          "metadata": {},
          "execution_count": 5
        }
      ]
    },
    {
      "cell_type": "code",
      "source": [
        "# División entera //\n",
        "17//3"
      ],
      "metadata": {
        "colab": {
          "base_uri": "https://localhost:8080/"
        },
        "id": "WcNaXzu3CKLo",
        "outputId": "683b216b-a929-4d37-d74e-1df4ef85fe20"
      },
      "execution_count": 7,
      "outputs": [
        {
          "output_type": "execute_result",
          "data": {
            "text/plain": [
              "5"
            ]
          },
          "metadata": {},
          "execution_count": 7
        }
      ]
    },
    {
      "cell_type": "code",
      "source": [
        "# Suma +\n",
        "125.78 + 62.50"
      ],
      "metadata": {
        "colab": {
          "base_uri": "https://localhost:8080/"
        },
        "id": "ixrLWpEUC4xq",
        "outputId": "93100ce3-496e-45df-ce77-2ae3132d4161"
      },
      "execution_count": 8,
      "outputs": [
        {
          "output_type": "execute_result",
          "data": {
            "text/plain": [
              "188.28"
            ]
          },
          "metadata": {},
          "execution_count": 8
        }
      ]
    },
    {
      "cell_type": "code",
      "source": [
        "# Resta -\n",
        "65.30 - 32.33"
      ],
      "metadata": {
        "colab": {
          "base_uri": "https://localhost:8080/"
        },
        "id": "ITFsUXVrC_eG",
        "outputId": "317d8580-70f0-4d99-d0bd-50852456615d"
      },
      "execution_count": 9,
      "outputs": [
        {
          "output_type": "execute_result",
          "data": {
            "text/plain": [
              "32.97"
            ]
          },
          "metadata": {},
          "execution_count": 9
        }
      ]
    },
    {
      "cell_type": "markdown",
      "source": [
        "## Las reglas para resolver una expresión aritmética son las siguientes\n",
        "\n",
        "1.- Si una expresión contiene subexpresiones entre paréntesis, estás se evalúan primero; respetando claro está la jerarquía de los operandos aritméticos en esta subexpresión. Si las subexpresiones se encuentran anidadas por paréntesis, primero se evalúan las subexpresiones que se encuentran en el último nivel de anidamiento.\n",
        "\n",
        "2.- Los operandose aritméticos se aplican teniendo en cuenta la jerarquía y de izquierda a derecha."
      ],
      "metadata": {
        "id": "PEuncF89DOrC"
      }
    },
    {
      "cell_type": "code",
      "source": [
        "# Ejemplo 1.2, parte a\n",
        "7 + 5 - 6    # Primero se realiza la suma, es decir el resultado sera = 12 - 6, esto se debe a que la suma tiene prioridad sobre la resta\n",
        "12 - 6       # Después se realiza la resta, es decir 12 - 6\n",
        "             # Al ejecutar la celda, el resultado de la operación será igual a 6"
      ],
      "metadata": {
        "colab": {
          "base_uri": "https://localhost:8080/"
        },
        "id": "TQ09rHoSC4vL",
        "outputId": "c96d8dd9-2161-457d-a977-b210a2e38434"
      },
      "execution_count": 14,
      "outputs": [
        {
          "output_type": "execute_result",
          "data": {
            "text/plain": [
              "6"
            ]
          },
          "metadata": {},
          "execution_count": 14
        }
      ]
    },
    {
      "cell_type": "code",
      "source": [
        "# Ejemplo 1.2, parte b\n",
        "9 + 7 * 8 - 36 / 5      # Primero se realiza la multiplicación, es decir 7 * 8 = 56\n",
        "9 + 56 - 36 / 5         # Después se realiza la división de la expresión, es decir 36 / 5 = 7.2\n",
        "9 + 56 - 7.2            # Después se realiza la suma, es decir 9 + 56 = 65\n",
        "65 - 7.2                # Y finalmente se realiza la resta de la expresión, dando como resultado 57.8\n",
        "# Lo cual concuerda con las operaciones que realizamos paso a paso y el resultado obtenido por el interprete de Python"
      ],
      "metadata": {
        "colab": {
          "base_uri": "https://localhost:8080/"
        },
        "id": "GAOpMUXwC4ss",
        "outputId": "e82b40e8-7ab5-43c3-b863-0fce7dd97083"
      },
      "execution_count": 18,
      "outputs": [
        {
          "output_type": "execute_result",
          "data": {
            "text/plain": [
              "57.8"
            ]
          },
          "metadata": {},
          "execution_count": 18
        }
      ]
    },
    {
      "cell_type": "code",
      "source": [
        "# Ejemplo 1.2, parte c\n",
        "7 * 5 ** 3 / 4 // 3     # Primero se hace la elevación de 5 al cubo, es decir 5**3 = 125\n",
        "7 * 125 / 4 // 3        # Ahora continuamos con la multiplicación, es decir 7 * 125 = 875\n",
        "875 / 4 // 3            # Se sigue con la división normal, es decir 875 / 3 = 218.75\n",
        "218.75 // 3             # Finalmente, se realiza la división entera 218.75 // 3 = 72.0"
      ],
      "metadata": {
        "colab": {
          "base_uri": "https://localhost:8080/"
        },
        "id": "MtE4TxofC4qe",
        "outputId": "086f809e-fb2a-421e-bb91-dc1f9ea7dc08"
      },
      "execution_count": 24,
      "outputs": [
        {
          "output_type": "execute_result",
          "data": {
            "text/plain": [
              "72.0"
            ]
          },
          "metadata": {},
          "execution_count": 24
        }
      ]
    },
    {
      "cell_type": "code",
      "source": [
        "# Ejemplo 1.2, parte d\n",
        "7 * 8 * (160 % 3 ** 3) // 5 * 13 - 28   # Comenzamos haciendo las operaciones que hay dentro del paréntesis, y todo inicia con el exponente 3 ** 3 = 27\n",
        "7 * 8 * (160 % 27) // 5 * 13 - 28       # Continuamos haciendo la operación de módulo dentro del paréntesis 160 % 27 = 25\n",
        "7 * 8 * 25 // 5 * 13 - 28               # Ahora continuamos con las multiplicaciones, al haber 2 multiplicaciones continuas dentro de la expresión recordamos el hecho de que la expresión aritmética se resuelve de izquierda a derecha\n",
        "56 * 25 // 5 * 13 - 28                  # Multiplicamos nuevamente, obteniendo 56 * 25 = 1400\n",
        "1400 // 5 * 13 - 28                     # Realizamos la división completa, de 1400 // 5 = 280\n",
        "280 * 13 - 28                           # Multiplicamos nuevamente el valor de 280 * 13 = 3640\n",
        "3640 - 28                               # Finalmente realizamos la resta de estos 2 últimos valores, obteniendo 3612"
      ],
      "metadata": {
        "colab": {
          "base_uri": "https://localhost:8080/"
        },
        "id": "bK3J605lHlAQ",
        "outputId": "72375f88-7b5d-46ef-92b6-c8e7fdbffd66"
      },
      "execution_count": 33,
      "outputs": [
        {
          "output_type": "execute_result",
          "data": {
            "text/plain": [
              "3612"
            ]
          },
          "metadata": {},
          "execution_count": 33
        }
      ]
    },
    {
      "cell_type": "code",
      "source": [
        "# Ejemplo 1.2, parte e\n",
        "15 / 2 * (7 + (68 - 15 * 33 + (45 ** 2 / 16) / 3) / 15) + 19   # Comenzamos realizando la elevación de 45 al cuadrado, puesto que es una operación que está contenida dentro de 3 paréntesis, entonces 45 ** 2 = 2025\n",
        "15 / 2 * (7 + (68 - 15 * 33 + (2025 / 16) / 3) / 15) + 19      # Enseguida realizamos la operación 2025 / 16, la división normal de toda la vida, contenida dentro del mismo paréntesis de la primera operación, entonces 2025 / 16 = 126.5625\n",
        "15 / 2 * (7 + (68 - 15 * 33 + 126.5625 / 3) / 15) + 19         # Ahora se múltiplica 15 * 33 = 495\n",
        "15 / 2 * (7 + (68 - 495 + 126.5625 / 3) / 15) + 19             # Se realiza la división de toda la vida de 126.5625 / 3 = 42.1875\n",
        "15 / 2 * (7 + (68 - 495 + 42.1875) / 15) + 19                  # Realizamos la resta dentro del segundo paréntesis 68 - 495 = - 427  ( NOTESÉ EL VALOR NEGATIVO )\n",
        "15 / 2 * (7 + (-427 + 42.1875) / 15) + 19                      # Realizamos la suma dentro del segundo paréntesis -427 + 42.1875 = -384.8125\n",
        "15 / 2 * (7 -384.8125 / 15) + 19                               # Se realiza la división dentro del segundo paréntesis -384.8125 / 15 = -25.654166666666665\n",
        "15 / 2 * (7 -25.654166666666665) + 19                          # Se realiza la resta dentro del segundo paréntesis\n",
        "15 / 2 * (-18.654166666666665) + 19                            # En este punto ya podemos quitar el segundo paréntesis\n",
        "7.5 * -18.654166666666665 + 19                                 # Se realiza la división de 15 / 2 = 7.5\n",
        "-139.90625 + 19                                                # Se realiza la multiplicación de 7.5 * -18.654166666666665 = -139.90625\n",
        "                                                               # Se realiza la última suma dentro de la expresión algebráica"
      ],
      "metadata": {
        "colab": {
          "base_uri": "https://localhost:8080/"
        },
        "id": "4oo69wBnKIDl",
        "outputId": "3587b064-825e-470c-98e7-201894b64a47"
      },
      "execution_count": 51,
      "outputs": [
        {
          "output_type": "execute_result",
          "data": {
            "text/plain": [
              "-120.90625"
            ]
          },
          "metadata": {},
          "execution_count": 51
        }
      ]
    },
    {
      "cell_type": "code",
      "source": [
        "7.5 * -18.654166666666665"
      ],
      "metadata": {
        "colab": {
          "base_uri": "https://localhost:8080/"
        },
        "id": "68mI-qRiKIAp",
        "outputId": "5f1b67c5-ea08-4dd3-f830-657bc3c04937"
      },
      "execution_count": 40,
      "outputs": [
        {
          "output_type": "execute_result",
          "data": {
            "text/plain": [
              "-139.90625"
            ]
          },
          "metadata": {},
          "execution_count": 40
        }
      ]
    },
    {
      "cell_type": "markdown",
      "source": [
        "# 1.3.4 Expresiones lógicas\n",
        "## Operadores relacionales"
      ],
      "metadata": {
        "id": "U80HSHMgR_AT"
      }
    },
    {
      "cell_type": "code",
      "source": [
        "# Operadores relacionales\n",
        "#     |  Operador  |  Operación  |      Ejemplo      |    Resultado    |\n",
        "#-----------------------------------------------------------------------\n",
        "# 1.- |     =      |  Igual que  |  'hola' = 'lola'  |      FALSO      |        En Python el operador igual es ==\n",
        "#-----------------------------------------------------------------------\n",
        "# 2.- |    < >     | Diferente a |    'a' < > 'b'    |    VERDADERO    |        En Python el operador diferente a es !=\n",
        "#-----------------------------------------------------------------------\n",
        "# 3.- |     <      |  Menor que  |       7 < 15      |    VERDADERO    |\n",
        "#-----------------------------------------------------------------------\n",
        "# 4.- |     >      |  Mayor que  |      22 > 11      |    VERDADERO    |\n",
        "#-----------------------------------------------------------------------\n",
        "# 5.- |    <=      |Menor o= que |      15 <= 22     |    VERDADERO    |\n",
        "#-----------------------------------------------------------------------\n",
        "# 6.- |    >=      |Mayor o= que |      35 >= 20     |    VERDADERO    |"
      ],
      "metadata": {
        "id": "o_oko3VKKH3L"
      },
      "execution_count": null,
      "outputs": []
    },
    {
      "cell_type": "code",
      "source": [
        "# Ejemplo 1.3 caso a\n",
        "# A = 5\n",
        "# B = 16\n",
        "A = 5\n",
        "B = 16\n",
        "(A ** 2) > (B * 2)   # Comenzamos elevando 5 al cuadrado: 5 ** 2 = 25\n",
        "(5 ** 2) > (16 * 2)  # Hacemos la multiplicación de 16 * 2 = 32\n",
        "# 25 > 32              Lo cual es falso"
      ],
      "metadata": {
        "colab": {
          "base_uri": "https://localhost:8080/"
        },
        "id": "1DJJ49r4KH07",
        "outputId": "6f1c9180-3337-4a54-f99d-5c5e64ab5117"
      },
      "execution_count": 57,
      "outputs": [
        {
          "output_type": "execute_result",
          "data": {
            "text/plain": [
              "False"
            ]
          },
          "metadata": {},
          "execution_count": 57
        }
      ]
    },
    {
      "cell_type": "code",
      "source": [
        "# Ejemplo 1.3 caso b\n",
        "# X = 6\n",
        "# B = 7.8\n",
        "X = 6\n",
        "B = 7.8\n",
        "(X * 5 + B ** 3 / 4) <= (X ** 3 // B)        # Comenzamos sustituyendo los valores de X y B\n",
        "(6 * 5 + 7.8 ** 3 / 4) <= (6 ** 3 // 7.8)    # Ahora realizamos las operaciones que involucran potencias, del lado derecho e izquierdo de la expresión\n",
        "(6 * 5 + 474.552 / 4) <= (216 // 7.8)        # 7.8 ** 3 = 474.552 del lado izquierdo, y 6 ** 3 = 216\n",
        "(30 + 474.552 / 4) <= (216 // 7.8)           # Ahora se realiza la multiplicación de 6 * 5 = 30\n",
        "(30 + 118.638) <= (216 // 7.8)               # Se realiza la división del lado izquierdo 474.552 / 4 = 118.638\n",
        "118.638 <= (216 // 7.8)                      # Se realiza la suma del lado izquierdo\n",
        "118.638 <= 27.0                              # Se realiza la división entera del lado derecho\n",
        "                                             # 118.638 no es menor o igual que 27.0, lo cual es falso, y el resultado que muestra el interprete de Python es correcto\n",
        "                                             # Es decir falso"
      ],
      "metadata": {
        "colab": {
          "base_uri": "https://localhost:8080/"
        },
        "id": "EudhSDTLKHyJ",
        "outputId": "a79ad207-5397-4cb4-bc41-20da5405a5c0"
      },
      "execution_count": 65,
      "outputs": [
        {
          "output_type": "execute_result",
          "data": {
            "text/plain": [
              "False"
            ]
          },
          "metadata": {},
          "execution_count": 65
        }
      ]
    },
    {
      "cell_type": "code",
      "source": [
        "# Ejemplo 1.3 caso c\n",
        "((1580 % 6 * 2 ** 7) > (7 + 8 * 3 ** 4)) > ((15 * 2) == (60 * 2 / 4))     # Comenzamos realizando la elevación de 2 ** 7 = 128\n",
        "((1580 % 6 * 128) > (7 + 8 * 3 ** 4)) > ((15 * 2) == (60 * 2 / 4))        # Continuamos haciendo el módulo de 1580 % 6 = 2\n",
        "((2 * 128) > (7 + 8 * 3 ** 4)) > ((15 * 2) == (60 * 2 / 4))               # Ahora se hace la multiplicación del lado izquierdo\n",
        "(256 > (7 + 8 * 3 ** 4)) > ((15 * 2) == (60 * 2 / 4))                     # Ahora se hacen las operaciones dentro del segúndo paréntesis que hay dentro del primer paréntesis, comenzando con elevar 3 a la cuarta potencia 3 ** 4 = 81\n",
        "(256 > (7 + 8 * 81)) > ((15 * 2) == (60 * 2 / 4))                         # Ahora se hace la multiplicación de 81 * 8 = 648\n",
        "(256 > (7 + 648)) > ((15 * 2) == (60 * 2 / 4))                            # Se realiza la suma de 7 + 648 = 655\n",
        "(256 > 655) > ((15 * 2) == (60 * 2 / 4))                                  # Se realiza la comparación del primer paréntesis de la izquierda, cuyo valor es falso\n",
        "False > (30 == (60 * 2 / 4))                                              # Se realiza la multiplicación 15 * 2 = 30\n",
        "False > (30 == (120 / 4))                                                 # Se realiza la división de toda la vida 120 / 4 = 30.0\n",
        "False > True                                                              # 30 == 30 es igual a True\n",
        "False                                                                     #\n",
        "# Cuando se utilizan los operadores de relación con operadores lógicos, falso es menor que verdadero\n",
        "# Por lo tanto False > True, es False, el cual es el resultado esperado y el que se muestra en consola al ejecutar el código"
      ],
      "metadata": {
        "colab": {
          "base_uri": "https://localhost:8080/"
        },
        "id": "ai94mJTkC4oL",
        "outputId": "febaf8d3-c051-450d-f5a2-c1338f174c0b"
      },
      "execution_count": 70,
      "outputs": [
        {
          "output_type": "execute_result",
          "data": {
            "text/plain": [
              "False"
            ]
          },
          "metadata": {},
          "execution_count": 70
        }
      ]
    },
    {
      "cell_type": "markdown",
      "source": [
        "## Operadores lógicos\n",
        "Los operadores lógicos son operadores que permiten formular condiciones complejas a partir de condiciones simples. Los operadores lógicos son de conjunción(y), disyunción(o), y negación(no)"
      ],
      "metadata": {
        "id": "-46yIqckfGVe"
      }
    },
    {
      "cell_type": "code",
      "source": [
        "# Operadores Lógicos\n",
        "#     |  Operador   |  Jerarquía  |  Expresión lógica  |    Significado    |\n",
        "#---------------------------------------------------------------------------\n",
        "# 1.- |     NO      |    Mayor    |        No P        |No es cierto que P |\n",
        "#     |             |             |                    |  Es falso que P   |\n",
        "#---------------------------------------------------------------------------\n",
        "# 2.- |      Y      |             |       P y Q        |       P ^ Q       |\n",
        "#     |             |             |                    |  P sin embargo Q  |\n",
        "#---------------------------------------------------------------------------\n",
        "# 3.- |      O      |    Menor    |       P o Q        |       P o Q       |\n",
        "#     |             |             |                    |  o P o Q o ambas  |\n",
        "#     |             |             |                    |   Mínimo P o Q    |\n",
        "#---------------------------------------------------------------------------"
      ],
      "metadata": {
        "id": "GlhUN5y7fb0I"
      },
      "execution_count": null,
      "outputs": []
    },
    {
      "cell_type": "code",
      "source": [
        "# Jerarquía de todos los operadores\n",
        "# 1.- ()                       Mayor\n",
        "# 2.- **\n",
        "# 3.- *, /, //, %\n",
        "# 4.- ==, !=, <, >, <=, >=\n",
        "# 5.- No\n",
        "# 6.- Y\n",
        "# 7.- O                        Menor\n",
        "# El operador () es un operador asociativo que tiene la prioridad más alta en cualquier lenguaje de programación.\n",
        "# Por otra parte, debemos señalar que en ciertos lenguajes, las prioridades de los operadores se manejan en forma diferente.\n",
        "# Por ejemplo, el operadore lógico de negación No en el lenguaje de programación C tiene  la prioridad más alta después del operador asociativo."
      ],
      "metadata": {
        "id": "nJzv8fRgC4lf"
      },
      "execution_count": 71,
      "outputs": []
    },
    {
      "cell_type": "code",
      "source": [],
      "metadata": {
        "id": "DeT_0CAUAXSW"
      },
      "execution_count": null,
      "outputs": []
    },
    {
      "cell_type": "markdown",
      "source": [],
      "metadata": {
        "id": "o2sv4Qpd_0wl"
      }
    },
    {
      "cell_type": "markdown",
      "source": [],
      "metadata": {
        "id": "R1uJCXNq_1on"
      }
    }
  ]
}