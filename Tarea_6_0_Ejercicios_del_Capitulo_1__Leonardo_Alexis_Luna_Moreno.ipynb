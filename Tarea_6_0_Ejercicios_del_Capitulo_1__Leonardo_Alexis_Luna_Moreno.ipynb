{
  "nbformat": 4,
  "nbformat_minor": 0,
  "metadata": {
    "colab": {
      "name": "Tarea 6.0_Ejercicios del Capitulo 1_ Leonardo Alexis Luna Moreno.ipynb",
      "provenance": [],
      "collapsed_sections": [],
      "authorship_tag": "ABX9TyMvOG+wmfog8jnqp+MEcaWA",
      "include_colab_link": true
    },
    "kernelspec": {
      "name": "python3",
      "display_name": "Python 3"
    },
    "language_info": {
      "name": "python"
    }
  },
  "cells": [
    {
      "cell_type": "markdown",
      "metadata": {
        "id": "view-in-github",
        "colab_type": "text"
      },
      "source": [
        "<a href=\"https://colab.research.google.com/github/leonardolunamoreno/Computadoras-y-programaci-n2021-grupo-1157/blob/main/Tarea_6_0_Ejercicios_del_Capitulo_1__Leonardo_Alexis_Luna_Moreno.ipynb\" target=\"_parent\"><img src=\"https://colab.research.google.com/assets/colab-badge.svg\" alt=\"Open In Colab\"/></a>"
      ]
    },
    {
      "cell_type": "markdown",
      "metadata": {
        "id": "W1gtJMyyPms1"
      },
      "source": [
        ""
      ]
    },
    {
      "cell_type": "code",
      "metadata": {
        "id": "Mq7nF7j4nrfH",
        "colab": {
          "base_uri": "https://localhost:8080/"
        },
        "outputId": "c6ef2b27-7104-4d1d-b914-adeae4055831"
      },
      "source": [
        "#Ejemplo 1.7, Programado por Leonardo Alexis Luna Moreno 24/11/2021\n",
        "A = int(input(f\"Ingrese un número: \"))\n",
        "B = int(input(f\"Ingrese otro número: \"))\n",
        "RES = ((A+B)**2 / 3)\n",
        "print(f\"El resultado es {RES}\")"
      ],
      "execution_count": null,
      "outputs": [
        {
          "output_type": "stream",
          "name": "stdout",
          "text": [
            "Ingrese un número: 2\n",
            "Ingrese otro número: 4\n",
            "El resultado es 12.0\n"
          ]
        }
      ]
    },
    {
      "cell_type": "code",
      "metadata": {
        "colab": {
          "base_uri": "https://localhost:8080/"
        },
        "id": "5AE5fv99Z6Wm",
        "outputId": "c4fe40db-8828-4a42-addc-46a886a17e45"
      },
      "source": [
        "#Ejemplo 1.8, Programado por Leonardo Alexis Luna Moreno 24/11/2021\n",
        "CAL1 = float(input(\"Ingrese la primer califcación: \"))\n",
        "CAL2 = float(input(\"Ingrese la segunda calificación: \"))\n",
        "CAL3 = float(input(\"Ingrese la tercera calificación: \"))\n",
        "CAL4 = float(input(\"Ingrese la cuarta calificación:\"))\n",
        "CAL5 = float(input(\"Ingrese la quinta calificación: \"))\n",
        "PRO = (CAL1+CAL2+CAL3+CAL4+CAL5)/5\n",
        "print(f\"El promedio de calificaciones del alumno es: {PRO} \")"
      ],
      "execution_count": null,
      "outputs": [
        {
          "output_type": "stream",
          "name": "stdout",
          "text": [
            "Ingrese la primer califcación: 8\n",
            "Ingrese la segunda calificación: 8.5\n",
            "Ingrese la tercera calificación: 9\n",
            "Ingrese la cuarta calificación:7\n",
            "Ingrese la quinta calificación: 6\n",
            "El promedio de calificaciones del alumno es: 7.7 \n"
          ]
        }
      ]
    },
    {
      "cell_type": "code",
      "metadata": {
        "colab": {
          "base_uri": "https://localhost:8080/"
        },
        "id": "1kZ_-NM2b1Yv",
        "outputId": "b61151c6-8026-4b00-b31f-a774557ccac9"
      },
      "source": [
        "#Ejemplo 1.9, Programado por Leonardo Alexis Luna Moreno 24/11/2021\n",
        "NUM = float(input(\"Ingrese un número: \"))\n",
        "CUA = NUM*NUM \n",
        "CUB = NUM**3\n",
        "print(f\"El cuadrado del número es: {CUA} y el cubo del número es: {CUB}\")"
      ],
      "execution_count": null,
      "outputs": [
        {
          "output_type": "stream",
          "name": "stdout",
          "text": [
            "Ingrese un número: 3\n",
            "El cuadrado del número es 9.0, y el cubo del número es: 27.0\n"
          ]
        }
      ]
    },
    {
      "cell_type": "code",
      "metadata": {
        "colab": {
          "base_uri": "https://localhost:8080/"
        },
        "id": "HpPcKmT9danA",
        "outputId": "79ee6620-7999-4366-f314-3a7cce5188ef"
      },
      "source": [
        "#Ejemplo 1.10, Programado por Leonardo Alexis Luna Moreno 24/11/2021\n",
        "BASE = float(input(\"Ingrese la base del rectángulo: \"))\n",
        "ALTU = float(input(\"Ingrese la altura del rectángulo: \"))\n",
        "SUP = BASE * ALTU \n",
        "PER = 2*(BASE + ALTU)\n",
        "print(f\"La superficie del rectángulo es: {SUP}\")\n",
        "print(f\"El perímetro del rectángulo es: {PER}\")"
      ],
      "execution_count": null,
      "outputs": [
        {
          "output_type": "stream",
          "name": "stdout",
          "text": [
            "Ingrese la base del rectángulo:3\n",
            "Ingrese la altura del rectángulo: 4\n",
            "La superficie del rectángulo es: 12.0\n",
            "El perímetro del rectángulo es: 14.0\n"
          ]
        }
      ]
    },
    {
      "cell_type": "code",
      "metadata": {
        "colab": {
          "base_uri": "https://localhost:8080/"
        },
        "id": "UVzBhXPuObUU",
        "outputId": "62f80fa8-ee3b-4f75-9b39-85bcd231c64e"
      },
      "source": [
        "#ejemplo 1.11, Programado por Leonardo ALexis Luna Moreno 24/11/202\n",
        "#El programa dado un conjunto de datos de entrada invierte el orden \n",
        "#de los mismos cuando los imprime\n",
        "A = int(input(\"Ingrese un número: \"))\n",
        "B = int(input(\"Ingrese un número: \"))\n",
        "C = int(input(\"Ingrese un número: \"))\n",
        "D = int(input(\"Ingrese un número: \"))\n",
        "print(f\" {D}, {B}, {C}, {A} \")\n",
        "#Creo que puede existir una solución más elegante para resolver \n",
        "#Este problema, el cual consiste en invertir el orden de los elementos\n",
        "#Leídos, en este caso A,B,C,D"
      ],
      "execution_count": null,
      "outputs": [
        {
          "output_type": "stream",
          "name": "stdout",
          "text": [
            "Ingrese un número: 1\n",
            "Ingrese un número: 2\n",
            "Ingrese un número: 3\n",
            "Ingrese un número: 4\n",
            " 4, 2, 3, 1 \n"
          ]
        }
      ]
    },
    {
      "cell_type": "code",
      "metadata": {
        "colab": {
          "base_uri": "https://localhost:8080/"
        },
        "id": "sQtyK1LoV7eT",
        "outputId": "c3a4d28d-f7c2-4a6b-c0f0-94ebb20692d3"
      },
      "source": [
        "#Ejemplo 1.12,Programado por Leonardo Alexis Luna Moreno 24/11/2021 \n",
        "#El programa dados como datos los enteros A y B calcula el resultado de una expresión \n",
        "A = int(input(\"Introduce un número: \"))\n",
        "B= int(input(\"Introduce otro número: \"))\n",
        "RES = (A+B)**2 / 3\n",
        "print(f\"El resultado de la expresión es: {RES}\")\n",
        "#Este programa es símilar, y de hecho, creo que es igual al marcado como \n",
        "#Ejemplo 1.7"
      ],
      "execution_count": null,
      "outputs": [
        {
          "output_type": "stream",
          "name": "stdout",
          "text": [
            "Introduce un número: 3\n",
            "Introduce otro número: 5\n",
            "El resultado de la expresión es: 21.333333333333332\n"
          ]
        }
      ]
    },
    {
      "cell_type": "code",
      "metadata": {
        "colab": {
          "base_uri": "https://localhost:8080/"
        },
        "id": "J7ZLQZYNXcnx",
        "outputId": "802215aa-b6ac-4f69-a9d3-65cfdc67624b"
      },
      "source": [
        "#Problema 1.1, Programado por Leonardo ALexis Luna Moreno 24/11/2021\n",
        "#El programa devuelve el cambio del cliente, cuanto el cliente paga un determinado producto\n",
        "PREPRO = float(input(\"Introduzca el precio del producto a pagar:$\"))\n",
        "PAGO = float(input(\"Introduzca la cantidad de dinero que entrega el cliente:$\"))\n",
        "DEVO = PAGO - PREPRO\n",
        "if PAGO == PREPRO: \n",
        "    print(\"Usted a pagado el producto, Gracias por su preferencia\")\n",
        "else:\n",
        "    print(f\"El cambio que se le debe entregar al cliente es: ${DEVO}\")\n",
        "#Aquí inlcuí la consideración de recordarle al cliente su preferencia\n",
        "#Al mismo tiempo que incluí el uso en el código de la condición \n",
        "#Si entonces / no. \n"
      ],
      "execution_count": null,
      "outputs": [
        {
          "output_type": "stream",
          "name": "stdout",
          "text": [
            "Introduzca el precio del producto a pagar:$400\n",
            "Introduzca la cantidad de dinero que entrega el cliente:$500\n",
            "El cambio que se le debe entregar al cliente es: $100.0\n"
          ]
        }
      ]
    },
    {
      "cell_type": "code",
      "metadata": {
        "colab": {
          "base_uri": "https://localhost:8080/"
        },
        "id": "s8owQmxzafsS",
        "outputId": "58d7f11d-9616-41a1-acf6-c6be65abe306"
      },
      "source": [
        "#Problema 1.2, Programado por Leonardo ALexis Luna Moreno, 24/11/2021\n",
        "#El programa dadas la base y la altura de un triángulo calcula e imprime su superficie\n",
        "BASE = int(input(\"Ingrese la base del rectángulo: \")) \n",
        "ALTU = int(input(\"Ingrese la altura del triángulo: \"))\n",
        "SUP = (BASE * ALTU) / 2\n",
        "print(f\"La superficie del triangulo es: {SUP}\")"
      ],
      "execution_count": null,
      "outputs": [
        {
          "output_type": "stream",
          "name": "stdout",
          "text": [
            "Ingrese la base del rectángulo: 4\n",
            "Ingrese la altura del triángulo: 6\n",
            "La superficie del triangulo es: 12.0\n"
          ]
        }
      ]
    },
    {
      "cell_type": "code",
      "metadata": {
        "colab": {
          "base_uri": "https://localhost:8080/"
        },
        "id": "h8ToVA2ibshT",
        "outputId": "3d971738-8654-49f6-dfd9-883a5e05dd5f"
      },
      "source": [
        "#Problema 1.3 , Programado por Leonardo ALexis Luna Moreno, 24/11/2021\n",
        "#Este programa escribe el nombre de un dinosario, junto con sus peso expresado en kilogramos y su laongitud expresada en metros \n",
        "#basado en el nombre del dinosaurio, y su peso dado en toneladas y su longitud en pies respectivamente\n",
        "NOM = input(\"Introduzca el nombre del dinosaurio:\")\n",
        "PES = float(input(\"Introduzca el peso del dinosaurio: \"))\n",
        "LON = float(input(\"Introduzca la longitud del dinosaurio: \"))\n",
        "PESKIL = PES * 1000\n",
        "LONMET = LON * 0.3047\n",
        "print(f\"El peso del Dinosaurio en kilogramos es:{PESKIL}Kg\")\n",
        "print(f\"La longitud del Dinosaurio en metros es:{LONMET}m\")\n"
      ],
      "execution_count": null,
      "outputs": [
        {
          "output_type": "stream",
          "name": "stdout",
          "text": [
            "Introduzca el nombre del dinosaurio:TYRANNOSAURUS\n",
            "Introduzca el peso del dinosaurio: 8\n",
            "Introduzca la longitud del dinosaurio: 30\n",
            "El peso del Dinosaurio en kilogramos es:8000.0Kg\n",
            "La longituda del Dinosaurio en metros es:9.141m\n"
          ]
        }
      ]
    },
    {
      "cell_type": "code",
      "metadata": {
        "colab": {
          "base_uri": "https://localhost:8080/"
        },
        "id": "tdkXcD24rCIf",
        "outputId": "ecf77c6a-bac3-41de-d9a5-ef6d688ae6a5"
      },
      "source": [
        "#Problema 1.4, Programado por Leonardo Alexis Luna Moreno, 24/11/2021\n",
        "#El programa resuelve un problema que tiene una gasolinera,\n",
        "#La cual surte la gasolina en galones, pero el precio esta fijado en litros\n",
        "#El programa calcula e imprime lo que hay que cobrar al cliente\n",
        "GAL = float(input(\"¿Cuánta gasolina se le surtió al cliente?\"))\n",
        "TOTAL = GAL * 3.785 * 8.20\n",
        "print(f\"El cliente debe pagar ${TOTAL}\")"
      ],
      "execution_count": 18,
      "outputs": [
        {
          "output_type": "stream",
          "name": "stdout",
          "text": [
            "¿Cuánta gasolina se le surtió al cliente?19.90\n",
            "El cliente debe pagar $617.6363\n"
          ]
        }
      ]
    },
    {
      "cell_type": "code",
      "metadata": {
        "colab": {
          "base_uri": "https://localhost:8080/"
        },
        "id": "RmPTvwkgtlBM",
        "outputId": "30e5dcea-539e-4b77-fee7-a7472d58d0e4"
      },
      "source": [
        "#Problema 1.5, Programado por Leonardo ALexis Luna Moreno, 24/11/2021\n",
        "#Este programa calcula el área y el volumen de un cilindro, dados el radio y la altura \n",
        "RADIO = float(input(\"Introduzca el radio del cilindro: \"))\n",
        "ALTU = float(input(\"Introduzca la altura del cilindro: \"))\n",
        "VOL = 3.141592 * (RADIO)**2 *ALTU\n",
        "ARE = 2 * 3.141592 * RADIO * ALTU\n",
        "print(f\"El volumen del cilindro es: {VOL}\")\n",
        "print(f\"La superficie del cilindro es: {ARE}\")"
      ],
      "execution_count": 25,
      "outputs": [
        {
          "output_type": "stream",
          "name": "stdout",
          "text": [
            "Introduzca el radio del cilindro: 45.22\n",
            "Introduzca la altura del cilindro: 11.60\n",
            "El volumen del cilindro es: 74519.32074597248\n",
            "La superficie del cilindro es: 3295.856733568\n"
          ]
        }
      ]
    },
    {
      "cell_type": "code",
      "metadata": {
        "colab": {
          "base_uri": "https://localhost:8080/"
        },
        "id": "GUhUnGFPxjoo",
        "outputId": "16dd10ed-0e82-4532-bc75-795a6998a335"
      },
      "source": [
        "#Problema 1.6, Programado por Leonardo Alexis Luna Moreno 24/11/2021\n",
        "#Este programa calcula el numero de segundos de un determinado numero de dias \n",
        "DIAS = int(input(\"Introduzca el número de días: \"))\n",
        "SEG = DIAS * 24*60*60\n",
        "print(f\"En {DIAS} días hay {SEG} segundos. \")"
      ],
      "execution_count": 29,
      "outputs": [
        {
          "output_type": "stream",
          "name": "stdout",
          "text": [
            "Introduzca el número de días: 365\n",
            "En 365 días hay 31536000 segundos \n"
          ]
        }
      ]
    },
    {
      "cell_type": "code",
      "metadata": {
        "colab": {
          "base_uri": "https://localhost:8080/"
        },
        "id": "ubWX4LZHztZQ",
        "outputId": "d4b5e3be-92c9-4ebc-fcf3-064e3015a7e7"
      },
      "source": [
        "#Problema 1.7, Programado por Leonardo ALexis Luna Moreno 24/11/2021\n",
        "#Este programa calcula el área de un triangulo dados sus tres lados \n",
        "L1 = float(input(\"Ingrese un lado del triángulo: \"))\n",
        "L2 = float(input(\"Ingrese otro lado del triángulo: \"))\n",
        "L3 = float(input(\"Ingrese otro lado del triángulo: \"))\n",
        "S = (L1+L2+L3) / 2\n",
        "AREA = (S*(S-L1)*(S-L2)*(S-L3))**0.5\n",
        "#print(f\"Calculo del auxiliar {S}) Esto imprimiria el valor de S \n",
        "print(f\"El Área del triángulo es: {AREA}\")"
      ],
      "execution_count": 33,
      "outputs": [
        {
          "output_type": "stream",
          "name": "stdout",
          "text": [
            "Ingrese un lado del triángulo: 7.5\n",
            "Ingrese otro lado del triángulo: 7.5\n",
            "Ingrese otro lado del triángulo: 7.5\n",
            "El Área del triángulo es: 24.356964481437338\n"
          ]
        }
      ]
    },
    {
      "cell_type": "code",
      "metadata": {
        "colab": {
          "base_uri": "https://localhost:8080/"
        },
        "id": "qQK54-TT1Stp",
        "outputId": "3bb7750a-40f9-4d77-98cd-a3c905e73b26"
      },
      "source": [
        "#Problema 1.8 Programado por Leonardo ALexis Luna Moreno 24/11/2021\n",
        "#Este programa calcula la distancia entre dos puntos, dados las coordenadas de los puntos \n",
        "X1 = float(input(\"Introduzca la coordenada X1: \"))\n",
        "Y1 = float(input(\"Introduzca la coordenada Y1: \"))\n",
        "X2 = float(input(\"Introduzca la coordenada X2: \"))\n",
        "Y2 = float(input(\"Introduzca la coordenada Y2: \"))\n",
        "D = ((X1-X2)**2 + (Y1-Y2)**2)**0.5\n",
        "print(f\"La distancia los 2 puntos es {D}\")"
      ],
      "execution_count": 38,
      "outputs": [
        {
          "output_type": "stream",
          "name": "stdout",
          "text": [
            "Introduzca la coordenada X1: 7.15\n",
            "Introduzca la coordenada Y1: 21.60\n",
            "Introduzca la coordenada X2: 1.93\n",
            "Introduzca la coordenada Y2: 4.38\n",
            "La distancia los 2 puntos es 17.993798931854275\n"
          ]
        }
      ]
    },
    {
      "cell_type": "code",
      "metadata": {
        "id": "guhXExwH49Ea"
      },
      "source": [
        ""
      ],
      "execution_count": null,
      "outputs": []
    }
  ]
}