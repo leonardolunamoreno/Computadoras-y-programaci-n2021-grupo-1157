{
  "nbformat": 4,
  "nbformat_minor": 0,
  "metadata": {
    "colab": {
      "provenance": [],
      "authorship_tag": "ABX9TyMKVyZdInE1YsTZr2ZcJ26v",
      "include_colab_link": true
    },
    "kernelspec": {
      "name": "python3",
      "display_name": "Python 3"
    },
    "language_info": {
      "name": "python"
    }
  },
  "cells": [
    {
      "cell_type": "markdown",
      "metadata": {
        "id": "view-in-github",
        "colab_type": "text"
      },
      "source": [
        "<a href=\"https://colab.research.google.com/github/leonardolunamoreno/Computadoras-y-programaci-n2021-grupo-1157/blob/main/DISE%C3%91O_DE_SISTEMAS_DIGITALES.ipynb\" target=\"_parent\"><img src=\"https://colab.research.google.com/assets/colab-badge.svg\" alt=\"Open In Colab\"/></a>"
      ]
    },
    {
      "cell_type": "code",
      "execution_count": null,
      "metadata": {
        "id": "oxxTVwhNBufp"
      },
      "outputs": [],
      "source": []
    },
    {
      "cell_type": "code",
      "source": [
        "# SUMADOR DE 2 NÚMEROS BINARIOS, DE UN DÍGITO CADA UNO\n",
        "def suma_binaria(binario1, binario2):\n",
        "    # Asegurémonos de que todos los números binarios tengan 4 dígitos\n",
        "    if len(binario1) != 1 or len(binario2) != 1:\n",
        "        return \"Los números binarios deben tener exactamente 4 dígitos cada uno.\"\n",
        "\n",
        "    # Convierte los números binarios en enteros\n",
        "    num1 = int(binario1, 2)\n",
        "    num2 = int(binario2, 2)\n",
        "\n",
        "    # Realiza la suma\n",
        "    suma = num1 + num2\n",
        "\n",
        "    # Convierte la suma nuevamente a binario y elimina el prefijo '0b'\n",
        "    resultado_binario = bin(suma)[2:]\n",
        "\n",
        "    # Asegurémonos de que el resultado tenga 2 dígitos\n",
        "    while len(resultado_binario) < 1:\n",
        "        resultado_binario = '0' + resultado_binario\n",
        "\n",
        "    return resultado_binario\n",
        "\n",
        "# Ingresa los números binarios que deseas sumar\n",
        "binario1 = input(\"Ingresa el primer número binario de 1 dígitos: \")\n",
        "binario2 = input(\"Ingresa el segundo número binario de 1 dígitos: \")\n",
        "\n",
        "# Llama a la función y muestra el resultado\n",
        "resultado = suma_binaria(binario1, binario2)\n",
        "print(f\"La suma de {binario1} + {binario2} + es igual a {resultado} en binario.\")\n",
        "\n",
        "# CASO 1: 0 + 0 = 0\n",
        "# CASO 2: 0 + 1 = 1\n",
        "# CASO 3: 1 + 0 = 1\n",
        "# CASO 4: 1 + 1 = 10   ( SUMA 0, CON ACARREO 1)\n",
        "\n",
        "# ESTE PROGRAMA CUMPLE CON CADA UNO DE LOS REQUISITOS ESPERADOS PARA LA SUMA DE 2 NÚMEROS BINARIOS DE UN DÍGITO CADA UNO."
      ],
      "metadata": {
        "colab": {
          "base_uri": "https://localhost:8080/"
        },
        "id": "9z6OIFRjBvKO",
        "outputId": "8058733a-8114-4d4e-e9c2-c8473d977164"
      },
      "execution_count": 6,
      "outputs": [
        {
          "output_type": "stream",
          "name": "stdout",
          "text": [
            "Ingresa el primer número binario de 1 dígitos: 1\n",
            "Ingresa el segundo número binario de 1 dígitos: 1\n",
            "La suma de 1 + 1 + es igual a 10 en binario.\n"
          ]
        }
      ]
    },
    {
      "cell_type": "code",
      "source": [
        "# SUMADOR DE 4 NÚMEROS BINARIOS CON 4 DÍGITOS CADA UNO\n",
        "def suma_binaria(binario1, binario2, binario3, binario4, binario5, binario6):\n",
        "    # Asegurémonos de que todos los números binarios tengan 4 dígitos\n",
        "    if len(binario1) != 4 or len(binario2) != 4 or len(binario3) != 4 or len(binario4) != 4 or len(binario5) != 4 or len(binario6) != 4:\n",
        "        return \"Los números binarios deben tener exactamente 4 dígitos cada uno.\"\n",
        "\n",
        "    # Convierte los números binarios en enteros\n",
        "    num1 = int(binario1, 2)\n",
        "    num2 = int(binario2, 2)\n",
        "    num3 = int(binario3, 2)\n",
        "    num4 = int(binario4, 2)\n",
        "    num5 = int(binario5, 2)\n",
        "    num6 = int(binario6, 2)\n",
        "\n",
        "    # Realiza la suma\n",
        "    suma = num1 + num2 + num3 + num4 + num5 + num6\n",
        "\n",
        "    # Convierte la suma nuevamente a binario y elimina el prefijo '0b'\n",
        "    resultado_binario = bin(suma)[2:]\n",
        "\n",
        "    # Asegurémonos de que el resultado tenga 4 dígitos\n",
        "    while len(resultado_binario) < 4:\n",
        "        resultado_binario = '0' + resultado_binario\n",
        "\n",
        "    return resultado_binario\n",
        "\n",
        "# Ingresa los números binarios que deseas sumar\n",
        "binario1 = input(\"Ingresa el primer número binario de 4 dígitos: \")\n",
        "binario2 = input(\"Ingresa el segundo número binario de 4 dígitos: \")\n",
        "binario3 = input(\"Ingresa el tercer número binario de 4 dígitos: \")\n",
        "binario4 = input(\"Ingresa el cuarto número binario de 4 dígitos: \")\n",
        "binario5 = input(\"Ingresa el quinto número binario de 4 dígitos: \")\n",
        "binario6 = input(\"Ingresa el sexto número binario de 4 dígitos: \")\n",
        "\n",
        "# Llama a la función y muestra el resultado\n",
        "resultado = suma_binaria(binario1, binario2, binario3, binario4, binario5, binario6)\n",
        "print(f\"La suma de {binario1} + {binario2} + {binario3} + {binario4} + {binario5} + {binario6} es igual a {resultado} en binario.\")"
      ],
      "metadata": {
        "id": "OTyxmWmaBvHz"
      },
      "execution_count": null,
      "outputs": []
    }
  ]
}