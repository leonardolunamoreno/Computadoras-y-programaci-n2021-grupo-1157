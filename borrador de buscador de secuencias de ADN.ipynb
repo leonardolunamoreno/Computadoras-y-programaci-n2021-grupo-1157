{
  "nbformat": 4,
  "nbformat_minor": 0,
  "metadata": {
    "colab": {
      "name": "Untitled0.ipynb",
      "provenance": [],
      "authorship_tag": "ABX9TyN0Vlt0nL/X81N1v6Pafk2U",
      "include_colab_link": true
    },
    "kernelspec": {
      "name": "python3",
      "display_name": "Python 3"
    },
    "language_info": {
      "name": "python"
    }
  },
  "cells": [
    {
      "cell_type": "markdown",
      "metadata": {
        "id": "view-in-github",
        "colab_type": "text"
      },
      "source": [
        "<a href=\"https://colab.research.google.com/github/leonardolunamoreno/Computadoras-y-programaci-n2021-grupo-1157/blob/main/borrador%20de%20buscador%20de%20secuencias%20de%20ADN.ipynb\" target=\"_parent\"><img src=\"https://colab.research.google.com/assets/colab-badge.svg\" alt=\"Open In Colab\"/></a>"
      ]
    },
    {
      "cell_type": "code",
      "metadata": {
        "colab": {
          "base_uri": "https://localhost:8080/",
          "height": 231
        },
        "id": "E_B8U5h4zw9K",
        "outputId": "b938f866-5380-4570-abeb-f3d730c1f906"
      },
      "source": [
        "def Analisis (muestras, prueba):\n",
        "  #El programa no compila, dado que aun no se incluye la libreria de \"muestras\"\n",
        "  porcentajes={}\n",
        "#Se busca un porcentaje y tambien se calcula\n",
        "for element in (muestras): \n",
        "  contador = 0 \n",
        "  cadena= Muestras [element]\n",
        "  for i in range (20):\n",
        "    if (cadena[i]==prueba[i]):\n",
        "      contador +=1\n",
        "      contador= contador*5\n",
        "      porcentajes [element]=contador \n",
        "      #Se tiene un nuevo diccionario con nombres y con porcentajes de parentesco \n",
        "      y=max(porcentajes.values())\n",
        "      x=\"\"\n",
        "      #Se buscan los datos en el diccionario y nombres que necesitamos \n",
        "      for element in porcentajes: \n",
        "        if (porcentajes [element]==y):\n",
        "          x=element \n",
        "          #Imprimir el resultado \n",
        "        print ('\\n\\nEl culpable es {0} con un porcentaje de: {1}%'.format(x,y))\n",
        "\n",
        "      nombres=input('ingrese los nombres de los sospechosos:').split(',')\n",
        "      secuencias=input('ingrese las secuencias de ADN de los sospechosos:').split(',') \n",
        "      prueba=input('ingrese la prueba para comparar con la secuencia de ADN de los sospechosos:')\n",
        "      muestras=dict(zip(nombres,secuencias))\n",
        "      Analisis(muestras,prueba)\n",
        "\n"
      ],
      "execution_count": 7,
      "outputs": [
        {
          "output_type": "error",
          "ename": "NameError",
          "evalue": "ignored",
          "traceback": [
            "\u001b[0;31m---------------------------------------------------------------------------\u001b[0m",
            "\u001b[0;31mNameError\u001b[0m                                 Traceback (most recent call last)",
            "\u001b[0;32m<ipython-input-7-539c4dc19748>\u001b[0m in \u001b[0;36m<module>\u001b[0;34m()\u001b[0m\n\u001b[1;32m      3\u001b[0m   \u001b[0mporcentajes\u001b[0m\u001b[0;34m=\u001b[0m\u001b[0;34m{\u001b[0m\u001b[0;34m}\u001b[0m\u001b[0;34m\u001b[0m\u001b[0;34m\u001b[0m\u001b[0m\n\u001b[1;32m      4\u001b[0m \u001b[0;31m#Se busca un porcentaje y tambien se calcula\u001b[0m\u001b[0;34m\u001b[0m\u001b[0;34m\u001b[0m\u001b[0;34m\u001b[0m\u001b[0m\n\u001b[0;32m----> 5\u001b[0;31m \u001b[0;32mfor\u001b[0m \u001b[0melement\u001b[0m \u001b[0;32min\u001b[0m \u001b[0;34m(\u001b[0m\u001b[0mmuestras\u001b[0m\u001b[0;34m)\u001b[0m\u001b[0;34m:\u001b[0m\u001b[0;34m\u001b[0m\u001b[0;34m\u001b[0m\u001b[0m\n\u001b[0m\u001b[1;32m      6\u001b[0m   \u001b[0mcontador\u001b[0m \u001b[0;34m=\u001b[0m \u001b[0;36m0\u001b[0m\u001b[0;34m\u001b[0m\u001b[0;34m\u001b[0m\u001b[0m\n\u001b[1;32m      7\u001b[0m   \u001b[0mcadena\u001b[0m\u001b[0;34m=\u001b[0m \u001b[0mMuestras\u001b[0m \u001b[0;34m[\u001b[0m\u001b[0melement\u001b[0m\u001b[0;34m]\u001b[0m\u001b[0;34m\u001b[0m\u001b[0;34m\u001b[0m\u001b[0m\n",
            "\u001b[0;31mNameError\u001b[0m: name 'muestras' is not defined"
          ]
        }
      ]
    },
    {
      "cell_type": "code",
      "metadata": {
        "id": "xVscBs9a3moZ"
      },
      "source": [
        ""
      ],
      "execution_count": null,
      "outputs": []
    }
  ]
}