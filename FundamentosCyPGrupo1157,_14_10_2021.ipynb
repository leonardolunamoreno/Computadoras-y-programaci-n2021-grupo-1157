{
  "nbformat": 4,
  "nbformat_minor": 0,
  "metadata": {
    "colab": {
      "name": "FundamentosCyPGrupo1157, 14/10/2021.ipynb",
      "provenance": [],
      "collapsed_sections": [],
      "authorship_tag": "ABX9TyPoWpCaE5btHhHVPbTfazoP",
      "include_colab_link": true
    },
    "kernelspec": {
      "name": "python3",
      "display_name": "Python 3"
    },
    "language_info": {
      "name": "python"
    }
  },
  "cells": [
    {
      "cell_type": "markdown",
      "metadata": {
        "id": "view-in-github",
        "colab_type": "text"
      },
      "source": [
        "<a href=\"https://colab.research.google.com/github/leonardolunamoreno/Computadoras-y-programaci-n2021-grupo-1157/blob/main/FundamentosCyPGrupo1157%2C_14_10_2021.ipynb\" target=\"_parent\"><img src=\"https://colab.research.google.com/assets/colab-badge.svg\" alt=\"Open In Colab\"/></a>"
      ]
    },
    {
      "cell_type": "code",
      "metadata": {
        "id": "Gv_PXgwVepve",
        "colab": {
          "base_uri": "https://localhost:8080/"
        },
        "outputId": "b410f290-6076-427d-cc82-6ab553a9afee"
      },
      "source": [
        "carrera = \"ingenieria en computacion\"\n",
        "print (carrera)\n",
        "print (carrera[2]) #A la sintaxis escrita para elegir un elemento de un grupo de datos se le llama \"selector\"\n",
        "# En el caso de strings y listas (lst) se usan los caracterres \"[]\"\n",
        "print (carrera[8])\n",
        "print (carrera[24])\n",
        "print (carrera[-1])\n",
        "print (carrera[-25]) #Indexado negativo\n",
        "\n",
        "#Adelantando el tema del ciclo FOR \n",
        "\n",
        "for letra in carrera:  #For itera sobre cada string, y coloca cada elemento \n",
        "  print(\"-->\",letra,\"<--\")\n",
        "\n",
        "\n"
      ],
      "execution_count": 8,
      "outputs": [
        {
          "output_type": "stream",
          "name": "stdout",
          "text": [
            "ingenieria en computacion\n",
            "g\n",
            "i\n",
            "n\n",
            "n\n",
            "i\n",
            "--> i <--\n",
            "--> n <--\n",
            "--> g <--\n",
            "--> e <--\n",
            "--> n <--\n",
            "--> i <--\n",
            "--> e <--\n",
            "--> r <--\n",
            "--> i <--\n",
            "--> a <--\n",
            "-->   <--\n",
            "--> e <--\n",
            "--> n <--\n",
            "-->   <--\n",
            "--> c <--\n",
            "--> o <--\n",
            "--> m <--\n",
            "--> p <--\n",
            "--> u <--\n",
            "--> t <--\n",
            "--> a <--\n",
            "--> c <--\n",
            "--> i <--\n",
            "--> o <--\n",
            "--> n <--\n"
          ]
        }
      ]
    },
    {
      "cell_type": "markdown",
      "metadata": {
        "id": "p8x_mSrcpIM9"
      },
      "source": [
        ""
      ]
    },
    {
      "cell_type": "markdown",
      "metadata": {
        "id": "EiE0Fb_gpLqp"
      },
      "source": [
        "Una clase (class) es un tipo de dato compuesto \n",
        "Un String es un tipo de dato compuesto \n",
        "1.-En todos los lenguajes, los arreglos inician con un \"0\"\n",
        "2.-En python como tal no existe el tipo de dtao arreglo, el concepto es sustituido por las listas \n",
        "3.-Los strings se comportan como un arreglo en la mayoria de los lenguajes \n",
        "4.- En python se acepta el indexado negativo, en otros lenguajes de programación no. \n",
        "#Si un arreglo comienza en 0, y termina en 9, en un tipo de datos se resta un numero al final del arreglo, en el caso de \"print (carrera[24])\" se devuleve la letra \"n\", que si se cuenta de izquierda a derecha, ocupa el valor 25, sin encambio se toma el valor 24, para devolver \"n\"\n",
        "\n",
        "\n",
        "Slicing (rebanado de cadenas) \n",
        "Permite seleccionar sub cadenas con el operador, [inicio:stop:incremento], esto solamente se puede hacer en python, en otros lenguajes se puede hacer mediante metodos \n",
        "#Slicing y valores por defecto, el inicio por defecto siempre sera 0, el stop será el tamaño del arreglo en un (indexado positivo) y sera 0 en un idexado negativo. \n",
        "#El incremento es 1 (indexado positivo]) \n",
        "El selector y el slicing es un metodo muy utilizado en programacion, no importando el lenguaje\n",
        "\n",
        "*Hacer ejercicios de Selector y de Slicing*\n",
        "\n",
        "Metodos utiles de la clase string\n",
        "*String y sus metodos\n",
        "##Funcion dir() y help() son funciones para obetner ayuda del lenguaje python \n",
        "*dir() muestra las funciones de un tipo de dato como resument \n",
        "*help() muestra la misma ayuda pero a detalle \n",
        "\n",
        "Todos los tipos de datos en python son obejtos(CLASES DE LA PROGRAMACION ORIENTADA A OBJETOS(POO)), lo cual significa que tienen atributos y metodos\n",
        "Metodo: segmento de datos que hace algo \n",
        "Los metodos que inician con doble guin bajo son privados de uso interno de la clase y no deberiamos usarlos, incluso si tenemos acceso a ellos, y todos los demas son para uso exterior, es decir para el usuario "
      ]
    },
    {
      "cell_type": "code",
      "metadata": {
        "colab": {
          "base_uri": "https://localhost:8080/"
        },
        "id": "jkYbU2WypX69",
        "outputId": "5e101314-d2aa-451d-c094-c4cbbf81a4ad"
      },
      "source": [
        "carrera = \"ingenieria en computación\"\n",
        "print(carrera [0:10:1])   #El stop no se incluye en python, es por eso que debemos agregar una posicion extra \n",
        "print(carrera[:10:])\n",
        "print(carrera[14:25])\n",
        "print(carrera[-11:0])\n",
        "print(carrera[-11: :1])\n",
        "print(\"---------\")\n",
        "#Solucion previa \n",
        "print(carrera[-11:-1:1])\n",
        "print(carrera[-11: :1])\n",
        "print(carrera[-11:0:1]) #ESta operacion no es valida, por que le comunico al interprete que valla del menos 11 hasta el 0, pero en el indexado positivo\n",
        "#entonces se combinan 2 conceptos, cuando se coloca en la ultima posicion del slicing el interprete se desborda por asi decirlo\n",
        "\n",
        "\n",
        "#Un ejercicio más para ver incrementos \n",
        "carrera = \"ingenieria en computación\"\n",
        "print(carrera [0:10:2]) #Significa que el interprete da saltos desde el inicio hasta el final del string \n",
        "print(carrera[-1:12:-1]) #De este modo se imprime parte de la cadena al reves \n",
        "print(carrera[25:13:-1])\n",
        "\n"
      ],
      "execution_count": 27,
      "outputs": [
        {
          "output_type": "stream",
          "name": "stdout",
          "text": [
            "ingenieria\n",
            "ingenieria\n",
            "computación\n",
            "\n",
            "computación\n",
            "---------\n",
            "computació\n",
            "computación\n",
            "\n",
            "ignei\n",
            "nóicatupmoc \n",
            "nóicatupmoc\n"
          ]
        }
      ]
    },
    {
      "cell_type": "code",
      "metadata": {
        "colab": {
          "base_uri": "https://localhost:8080/"
        },
        "id": "8AANEveC07Ca",
        "outputId": "f32c9c58-7634-450b-c7b8-5d73025bedff"
      },
      "source": [
        "frutas = \"  limon , fresa, manzana  , aguacate  \"\n",
        "nombre = \"jose\"\n",
        "print (frutas)\n",
        "dir(frutas) #¿Que tipo de dato es \"frutas\"\n",
        "#El resultado es una serie de letras y palabras, estos son metodos de la \n",
        "#programacion orientada a objetos, un metodo es el tipo de cosas que hace un \n",
        "#objeto(acciones), tienen un identificador, un estado(nombre del objeto o clase, conjunto de atributos), y un \n",
        "#comportamiento(metodos que realizan acciones)\n",
        "\n",
        "print (dir(frutas))\n",
        "print (nombre.capitalize()) #() sirve para mandar a llamar un metodo \n",
        "print(dir(frutas))\n",
        "print(nombre.upper())\n",
        "print(frutas.replace ('a', '4'))\n",
        "print(frutas.replace ('a', '4').upper())\n",
        "print(frutas.replace ('e', '3'))\n",
        "print(frutas.replace ('a', '4').upper())\n",
        "\n",
        "frutas = \"  limon , fresa, manzana  , aguacate  \"\n",
        "print(frutas.strip())\n",
        "print(frutas.strip())\n",
        "print(frutas.split()) #Separa parte de la cadena, con diversos criterios, como espacio \n",
        "print(frutas.split(','))\n",
        "\n",
        "#Buscar una funcion que al mandar una cadena o subcadena que forma parte de la cadena principal y envie la posicion donde se encuentra \n",
        "frutas = \"  limon , fresa, manzana  , aguacate  \"\n",
        "print(frutas.index(\"n\")) \n",
        "\n",
        "\n",
        "\n",
        "\n",
        "\n",
        "\n"
      ],
      "execution_count": 47,
      "outputs": [
        {
          "output_type": "stream",
          "name": "stdout",
          "text": [
            "  limon , fresa, manzana  , aguacate  \n",
            "['__add__', '__class__', '__contains__', '__delattr__', '__dir__', '__doc__', '__eq__', '__format__', '__ge__', '__getattribute__', '__getitem__', '__getnewargs__', '__gt__', '__hash__', '__init__', '__init_subclass__', '__iter__', '__le__', '__len__', '__lt__', '__mod__', '__mul__', '__ne__', '__new__', '__reduce__', '__reduce_ex__', '__repr__', '__rmod__', '__rmul__', '__setattr__', '__sizeof__', '__str__', '__subclasshook__', 'capitalize', 'casefold', 'center', 'count', 'encode', 'endswith', 'expandtabs', 'find', 'format', 'format_map', 'index', 'isalnum', 'isalpha', 'isascii', 'isdecimal', 'isdigit', 'isidentifier', 'islower', 'isnumeric', 'isprintable', 'isspace', 'istitle', 'isupper', 'join', 'ljust', 'lower', 'lstrip', 'maketrans', 'partition', 'replace', 'rfind', 'rindex', 'rjust', 'rpartition', 'rsplit', 'rstrip', 'split', 'splitlines', 'startswith', 'strip', 'swapcase', 'title', 'translate', 'upper', 'zfill']\n",
            "Jose\n",
            "['__add__', '__class__', '__contains__', '__delattr__', '__dir__', '__doc__', '__eq__', '__format__', '__ge__', '__getattribute__', '__getitem__', '__getnewargs__', '__gt__', '__hash__', '__init__', '__init_subclass__', '__iter__', '__le__', '__len__', '__lt__', '__mod__', '__mul__', '__ne__', '__new__', '__reduce__', '__reduce_ex__', '__repr__', '__rmod__', '__rmul__', '__setattr__', '__sizeof__', '__str__', '__subclasshook__', 'capitalize', 'casefold', 'center', 'count', 'encode', 'endswith', 'expandtabs', 'find', 'format', 'format_map', 'index', 'isalnum', 'isalpha', 'isascii', 'isdecimal', 'isdigit', 'isidentifier', 'islower', 'isnumeric', 'isprintable', 'isspace', 'istitle', 'isupper', 'join', 'ljust', 'lower', 'lstrip', 'maketrans', 'partition', 'replace', 'rfind', 'rindex', 'rjust', 'rpartition', 'rsplit', 'rstrip', 'split', 'splitlines', 'startswith', 'strip', 'swapcase', 'title', 'translate', 'upper', 'zfill']\n",
            "JOSE\n",
            "  limon , fres4, m4nz4n4  , 4gu4c4te  \n",
            "  LIMON , FRES4, M4NZ4N4  , 4GU4C4TE  \n",
            "  limon , fr3sa, manzana  , aguacat3  \n",
            "  LIMON , FRES4, M4NZ4N4  , 4GU4C4TE  \n",
            "limon , fresa, manzana  , aguacate\n",
            "limon , fresa, manzana  , aguacate\n",
            "['limon', ',', 'fresa,', 'manzana', ',', 'aguacate']\n",
            "['  limon ', ' fresa', ' manzana  ', ' aguacate  ']\n",
            "6\n"
          ]
        }
      ]
    },
    {
      "cell_type": "code",
      "metadata": {
        "id": "pZRO95wL7mlr"
      },
      "source": [
        "dir(str) #hacer pruebas y utilizar cada intruccion y metodo, esto como practica, \n",
        "help(str.index)\n",
        "help(str.find)"
      ],
      "execution_count": null,
      "outputs": []
    },
    {
      "cell_type": "markdown",
      "metadata": {
        "id": "nxC1j18o8aIe"
      },
      "source": [
        "#String y caracteres de escape \n",
        "Si lo que se quiere es imprimir un caracter especial, que es el caracter de escape, con eso, se le indica al interprete que no imprima el identificador de escape, ej \n",
        "\"jose\"\n",
        "\\\"----> imprime comillas a la salida \n",
        "\\'-----> imprime ' \n",
        "\\n-----> salto de line a(tecla enter) \n",
        "\\t-----> tabulador de espacios a la izquierda \n",
        "\\uxxxx----> caracteres unicode de baja precision \n",
        "\\Uxxxxxxxx----->Unicode extendido \n",
        "\n",
        "\n",
        "*ver caracteres unicode y unicode extendido. "
      ]
    },
    {
      "cell_type": "code",
      "metadata": {
        "colab": {
          "base_uri": "https://localhost:8080/"
        },
        "id": "00obul5D85NG",
        "outputId": "766142cc-8779-42e2-fb26-eab65f31f8bf"
      },
      "source": [
        "print(\" \\\"jose\\\" \" )\n",
        "nombre=\" \\\"jose\\\" \" \n",
        "print(nombre)\n",
        "\n",
        "carrera = \"Ingeniería \\nen \\nComputación\"\n",
        "print(carrera)\n",
        "\n",
        "carrera = \"Ingeniería \\n\\ten \\n\\t\\tComputación\"\n",
        "print(carrera)"
      ],
      "execution_count": 54,
      "outputs": [
        {
          "output_type": "stream",
          "name": "stdout",
          "text": [
            " \"jose\" \n",
            " \"jose\" \n",
            "Ingeniería \n",
            "en \n",
            "Computación\n",
            "Ingeniería \n",
            "\ten \n",
            "\t\tComputación\n"
          ]
        }
      ]
    }
  ]
}