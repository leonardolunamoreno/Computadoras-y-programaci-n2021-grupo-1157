{
  "nbformat": 4,
  "nbformat_minor": 0,
  "metadata": {
    "colab": {
      "provenance": [],
      "authorship_tag": "ABX9TyM3PiN1S1G9l59G1xm3kvlO",
      "include_colab_link": true
    },
    "kernelspec": {
      "name": "python3",
      "display_name": "Python 3"
    },
    "language_info": {
      "name": "python"
    }
  },
  "cells": [
    {
      "cell_type": "markdown",
      "metadata": {
        "id": "view-in-github",
        "colab_type": "text"
      },
      "source": [
        "<a href=\"https://colab.research.google.com/github/leonardolunamoreno/Computadoras-y-programaci-n2021-grupo-1157/blob/main/F%C3%8DSICA_VOL_1.ipynb\" target=\"_parent\"><img src=\"https://colab.research.google.com/assets/colab-badge.svg\" alt=\"Open In Colab\"/></a>"
      ]
    },
    {
      "cell_type": "markdown",
      "source": [
        "# Capítulo 1 UNIDADES, CANTIDADES FÍSICAS Y VECTORES"
      ],
      "metadata": {
        "id": "WAsHrglF39Tr"
      }
    },
    {
      "cell_type": "code",
      "execution_count": null,
      "metadata": {
        "id": "Vh91BVuB3dQL",
        "colab": {
          "base_uri": "https://localhost:8080/"
        },
        "outputId": "bc87984f-dc58-449a-d763-c04970c4833f"
      },
      "outputs": [
        {
          "output_type": "stream",
          "name": "stdout",
          "text": [
            "Ingrese el valor de 1 hora = 1\n",
            "Ingrese el número de horas que han transcurrido desde que comenzó la tormenta: 1\n",
            "La distancia en el eje x cuando se nos menciona la situación es: 12.036300463\n",
            "La distancia en el eje y cuando se nos menciona la situación es: 15.972710201\n",
            "Ahora para conocer la distancia en ambos ejes una hora después de mencionada la situación se tiene\n",
            "La distancia en el eje x una hora después de mencionada la situación es: 24.072600926\n",
            "La distancia en el eje y una hora después de mencionada la situación es: 31.945420402\n"
          ]
        }
      ],
      "source": [
        "# Ser capaz de predecir la trayectoria de un huracán resulta esencial para reducir al mínimo los posibles daños\n",
        "# a las propiedades y a las vidas humanas.\n",
        "# Si un huracán se mueve a 20 Km / h en una dirección de 53º al norte del este \n",
        "# ¿Qué tan lejos al norte se moverá el huracán en una hora?\n",
        "\n",
        "# r = 53 aquí se ha sustituido directamente el valor del seno y coseno de 53º en las fórmulas de \n",
        "# x1, x2, y1 y y2 \n",
        "d1 = 20\n",
        "print(\"Ingrese el valor de 1 hora = 1\")\n",
        "h = float(input(\"Ingrese el número de horas que han transcurrido desde que comenzó la tormenta: \"))\n",
        "if h != 1:\n",
        "    print(\"Nel perro\")\n",
        "else: \n",
        "    x1 = (0.60181502315)*d1*h\n",
        "    print(f\"La distancia en el eje x cuando se nos menciona la situación es: {x1}\")\n",
        "    y1 = (0.79863551005)*d1*h\n",
        "    print(f\"La distancia en el eje y cuando se nos menciona la situación es: {y1}\")\n",
        "\n",
        "print(\"Ahora para conocer la distancia en ambos ejes una hora después de mencionada la situación se tiene\")\n",
        "d2 = 40 # La nueva distancia seria de 40 kilometros, eso con la dirección inicial y las componentes serían\n",
        "# las siguientes\n",
        "if h != 1 : \n",
        "    print(\"Nel perro\") \n",
        "else: \n",
        "    x2 = (0.60181502315)*d2*h\n",
        "    print(f\"La distancia en el eje x una hora después de mencionada la situación es: {x2}\")\n",
        "    y2 = (0.79863551005)*d2*h\n",
        "    print(f\"La distancia en el eje y una hora después de mencionada la situación es: {y2}\")"
      ]
    },
    {
      "cell_type": "code",
      "source": [
        "def suma(self,*matrices):\n",
        "    for i in range(self.filas):\n",
        "        fila = []\n",
        "        for j in range(self.columnas):\n",
        "            temp = self.elems[i][j]\n",
        "            for m in matrices:\n",
        "                temp += m.elems[i][j]\n",
        "            fila.append(temp)\n",
        "        yield fila "
      ],
      "metadata": {
        "id": "4rBvyHFM5Ctk"
      },
      "execution_count": null,
      "outputs": []
    },
    {
      "cell_type": "code",
      "source": [
        "import math \n",
        "print(math.pow(2,3))\n",
        "# Se pueden obtener las potencias de un número determinado.  "
      ],
      "metadata": {
        "colab": {
          "base_uri": "https://localhost:8080/"
        },
        "id": "5oQcgGub-5Rl",
        "outputId": "e38b7efc-a3f2-44af-f339-653e0fd327dc"
      },
      "execution_count": null,
      "outputs": [
        {
          "output_type": "stream",
          "name": "stdout",
          "text": [
            "8.0\n"
          ]
        }
      ]
    },
    {
      "cell_type": "code",
      "source": [
        "print(\"Uso de alguna nueva característica \\najua desbloqueada\") # De está manera con \"\\n\" existe la posibilidad imprimitr codigo desde una linea a otra\n",
        "print()\n",
        "print(\"Ajua otra vez \\nmiau \\nmiua \\nmiarrramiaauuuuuuuu\")"
      ],
      "metadata": {
        "id": "gKrs8PqfA0-F",
        "colab": {
          "base_uri": "https://localhost:8080/"
        },
        "outputId": "179c0835-6759-49b4-dbc2-ab8363ccf254"
      },
      "execution_count": null,
      "outputs": [
        {
          "output_type": "stream",
          "name": "stdout",
          "text": [
            "Uso de alguna nueva característica \n",
            "ajua desbloqueada\n",
            "\n",
            "Ajua otra vez \n",
            "miau \n",
            "miua \n",
            "miarrramiaauuuuuuuu\n"
          ]
        }
      ]
    },
    {
      "cell_type": "code",
      "source": [],
      "metadata": {
        "id": "MCKEemxG6R9_"
      },
      "execution_count": null,
      "outputs": []
    },
    {
      "cell_type": "code",
      "source": [
        "print(\"LLL                   EEE \\nLLL                   EEE \\nLLL               \\nLLL \\nLLL \\nLLL \\nLLL \\nLLL \\nLLLLLLLLLLLLLLLLL \")"
      ],
      "metadata": {
        "colab": {
          "base_uri": "https://localhost:8080/"
        },
        "id": "I968tjt5JcEB",
        "outputId": "51a0b036-fe05-483e-9a50-de410d00d2d0"
      },
      "execution_count": null,
      "outputs": [
        {
          "output_type": "stream",
          "name": "stdout",
          "text": [
            "LLL                   EEE \n",
            "LLL                   EEE \n",
            "LLL \n",
            "LLL \n",
            "LLL \n",
            "LLL \n",
            "LLL \n",
            "LLL \n",
            "LLLLLLLLLLLLLLLLL \n"
          ]
        }
      ]
    },
    {
      "cell_type": "code",
      "source": [
        "from tkinter import Tk, Label, Button # Aquí se importan las librerias tkinter, las cuales permiten la creación de una interfaz gráfica\n",
        "# Importar librerías a medida que se utilizn \n",
        "class interfaz: # Aquí se crea la clase \"Interfaz\" y esta ligada con la línea 9, así que al alterar algún dato aquí, debo hacer lo propio en la línea 9 \n",
        "    def __init__(self, ventana):  # El método init encapsulara algunos datos de interes, El método __init__ es el primer método que se ejecuta cuando se crea un objeto, y dentro del método se agregan los parametros\n",
        "        self.ventana = ventana # A partir de aquí se inicializa una ventana                                                                                                                                                                                                           \n",
        "        self.ventana.title(\"Estructura de Datos\") # Aquí se nombra a la ventana en sí\n",
        "        \n",
        "        self.etiqueta = Label(ventana, text = \"Está es la primera ventana\" ) # Aparece un mensaje en la pantalla, pero dentro de la ventana \n",
        "        self.etiqueta.pack() # ¿Porqué se introduce el vacío aquí?\n",
        "\n",
        "        \n",
        "\n",
        "ventana_principal = Tk() #Tk es la ventana principal, incluso si el programa cuenta con varias ventanass \n",
        "matrices = interfaz(ventana_principal) # Objeto de la clase interfaz\n",
        "ventana_principal.mainloop() # Bucle infinito, permite que el programa se esté ejecutando mientras se esperan los eventos, es decir alguna determinada accioón de un usuario \n",
        "\n",
        "\n",
        "\n"
      ],
      "metadata": {
        "id": "2DKPAX-T6TvO"
      },
      "execution_count": null,
      "outputs": []
    }
  ]
}