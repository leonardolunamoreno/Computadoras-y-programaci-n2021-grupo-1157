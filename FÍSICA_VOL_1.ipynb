{
  "nbformat": 4,
  "nbformat_minor": 0,
  "metadata": {
    "colab": {
      "name": "FÍSICA_VOL_1.ipynb",
      "provenance": [],
      "authorship_tag": "ABX9TyNvJsmert0LCBXSOrHHk1EZ",
      "include_colab_link": true
    },
    "kernelspec": {
      "name": "python3",
      "display_name": "Python 3"
    },
    "language_info": {
      "name": "python"
    }
  },
  "cells": [
    {
      "cell_type": "markdown",
      "metadata": {
        "id": "view-in-github",
        "colab_type": "text"
      },
      "source": [
        "<a href=\"https://colab.research.google.com/github/leonardolunamoreno/Computadoras-y-programaci-n2021-grupo-1157/blob/main/F%C3%8DSICA_VOL_1.ipynb\" target=\"_parent\"><img src=\"https://colab.research.google.com/assets/colab-badge.svg\" alt=\"Open In Colab\"/></a>"
      ]
    },
    {
      "cell_type": "markdown",
      "source": [
        "# Capítulo 1 UNIDADES, CANTIDADES FÍSICAS Y VECTORES"
      ],
      "metadata": {
        "id": "WAsHrglF39Tr"
      }
    },
    {
      "cell_type": "code",
      "execution_count": 2,
      "metadata": {
        "id": "Vh91BVuB3dQL",
        "colab": {
          "base_uri": "https://localhost:8080/"
        },
        "outputId": "bc87984f-dc58-449a-d763-c04970c4833f"
      },
      "outputs": [
        {
          "output_type": "stream",
          "name": "stdout",
          "text": [
            "Ingrese el valor de 1 hora = 1\n",
            "Ingrese el número de horas que han transcurrido desde que comenzó la tormenta: 1\n",
            "La distancia en el eje x cuando se nos menciona la situación es: 12.036300463\n",
            "La distancia en el eje y cuando se nos menciona la situación es: 15.972710201\n",
            "Ahora para conocer la distancia en ambos ejes una hora después de mencionada la situación se tiene\n",
            "La distancia en el eje x una hora después de mencionada la situación es: 24.072600926\n",
            "La distancia en el eje y una hora después de mencionada la situación es: 31.945420402\n"
          ]
        }
      ],
      "source": [
        "# Ser capaz de predecir la trayectoria de un huracán resulta esencial para reducir al mínimo los posibles daños\n",
        "# a las propiedades y a las vidas humanas.\n",
        "# Si un huracán se mueve a 20 Km / h en una dirección de 53º al norte del este \n",
        "# ¿Qué tan lejos al norte se moverá el huracán en una hora?\n",
        "\n",
        "# r = 53 aquí se ha sustituido directamente el valor del seno y coseno de 53º en las fórmulas de \n",
        "# x1, x2, y1 y y2 \n",
        "d1 = 20\n",
        "print(\"Ingrese el valor de 1 hora = 1\")\n",
        "h = float(input(\"Ingrese el número de horas que han transcurrido desde que comenzó la tormenta: \"))\n",
        "if h != 1:\n",
        "    print(\"Nel perro\")\n",
        "else: \n",
        "    x1 = (0.60181502315)*d1*h\n",
        "    print(f\"La distancia en el eje x cuando se nos menciona la situación es: {x1}\")\n",
        "    y1 = (0.79863551005)*d1*h\n",
        "    print(f\"La distancia en el eje y cuando se nos menciona la situación es: {y1}\")\n",
        "\n",
        "print(\"Ahora para conocer la distancia en ambos ejes una hora después de mencionada la situación se tiene\")\n",
        "d2 = 40 # La nueva distancia seria de 40 kilometros, eso con la dirección inicial y las componentes serían\n",
        "# las siguientes\n",
        "if h != 1 : \n",
        "    print(\"Nel perro\") \n",
        "else: \n",
        "    x2 = (0.60181502315)*d2*h\n",
        "    print(f\"La distancia en el eje x una hora después de mencionada la situación es: {x2}\")\n",
        "    y2 = (0.79863551005)*d2*h\n",
        "    print(f\"La distancia en el eje y una hora después de mencionada la situación es: {y2}\")"
      ]
    },
    {
      "cell_type": "code",
      "source": [
        ""
      ],
      "metadata": {
        "id": "4rBvyHFM5Ctk"
      },
      "execution_count": null,
      "outputs": []
    }
  ]
}