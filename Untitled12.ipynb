{
  "nbformat": 4,
  "nbformat_minor": 0,
  "metadata": {
    "colab": {
      "name": "Untitled12.ipynb",
      "provenance": [],
      "authorship_tag": "ABX9TyM0ksKeIRFtIIdDqgbJq4NI",
      "include_colab_link": true
    },
    "kernelspec": {
      "name": "python3",
      "display_name": "Python 3"
    },
    "language_info": {
      "name": "python"
    }
  },
  "cells": [
    {
      "cell_type": "markdown",
      "metadata": {
        "id": "view-in-github",
        "colab_type": "text"
      },
      "source": [
        "<a href=\"https://colab.research.google.com/github/leonardolunamoreno/Computadoras-y-programaci-n2021-grupo-1157/blob/main/Untitled12.ipynb\" target=\"_parent\"><img src=\"https://colab.research.google.com/assets/colab-badge.svg\" alt=\"Open In Colab\"/></a>"
      ]
    },
    {
      "cell_type": "code",
      "execution_count": null,
      "metadata": {
        "id": "Og71PMveybf6"
      },
      "outputs": [],
      "source": [
        "# Cambiar elementos de un arreglo \n",
        "equipos[4] = remplazaos \n",
        "equipos "
      ]
    },
    {
      "cell_type": "code",
      "source": [
        "# CAmbiar los elementos de un arreglo \n",
        "equipos[2,0, 8:2] = ['julio', 'ernesto'] \n",
        "equipos"
      ],
      "metadata": {
        "id": "T8XKuAd5y88Z"
      },
      "execution_count": null,
      "outputs": []
    },
    {
      "cell_type": "code",
      "source": [
        "# Cambiar un solo elemento \n",
        "equipos[3,1,2] = 'Esmeralda'\n",
        "equipos"
      ],
      "metadata": {
        "id": "LgDxqFqjzLH_"
      },
      "execution_count": null,
      "outputs": []
    },
    {
      "cell_type": "code",
      "source": [
        "# Es posible identificar elementos de una dimension usando areglos como indices \n",
        "idx_1 = np.array([2,0,3])\n",
        "print(idx_1)\n",
        "print(equipos[idx_1])"
      ],
      "metadata": {
        "colab": {
          "base_uri": "https://localhost:8080/",
          "height": 227
        },
        "id": "r2-3DFyAzbAc",
        "outputId": "d787e499-84fd-4503-d3ad-d2d075958291"
      },
      "execution_count": 1,
      "outputs": [
        {
          "output_type": "error",
          "ename": "NameError",
          "evalue": "ignored",
          "traceback": [
            "\u001b[0;31m---------------------------------------------------------------------------\u001b[0m",
            "\u001b[0;31mNameError\u001b[0m                                 Traceback (most recent call last)",
            "\u001b[0;32m<ipython-input-1-cd24136f0dca>\u001b[0m in \u001b[0;36m<module>\u001b[0;34m()\u001b[0m\n\u001b[1;32m      1\u001b[0m \u001b[0;31m# Es posible identificar elementos de una dimension usando areglos como indices\u001b[0m\u001b[0;34m\u001b[0m\u001b[0;34m\u001b[0m\u001b[0;34m\u001b[0m\u001b[0m\n\u001b[0;32m----> 2\u001b[0;31m \u001b[0midx_1\u001b[0m \u001b[0;34m=\u001b[0m \u001b[0mnp\u001b[0m\u001b[0;34m.\u001b[0m\u001b[0marray\u001b[0m\u001b[0;34m(\u001b[0m\u001b[0;34m[\u001b[0m\u001b[0;36m2\u001b[0m\u001b[0;34m,\u001b[0m\u001b[0;36m0\u001b[0m\u001b[0;34m,\u001b[0m\u001b[0;36m3\u001b[0m\u001b[0;34m]\u001b[0m\u001b[0;34m)\u001b[0m\u001b[0;34m\u001b[0m\u001b[0;34m\u001b[0m\u001b[0m\n\u001b[0m\u001b[1;32m      3\u001b[0m \u001b[0midx_1\u001b[0m\u001b[0;34m\u001b[0m\u001b[0;34m\u001b[0m\u001b[0m\n",
            "\u001b[0;31mNameError\u001b[0m: name 'np' is not defined"
          ]
        }
      ]
    },
    {
      "cell_type": "code",
      "source": [
        "idx_2 = np.array([[0,3],[1,4]])\n",
        "print(idx_2)\n",
        "print(equipos[idx_2])\n",
        "print(equipos[idx_2].shape)"
      ],
      "metadata": {
        "id": "KlVjbc7j0kxZ"
      },
      "execution_count": null,
      "outputs": []
    },
    {
      "cell_type": "code",
      "source": [
        "# Uso de multiples arreglo como indices \n",
        "idx_z = np.array([0,2]) # Lunes y miercoles \n",
        "idx_y = np.array([0,1]) # Equipo 1 y 2 \n",
        "equipo(idx_x, idx_y)"
      ],
      "metadata": {
        "id": "jbbTykk41GR2"
      },
      "execution_count": null,
      "outputs": []
    },
    {
      "cell_type": "markdown",
      "source": [
        ""
      ],
      "metadata": {
        "id": "fKoa0YUQ2Vh8"
      }
    },
    {
      "cell_type": "code",
      "source": [
        "# Broadcasting, permite ajuustar un valor para una determinada dimenzion \n",
        "\n",
        "equipos "
      ],
      "metadata": {
        "id": "m74F20mJ2JAe"
      },
      "execution_count": null,
      "outputs": []
    },
    {
      "cell_type": "code",
      "source": [
        "equipos[4,0] = 'Fabian'\n",
        "equipos "
      ],
      "metadata": {
        "id": "s8ivHs2Y2f38"
      },
      "execution_count": null,
      "outputs": []
    },
    {
      "cell_type": "code",
      "source": [
        "# un mismo arreglo para todos los elementos de la dimensión \n",
        "equipos[2] = np.arrray(['huego','paco','luis'])\n",
        "equipos[2].shape\n",
        "equipos "
      ],
      "metadata": {
        "id": "okCWTMe02nJz"
      },
      "execution_count": null,
      "outputs": []
    }
  ]
}