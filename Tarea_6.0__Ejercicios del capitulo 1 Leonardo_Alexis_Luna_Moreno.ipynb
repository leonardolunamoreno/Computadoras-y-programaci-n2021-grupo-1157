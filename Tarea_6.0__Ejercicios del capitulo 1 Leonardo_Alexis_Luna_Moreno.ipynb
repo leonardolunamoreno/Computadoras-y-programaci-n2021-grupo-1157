{
  "nbformat": 4,
  "nbformat_minor": 0,
  "metadata": {
    "colab": {
      "name": "Tarea 6_ Leonardo Alexis Luna Moreno.ipynb",
      "provenance": [],
      "collapsed_sections": [],
      "authorship_tag": "ABX9TyOeV4HXEdiZWi726yg1Xfc9",
      "include_colab_link": true
    },
    "kernelspec": {
      "name": "python3",
      "display_name": "Python 3"
    },
    "language_info": {
      "name": "python"
    }
  },
  "cells": [
    {
      "cell_type": "markdown",
      "metadata": {
        "id": "view-in-github",
        "colab_type": "text"
      },
      "source": [
        "<a href=\"https://colab.research.google.com/github/leonardolunamoreno/Computadoras-y-programaci-n2021-grupo-1157/blob/main/Tarea_6.0__Ejercicios%20del%20capitulo%201%20Leonardo_Alexis_Luna_Moreno.ipynb\" target=\"_parent\"><img src=\"https://colab.research.google.com/assets/colab-badge.svg\" alt=\"Open In Colab\"/></a>"
      ]
    },
    {
      "cell_type": "markdown",
      "metadata": {
        "id": "W1gtJMyyPms1"
      },
      "source": [
        ""
      ]
    },
    {
      "cell_type": "code",
      "metadata": {
        "id": "Mq7nF7j4nrfH",
        "colab": {
          "base_uri": "https://localhost:8080/"
        },
        "outputId": "c6ef2b27-7104-4d1d-b914-adeae4055831"
      },
      "source": [
        "#Ejemplo 1.7, Programado por Leonardo Alexis Luna Moreno 24/11/2021\n",
        "A = int(input(f\"Ingrese un número: \"))\n",
        "B = int(input(f\"Ingrese otro número: \"))\n",
        "RES = ((A+B)**2 / 3)\n",
        "print(f\"El resultado es {RES}\")"
      ],
      "execution_count": null,
      "outputs": [
        {
          "output_type": "stream",
          "name": "stdout",
          "text": [
            "Ingrese un número: 2\n",
            "Ingrese otro número: 4\n",
            "El resultado es 12.0\n"
          ]
        }
      ]
    },
    {
      "cell_type": "code",
      "metadata": {
        "colab": {
          "base_uri": "https://localhost:8080/"
        },
        "id": "5AE5fv99Z6Wm",
        "outputId": "c4fe40db-8828-4a42-addc-46a886a17e45"
      },
      "source": [
        "#Ejemplo 1.8, Programado por Leonardo Alexis Luna Moreno 24/11/2021\n",
        "CAL1 = float(input(\"Ingrese la primer califcación: \"))\n",
        "CAL2 = float(input(\"Ingrese la segunda calificación: \"))\n",
        "CAL3 = float(input(\"Ingrese la tercera calificación: \"))\n",
        "CAL4 = float(input(\"Ingrese la cuarta calificación:\"))\n",
        "CAL5 = float(input(\"Ingrese la quinta calificación: \"))\n",
        "PRO = (CAL1+CAL2+CAL3+CAL4+CAL5)/5\n",
        "print(f\"El promedio de calificaciones del alumno es: {PRO} \")"
      ],
      "execution_count": null,
      "outputs": [
        {
          "output_type": "stream",
          "name": "stdout",
          "text": [
            "Ingrese la primer califcación: 8\n",
            "Ingrese la segunda calificación: 8.5\n",
            "Ingrese la tercera calificación: 9\n",
            "Ingrese la cuarta calificación:7\n",
            "Ingrese la quinta calificación: 6\n",
            "El promedio de calificaciones del alumno es: 7.7 \n"
          ]
        }
      ]
    },
    {
      "cell_type": "code",
      "metadata": {
        "colab": {
          "base_uri": "https://localhost:8080/"
        },
        "id": "1kZ_-NM2b1Yv",
        "outputId": "b61151c6-8026-4b00-b31f-a774557ccac9"
      },
      "source": [
        "#Ejemplo 1.9, Programado por Leonardo Alexis Luna Moreno 24/11/2021\n",
        "NUM = float(input(\"Ingrese un número: \"))\n",
        "CUA = NUM*NUM \n",
        "CUB = NUM**3\n",
        "print(f\"El cuadrado del número es: {CUA} y el cubo del número es: {CUB}\")"
      ],
      "execution_count": null,
      "outputs": [
        {
          "output_type": "stream",
          "name": "stdout",
          "text": [
            "Ingrese un número: 3\n",
            "El cuadrado del número es 9.0, y el cubo del número es: 27.0\n"
          ]
        }
      ]
    },
    {
      "cell_type": "code",
      "metadata": {
        "colab": {
          "base_uri": "https://localhost:8080/"
        },
        "id": "HpPcKmT9danA",
        "outputId": "79ee6620-7999-4366-f314-3a7cce5188ef"
      },
      "source": [
        "#Ejemplo 1.10, Programado por Leonardo Alexis Luna Moreno 24/11/2021\n",
        "BASE = float(input(\"Ingrese la base del rectángulo: \"))\n",
        "ALTU = float(input(\"Ingrese la altura del rectángulo: \"))\n",
        "SUP = BASE * ALTU \n",
        "PER = 2*(BASE + ALTU)\n",
        "print(f\"La superficie del rectángulo es: {SUP}\")\n",
        "print(f\"El perímetro del rectángulo es: {PER}\")"
      ],
      "execution_count": null,
      "outputs": [
        {
          "output_type": "stream",
          "name": "stdout",
          "text": [
            "Ingrese la base del rectángulo:3\n",
            "Ingrese la altura del rectángulo: 4\n",
            "La superficie del rectángulo es: 12.0\n",
            "El perímetro del rectángulo es: 14.0\n"
          ]
        }
      ]
    }
  ]
}