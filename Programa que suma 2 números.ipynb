{
  "nbformat": 4,
  "nbformat_minor": 0,
  "metadata": {
    "colab": {
      "name": "Untitled1.ipynb",
      "provenance": [],
      "authorship_tag": "ABX9TyOQ/iLkk1idEZFYdzrJUr+g",
      "include_colab_link": true
    },
    "kernelspec": {
      "name": "python3",
      "display_name": "Python 3"
    },
    "language_info": {
      "name": "python"
    }
  },
  "cells": [
    {
      "cell_type": "markdown",
      "metadata": {
        "id": "view-in-github",
        "colab_type": "text"
      },
      "source": [
        "<a href=\"https://colab.research.google.com/github/leonardolunamoreno/Computadoras-y-programaci-n2021-grupo-1157/blob/main/Programa%20que%20suma%202%20n%C3%BAmeros.ipynb\" target=\"_parent\"><img src=\"https://colab.research.google.com/assets/colab-badge.svg\" alt=\"Open In Colab\"/></a>"
      ]
    },
    {
      "cell_type": "code",
      "metadata": {
        "colab": {
          "base_uri": "https://localhost:8080/"
        },
        "id": "GDzs-Njk4RzG",
        "outputId": "ddf56b2f-1eaa-42ef-8116-9df8919283f7"
      },
      "source": [
        "n1 = float (input(\"Ingresa un número:\"))\n",
        "n2 = float (input(\"ingresa otro número:\"))\n",
        "suma = n1+n2 \n",
        "print(\"La suma de ambos numeros es:\", suma)"
      ],
      "execution_count": 3,
      "outputs": [
        {
          "output_type": "stream",
          "name": "stdout",
          "text": [
            "Ingresa un número:6\n",
            "ingresa otro número:7\n",
            "La suma de ambos numeros es: 13.0\n"
          ]
        }
      ]
    }
  ]
}