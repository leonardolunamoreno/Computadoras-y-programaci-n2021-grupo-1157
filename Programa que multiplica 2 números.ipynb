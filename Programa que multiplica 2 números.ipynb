{
  "nbformat": 4,
  "nbformat_minor": 0,
  "metadata": {
    "colab": {
      "name": "Untitled3.ipynb",
      "provenance": [],
      "authorship_tag": "ABX9TyMEhncOFUA5PF7Ko5ILsX31",
      "include_colab_link": true
    },
    "kernelspec": {
      "name": "python3",
      "display_name": "Python 3"
    },
    "language_info": {
      "name": "python"
    }
  },
  "cells": [
    {
      "cell_type": "markdown",
      "metadata": {
        "id": "view-in-github",
        "colab_type": "text"
      },
      "source": [
        "<a href=\"https://colab.research.google.com/github/leonardolunamoreno/Computadoras-y-programaci-n2021-grupo-1157/blob/main/Programa%20que%20multiplica%202%20n%C3%BAmeros.ipynb\" target=\"_parent\"><img src=\"https://colab.research.google.com/assets/colab-badge.svg\" alt=\"Open In Colab\"/></a>"
      ]
    },
    {
      "cell_type": "code",
      "metadata": {
        "colab": {
          "base_uri": "https://localhost:8080/"
        },
        "id": "1_YvC3e36xsj",
        "outputId": "5b166838-977a-4032-e670-bea572258e86"
      },
      "source": [
        "n1 = float (input(\"Ingresa un número:\"))\n",
        "n2 = float (input(\"ingresa otro número:\"))\n",
        "multiplicación = n1*n2 \n",
        "print(\"El producto de ambos numeros es:\", multiplicación)"
      ],
      "execution_count": 2,
      "outputs": [
        {
          "output_type": "stream",
          "name": "stdout",
          "text": [
            "Ingresa un número:30\n",
            "ingresa otro número:30\n",
            "El producto de ambos numeros es: 900.0\n"
          ]
        }
      ]
    }
  ]
}