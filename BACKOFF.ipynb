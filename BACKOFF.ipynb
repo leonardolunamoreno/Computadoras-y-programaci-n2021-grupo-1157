{
  "nbformat": 4,
  "nbformat_minor": 0,
  "metadata": {
    "colab": {
      "name": "BACKOFF.ipynb",
      "provenance": [],
      "authorship_tag": "ABX9TyNoW342XDBr8RrvOernbw8Z",
      "include_colab_link": true
    },
    "kernelspec": {
      "name": "python3",
      "display_name": "Python 3"
    },
    "language_info": {
      "name": "python"
    }
  },
  "cells": [
    {
      "cell_type": "markdown",
      "metadata": {
        "id": "view-in-github",
        "colab_type": "text"
      },
      "source": [
        "<a href=\"https://colab.research.google.com/github/leonardolunamoreno/Computadoras-y-programaci-n2021-grupo-1157/blob/main/BACKOFF.ipynb\" target=\"_parent\"><img src=\"https://colab.research.google.com/assets/colab-badge.svg\" alt=\"Open In Colab\"/></a>"
      ]
    },
    {
      "cell_type": "markdown",
      "source": [
        "# En un mercado cada vez más competitivo mejorar los procesos dentro de la empresa ahorrando a su vez costes solo se consigue a través de servicios especializados que estén enfocados a ayudar desde la trastienda, así, lo que ocurra en la tienda redundará en un servicio de mayor calidad y más enfocado hacia lo verdaderamente importante: el cliente."
      ],
      "metadata": {
        "id": "X3nY5YzzbpNi"
      }
    },
    {
      "cell_type": "code",
      "execution_count": null,
      "metadata": {
        "id": "WSDmFq8pbnRp"
      },
      "outputs": [],
      "source": [
        ""
      ]
    }
  ]
}