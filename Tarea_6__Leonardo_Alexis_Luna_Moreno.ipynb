{
  "nbformat": 4,
  "nbformat_minor": 0,
  "metadata": {
    "colab": {
      "name": "Tarea 6_ Leonardo Alexis Luna Moreno.ipynb",
      "provenance": [],
      "collapsed_sections": [],
      "authorship_tag": "ABX9TyPoWY8dUs89Upm2PkROnSrb",
      "include_colab_link": true
    },
    "kernelspec": {
      "name": "python3",
      "display_name": "Python 3"
    },
    "language_info": {
      "name": "python"
    }
  },
  "cells": [
    {
      "cell_type": "markdown",
      "metadata": {
        "id": "view-in-github",
        "colab_type": "text"
      },
      "source": [
        "<a href=\"https://colab.research.google.com/github/leonardolunamoreno/Computadoras-y-programaci-n2021-grupo-1157/blob/main/Tarea_6__Leonardo_Alexis_Luna_Moreno.ipynb\" target=\"_parent\"><img src=\"https://colab.research.google.com/assets/colab-badge.svg\" alt=\"Open In Colab\"/></a>"
      ]
    },
    {
      "cell_type": "markdown",
      "metadata": {
        "id": "W1gtJMyyPms1"
      },
      "source": [
        ""
      ]
    },
    {
      "cell_type": "code",
      "metadata": {
        "id": "Mq7nF7j4nrfH",
        "colab": {
          "base_uri": "https://localhost:8080/"
        },
        "outputId": "c6ef2b27-7104-4d1d-b914-adeae4055831"
      },
      "source": [
        "#Ejemplo 1.7, Programado por Leonardo Alexis Luna Moreno 24/11/2021\n",
        "A = int(input(f\"Ingrese un número: \"))\n",
        "B = int(input(f\"Ingrese otro número: \"))\n",
        "RES = ((A+B)**2 / 3)\n",
        "print(f\"El resultado es {RES}\")"
      ],
      "execution_count": null,
      "outputs": [
        {
          "output_type": "stream",
          "name": "stdout",
          "text": [
            "Ingrese un número: 2\n",
            "Ingrese otro número: 4\n",
            "El resultado es 12.0\n"
          ]
        }
      ]
    },
    {
      "cell_type": "code",
      "metadata": {
        "colab": {
          "base_uri": "https://localhost:8080/"
        },
        "id": "5AE5fv99Z6Wm",
        "outputId": "c4fe40db-8828-4a42-addc-46a886a17e45"
      },
      "source": [
        "#Ejemplo 1.8, Programado por Leonardo Alexis Luna Moreno 24/11/2021\n",
        "CAL1 = float(input(\"Ingrese la primer califcación: \"))\n",
        "CAL2 = float(input(\"Ingrese la segunda calificación: \"))\n",
        "CAL3 = float(input(\"Ingrese la tercera calificación: \"))\n",
        "CAL4 = float(input(\"Ingrese la cuarta calificación:\"))\n",
        "CAL5 = float(input(\"Ingrese la quinta calificación: \"))\n",
        "PRO = (CAL1+CAL2+CAL3+CAL4+CAL5)/5\n",
        "print(f\"El promedio de calificaciones del alumno es: {PRO} \")"
      ],
      "execution_count": null,
      "outputs": [
        {
          "output_type": "stream",
          "name": "stdout",
          "text": [
            "Ingrese la primer califcación: 8\n",
            "Ingrese la segunda calificación: 8.5\n",
            "Ingrese la tercera calificación: 9\n",
            "Ingrese la cuarta calificación:7\n",
            "Ingrese la quinta calificación: 6\n",
            "El promedio de calificaciones del alumno es: 7.7 \n"
          ]
        }
      ]
    },
    {
      "cell_type": "code",
      "metadata": {
        "colab": {
          "base_uri": "https://localhost:8080/"
        },
        "id": "1kZ_-NM2b1Yv",
        "outputId": "b61151c6-8026-4b00-b31f-a774557ccac9"
      },
      "source": [
        "#Ejemplo 1.9, Programado por Leonardo Alexis Luna Moreno 24/11/2021\n",
        "NUM = float(input(\"Ingrese un número: \"))\n",
        "CUA = NUM*NUM \n",
        "CUB = NUM**3\n",
        "print(f\"El cuadrado del número es: {CUA} y el cubo del número es: {CUB}\")"
      ],
      "execution_count": null,
      "outputs": [
        {
          "output_type": "stream",
          "name": "stdout",
          "text": [
            "Ingrese un número: 3\n",
            "El cuadrado del número es 9.0, y el cubo del número es: 27.0\n"
          ]
        }
      ]
    },
    {
      "cell_type": "code",
      "metadata": {
        "colab": {
          "base_uri": "https://localhost:8080/"
        },
        "id": "HpPcKmT9danA",
        "outputId": "79ee6620-7999-4366-f314-3a7cce5188ef"
      },
      "source": [
        "#Ejemplo 1.10, Programado por Leonardo Alexis Luna Moreno 24/11/2021\n",
        "BASE = float(input(\"Ingrese la base del rectángulo: \"))\n",
        "ALTU = float(input(\"Ingrese la altura del rectángulo: \"))\n",
        "SUP = BASE * ALTU \n",
        "PER = 2*(BASE + ALTU)\n",
        "print(f\"La superficie del rectángulo es: {SUP}\")\n",
        "print(f\"El perímetro del rectángulo es: {PER}\")"
      ],
      "execution_count": null,
      "outputs": [
        {
          "output_type": "stream",
          "name": "stdout",
          "text": [
            "Ingrese la base del rectángulo:3\n",
            "Ingrese la altura del rectángulo: 4\n",
            "La superficie del rectángulo es: 12.0\n",
            "El perímetro del rectángulo es: 14.0\n"
          ]
        }
      ]
    },
    {
      "cell_type": "code",
      "metadata": {
        "colab": {
          "base_uri": "https://localhost:8080/"
        },
        "id": "UVzBhXPuObUU",
        "outputId": "62f80fa8-ee3b-4f75-9b39-85bcd231c64e"
      },
      "source": [
        "#ejemplo 1.11, Programado por Leonardo ALexis Luna Moreno 24/11/202\n",
        "#El programa dado un conjunto de datos de entrada invierte el orden \n",
        "#de los mismos cuando los imprime\n",
        "A = int(input(\"Ingrese un número: \"))\n",
        "B = int(input(\"Ingrese un número: \"))\n",
        "C = int(input(\"Ingrese un número: \"))\n",
        "D = int(input(\"Ingrese un número: \"))\n",
        "print(f\" {D}, {B}, {C}, {A} \")\n",
        "#Creo que puede existir una solución más elegante para resolver \n",
        "#Este problema, el cual consiste en invertir el orden de los elementos\n",
        "#Leídos, en este caso A,B,C,D"
      ],
      "execution_count": 2,
      "outputs": [
        {
          "output_type": "stream",
          "name": "stdout",
          "text": [
            "Ingrese un número: 1\n",
            "Ingrese un número: 2\n",
            "Ingrese un número: 3\n",
            "Ingrese un número: 4\n",
            " 4, 2, 3, 1 \n"
          ]
        }
      ]
    },
    {
      "cell_type": "code",
      "metadata": {
        "colab": {
          "base_uri": "https://localhost:8080/"
        },
        "id": "sQtyK1LoV7eT",
        "outputId": "c3a4d28d-f7c2-4a6b-c0f0-94ebb20692d3"
      },
      "source": [
        "#Ejemplo 1.12,Programado por Leonardo Alexis Luna Moreno 24/11/2021 \n",
        "#El programa dados como datos los enteros A y B calcula el resultado de una expresión \n",
        "A = int(input(\"Introduce un número: \"))\n",
        "B= int(input(\"Introduce otro número: \"))\n",
        "RES = (A+B)**2 / 3\n",
        "print(f\"El resultado de la expresión es: {RES}\")\n",
        "#Este programa es símilar, y de hecho, creo que es igual al marcado como \n",
        "#Ejemplo 1.7"
      ],
      "execution_count": 3,
      "outputs": [
        {
          "output_type": "stream",
          "name": "stdout",
          "text": [
            "Introduce un número: 3\n",
            "Introduce otro número: 5\n",
            "El resultado de la expresión es: 21.333333333333332\n"
          ]
        }
      ]
    },
    {
      "cell_type": "code",
      "metadata": {
        "colab": {
          "base_uri": "https://localhost:8080/"
        },
        "id": "J7ZLQZYNXcnx",
        "outputId": "802215aa-b6ac-4f69-a9d3-65cfdc67624b"
      },
      "source": [
        "#Problema 1.1, Programado por Leonardo ALexis Luna Moreno 24/11/2021\n",
        "#El programa devuelve el cambio del cliente, cuanto el cliente paga un determinado producto\n",
        "PREPRO = float(input(\"Introduzca el precio del producto a pagar:$\"))\n",
        "PAGO = float(input(\"Introduzca la cantidad de dinero que entrega el cliente:$\"))\n",
        "DEVO = PAGO - PREPRO\n",
        "if PAGO == PREPRO: \n",
        "    print(\"Usted a pagado el producto, Gracias por su preferencia\")\n",
        "else:\n",
        "    print(f\"El cambio que se le debe entregar al cliente es: ${DEVO}\")\n",
        "#Aquí inlcuí la consideración de recordarle al cliente su preferencia\n",
        "#Al mismo tiempo que incluí el uso en el código de la condición \n",
        "#Si entonces / no. \n"
      ],
      "execution_count": 8,
      "outputs": [
        {
          "output_type": "stream",
          "name": "stdout",
          "text": [
            "Introduzca el precio del producto a pagar:$400\n",
            "Introduzca la cantidad de dinero que entrega el cliente:$500\n",
            "El cambio que se le debe entregar al cliente es: $100.0\n"
          ]
        }
      ]
    },
    {
      "cell_type": "code",
      "metadata": {
        "colab": {
          "base_uri": "https://localhost:8080/"
        },
        "id": "s8owQmxzafsS",
        "outputId": "58d7f11d-9616-41a1-acf6-c6be65abe306"
      },
      "source": [
        "#Problema 1.2, Programado por Leonardo ALexis Luna Moreno, 24/11/2021\n",
        "#El programa dadas la base y la altura de un triángulo calcula e imprime su superficie\n",
        "BASE = int(input(\"Ingrese la base del rectángulo: \")) \n",
        "ALTU = int(input(\"Ingrese la altura del triángulo: \"))\n",
        "SUP = (BASE * ALTU) / 2\n",
        "print(f\"La superficie del triangulo es: {SUP}\")"
      ],
      "execution_count": 9,
      "outputs": [
        {
          "output_type": "stream",
          "name": "stdout",
          "text": [
            "Ingrese la base del rectángulo: 4\n",
            "Ingrese la altura del triángulo: 6\n",
            "La superficie del triangulo es: 12.0\n"
          ]
        }
      ]
    },
    {
      "cell_type": "code",
      "metadata": {
        "colab": {
          "base_uri": "https://localhost:8080/"
        },
        "id": "h8ToVA2ibshT",
        "outputId": "3d971738-8654-49f6-dfd9-883a5e05dd5f"
      },
      "source": [
        "#Problema 1.3 , Programado por Leonardo ALexis Luna Moreno, 24/11/2021\n",
        "#Este programa escribe el nombre de un dinosario, junto con sus peso expresado en kilogramos y su laongitud expresada en metros \n",
        "#basado en el nombre del dinosaurio, y su peso dado en toneladas y su longitud en pies respectivamente\n",
        "NOM = input(\"Introduzca el nombre del dinosaurio:\")\n",
        "PES = float(input(\"Introduzca el peso del dinosaurio: \"))\n",
        "LON = float(input(\"Introduzca la longitud del dinosaurio: \"))\n",
        "PESKIL = PES * 1000\n",
        "LONMET = LON * 0.3047\n",
        "print(f\"El peso del Dinosaurio en kilogramos es:{PESKIL}Kg\")\n",
        "print(f\"La longituda del Dinosaurio en metros es:{LONMET}m\")\n"
      ],
      "execution_count": 15,
      "outputs": [
        {
          "output_type": "stream",
          "name": "stdout",
          "text": [
            "Introduzca el nombre del dinosaurio:TYRANNOSAURUS\n",
            "Introduzca el peso del dinosaurio: 8\n",
            "Introduzca la longitud del dinosaurio: 30\n",
            "El peso del Dinosaurio en kilogramos es:8000.0Kg\n",
            "La longituda del Dinosaurio en metros es:9.141m\n"
          ]
        }
      ]
    }
  ]
}