{
  "nbformat": 4,
  "nbformat_minor": 0,
  "metadata": {
    "colab": {
      "provenance": [],
      "authorship_tag": "ABX9TyMv3KSbhM6T+e4KhLf5/JqN",
      "include_colab_link": true
    },
    "kernelspec": {
      "name": "python3",
      "display_name": "Python 3"
    },
    "language_info": {
      "name": "python"
    }
  },
  "cells": [
    {
      "cell_type": "markdown",
      "metadata": {
        "id": "view-in-github",
        "colab_type": "text"
      },
      "source": [
        "<a href=\"https://colab.research.google.com/github/leonardolunamoreno/Computadoras-y-programaci-n2021-grupo-1157/blob/main/M%C3%89TODOS_NUMERICOS.ipynb\" target=\"_parent\"><img src=\"https://colab.research.google.com/assets/colab-badge.svg\" alt=\"Open In Colab\"/></a>"
      ]
    },
    {
      "cell_type": "code",
      "source": [
        "a = float(input(\"Ingrese el valor 'a' del intervalo: \"))\n",
        "b = float(input(\"Ingrese el valor 'b' del intervalo: \"))\n",
        "cn = (a+b) / 2 \n",
        "print(f\"El valor C(n) para la siguiente iteración es:{cn}\")"
      ],
      "metadata": {
        "id": "tTOZqWaQqSNF",
        "colab": {
          "base_uri": "https://localhost:8080/"
        },
        "outputId": "deb51222-05fa-4a70-e0fa-8b5f31d63b4a"
      },
      "execution_count": 1,
      "outputs": [
        {
          "output_type": "stream",
          "name": "stdout",
          "text": [
            "Ingrese el valor 'a' del intervalo: 1\n",
            "Ingrese el valor 'b' del intervalo: 2\n",
            "El valor C(n) para la siguiente iteración es:1.5\n"
          ]
        }
      ]
    },
    {
      "cell_type": "code",
      "source": [
        "# Aquí construi la función de la tarea 1 y la evalue con c1 = 1.5, f(Cn) = 4.5938, que concuerda con los valores obtenidos \n",
        "a = 1.5*1.5*1.5*1.5*1.5 - 2*1.5\n",
        "print(f\" {a}\")"
      ],
      "metadata": {
        "colab": {
          "base_uri": "https://localhost:8080/"
        },
        "id": "qdLIl2YtKH0m",
        "outputId": "181d2eb9-47fe-4f71-ee04-bd7ee84e425d"
      },
      "execution_count": 4,
      "outputs": [
        {
          "output_type": "stream",
          "name": "stdout",
          "text": [
            " 4.59375\n"
          ]
        }
      ]
    },
    {
      "cell_type": "code",
      "source": [
        "import math \n",
        "print(math.pow(2,3)) # Esto significa, 2 elevado a la potencia 3, osease 2 al cubo igual a 8 "
      ],
      "metadata": {
        "id": "qy48vbYnK2Mq"
      },
      "execution_count": null,
      "outputs": []
    },
    {
      "cell_type": "code",
      "source": [
        "# Aquí he resuelto el problema para \n",
        "import math \n",
        "a = math.pow(1.5,5) - 2 * (1.5)\n",
        "print(f\" {a}\")"
      ],
      "metadata": {
        "colab": {
          "base_uri": "https://localhost:8080/"
        },
        "id": "5Tl9n2tmKnBT",
        "outputId": "1068bcb8-c64b-459a-eb14-33643bb9b953"
      },
      "execution_count": 6,
      "outputs": [
        {
          "output_type": "stream",
          "name": "stdout",
          "text": [
            " 4.59375\n"
          ]
        }
      ]
    },
    {
      "cell_type": "code",
      "source": [],
      "metadata": {
        "id": "680CXRkSLtdk"
      },
      "execution_count": null,
      "outputs": []
    },
    {
      "cell_type": "code",
      "source": [],
      "metadata": {
        "id": "bB33H3yULgbZ"
      },
      "execution_count": null,
      "outputs": []
    },
    {
      "cell_type": "code",
      "source": [
        "# Interfaz actualizada de estructura de datos\n",
        "from tkinter import * \n",
        "import tkinter as tk   \n",
        "import datetime \n",
        "from datetime import date \n",
        "import time \n",
        "\n",
        "class Ventana():        \n",
        "    def __init__(self):    \n",
        "            # Ventana principal \n",
        "            self.ventana = tk.Tk()\n",
        "            self.ventana.iconbitmap(\"../pythonprog/graphics/mad.ico\") \n",
        "            self.ventana.geometry(\"750x150\") \n",
        "            self.ventana.resizable(1200,1200)\n",
        "            self.ventana.title(\"LA CALCULADORA DEL DIABLO\") \n",
        "            self.ventana.config(background = \"darkred\")    \n",
        "            self.ventana.config(bd = 10)   \n",
        "            self.ventana.config(relief = \"groove\")  \n",
        "            self.ventana.config(cursor = \"hand2\")   \n",
        "        \n",
        "            # Reloj dígital\n",
        "            self.etiquetahms = tk.Label(text = \"\", font = (\"Arial\", 32), fg = \"darkred\", bg = \"white\", pady = 10, padx = 10)\n",
        "            self.etiquetahms.config(bd = 10)   \n",
        "            self.etiquetahms.config(relief = \"groove\")   \n",
        "            self.etiquetahms.place(x = 0, y = 0)   \n",
        "            self.actualizacion()     \n",
        "\n",
        "            # Calendario dígital\n",
        "            self.week_day_label = tk.Label(text=\"ñau\", font=(\"Arial\",32), fg = 'darkred', bg = 'white', pady = 10, padx = 10)\n",
        "            self.week_day_label.config(bd= 10)\n",
        "            self.week_day_label.config(relief = \"groove\")\n",
        "            self.week_day_label.place(x = 1090, y = 0)\n",
        "            self.actualizar_fecha()\n",
        "\n",
        "            # Encabezado \" ESTRUCTURA DE DATOS \"\n",
        "            miFrame = Frame()  \n",
        "            miFrame.pack(side = \"top\") \n",
        "            miFrame.config(background = \"midnightblue\" ) \n",
        "            miFrame.config(width = \"750\", height = \"150\") \n",
        "            Label(miFrame, text = \"Estructura de Datos\", fg = \"midnightblue\", font = (\"Arial\", 30)).place(x = 190, y = 40)\n",
        "            miFrame.config(bd = 10)  \n",
        "            miFrame.config(relief = \"groove\") \n",
        "            miFrame.config(cursor = \"pirate\") \n",
        "            \n",
        "            # Nueva ventana, Ventana1 \n",
        "            def openNewWindow():\n",
        "                # Definición de la Venatana1, similar a la ventana principal\n",
        "                newWindow = Tk()\n",
        "                newWindow.iconbitmap(\"../pythonprog/graphics/mad.ico\") \n",
        "                newWindow.resizable(1200,1200)\n",
        "                newWindow.title(\"MENÚ DE LA CALCULADORA DEL DIABLO\")\n",
        "                newWindow.config(background = \"darkred\")\n",
        "                newWindow.config(bd = 10)\n",
        "                newWindow.config(relief = \"groove\")\n",
        "                \n",
        "                # Define el menú de operaciones en la Ventana1 \n",
        "                # ¿ Cuantas operaciones debe resolver el programa, por semestre, por equipo, ?\n",
        "                barraMenu = Menu(newWindow)\n",
        "                mnuArchivo = Menu(barraMenu)\n",
        "                mnuArchivo.add_command(label = \"Tarea 1: Transformación de 2 matrices triangulares inferiores A y B, en un arreglo rectangular AxB\")\n",
        "                mnuArchivo.add_command(label = \"Tarea 2: Programa que ordena datos por el método de la burbuja\")\n",
        "                mnuArchivo.add_command(label = \"Tarea 3: Programa que agrega y elimina datos en una pila, en una cola, y en una cola de doble entrada\")\n",
        "                mnuArchivo.add_command(label = \"Tarea 4: Ordenamiento de datos por el método de mínimos sucesivos\")\n",
        "                mnuArchivo.add_command(label = \"Tarea 5: \")\n",
        "                mnuArchivo.add_command(label = \"Tarea 6: \")\n",
        "                mnuArchivo.add_command(label = \"Tarea 7:\")\n",
        "                mnuArchivo.add_command(label = \"Tarea 8: \")\n",
        "                mnuArchivo.add_command(label = \"salir\")           \n",
        "                barraMenu.add_cascade(label = \" LOS CALCULOS DEL DIABLO \", menu = mnuArchivo)\n",
        "                newWindow.config(menu = barraMenu)\n",
        "\n",
        "                # Reloj dígital, Ventana1 \n",
        "                self.etiquetahms = tk.Label(newWindow, text = \"\", font = (\"Arial\", 32), fg = \"darkred\", bg = \"white\", pady = 10, padx = 10) \n",
        "                self.etiquetahms.config(bd = 10)   \n",
        "                self.etiquetahms.config(relief = \"groove\")   \n",
        "                self.etiquetahms.place(x = 0, y = 0)   \n",
        "                self.actualizacion()  \n",
        "                \n",
        "                # Calendario dígital, Ventana1\n",
        "                self.week_day_label = tk.Label(newWindow, text= \"\", font=(\"Arial\",32), fg = 'darkred', bg = 'white', pady = 10, padx = 10) # Aquí según parece me faltaba agregar NewWindow, al principio del comando\n",
        "                self.week_day_label.config(bd= 10)\n",
        "                self.week_day_label.config(relief = \"groove\")\n",
        "                self.week_day_label.place(x = 1090, y = 0)\n",
        "                self.actualizar_fecha()\n",
        "\n",
        "                # Encabezado de la Ventana1 \n",
        "                miFrame = Frame(newWindow) \n",
        "                miFrame.pack(side = \"top\") \n",
        "                miFrame.config(background = \"midnightblue\" ) \n",
        "                miFrame.config(width = \"750\", height = \"150\") \n",
        "                Label(miFrame, text = \"Estructura de Datos\", fg = \"midnightblue\", font = (\"Arial\", 30)).place(x = 190, y = 40)\n",
        "                miFrame.config(bd = 10)  \n",
        "                miFrame.config(relief = \"groove\") \n",
        "                miFrame.config(cursor = \"pirate\") \n",
        "                \n",
        "                # Botones de la ventana 1 \n",
        "                botonEnvio = Button(newWindow, text = \"Volver a la ventana principal y cerrar esta ventana\", command = newWindow.destroy) # Al agregar el comando \" exit \" en el botón \" Cerrar \", fue posible finalizar el programa\n",
        "                botonEnvio.config(cursor = \"pirate\")\n",
        "                botonEnvio.place(x = 0, y = 640)\n",
        "\n",
        "            # Botones de la ventana principal     \n",
        "            botonEnvio = Button(self.ventana, text = \" Menú \", command = openNewWindow)\n",
        "            botonEnvio.pack()    \n",
        "            botonEnvio = Button(self.ventana, text = \"Tarea 1: Transformación de 2 matrices triangulares inferiores A y B, en un arreglo rectangular AxB\") \n",
        "            botonEnvio.pack()\n",
        "            botonEnvio = Button(self.ventana, text = \"Tarea 2: Programa que ordena datos por el método de la burbuja\") \n",
        "            botonEnvio.pack()\n",
        "            botonEnvio = Button(self.ventana, text = \"Tarea 3: Programa que agrega y elimina datos en una pila, en una cola, y en una cola de doble entrada\") \n",
        "            botonEnvio.pack()\n",
        "            botonEnvio = Button(self.ventana, text = \"Tarea 4: Ordenamiento de datos por el método de mínimos sucesivos\") \n",
        "            botonEnvio.pack()\n",
        "            botonEnvio = Button(self.ventana, text = \"Tarea 5: \") \n",
        "            botonEnvio.pack()\n",
        "            botonEnvio = Button(self.ventana, text = \"Tarea 6: \") \n",
        "            botonEnvio.pack()\n",
        "            botonEnvio = Button(self.ventana, text = \"Tarea 7: \") \n",
        "            botonEnvio.pack()\n",
        "            botonEnvio = Button(self.ventana, text = \"Tarea 8: \") \n",
        "            botonEnvio.pack()    \n",
        "            botonEnvio = Button(self.ventana, text = \"Anuncios: Sobre las novedades de la informática\") # Colocar anuncios sobre las novedades de las computadoras\n",
        "            botonEnvio.pack()\n",
        "            botonEnvio = Button(self.ventana, text = \"Cerrar\", command = exit) # Al agregar el comando \" exit \" en el botón \" Cerrar \", fue posible finalizar el programa\n",
        "            botonEnvio.config(cursor = \"pirate\")\n",
        "            botonEnvio.place(x = 0, y = 660)\n",
        "            self.ventana.mainloop() \n",
        "# Al escribir la línea 124 es posible visualizar la ventana principal e interactuar con ella, incluyendo la ventana1 \n",
        "            \n",
        "    # Actualización de la hora\n",
        "    def actualizacion(self):       \n",
        "        hora = time.strftime(\"%Hh:%Mm:%Ss\")\n",
        "        self.etiquetahms.config(text = hora)\n",
        "        self.ventana.after(1000, self.actualizacion)\n",
        "\n",
        "    # Actualiza la fecha del calendario dígital    \n",
        "    def actualizar_fecha(self):\n",
        "        datetime_object = datetime.datetime.now()\n",
        "        today = date.today()\n",
        "        d1 = today.strftime(\"%d/%m/%Y\")\n",
        "        self.week_day_label.configure(text=d1)\n",
        "        \n",
        "# Mantiene la ventana principal en un loop infinito\n",
        "if __name__ == \"__main__\":\n",
        "    main = Ventana()\n",
        "\n",
        "# Como hacer que el reloj de la ventana 1 continué funcionando después "
      ],
      "metadata": {
        "id": "KLjTXYyuqLv_"
      },
      "execution_count": null,
      "outputs": []
    }
  ]
}