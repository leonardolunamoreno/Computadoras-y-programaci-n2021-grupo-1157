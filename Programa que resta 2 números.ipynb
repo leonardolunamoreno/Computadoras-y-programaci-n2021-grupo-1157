{
  "nbformat": 4,
  "nbformat_minor": 0,
  "metadata": {
    "colab": {
      "name": "Untitled2.ipynb",
      "provenance": [],
      "authorship_tag": "ABX9TyML1ss+na5nJMdYv5EeUSB/",
      "include_colab_link": true
    },
    "kernelspec": {
      "name": "python3",
      "display_name": "Python 3"
    },
    "language_info": {
      "name": "python"
    }
  },
  "cells": [
    {
      "cell_type": "markdown",
      "metadata": {
        "id": "view-in-github",
        "colab_type": "text"
      },
      "source": [
        "<a href=\"https://colab.research.google.com/github/leonardolunamoreno/Computadoras-y-programaci-n2021-grupo-1157/blob/main/Programa%20que%20resta%202%20n%C3%BAmeros.ipynb\" target=\"_parent\"><img src=\"https://colab.research.google.com/assets/colab-badge.svg\" alt=\"Open In Colab\"/></a>"
      ]
    },
    {
      "cell_type": "code",
      "metadata": {
        "colab": {
          "base_uri": "https://localhost:8080/"
        },
        "id": "tct-igVo5v5V",
        "outputId": "abf6fa0a-3d76-4dbb-e0e8-a378a3598821"
      },
      "source": [
        "n1 = float (input(\"Ingresa un número:\"))\n",
        "n2 = float (input(\"ingresa otro número:\"))\n",
        "resta = n1-n2 \n",
        "print(\"La resta de ambos numeros es:\", resta)"
      ],
      "execution_count": 1,
      "outputs": [
        {
          "output_type": "stream",
          "name": "stdout",
          "text": [
            "Ingresa un número:6\n",
            "ingresa otro número:6\n",
            "La resta de ambos numeros es: 0.0\n"
          ]
        }
      ]
    }
  ]
}