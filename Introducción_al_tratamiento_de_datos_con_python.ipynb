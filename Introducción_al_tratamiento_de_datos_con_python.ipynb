{
  "nbformat": 4,
  "nbformat_minor": 0,
  "metadata": {
    "colab": {
      "name": "Introducción al tratamiento de datos con python.ipynb",
      "provenance": [],
      "authorship_tag": "ABX9TyNu6bylhN2r/Jxpck9C0U9K",
      "include_colab_link": true
    },
    "kernelspec": {
      "name": "python3",
      "display_name": "Python 3"
    },
    "language_info": {
      "name": "python"
    }
  },
  "cells": [
    {
      "cell_type": "markdown",
      "metadata": {
        "id": "view-in-github",
        "colab_type": "text"
      },
      "source": [
        "<a href=\"https://colab.research.google.com/github/leonardolunamoreno/Computadoras-y-programaci-n2021-grupo-1157/blob/main/Introducci%C3%B3n_al_tratamiento_de_datos_con_python.ipynb\" target=\"_parent\"><img src=\"https://colab.research.google.com/assets/colab-badge.svg\" alt=\"Open In Colab\"/></a>"
      ]
    },
    {
      "cell_type": "code",
      "execution_count": null,
      "metadata": {
        "colab": {
          "base_uri": "https://localhost:8080/"
        },
        "id": "UnPLh_Gbg9Uh",
        "outputId": "36eb60f4-bb21-45b6-df2f-f188b11be92c"
      },
      "outputs": [
        {
          "output_type": "stream",
          "name": "stdout",
          "text": [
            "a\n",
            "b\n",
            "1\n",
            "2\n",
            "3\n",
            "5\n",
            "8\n",
            "13\n",
            "21\n",
            "34\n",
            "55\n",
            "89\n",
            "144\n",
            "233\n",
            "377\n",
            "610\n",
            "987\n",
            "1597\n",
            "2584\n",
            "4181\n",
            "6765\n",
            "10946\n",
            "17711\n",
            "28657\n",
            "46368\n",
            "75025\n",
            "121393\n",
            "196418\n",
            "317811\n",
            "514229\n",
            "832040\n",
            "1346269\n",
            "2178309\n",
            "3524578\n",
            "5702887\n",
            "9227465\n",
            "14930352\n",
            "24157817\n",
            "39088169\n",
            "63245986\n",
            "102334155\n",
            "165580141\n",
            "267914296\n",
            "433494437\n",
            "701408733\n",
            "1134903170\n",
            "1836311903\n",
            "2971215073\n",
            "4807526976\n",
            "7778742049\n",
            "12586269025\n",
            "20365011074\n",
            "32951280099\n",
            "53316291173\n",
            "86267571272\n",
            "139583862445\n",
            "225851433717\n",
            "365435296162\n",
            "591286729879\n",
            "956722026041\n",
            "1548008755920\n",
            "2504730781961\n",
            "4052739537881\n",
            "6557470319842\n",
            "10610209857723\n",
            "17167680177565\n",
            "27777890035288\n",
            "44945570212853\n",
            "72723460248141\n",
            "117669030460994\n",
            "190392490709135\n",
            "308061521170129\n",
            "498454011879264\n",
            "806515533049393\n",
            "1304969544928657\n",
            "2111485077978050\n",
            "3416454622906707\n",
            "5527939700884757\n",
            "8944394323791464\n",
            "14472334024676221\n",
            "23416728348467685\n",
            "37889062373143906\n",
            "61305790721611591\n",
            "99194853094755497\n",
            "160500643816367088\n",
            "259695496911122585\n",
            "420196140727489673\n",
            "679891637638612258\n",
            "1100087778366101931\n",
            "1779979416004714189\n",
            "2880067194370816120\n",
            "4660046610375530309\n",
            "7540113804746346429\n",
            "12200160415121876738\n",
            "19740274219868223167\n",
            "31940434634990099905\n"
          ]
        }
      ],
      "source": [
        "# Sucesión de fibonacci \n",
        "a = 0\n",
        "print(\"a\")\n",
        "b = 1 \n",
        "print(\"b\")\n",
        "\n",
        "for _ in range (94):\n",
        "    r = a + b \n",
        "    a = b\n",
        "    b = r \n",
        "    print(r)"
      ]
    },
    {
      "cell_type": "code",
      "source": [
        "palabra = \"datos\"\n",
        "for letra in palabra: \n",
        "    print(letra)\n",
        "    if letra == \"t\": # Este condicional rompe el ciclo\n",
        "        break\n",
        "# Cada uno de los indices en esta lista se trata como un carácter"
      ],
      "metadata": {
        "colab": {
          "base_uri": "https://localhost:8080/"
        },
        "id": "_ZVpY3tNhIst",
        "outputId": "fa05eec8-490b-475e-8312-11ca2f5c8294"
      },
      "execution_count": null,
      "outputs": [
        {
          "output_type": "stream",
          "name": "stdout",
          "text": [
            "d\n",
            "a\n",
            "t\n"
          ]
        }
      ]
    },
    {
      "cell_type": "code",
      "source": [
        "# Ciclos anidados \n",
        "\n",
        "#Este programa se calcula las tablas \n",
        "\n",
        "for i in range(1,11):\n",
        "    print(f\"Tabla del {i}:\")\n",
        "    for j in range(1,11):\n",
        "        r = i * j \n",
        "        print(f\"{i} * {j} = {r}\")\n",
        "    print(\" \") "
      ],
      "metadata": {
        "colab": {
          "base_uri": "https://localhost:8080/"
        },
        "id": "QWH0QuhhkVpm",
        "outputId": "79e5d743-5200-4986-c47b-fc206a73bd7d"
      },
      "execution_count": null,
      "outputs": [
        {
          "output_type": "stream",
          "name": "stdout",
          "text": [
            "Tabla del 1:\n",
            "1 * 1 = 1\n",
            "1 * 2 = 2\n",
            "1 * 3 = 3\n",
            "1 * 4 = 4\n",
            "1 * 5 = 5\n",
            "1 * 6 = 6\n",
            "1 * 7 = 7\n",
            "1 * 8 = 8\n",
            "1 * 9 = 9\n",
            "1 * 10 = 10\n",
            " \n",
            "Tabla del 2:\n",
            "2 * 1 = 2\n",
            "2 * 2 = 4\n",
            "2 * 3 = 6\n",
            "2 * 4 = 8\n",
            "2 * 5 = 10\n",
            "2 * 6 = 12\n",
            "2 * 7 = 14\n",
            "2 * 8 = 16\n",
            "2 * 9 = 18\n",
            "2 * 10 = 20\n",
            " \n",
            "Tabla del 3:\n",
            "3 * 1 = 3\n",
            "3 * 2 = 6\n",
            "3 * 3 = 9\n",
            "3 * 4 = 12\n",
            "3 * 5 = 15\n",
            "3 * 6 = 18\n",
            "3 * 7 = 21\n",
            "3 * 8 = 24\n",
            "3 * 9 = 27\n",
            "3 * 10 = 30\n",
            " \n",
            "Tabla del 4:\n",
            "4 * 1 = 4\n",
            "4 * 2 = 8\n",
            "4 * 3 = 12\n",
            "4 * 4 = 16\n",
            "4 * 5 = 20\n",
            "4 * 6 = 24\n",
            "4 * 7 = 28\n",
            "4 * 8 = 32\n",
            "4 * 9 = 36\n",
            "4 * 10 = 40\n",
            " \n",
            "Tabla del 5:\n",
            "5 * 1 = 5\n",
            "5 * 2 = 10\n",
            "5 * 3 = 15\n",
            "5 * 4 = 20\n",
            "5 * 5 = 25\n",
            "5 * 6 = 30\n",
            "5 * 7 = 35\n",
            "5 * 8 = 40\n",
            "5 * 9 = 45\n",
            "5 * 10 = 50\n",
            " \n",
            "Tabla del 6:\n",
            "6 * 1 = 6\n",
            "6 * 2 = 12\n",
            "6 * 3 = 18\n",
            "6 * 4 = 24\n",
            "6 * 5 = 30\n",
            "6 * 6 = 36\n",
            "6 * 7 = 42\n",
            "6 * 8 = 48\n",
            "6 * 9 = 54\n",
            "6 * 10 = 60\n",
            " \n",
            "Tabla del 7:\n",
            "7 * 1 = 7\n",
            "7 * 2 = 14\n",
            "7 * 3 = 21\n",
            "7 * 4 = 28\n",
            "7 * 5 = 35\n",
            "7 * 6 = 42\n",
            "7 * 7 = 49\n",
            "7 * 8 = 56\n",
            "7 * 9 = 63\n",
            "7 * 10 = 70\n",
            " \n",
            "Tabla del 8:\n",
            "8 * 1 = 8\n",
            "8 * 2 = 16\n",
            "8 * 3 = 24\n",
            "8 * 4 = 32\n",
            "8 * 5 = 40\n",
            "8 * 6 = 48\n",
            "8 * 7 = 56\n",
            "8 * 8 = 64\n",
            "8 * 9 = 72\n",
            "8 * 10 = 80\n",
            " \n",
            "Tabla del 9:\n",
            "9 * 1 = 9\n",
            "9 * 2 = 18\n",
            "9 * 3 = 27\n",
            "9 * 4 = 36\n",
            "9 * 5 = 45\n",
            "9 * 6 = 54\n",
            "9 * 7 = 63\n",
            "9 * 8 = 72\n",
            "9 * 9 = 81\n",
            "9 * 10 = 90\n",
            " \n",
            "Tabla del 10:\n",
            "10 * 1 = 10\n",
            "10 * 2 = 20\n",
            "10 * 3 = 30\n",
            "10 * 4 = 40\n",
            "10 * 5 = 50\n",
            "10 * 6 = 60\n",
            "10 * 7 = 70\n",
            "10 * 8 = 80\n",
            "10 * 9 = 90\n",
            "10 * 10 = 100\n",
            " \n"
          ]
        }
      ]
    },
    {
      "cell_type": "code",
      "source": [
        "# Este programa cuenta el numero de vocales en una frase \n",
        "VOCALES = 'aeiou'\n",
        "frase = 'Supercalifragilisticoespialidoso'\n",
        "\n",
        "no_vocales = 0 \n",
        "for letra in frase: \n",
        "    if letra in VOCALES: \n",
        "        no_vocales += 1\n",
        "print(no_vocales)\n"
      ],
      "metadata": {
        "colab": {
          "base_uri": "https://localhost:8080/"
        },
        "id": "hzjNu2zalOxT",
        "outputId": "37f8ece0-5cb5-4510-810a-e9375355a925"
      },
      "execution_count": null,
      "outputs": [
        {
          "output_type": "stream",
          "name": "stdout",
          "text": [
            "15\n"
          ]
        }
      ]
    },
    {
      "cell_type": "code",
      "source": [
        "from typing import no_type_check\n",
        "frase = 'Supercalifragilisticoespialidoso'\n",
        "\n",
        "no_vocales = 0 \n",
        "for letra in frase: \n",
        "    if letra in VOCALES: \n",
        "        no_vocales += 1\n",
        "print(no_vocales)\n"
      ],
      "metadata": {
        "id": "0NSWPRd0mJ4i"
      },
      "execution_count": null,
      "outputs": []
    },
    {
      "cell_type": "code",
      "source": [
        "# Listas \n",
        "compra = ['Agua', 'Huevos', 'Aceite', 'Sal', 'Limón']\n",
        "detalle = ['mineral natural', 'organicos', 'de oliva virgen', 'de mar', 'verde']\n",
        "\n",
        "for producto in compra: \n",
        "    print(producto)\n",
        "\n",
        "# Enumerdado \n",
        "for i, producto in enumerado(compra):\n",
        "    print(i,prodcuto)\n",
        "\n",
        "# zip \n",
        "for producto, detail in zip(compra, detalle):\n",
        "    print(producto, detail)\n",
        "    print(list(zip(compra,detalle)))"
      ],
      "metadata": {
        "id": "tz1g5CIqmV43",
        "outputId": "458a814d-47ed-4f76-e8ce-984e9e8d51ab",
        "colab": {
          "base_uri": "https://localhost:8080/",
          "height": 305
        }
      },
      "execution_count": 2,
      "outputs": [
        {
          "output_type": "stream",
          "name": "stdout",
          "text": [
            "Agua\n",
            "Huevos\n",
            "Aceite\n",
            "Sal\n",
            "Limón\n"
          ]
        },
        {
          "output_type": "error",
          "ename": "NameError",
          "evalue": "ignored",
          "traceback": [
            "\u001b[0;31m---------------------------------------------------------------------------\u001b[0m",
            "\u001b[0;31mNameError\u001b[0m                                 Traceback (most recent call last)",
            "\u001b[0;32m<ipython-input-2-50cea2602a99>\u001b[0m in \u001b[0;36m<module>\u001b[0;34m()\u001b[0m\n\u001b[1;32m      7\u001b[0m \u001b[0;34m\u001b[0m\u001b[0m\n\u001b[1;32m      8\u001b[0m \u001b[0;31m# Enumerdado\u001b[0m\u001b[0;34m\u001b[0m\u001b[0;34m\u001b[0m\u001b[0;34m\u001b[0m\u001b[0m\n\u001b[0;32m----> 9\u001b[0;31m \u001b[0;32mfor\u001b[0m \u001b[0mi\u001b[0m\u001b[0;34m,\u001b[0m \u001b[0mproducto\u001b[0m \u001b[0;32min\u001b[0m \u001b[0menumerado\u001b[0m\u001b[0;34m(\u001b[0m\u001b[0mcompra\u001b[0m\u001b[0;34m)\u001b[0m\u001b[0;34m:\u001b[0m\u001b[0;34m\u001b[0m\u001b[0;34m\u001b[0m\u001b[0m\n\u001b[0m\u001b[1;32m     10\u001b[0m     \u001b[0mprint\u001b[0m\u001b[0;34m(\u001b[0m\u001b[0mi\u001b[0m\u001b[0;34m,\u001b[0m\u001b[0mprodcuto\u001b[0m\u001b[0;34m)\u001b[0m\u001b[0;34m\u001b[0m\u001b[0;34m\u001b[0m\u001b[0m\n\u001b[1;32m     11\u001b[0m \u001b[0;34m\u001b[0m\u001b[0m\n",
            "\u001b[0;31mNameError\u001b[0m: name 'enumerado' is not defined"
          ]
        }
      ]
    },
    {
      "cell_type": "code",
      "source": [
        "valores = \"23,23,53,23,52,23,5,32\"\n",
        "lista_valores = []\n",
        "for valor in valores.split(','):\n",
        "    lista_valores.append(int(valor))\n",
        "print(lista_valores)    "
      ],
      "metadata": {
        "id": "AA5HvijZoY47",
        "outputId": "5637b1ac-5510-456f-a7cd-b4c70e70d9cc",
        "colab": {
          "base_uri": "https://localhost:8080/"
        }
      },
      "execution_count": 6,
      "outputs": [
        {
          "output_type": "stream",
          "name": "stdout",
          "text": [
            "[23, 23, 53, 23, 52, 23, 5, 32]\n"
          ]
        }
      ]
    },
    {
      "cell_type": "code",
      "source": [
        "lista_enteros = [int(valor)for valor in valores.split(',')]\n",
        "print(lista_enteros)"
      ],
      "metadata": {
        "id": "hZru6RUaovoI",
        "outputId": "e14bee1e-b06b-4d2d-bfbc-96d70d454970",
        "colab": {
          "base_uri": "https://localhost:8080/"
        }
      },
      "execution_count": 7,
      "outputs": [
        {
          "output_type": "stream",
          "name": "stdout",
          "text": [
            "[23, 23, 53, 23, 52, 23, 5, 32]\n"
          ]
        }
      ]
    },
    {
      "cell_type": "code",
      "source": [
        "lista = ['0','pan']\n",
        "print(lista)\n",
        "print(lista[0])"
      ],
      "metadata": {
        "id": "xsfS3IQBpUWo",
        "outputId": "b822460a-dbfd-4ea5-86fa-dc609490e99f",
        "colab": {
          "base_uri": "https://localhost:8080/"
        }
      },
      "execution_count": 11,
      "outputs": [
        {
          "output_type": "stream",
          "name": "stdout",
          "text": [
            "['0', 'pan']\n",
            "0\n"
          ]
        }
      ]
    },
    {
      "cell_type": "code",
      "source": [
        "lista.append('jugo')"
      ],
      "metadata": {
        "id": "7_qA3UlQp56m"
      },
      "execution_count": 12,
      "outputs": []
    },
    {
      "cell_type": "code",
      "source": [
        "lista"
      ],
      "metadata": {
        "id": "KkVwnqAjp9oO",
        "outputId": "fb79d076-4e1e-44bc-9645-e9c55e9de52c",
        "colab": {
          "base_uri": "https://localhost:8080/"
        }
      },
      "execution_count": 13,
      "outputs": [
        {
          "output_type": "execute_result",
          "data": {
            "text/plain": [
              "['0', 'pan', 'jugo']"
            ]
          },
          "metadata": {},
          "execution_count": 13
        }
      ]
    },
    {
      "cell_type": "code",
      "source": [
        "lista.count(0)"
      ],
      "metadata": {
        "id": "fwL4_6f1p_RQ",
        "outputId": "e2700b24-ac10-4de8-9a75-91041988fa0c",
        "colab": {
          "base_uri": "https://localhost:8080/"
        }
      },
      "execution_count": 15,
      "outputs": [
        {
          "output_type": "execute_result",
          "data": {
            "text/plain": [
              "0"
            ]
          },
          "metadata": {},
          "execution_count": 15
        }
      ]
    },
    {
      "cell_type": "code",
      "source": [
        "# Se extiende la lista a nuevos valores\n",
        "lista.extend([40,'cebolla',33]) #extend agrega nuevos elementos a una lista que ya estaba escrita previamente\n",
        "lista"
      ],
      "metadata": {
        "id": "aTCtej36qG0n",
        "outputId": "76e0fe7d-c2ce-45e7-e2f2-9bb034a8fdf1",
        "colab": {
          "base_uri": "https://localhost:8080/"
        }
      },
      "execution_count": 17,
      "outputs": [
        {
          "output_type": "execute_result",
          "data": {
            "text/plain": [
              "['0', 'pan', 'jugo', 40, 'cebolla', 33, 40, 'cebolla', 33]"
            ]
          },
          "metadata": {},
          "execution_count": 17
        }
      ]
    },
    {
      "cell_type": "code",
      "source": [
        "lista.append([90,'tocino'])\n",
        "lista"
      ],
      "metadata": {
        "id": "1RfsJmBOqK9h",
        "outputId": "a65cda05-c6f9-47b4-a113-10bbabcdb10d",
        "colab": {
          "base_uri": "https://localhost:8080/"
        }
      },
      "execution_count": 18,
      "outputs": [
        {
          "output_type": "execute_result",
          "data": {
            "text/plain": [
              "['0', 'pan', 'jugo', 40, 'cebolla', 33, 40, 'cebolla', 33, [90, 'tocino']]"
            ]
          },
          "metadata": {},
          "execution_count": 18
        }
      ]
    },
    {
      "cell_type": "code",
      "source": [
        "lista.extend(range(13,14))\n",
        "lista "
      ],
      "metadata": {
        "id": "gbqzIRZuqpSt",
        "outputId": "adde56a3-2bb9-41e1-af03-4184648c0e37",
        "colab": {
          "base_uri": "https://localhost:8080/"
        }
      },
      "execution_count": 19,
      "outputs": [
        {
          "output_type": "execute_result",
          "data": {
            "text/plain": [
              "['0', 'pan', 'jugo', 40, 'cebolla', 33, 40, 'cebolla', 33, [90, 'tocino'], 13]"
            ]
          },
          "metadata": {},
          "execution_count": 19
        }
      ]
    },
    {
      "cell_type": "code",
      "source": [
        "lista.index('a')"
      ],
      "metadata": {
        "id": "6f9WU9nIq1Cg",
        "outputId": "a0d88918-c27b-422f-d52b-39cbbf9d862c",
        "colab": {
          "base_uri": "https://localhost:8080/",
          "height": 158
        }
      },
      "execution_count": 24,
      "outputs": [
        {
          "output_type": "error",
          "ename": "ValueError",
          "evalue": "ignored",
          "traceback": [
            "\u001b[0;31m---------------------------------------------------------------------------\u001b[0m",
            "\u001b[0;31mValueError\u001b[0m                                Traceback (most recent call last)",
            "\u001b[0;32m<ipython-input-24-52d05968b1ac>\u001b[0m in \u001b[0;36m<module>\u001b[0;34m()\u001b[0m\n\u001b[0;32m----> 1\u001b[0;31m \u001b[0mlista\u001b[0m\u001b[0;34m.\u001b[0m\u001b[0mindex\u001b[0m\u001b[0;34m(\u001b[0m\u001b[0;34m'a'\u001b[0m\u001b[0;34m)\u001b[0m\u001b[0;34m\u001b[0m\u001b[0;34m\u001b[0m\u001b[0m\n\u001b[0m",
            "\u001b[0;31mValueError\u001b[0m: 'a' is not in list"
          ]
        }
      ]
    },
    {
      "cell_type": "code",
      "source": [
        "lista.insert(3,'moztaza')\n",
        "lista"
      ],
      "metadata": {
        "id": "zr1MqoXLrKou",
        "outputId": "ada86bd7-94bf-4286-ef08-8a155462552e",
        "colab": {
          "base_uri": "https://localhost:8080/"
        }
      },
      "execution_count": 26,
      "outputs": [
        {
          "output_type": "execute_result",
          "data": {
            "text/plain": [
              "['0',\n",
              " 'pan',\n",
              " 'jugo',\n",
              " 'moztaza',\n",
              " 'moztaza',\n",
              " 40,\n",
              " 'cebolla',\n",
              " 33,\n",
              " 40,\n",
              " 'cebolla',\n",
              " 33,\n",
              " [90, 'tocino'],\n",
              " 13]"
            ]
          },
          "metadata": {},
          "execution_count": 26
        }
      ]
    },
    {
      "cell_type": "code",
      "source": [
        "lista[0] = 'pan integral'\n",
        "lista"
      ],
      "metadata": {
        "id": "jqPt4QrarPst",
        "outputId": "a8064a98-3553-4368-b23a-10a4816036b5",
        "colab": {
          "base_uri": "https://localhost:8080/"
        }
      },
      "execution_count": 27,
      "outputs": [
        {
          "output_type": "execute_result",
          "data": {
            "text/plain": [
              "['pan integral',\n",
              " 'pan',\n",
              " 'jugo',\n",
              " 'moztaza',\n",
              " 'moztaza',\n",
              " 40,\n",
              " 'cebolla',\n",
              " 33,\n",
              " 40,\n",
              " 'cebolla',\n",
              " 33,\n",
              " [90, 'tocino'],\n",
              " 13]"
            ]
          },
          "metadata": {},
          "execution_count": 27
        }
      ]
    },
    {
      "cell_type": "code",
      "source": [
        "lista[1] = 'pipa'\n",
        "lista"
      ],
      "metadata": {
        "id": "isQbc24qri4n",
        "outputId": "dac564c3-06d0-46ca-906f-e57f54338f14",
        "colab": {
          "base_uri": "https://localhost:8080/"
        }
      },
      "execution_count": 28,
      "outputs": [
        {
          "output_type": "execute_result",
          "data": {
            "text/plain": [
              "['pan integral',\n",
              " 'pipa',\n",
              " 'jugo',\n",
              " 'moztaza',\n",
              " 'moztaza',\n",
              " 40,\n",
              " 'cebolla',\n",
              " 33,\n",
              " 40,\n",
              " 'cebolla',\n",
              " 33,\n",
              " [90, 'tocino'],\n",
              " 13]"
            ]
          },
          "metadata": {},
          "execution_count": 28
        }
      ]
    },
    {
      "cell_type": "code",
      "source": [
        "# Alias de una lista lista\n",
        "lista[:] # Impirme todos los renglones y todos los elementos de alguna lista "
      ],
      "metadata": {
        "id": "bk7Xe0XErp3X",
        "outputId": "cea76e6d-9cdc-430f-a6f8-ab686310ab9d",
        "colab": {
          "base_uri": "https://localhost:8080/"
        }
      },
      "execution_count": 29,
      "outputs": [
        {
          "output_type": "execute_result",
          "data": {
            "text/plain": [
              "['pan integral',\n",
              " 'pipa',\n",
              " 'jugo',\n",
              " 'moztaza',\n",
              " 'moztaza',\n",
              " 40,\n",
              " 'cebolla',\n",
              " 33,\n",
              " 40,\n",
              " 'cebolla',\n",
              " 33,\n",
              " [90, 'tocino'],\n",
              " 13]"
            ]
          },
          "metadata": {},
          "execution_count": 29
        }
      ]
    },
    {
      "cell_type": "code",
      "source": [
        "lista[4:12]"
      ],
      "metadata": {
        "id": "4ghKLi3usKJt",
        "outputId": "1420ae6e-2643-4b02-913b-a9e5a1c75690",
        "colab": {
          "base_uri": "https://localhost:8080/"
        }
      },
      "execution_count": 30,
      "outputs": [
        {
          "output_type": "execute_result",
          "data": {
            "text/plain": [
              "['moztaza', 40, 'cebolla', 33, 40, 'cebolla', 33, [90, 'tocino']]"
            ]
          },
          "metadata": {},
          "execution_count": 30
        }
      ]
    },
    {
      "cell_type": "code",
      "source": [
        "lista[::-1] # Muestra todos los elementos de una lista en un orden inverso"
      ],
      "metadata": {
        "id": "inPxxitJsFeg",
        "outputId": "a5ce2fc1-d68b-4914-d5d5-4beb043f65f4",
        "colab": {
          "base_uri": "https://localhost:8080/"
        }
      },
      "execution_count": 31,
      "outputs": [
        {
          "output_type": "execute_result",
          "data": {
            "text/plain": [
              "[13,\n",
              " [90, 'tocino'],\n",
              " 33,\n",
              " 'cebolla',\n",
              " 40,\n",
              " 33,\n",
              " 'cebolla',\n",
              " 40,\n",
              " 'moztaza',\n",
              " 'moztaza',\n",
              " 'jugo',\n",
              " 'pipa',\n",
              " 'pan integral']"
            ]
          },
          "metadata": {},
          "execution_count": 31
        }
      ]
    },
    {
      "cell_type": "code",
      "source": [
        "# Aquí se creo un alias para la lista 1, llamado lista 2 \n",
        "\n",
        "lista2 = lista \n",
        "print(lista) \n",
        "print(lista2)"
      ],
      "metadata": {
        "id": "9YS-WilNscn_",
        "outputId": "9b14bded-2d1c-458b-daac-2b742937e48e",
        "colab": {
          "base_uri": "https://localhost:8080/"
        }
      },
      "execution_count": 32,
      "outputs": [
        {
          "output_type": "stream",
          "name": "stdout",
          "text": [
            "['pan integral', 'pipa', 'jugo', 'moztaza', 'moztaza', 40, 'cebolla', 33, 40, 'cebolla', 33, [90, 'tocino'], 13]\n",
            "['pan integral', 'pipa', 'jugo', 'moztaza', 'moztaza', 40, 'cebolla', 33, 40, 'cebolla', 33, [90, 'tocino'], 13]\n"
          ]
        }
      ]
    },
    {
      "cell_type": "code",
      "source": [
        "lista[1] = \"alambre \"\n",
        "print(lista) \n",
        "print(lista2)\n",
        "\n",
        "# Acá cambie los datos y los datos se vieron afectados con tal cambio "
      ],
      "metadata": {
        "id": "WyYQC-QgslfG",
        "outputId": "2d24a41d-eb62-49a5-d82a-19bebee50252",
        "colab": {
          "base_uri": "https://localhost:8080/"
        }
      },
      "execution_count": 33,
      "outputs": [
        {
          "output_type": "stream",
          "name": "stdout",
          "text": [
            "['pan integral', 'alambre ', 'jugo', 'moztaza', 'moztaza', 40, 'cebolla', 33, 40, 'cebolla', 33, [90, 'tocino'], 13]\n",
            "['pan integral', 'alambre ', 'jugo', 'moztaza', 'moztaza', 40, 'cebolla', 33, 40, 'cebolla', 33, [90, 'tocino'], 13]\n"
          ]
        }
      ]
    },
    {
      "cell_type": "code",
      "source": [
        "lista[3] = \"milanesa\"\n",
        "print(lista) \n",
        "print(lista2)"
      ],
      "metadata": {
        "id": "7aynbSbUtACg",
        "outputId": "f7786b79-12e4-410e-89fc-96963e9ad095",
        "colab": {
          "base_uri": "https://localhost:8080/"
        }
      },
      "execution_count": 35,
      "outputs": [
        {
          "output_type": "stream",
          "name": "stdout",
          "text": [
            "['pan integral', 'milanesa', 'jugo', 'milanesa', 'moztaza', 40, 'cebolla', 33, 40, 'cebolla', 33, [90, 'tocino'], 13]\n",
            "['pan integral', 'milanesa', 'jugo', 'milanesa', 'moztaza', 40, 'cebolla', 33, 40, 'cebolla', 33, [90, 'tocino'], 13]\n"
          ]
        }
      ]
    },
    {
      "cell_type": "code",
      "source": [
        "# crear una compia de la lista \n",
        "lista3 = lista[:] \n",
        "print(lista) \n",
        "print(lista3)\n"
      ],
      "metadata": {
        "id": "NAOChMlntKyO",
        "outputId": "2d8b2765-594e-4a7f-fca6-d797e604dbfe",
        "colab": {
          "base_uri": "https://localhost:8080/"
        }
      },
      "execution_count": 38,
      "outputs": [
        {
          "output_type": "stream",
          "name": "stdout",
          "text": [
            "['pan integral', 'milanesa', 'jugo', 'milanesa', 'moztaza', 40, 'cebolla', 33, 40, 'cebolla', 33, [90, 'tocino'], 13]\n",
            "['pan integral', 'milanesa', 'jugo', 'milanesa', 'moztaza', 40, 'cebolla', 33, 40, 'cebolla', 33, [90, 'tocino'], 13]\n"
          ]
        }
      ]
    },
    {
      "cell_type": "code",
      "source": [
        "lista[5] = 'agua'\n",
        "print(lista)\n",
        "print(lista2)\n",
        "print(lista3) # Aqui se crea una copia independiente de la lista 1, y la lista 3 no sufria cambios si se agregaran nuebos datos a la lista \n",
        "# 1 y la lista 2 "
      ],
      "metadata": {
        "id": "HNkRiVz7tc6X",
        "outputId": "a20dd81c-5454-46d0-d319-37103b3f654c",
        "colab": {
          "base_uri": "https://localhost:8080/"
        }
      },
      "execution_count": 39,
      "outputs": [
        {
          "output_type": "stream",
          "name": "stdout",
          "text": [
            "['pan integral', 'milanesa', 'jugo', 'milanesa', 'moztaza', 'agua', 'cebolla', 33, 40, 'cebolla', 33, [90, 'tocino'], 13]\n",
            "['pan integral', 'milanesa', 'jugo', 'milanesa', 'moztaza', 'agua', 'cebolla', 33, 40, 'cebolla', 33, [90, 'tocino'], 13]\n",
            "['pan integral', 'milanesa', 'jugo', 'milanesa', 'moztaza', 40, 'cebolla', 33, 40, 'cebolla', 33, [90, 'tocino'], 13]\n"
          ]
        }
      ]
    },
    {
      "cell_type": "code",
      "source": [
        "lista = lista + lista3  # suma de listas \n",
        "lista3"
      ],
      "metadata": {
        "id": "2dEHQmpLt0zT",
        "outputId": "580014c2-9f8d-40b0-db11-07371b90255b",
        "colab": {
          "base_uri": "https://localhost:8080/"
        }
      },
      "execution_count": 41,
      "outputs": [
        {
          "output_type": "execute_result",
          "data": {
            "text/plain": [
              "['pan integral',\n",
              " 'milanesa',\n",
              " 'jugo',\n",
              " 'milanesa',\n",
              " 'moztaza',\n",
              " 40,\n",
              " 'cebolla',\n",
              " 33,\n",
              " 40,\n",
              " 'cebolla',\n",
              " 33,\n",
              " [90, 'tocino'],\n",
              " 13]"
            ]
          },
          "metadata": {},
          "execution_count": 41
        }
      ]
    },
    {
      "cell_type": "code",
      "source": [
        "lista_cursos = ['Python', 'base de datos', 'Big Data', 'base de datos', 'Python']\n",
        "lista_cursos"
      ],
      "metadata": {
        "id": "ZjzBB7wat_KN",
        "outputId": "db9b14cc-bae5-4a8f-97bd-b79a31a5a3cd",
        "colab": {
          "base_uri": "https://localhost:8080/"
        }
      },
      "execution_count": 47,
      "outputs": [
        {
          "output_type": "execute_result",
          "data": {
            "text/plain": [
              "['Python', 'base de datos', 'Big Data', 'base de datos', 'Python']"
            ]
          },
          "metadata": {},
          "execution_count": 47
        }
      ]
    },
    {
      "cell_type": "code",
      "source": [
        "set_cursos = set(lista_cursos)  \n",
        "set_cursos  # Set crea una lista desordenada de valores unicos \n",
        "# a pesar de que python esta 2 veces en la lista cursos, aqui solamente se escribe python una vez"
      ],
      "metadata": {
        "id": "5QzcafdJuWBb",
        "outputId": "43553ff5-4ce4-4474-cd9e-ba99578dbef7",
        "colab": {
          "base_uri": "https://localhost:8080/"
        }
      },
      "execution_count": 43,
      "outputs": [
        {
          "output_type": "execute_result",
          "data": {
            "text/plain": [
              "{'Big Data', 'base de datos', 'python'}"
            ]
          },
          "metadata": {},
          "execution_count": 43
        }
      ]
    },
    {
      "cell_type": "code",
      "source": [
        "set_cursos2 = set(['Python', 'Pandas', 'Mineria', 'Base de datos'])\n",
        "set_cursos2"
      ],
      "metadata": {
        "id": "p6zdqmvruuND",
        "outputId": "5c6ad489-932d-4526-e73f-ed6ce41bf8c9",
        "colab": {
          "base_uri": "https://localhost:8080/"
        }
      },
      "execution_count": 48,
      "outputs": [
        {
          "output_type": "execute_result",
          "data": {
            "text/plain": [
              "{'Base de datos', 'Mineria', 'Pandas', 'Python'}"
            ]
          },
          "metadata": {},
          "execution_count": 48
        }
      ]
    },
    {
      "cell_type": "code",
      "source": [
        "set_cursos.union(set_cursos2)  # operaciones de conjuntos"
      ],
      "metadata": {
        "id": "6TxaCdckvBkS",
        "outputId": "656d7592-6db5-4fda-ca61-b5cd6edb8df0",
        "colab": {
          "base_uri": "https://localhost:8080/"
        }
      },
      "execution_count": 49,
      "outputs": [
        {
          "output_type": "execute_result",
          "data": {
            "text/plain": [
              "{'Base de datos',\n",
              " 'Big Data',\n",
              " 'Mineria',\n",
              " 'Pandas',\n",
              " 'Python',\n",
              " 'base de datos',\n",
              " 'python'}"
            ]
          },
          "metadata": {},
          "execution_count": 49
        }
      ]
    },
    {
      "cell_type": "code",
      "source": [
        "set_cursos.intersection(set_cursos2) # Operacion de conjuntos"
      ],
      "metadata": {
        "id": "0MocLE7jvGgd",
        "outputId": "e27a8e92-20af-4f2c-8923-e812de69cccb",
        "colab": {
          "base_uri": "https://localhost:8080/"
        }
      },
      "execution_count": 50,
      "outputs": [
        {
          "output_type": "execute_result",
          "data": {
            "text/plain": [
              "set()"
            ]
          },
          "metadata": {},
          "execution_count": 50
        }
      ]
    },
    {
      "cell_type": "code",
      "source": [
        "set_cursos.difference(set_cursos2) # operacion de conjuntos"
      ],
      "metadata": {
        "id": "7nTj8hOEvXET",
        "outputId": "8d0c2271-cdcb-4df4-a402-6d8a4f9fc0e4",
        "colab": {
          "base_uri": "https://localhost:8080/"
        }
      },
      "execution_count": 52,
      "outputs": [
        {
          "output_type": "execute_result",
          "data": {
            "text/plain": [
              "{'Big Data', 'base de datos', 'python'}"
            ]
          },
          "metadata": {},
          "execution_count": 52
        }
      ]
    },
    {
      "cell_type": "code",
      "source": [
        ""
      ],
      "metadata": {
        "id": "mn6hsrCovg-u"
      },
      "execution_count": null,
      "outputs": []
    },
    {
      "cell_type": "code",
      "source": [
        ""
      ],
      "metadata": {
        "id": "FEfJAB1svgqN"
      },
      "execution_count": null,
      "outputs": []
    }
  ]
}