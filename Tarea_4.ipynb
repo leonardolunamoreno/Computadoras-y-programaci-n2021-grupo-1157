{
  "nbformat": 4,
  "nbformat_minor": 0,
  "metadata": {
    "colab": {
      "name": "Tarea 4",
      "provenance": [],
      "collapsed_sections": [],
      "authorship_tag": "ABX9TyPkgDPfm760WIWgqmYBZ2Ya",
      "include_colab_link": true
    },
    "kernelspec": {
      "name": "python3",
      "display_name": "Python 3"
    },
    "language_info": {
      "name": "python"
    }
  },
  "cells": [
    {
      "cell_type": "markdown",
      "metadata": {
        "id": "view-in-github",
        "colab_type": "text"
      },
      "source": [
        "<a href=\"https://colab.research.google.com/github/leonardolunamoreno/Computadoras-y-programaci-n2021-grupo-1157/blob/main/Tarea_4.ipynb\" target=\"_parent\"><img src=\"https://colab.research.google.com/assets/colab-badge.svg\" alt=\"Open In Colab\"/></a>"
      ]
    },
    {
      "cell_type": "code",
      "metadata": {
        "colab": {
          "base_uri": "https://localhost:8080/"
        },
        "id": "sDvpkCZpmIDg",
        "outputId": "19d182b6-dc29-4aa8-f4d1-f74d858b4cba"
      },
      "source": [
        "print(\"L\\nL\\nL\\nL\\nL\\nL\\nL\\nL\\nLLLLLLLLL\\n\")\n",
        "print(\"EEEEEEEEE\\nE\\nE\\nE\\nEEEEE\\nE\\nE\\nE\\nEEEEEEEEE\\n\")\n",
        "print(\"\"\"OOOOOOOOO \n",
        "OO     OO\n",
        "OO     OO\n",
        "OO     OO\n",
        "OO     OO\n",
        "OO     OO\n",
        "OO     OO\n",
        "OO     OO\n",
        "OOOOOOOOO\\n\"\"\")\n",
        "print(\"N       N\\nNN      N\\nN N     N\\nN  N    N\\nN   N   N\\nN    N  N\\nN     N N\\nN      NN\\nN       N\\n\")\n",
        "print(\"     A\\n    A A\\n   A   A\\n  A     A\\n A       A\\nAAAAAAAAAAA\\nA         A\\nA         A\\nA         A\\n\")\n",
        "print(\"RRRRRRRR\\nR       R\\nR       R\\nRRRRRRRR\\nRRRR\\nR  RR\\nR   RR\\nR    RR\\nR      RR\\n\")\n",
        "print(\"DDDDDDD\\nD    DDDD\\nD     DDD\\nD      DD\\nD       D\\nD      DD\\nD     DDD\\nD    DDDD\\nDDDDDDD\\n\")\n",
        "print(\"OOOOOOOOO\\nOO     OO\\nOO     OO\\nOO     OO\\nOO     OO\\nOO     OO\\nOO     OO\\nOO     OO\\nOOOOOOOOO\")"
      ],
      "execution_count": 224,
      "outputs": [
        {
          "output_type": "stream",
          "name": "stdout",
          "text": [
            "L\n",
            "L\n",
            "L\n",
            "L\n",
            "L\n",
            "L\n",
            "L\n",
            "L\n",
            "LLLLLLLLL\n",
            "\n",
            "EEEEEEEEE\n",
            "E\n",
            "E\n",
            "E\n",
            "EEEEE\n",
            "E\n",
            "E\n",
            "E\n",
            "EEEEEEEEE\n",
            "\n",
            "OOOOOOOOO \n",
            "OO     OO\n",
            "OO     OO\n",
            "OO     OO\n",
            "OO     OO\n",
            "OO     OO\n",
            "OO     OO\n",
            "OO     OO\n",
            "OOOOOOOOO\n",
            "\n",
            "N       N\n",
            "NN      N\n",
            "N N     N\n",
            "N  N    N\n",
            "N   N   N\n",
            "N    N  N\n",
            "N     N N\n",
            "N      NN\n",
            "N       N\n",
            "\n",
            "     A\n",
            "    A A\n",
            "   A   A\n",
            "  A     A\n",
            " A       A\n",
            "AAAAAAAAAAA\n",
            "A         A\n",
            "A         A\n",
            "A         A\n",
            "\n",
            "RRRRRRRR\n",
            "R       R\n",
            "R       R\n",
            "RRRRRRRR\n",
            "RRRR\n",
            "R  RR\n",
            "R   RR\n",
            "R    RR\n",
            "R      RR\n",
            "\n",
            "DDDDDDD\n",
            "D    DDDD\n",
            "D     DDD\n",
            "D      DD\n",
            "D       D\n",
            "D      DD\n",
            "D     DDD\n",
            "D    DDDD\n",
            "DDDDDDD\n",
            "\n",
            "OOOOOOOOO\n",
            "OO     OO\n",
            "OO     OO\n",
            "OO     OO\n",
            "OO     OO\n",
            "OO     OO\n",
            "OO     OO\n",
            "OO     OO\n",
            "OOOOOOOOO\n"
          ]
        }
      ]
    },
    {
      "cell_type": "markdown",
      "metadata": {
        "id": "CTOuCqkPRD-M"
      },
      "source": [
        "En la siguiente barra de código intente escribir mí nombre con otros metodos, pero al menos de momento no lo he conseguido. "
      ]
    },
    {
      "cell_type": "code",
      "metadata": {
        "colab": {
          "base_uri": "https://localhost:8080/"
        },
        "id": "d6CYeec9Q0JJ",
        "outputId": "8048803a-61e9-4bd4-fceb-dfa5872005b9"
      },
      "source": [
        "nombre = \"LEONARDO\" \n",
        "for letra in nombre: \n",
        "  print(\"L\")\n",
        "print(\"LLLLLLLLLL\\n\\t\")\n",
        "\n",
        "print(\"EEEEEEEEEE\")\n",
        "for letra in nombre: \n",
        "  print(\"E\")  \n",
        "print(\"EEEEEEEEEE\\n\\t\")  \n",
        "\n",
        "print(\"OOOOOOOOOO\")\n",
        "for letra in nombre: \n",
        "  print(\"O\")\n",
        "print(\"OOOOOOOOOO\\n\\t\")  \n",
        "\n",
        "for letra in nombre: \n",
        "  print(\"N\")\n",
        "\n",
        "for letra in nombre: \n",
        "  print(\"A\")\n",
        "\n",
        "for letra in nombre: \n",
        "  print(\"R\")\n",
        "\n",
        "for letra in nombre: \n",
        "  print(\"D\")\n",
        "\n",
        "print(\"OOOOOOOOOO\")\n",
        "for letra in nombre: \n",
        "  print(\"O\")\n",
        "print(\"OOOOOOOOOO\\n\\t\") "
      ],
      "execution_count": 228,
      "outputs": [
        {
          "output_type": "stream",
          "name": "stdout",
          "text": [
            "L\n",
            "L\n",
            "L\n",
            "L\n",
            "L\n",
            "L\n",
            "L\n",
            "L\n",
            "LLLLLLLLLL\n",
            "\t\n",
            "EEEEEEEEEE\n",
            "E\n",
            "E\n",
            "E\n",
            "E\n",
            "E\n",
            "E\n",
            "E\n",
            "E\n",
            "EEEEEEEEEE\n",
            "\t\n",
            "OOOOOOOOOO\n",
            "O\n",
            "O\n",
            "O\n",
            "O\n",
            "O\n",
            "O\n",
            "O\n",
            "O\n",
            "OOOOOOOOOO\n",
            "\t\n",
            "N\n",
            "N\n",
            "N\n",
            "N\n",
            "N\n",
            "N\n",
            "N\n",
            "N\n",
            "A\n",
            "A\n",
            "A\n",
            "A\n",
            "A\n",
            "A\n",
            "A\n",
            "A\n",
            "R\n",
            "R\n",
            "R\n",
            "R\n",
            "R\n",
            "R\n",
            "R\n",
            "R\n",
            "D\n",
            "D\n",
            "D\n",
            "D\n",
            "D\n",
            "D\n",
            "D\n",
            "D\n",
            "OOOOOOOOOO\n",
            "O\n",
            "O\n",
            "O\n",
            "O\n",
            "O\n",
            "O\n",
            "O\n",
            "O\n",
            "OOOOOOOOOO\n",
            "\t\n"
          ]
        }
      ]
    },
    {
      "cell_type": "markdown",
      "metadata": {
        "id": "gknrlaTQRTqV"
      },
      "source": [
        "Aquí utilice el interprete para hacer algunos experimentos "
      ]
    },
    {
      "cell_type": "code",
      "metadata": {
        "colab": {
          "base_uri": "https://localhost:8080/"
        },
        "id": "trQNMpTt8txZ",
        "outputId": "2f5d3302-b126-4dba-8d68-39f0b66db4b4"
      },
      "source": [
        "print (\"Esto es una suma\")\n",
        "numero_uno = 5 \n",
        "numero_dos = 24 \n",
        "resultado = numero_uno + numero_dos\n",
        "print (resultado)\n",
        "\n",
        "El_mundo_es_plano = True\n",
        "if El_mundo_es_plano:\n",
        "   print(\"Usted puede utilizar una patineta sin dificultades!\")\n",
        "\n",
        " # (\"#Esto no es un comentario por que está dentro de un par de comillas\")\n"
      ],
      "execution_count": 191,
      "outputs": [
        {
          "output_type": "stream",
          "name": "stdout",
          "text": [
            "Esto es una suma\n",
            "29\n",
            "Usted puede utilizar una patineta sin dificultades!\n"
          ]
        }
      ]
    },
    {
      "cell_type": "markdown",
      "metadata": {
        "id": "89iEWAdbR5F3"
      },
      "source": [
        "Aquí seguía tratando de escribir mí nombre con el uso de otros métodos "
      ]
    },
    {
      "cell_type": "code",
      "metadata": {
        "colab": {
          "base_uri": "https://localhost:8080/"
        },
        "id": "iYgR1KFpb7MS",
        "outputId": "d968f325-153f-42be-aaf5-03ba80b73a54"
      },
      "source": [
        "dir(str)\n",
        "nombre = \"LEONARDOO\"\n",
        "for letra in nombre: \n",
        "  printf(\"\"\"N\"\"\")  \n",
        "print(f\"\"\"N\n",
        "N\n",
        " N\n",
        "  N\n",
        "   N\n",
        "    N\n",
        "     N\"\"\") \n",
        "\n"
      ],
      "execution_count": 32,
      "outputs": [
        {
          "output_type": "execute_result",
          "data": {
            "text/plain": [
              "['__add__',\n",
              " '__class__',\n",
              " '__contains__',\n",
              " '__delattr__',\n",
              " '__dir__',\n",
              " '__doc__',\n",
              " '__eq__',\n",
              " '__format__',\n",
              " '__ge__',\n",
              " '__getattribute__',\n",
              " '__getitem__',\n",
              " '__getnewargs__',\n",
              " '__gt__',\n",
              " '__hash__',\n",
              " '__init__',\n",
              " '__init_subclass__',\n",
              " '__iter__',\n",
              " '__le__',\n",
              " '__len__',\n",
              " '__lt__',\n",
              " '__mod__',\n",
              " '__mul__',\n",
              " '__ne__',\n",
              " '__new__',\n",
              " '__reduce__',\n",
              " '__reduce_ex__',\n",
              " '__repr__',\n",
              " '__rmod__',\n",
              " '__rmul__',\n",
              " '__setattr__',\n",
              " '__sizeof__',\n",
              " '__str__',\n",
              " '__subclasshook__',\n",
              " 'capitalize',\n",
              " 'casefold',\n",
              " 'center',\n",
              " 'count',\n",
              " 'encode',\n",
              " 'endswith',\n",
              " 'expandtabs',\n",
              " 'find',\n",
              " 'format',\n",
              " 'format_map',\n",
              " 'index',\n",
              " 'isalnum',\n",
              " 'isalpha',\n",
              " 'isascii',\n",
              " 'isdecimal',\n",
              " 'isdigit',\n",
              " 'isidentifier',\n",
              " 'islower',\n",
              " 'isnumeric',\n",
              " 'isprintable',\n",
              " 'isspace',\n",
              " 'istitle',\n",
              " 'isupper',\n",
              " 'join',\n",
              " 'ljust',\n",
              " 'lower',\n",
              " 'lstrip',\n",
              " 'maketrans',\n",
              " 'partition',\n",
              " 'replace',\n",
              " 'rfind',\n",
              " 'rindex',\n",
              " 'rjust',\n",
              " 'rpartition',\n",
              " 'rsplit',\n",
              " 'rstrip',\n",
              " 'split',\n",
              " 'splitlines',\n",
              " 'startswith',\n",
              " 'strip',\n",
              " 'swapcase',\n",
              " 'title',\n",
              " 'translate',\n",
              " 'upper',\n",
              " 'zfill']"
            ]
          },
          "metadata": {},
          "execution_count": 32
        }
      ]
    }
  ]
}