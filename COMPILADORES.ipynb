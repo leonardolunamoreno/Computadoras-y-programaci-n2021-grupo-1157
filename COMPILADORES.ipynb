{
  "nbformat": 4,
  "nbformat_minor": 0,
  "metadata": {
    "colab": {
      "provenance": [],
      "authorship_tag": "ABX9TyP7LuflqfNYE9kr9A1tcJKb",
      "include_colab_link": true
    },
    "kernelspec": {
      "name": "python3",
      "display_name": "Python 3"
    },
    "language_info": {
      "name": "python"
    }
  },
  "cells": [
    {
      "cell_type": "markdown",
      "metadata": {
        "id": "view-in-github",
        "colab_type": "text"
      },
      "source": [
        "<a href=\"https://colab.research.google.com/github/leonardolunamoreno/Computadoras-y-programaci-n2021-grupo-1157/blob/main/COMPILADORES.ipynb\" target=\"_parent\"><img src=\"https://colab.research.google.com/assets/colab-badge.svg\" alt=\"Open In Colab\"/></a>"
      ]
    },
    {
      "cell_type": "markdown",
      "source": [
        "# COMPILADORES\n",
        "## Principios, técnicas y herramientas."
      ],
      "metadata": {
        "id": "8xcK0z8CVkJU"
      }
    },
    {
      "cell_type": "markdown",
      "source": [
        "### Introducción\n",
        "### Procesadores del lenguaje"
      ],
      "metadata": {
        "id": "C4qiMyDw7LuP"
      }
    },
    {
      "cell_type": "markdown",
      "source": [
        "# Ejercicios de la sección 1.1 Procesadores de lenguaje\n",
        "1.1 ¿Cuál es la diferencia entre un compilador y un intérprete?\n",
        "R =\n",
        "Un compilador y un intérprete son dos tipos de programas utilizados para ejecutar código de alto nivel, pero difieren en cómo procesan y ejecutan este código.\n",
        "\n",
        "Compilador:\n",
        "Un compilador es un programa que traduce el código fuente escrito en un lenguaje de alto nivel (como C, C++, Java) a un código objeto o código de máquina específico para una arquitectura de computadora particular.\n",
        "Este proceso de traducción se realiza en dos pasos. Primero, el compilador analiza el código fuente y lo traduce a un código intermedio o código objeto. Luego, este código intermedio se convierte en código ejecutable por el sistema operativo.\n",
        "Una vez que el código se ha compilado, se puede ejecutar múltiples veces sin necesidad de volver a compilarlo, lo que puede aumentar la eficiencia en la ejecución.\n",
        "Ejemplos de compiladores incluyen GCC para C/C++, Java Compiler para Java, y el compilador de Visual Studio para C#.\n",
        "\n",
        "Intérprete:\n",
        "Un intérprete es un programa que ejecuta instrucciones escritas en un lenguaje de alto nivel directamente, línea por línea, sin la necesidad de compilar previamente el código.\n",
        "El intérprete toma cada instrucción, la traduce a un código de máquina o bytecode y la ejecuta inmediatamente.\n",
        "No se genera un archivo ejecutable independiente, ya que el código se ejecuta directamente desde el código fuente.\n",
        "Los intérpretes generalmente son más lentos que los compiladores, ya que tienen que realizar la traducción y ejecución simultáneamente.\n",
        "Ejemplos de lenguajes interpretados incluyen Python, JavaScript y Ruby.\n",
        "En resumen, la principal diferencia radica en que un compilador traduce el código fuente a código de máquina antes de la ejecución, mientras que un intérprete traduce y ejecuta las instrucciones de manera simultánea durante la ejecución del programa.\n",
        "\n",
        "\n",
        "1.2 ¿Cuáles son las ventajas de (a) un compilador sobre un intérprete, y (b) las de un intérprete sobre un compilador\n",
        "R = Las ventajas de un compilador sobre un intérprete y viceversa dependen del contexto y de los requisitos específicos de la aplicación. Aquí están las ventajas principales de cada uno:\n",
        "\n",
        "(a) Ventajas de un compilador sobre un intérprete:\n",
        "Mejor rendimiento: Como el código se traduce completamente antes de la ejecución, los programas compilados tienden a ser más rápidos en tiempo de ejecución que los programas interpretados. Esto se debe a que no hay necesidad de realizar la traducción línea por línea durante la ejecución.\n",
        "Portabilidad: Los programas compilados suelen generar archivos ejecutables independientes que pueden ser ejecutados en cualquier máquina que admita la arquitectura objetivo. Esto significa que no es necesario tener el compilador presente en el sistema para ejecutar el programa compilado.\n",
        "Optimizaciones avanzadas: Los compiladores pueden aplicar optimizaciones avanzadas durante la fase de compilación, como la eliminación de código muerto, la reordenación de instrucciones y la optimización del uso de la memoria, lo que puede resultar en un código más eficiente y rápido.\n",
        "\n",
        "(b) Ventajas de un intérprete sobre un compilador:\n",
        "Facilidad de depuración: Los intérpretes suelen proporcionar mensajes de error detallados y permiten depurar el código fácilmente, ya que pueden ejecutar el código línea por línea y detenerse en cualquier momento para inspeccionar el estado del programa.\n",
        "Flexibilidad: Los lenguajes interpretados suelen ser más flexibles y permiten una programación más dinámica, ya que pueden evaluar y ejecutar código en tiempo de ejecución. Esto puede ser útil en situaciones donde se necesite interactuar con el entorno en tiempo real o se requiera una rápida prototipación.\n",
        "Portabilidad del código fuente: El código fuente de un programa interpretado puede ser más portátil entre diferentes plataformas, ya que no está ligado a una arquitectura de hardware específica. Esto significa que el mismo código fuente puede ejecutarse en diferentes sistemas sin necesidad de recompilar.\n",
        "En resumen, los compiladores ofrecen mejor rendimiento y optimizaciones avanzadas, mientras que los intérpretes proporcionan facilidad de depuración y flexibilidad en la ejecución del código. La elección entre un compilador y un intérprete depende de los requisitos de rendimiento, flexibilidad y portabilidad de la aplicación.\n",
        "\n",
        "1.3 ¿Qué ventajas hay para un sistema de procesamiento de lenguajes en el cual\n",
        "el compilador produce lenguaje ensamblador en vez de lenguaje máquina?\n",
        "R = Hay varias ventajas en utilizar un compilador que genere código en lenguaje ensamblador en lugar de código de máquina directamente:\n",
        "Portabilidad: El lenguaje ensamblador es más portable que el código de máquina, ya que está más cerca del nivel de abstracción del hardware pero sigue siendo independiente de la arquitectura específica de la máquina. Esto significa que el mismo código ensamblador puede ser ensamblado en diferentes plataformas sin necesidad de modificarlo significativamente.\n",
        "Legibilidad y mantenibilidad: El código ensamblador es más legible para los programadores humanos en comparación con el código de máquina, ya que utiliza mnemónicos y nombres simbólicos en lugar de representaciones binarias opacas. Esto facilita el mantenimiento y la depuración del código generado.\n",
        "Optimizaciones específicas de la arquitectura: El compilador puede aplicar optimizaciones específicas de la arquitectura del procesador en el código ensamblador generado. Al estar más cerca del nivel de hardware, es más fácil para el compilador realizar optimizaciones precisas y eficientes.\n",
        "Facilidad de depuración: Depurar código ensamblador puede ser más sencillo que depurar código de máquina, ya que los mnemónicos y las etiquetas simbólicas proporcionan información sobre la función y la ubicación del código en relación con el programa fuente original.\n",
        "Flexibilidad: El código ensamblador proporciona un mayor nivel de control sobre el hardware subyacente y permite la implementación de características específicas de la arquitectura que pueden no ser accesibles a través de un lenguaje de alto nivel o de un lenguaje de máquina directamente.\n",
        "En resumen, utilizar un compilador que genere código en lenguaje ensamblador en lugar de código de máquina directamente puede ofrecer ventajas en términos de portabilidad, legibilidad, mantenibilidad, optimización y flexibilidad para el desarrollo de sistemas de procesamiento de lenguajes.\n",
        "\n",
        "1.4 A un compilador que traduce un lenguaje de alto nivel a otro lenguaje de\n",
        "alto nivel se le llama traductor de source-to-source. ¿Qué ventajas hay en cuanto al uso de C como lenguaje destino para un compilador?\n",
        "R = Hay varias ventajas en utilizar C como lenguaje destino (o lenguaje objetivo) para un traductor de source-to-source, es decir, un compilador que traduce de un lenguaje de alto nivel a otro lenguaje de alto nivel. Aquí algunas de las ventajas más destacadas:\n",
        "Portabilidad: C es un lenguaje ampliamente conocido y ampliamente implementado. La mayoría de los sistemas operativos y arquitecturas de hardware tienen compiladores de C disponibles. Esto significa que el código generado en C por el traductor de source-to-source será ejecutable en una amplia gama de plataformas sin necesidad de realizar modificaciones adicionales.\n",
        "Eficiencia: C es un lenguaje de programación de bajo nivel que proporciona un alto nivel de control sobre el hardware subyacente. El código generado en C tiende a ser eficiente en términos de uso de recursos y rendimiento, ya que permite el acceso directo a la memoria y a las operaciones de bajo nivel del procesador.\n",
        "Compatibilidad: Muchos lenguajes de alto nivel están diseñados para interoperar con C. Utilizar C como lenguaje destino significa que el código generado puede integrarse fácilmente con bibliotecas existentes escritas en C y con otras aplicaciones que se basan en C, lo que facilita la reutilización y la interoperabilidad del código.\n",
        "Herramientas de desarrollo: Cuenta con un amplio conjunto de herramientas de desarrollo, incluidos compiladores, depuradores y analizadores estáticos, que pueden facilitar el desarrollo, la depuración y la optimización del código generado.\n",
        "Estándares bien definidos: C es un lenguaje bien establecido con estándares bien definidos, como el estándar ANSI C o el estándar ISO C. Esto proporciona una especificación clara para el comportamiento del lenguaje y garantiza la portabilidad del código entre diferentes compiladores y plataformas.\n",
        "En resumen, utilizar C como lenguaje destino para un traductor de source-to-source ofrece ventajas en términos de portabilidad, eficiencia, compatibilidad, herramientas de desarrollo y estándares bien definidos, lo que lo convierte en una opción atractiva para la generación de código de alto nivel a partir de otros lenguajes de alto nivel.\n",
        "\n",
        "1.5 Escriba algunas de las tareas que necesita realizar un ensamblador.\n",
        "R = El ensamblador es un programa que traduce el código fuente escrito en lenguaje ensamblador a código de máquina, que es el lenguaje que comprende directamente la unidad de procesamiento central (CPU) de una computadora. Algunas de las tareas que realiza un ensamblador son:\n",
        "Análisis léxico y sintáctico: El ensamblador analiza el código fuente línea por línea, identificando y clasificando los diferentes elementos léxicos (como instrucciones, etiquetas, operandos, etc.) y realizando un análisis sintáctico para verificar la estructura gramatical correcta del código.\n",
        "Resolución de símbolos: Los ensambladores deben resolver los símbolos, como etiquetas y variables, asignándoles direcciones de memoria específicas. Esto implica mantener una tabla de símbolos que mapee los nombres de los símbolos a sus ubicaciones en la memoria.\n",
        "Generación de código de máquina: La tarea principal de un ensamblador es traducir las instrucciones y datos del código ensamblador a su equivalente en código de máquina, que consiste en secuencias de bits que representan operaciones y direcciones de memoria.\n",
        "Manejo de directivas y macros: Los ensambladores también pueden procesar directivas y macros que proporcionan instrucciones adicionales para controlar la generación de código, definir constantes, reservar espacio en la memoria, entre otras tareas.\n",
        "Optimización: Algunos ensambladores pueden realizar optimizaciones simples en el código generado, como la eliminación de instrucciones redundantes o la reordenación de instrucciones para mejorar el rendimiento.\n",
        "Generación de información de depuración: Los ensambladores pueden generar información de depuración que vincula el código de máquina generado con el código fuente original, lo que facilita la depuración del programa y la identificación de errores.\n",
        "Manejo de errores: Los ensambladores deben manejar errores léxicos, sintácticos y semánticos en el código fuente, proporcionando mensajes de error informativos para ayudar al usuario a corregir los problemas en el código.\n",
        "En resumen, un ensamblador es responsable de traducir el código fuente escrito en lenguaje ensamblador a código de máquina, realizando diversas tareas como análisis léxico y sintáctico, resolución de símbolos, generación de código de máquina, manejo de directivas y macros, optimización, generación de información de depuración y manejo de errores."
      ],
      "metadata": {
        "id": "H9Gxs-QeUrJ2"
      }
    },
    {
      "cell_type": "markdown",
      "source": [
        "# Ejercicios de la sección 1.3 La evolución de los lenguajes de programación\n",
        "\n",
        "1.3.1 Indique cúal de los siguientes términos:\n",
        "\n",
        "a) imperativo\n",
        "\n",
        "b) declarativo\n",
        "\n",
        "c) Von Neummann\n",
        "\n",
        "d) orienta a objetos\n",
        "\n",
        "e) funcional\n",
        "\n",
        "f) de tercera generación\n",
        "\n",
        "g) de cuarta generación\n",
        "\n",
        "h) secuencias de comandos\n",
        "\n",
        "Se aplica  a los siguientes lenguajes:\n",
        "\n",
        "1) C\n",
        "\n",
        "R = (a) C es un claro ejemplo de un lenguaje imperativo(orientado a instrucciones). Con su sintaxis concisa y su capacidad para trabajar directamente con la memoria del sistema, C es especialmente adecuado para programación de sistemas y desarrollo de bajo nivel.\n",
        "\n",
        "(b) No hay consenso sobre la definición de este paradigma, pero todas las explicaciones coinciden en algo: lo que destaca de los lenguajes de programación declarativa es que siempre se describe el resultado final deseado, en lugar de mostrar todos los pasos de trabajo. Para alcanzar el objetivo, en la programación declarativa se determina automáticamente la vía de solución. Esto funciona siempre y cuando las especificaciones del estado final se definan claramente y exista un procedimiento de ejecución adecuado. Si se dan las dos condiciones, la programación declarativa es muy eficiente.\n",
        "\n",
        "(c) Sí, hay una relación entre la arquitectura de Von Neumann y el lenguaje C. La arquitectura de Von Neumann es un diseño fundamental para las computadoras que separa la unidad de procesamiento de la memoria. En esta arquitectura, los programas y los datos se almacenan en la misma memoria y se manipulan utilizando el mismo conjunto de instrucciones.\n",
        "El lenguaje C se diseñó originalmente para programar en sistemas con arquitectura Von Neumann. Por lo tanto, el lenguaje C está estrechamente relacionado con los conceptos subyacentes de esta arquitectura, como el acceso directo a la memoria, el uso de punteros y la manipulación de datos en su nivel más básico. Esto hace que el lenguaje C sea muy eficiente para trabajar en este tipo de arquitectura y, por lo tanto, es ampliamente utilizado en sistemas embebidos, sistemas operativos y aplicaciones de bajo nivel donde el rendimiento y la eficiencia son críticos.\n",
        "\n",
        "(d) El lenguaje de programación con C no está pensado para la programación orientada a objetos. Este lenguaje es un excelente ejemplo del estilo de programación estructurada según la programación imperativa Sin embargo, es posible emular enfoques orientados a objetos en C\n",
        "\n",
        "(e)\n",
        "\n",
        "2) C++\n",
        "\n",
        "3) Cobol\n",
        "\n",
        "4) Fortran\n",
        "\n",
        "5) Java\n",
        "\n",
        "6) Lisp\n",
        "\n",
        "7) ML\n",
        "\n",
        "8) Perl\n",
        "\n",
        "9) Python\n",
        "\n",
        "10) VB\n"
      ],
      "metadata": {
        "id": "zrMRXW0aFW_p"
      }
    },
    {
      "cell_type": "markdown",
      "source": [
        "## Ejercicios de la sección 1.6 Fundamentos de los lenguajes de programación.\n",
        "\n",
        "1.6.1  Para el código en C estructurado por bloques de la figura 1.13(a), indique los valores asignados a w, x, y y z.\n",
        "\n",
        "\n",
        "\n",
        "R =  int w, x, y, z;: Declara cuatro variables de tipo entero llamadas w, x, y, y z.\n",
        "\n",
        "int i = 4; int j = 5;: Declara dos variables enteras i y j, y las inicializa con los valores 4 y 5 respectivamente.\n",
        "\n",
        "{: Inicia un nuevo bloque de código.\n",
        "\n",
        "int j = 7;: Declara una nueva variable entera j dentro de este bloque y la inicializa con el valor 7. Este j es diferente del j definido fuera del bloque.\n",
        "\n",
        "i = 6;: Asigna el valor 6 a la variable i. Esta es la variable i definida fuera del bloque.\n",
        "\n",
        "w = i + j;: Calcula la suma de i y j (los valores 6 y 7 respectivamente) y asigna el resultado a la variable w.\n",
        "\n",
        "}: Cierra el bloque de código.\n",
        "\n",
        "x = i + j;: Calcula la suma de i y j (los valores 6 y 5 respectivamente) y asigna el resultado a la variable x. Estos son los valores de i y j definidos fuera del bloque.\n",
        "\n",
        "{: Inicia otro bloque de código.\n",
        "\n",
        "int i = 8;: Declara una nueva variable entera i dentro de este bloque y la inicializa con el valor 8. Este i es diferente del i definido fuera del bloque y también es diferente del i definido dentro del primer bloque.\n",
        "\n",
        "y = i + j;: Calcula la suma de i y j (los valores 8 y 5 respectivamente) y asigna el resultado a la variable y.\n",
        "\n",
        "}: Cierra el bloque de código.\n",
        "\n",
        "z = i + j;: Calcula la suma de i y j (los valores 6 y 5 respectivamente) y asigna el resultado a la variable z. Este i es el mismo que el definido fuera del segundo bloque y este j es el mismo que el definido fuera de ambos bloques.\n",
        "\n",
        "Al final de la ejecución del código, w contendrá 13 (6 + 7), x contendrá 11 (6 + 5), y contendrá 13 (8 + 5) y z contendrá 11 (6 + 5).\n",
        "\n",
        "1.6.2 Repita el ejercicio 1.6.1 para el código de la figura 1.13(b).\n",
        "\n",
        "\n",
        "\n",
        "\n",
        "\n",
        "R =\n",
        "int w, x, y, z;: Declara cuatro variables de tipo entero llamadas w, x, y y z.\n",
        "\n",
        "int i = 3; int j = 4;: Declara dos variables enteras i y j, y las inicializa con los valores 3 y 4 respectivamente.\n",
        "\n",
        "{: Inicia un nuevo bloque de código.\n",
        "\n",
        "int i = 5;: Declara una nueva variable entera i dentro de este bloque y la inicializa con el valor 5. Este i es diferente del i definido fuera del bloque.\n",
        "\n",
        "w = i + j;: Calcula la suma de i (valor 5 dentro de este bloque) y j (valor 4 fuera de este bloque) y asigna el resultado a la variable w.\n",
        "\n",
        "}: Cierra el primer bloque de código.\n",
        "\n",
        "x = i + j;: Calcula la suma de i (valor 3 fuera de los bloques) y j (valor 4 fuera de los bloques) y asigna el resultado a la variable x.\n",
        "\n",
        "{: Inicia otro bloque de código.\n",
        "\n",
        "int j = 6;: Declara una nueva variable entera j dentro de este bloque y la inicializa con el valor 6. Este j es diferente del j definido fuera del bloque y del j definido dentro del primer bloque.\n",
        "\n",
        "i = 7;: Asigna el valor 7 a la variable i. Esta es la variable i definida fuera del segundo bloque y es diferente del i definido dentro del primer bloque.\n",
        "\n",
        "y = i + j;: Calcula la suma de i (valor 7 dentro de este bloque) y j (valor 6 dentro de este bloque) y asigna el resultado a la variable y.\n",
        "\n",
        "}: Cierra el segundo bloque de código.\n",
        "\n",
        "z = i + j;: Calcula la suma de i (valor 7 fuera de los bloques) y j (valor 4 fuera de los bloques) y asigna el resultado a la variable z.\n",
        "\n",
        "Al finalizar la ejecución del código, los valores asignados a las variables serán:\n",
        "\n",
        "w: 9 (5 + 4)\n",
        "x: 7 (3 + 4)\n",
        "y: 13 (7 + 6)\n",
        "z: 11 (7 + 4)     7(3 + 4)\n",
        "\n",
        "\n",
        "1.6.3 : Para el código estructurado por bloques de la figura 1.14, suponiendo el\n",
        "alcance estático usual de las declaraciones, dé el alcance para cada una de las doce declaraciones.\n",
        "\n",
        "{    int w,x,y,z;            /* Block B1 */\n",
        "         {    int x,z;             /* Block B2 */\n",
        "               {    int w,x;      /* Block B3 */ }\n",
        "         }                              \n",
        "         {     int w,x;           /* Block B4 */\n",
        "                {     int y,z;      /* Block B5 */ }\n",
        "         }\n",
        "  }   \n",
        "\n",
        "\n",
        "Aquí está el alcance para cada una de las doce declaraciones en el código estructurado por bloques proporcionado:\n",
        "\n",
        "int w, x, y, z; - Alcance: Global (fuera de todos los bloques).\n",
        "int x, z; - Alcance: Bloque B2.\n",
        "int w, x; - Alcance: Bloque B3.\n",
        "int w, x; - Alcance: Bloque B4.\n",
        "int y, z; - Alcance: Bloque B5.\n",
        "Dentro del mismo bloque, las variables con el mismo nombre que las variables de un bloque externo ocultan esas variables externas. Por lo tanto, el alcance se ve afectado por la anidación de bloques y las variables locales pueden ocultar a las variables de los bloques exteriores.\n"
      ],
      "metadata": {
        "id": "FqdGjS7kd-nb"
      }
    },
    {
      "cell_type": "code",
      "source": [],
      "metadata": {
        "id": "m_gAOVGxW2jO"
      },
      "execution_count": null,
      "outputs": []
    },
    {
      "cell_type": "markdown",
      "source": [],
      "metadata": {
        "id": "OuS93wl-VgAH"
      }
    },
    {
      "cell_type": "code",
      "source": [],
      "metadata": {
        "id": "Hob9_xUlUq6o"
      },
      "execution_count": null,
      "outputs": []
    },
    {
      "cell_type": "code",
      "source": [],
      "metadata": {
        "id": "erbqDJY8Uq4D"
      },
      "execution_count": null,
      "outputs": []
    },
    {
      "cell_type": "code",
      "source": [],
      "metadata": {
        "id": "LAWVorxRUq1j"
      },
      "execution_count": null,
      "outputs": []
    },
    {
      "cell_type": "code",
      "source": [
        "import graphviz\n",
        "\n",
        "class StateMachine:\n",
        "    def __init__(self):\n",
        "        self.transitions = {}\n",
        "\n",
        "    def add_transition(self, from_state, to_state, label):\n",
        "        if from_state not in self.transitions:\n",
        "            self.transitions[from_state] = []\n",
        "        self.transitions[from_state].append((to_state, label))\n",
        "\n",
        "    def generate_graph(self):\n",
        "        dot = graphviz.Digraph()\n",
        "\n",
        "        for from_state, to_states in self.transitions.items():\n",
        "            for to_state, label in to_states:\n",
        "                dot.edge(from_state, to_state, label=label)\n",
        "\n",
        "        return dot\n",
        "\n",
        "# Ejemplo de uso\n",
        "if __name__ == \"__main__\":\n",
        "    sm = StateMachine()\n",
        "\n",
        "    sm.add_transition('A', 'B', 'Trigger 1')\n",
        "    sm.add_transition('A', 'C', 'Trigger 2')\n",
        "    sm.add_transition('B', 'C', 'Trigger 3')\n",
        "    sm.add_transition('C', 'A', 'Trigger 4')\n",
        "\n",
        "    graph = sm.generate_graph()\n",
        "    graph.render('state_machine', format='png', cleanup=True)\n",
        "    print(\"Diagrama de transiciones generado correctamente.\")"
      ],
      "metadata": {
        "id": "ZpzizNEiUqvS",
        "colab": {
          "base_uri": "https://localhost:8080/"
        },
        "outputId": "ea727c12-a069-4ebd-d5ca-4413028e920f"
      },
      "execution_count": 1,
      "outputs": [
        {
          "output_type": "stream",
          "name": "stdout",
          "text": [
            "Diagrama de transiciones generado correctamente.\n"
          ]
        }
      ]
    },
    {
      "cell_type": "code",
      "source": [
        "import networkx as nx\n",
        "import matplotlib.pyplot as plt\n",
        "\n",
        "class StateMachine:\n",
        "    def __init__(self):\n",
        "        self.transitions = {}\n",
        "\n",
        "    def add_transition(self, from_state, to_state, label):\n",
        "        if from_state not in self.transitions:\n",
        "            self.transitions[from_state] = []\n",
        "        self.transitions[from_state].append((to_state, label))\n",
        "\n",
        "    def generate_graph(self):\n",
        "        G = nx.DiGraph()\n",
        "\n",
        "        for from_state, to_states in self.transitions.items():\n",
        "            for to_state, label in to_states:\n",
        "                G.add_edge(from_state, to_state, label=label)\n",
        "\n",
        "        return G\n",
        "\n",
        "    def draw_graph(self):\n",
        "        G = self.generate_graph()\n",
        "        pos = nx.spring_layout(G)\n",
        "        nx.draw(G, pos, with_labels=True, node_size=1500, node_color=\"skyblue\", font_size=12, font_weight=\"bold\")\n",
        "        edge_labels = nx.get_edge_attributes(G, 'label')\n",
        "        nx.draw_networkx_edge_labels(G, pos, edge_labels=edge_labels)\n",
        "        plt.show()\n",
        "\n",
        "# Ejemplo de uso\n",
        "if __name__ == \"__main__\":\n",
        "    sm = StateMachine()\n",
        "\n",
        "    sm.add_transition('A', 'B', 'Trigger 1')\n",
        "    sm.add_transition('A', 'C', 'Trigger 2')\n",
        "    sm.add_transition('B', 'C', 'Trigger 3')\n",
        "    sm.add_transition('C', 'A', 'Trigger 4')\n",
        "\n",
        "    sm.draw_graph()"
      ],
      "metadata": {
        "id": "LDA1m4IWUqlt",
        "colab": {
          "base_uri": "https://localhost:8080/",
          "height": 516
        },
        "outputId": "221cdab2-2252-4a4f-fe1a-f5bdee67418d"
      },
      "execution_count": 2,
      "outputs": [
        {
          "output_type": "display_data",
          "data": {
            "text/plain": [
              "<Figure size 640x480 with 1 Axes>"
            ],
            "image/png": "[encoded data removed]"
          },
          "metadata": {}
        }
      ]
    },
    {
      "cell_type": "code",
      "execution_count": null,
      "metadata": {
        "id": "VNvaj_rQSzra"
      },
      "outputs": [],
      "source": [
        "# Crear un programa que sea capaz de leer un archivo de texto plano con extensión .fes\n",
        "# Hecho el 18 / 03 / 2024, durante la madrugada\n",
        "\n",
        "# Crear un segundo programa que cree un archivo de texto claro y ocupar el primer programa que eleaboraste, para leer el primer archivo\n",
        "# Hecho el 18 / 03 / 2024, durante la madrugada 2:09 am\n",
        "\n",
        "# Crear un programa que cree un archivo, Prácticamente es lo mismo de arriba"
      ]
    },
    {
      "cell_type": "code",
      "source": [
        "# Crear un programa que sea capaz de leer un archivo de texto plano con extensión .fes\n",
        "import java.io.*;\n",
        "\n",
        "\n",
        "class Main {\n",
        "   public static void main(String [] arg) {\n",
        "\n",
        "\n",
        "       try (FileReader fr = new FileReader(\"ruta/archivo.fes\")) {  # Es necesario crear el archivo.fes y definir su ruta en esta línea\n",
        "           BufferedReader br = new BufferedReader(fr);\n",
        "           // Lectura del fichero\n",
        "           String linea;\n",
        "           while((linea=br.readLine())!=null)\n",
        "               System.out.println(linea);\n",
        "       }\n",
        "       catch(Exception e){\n",
        "           e.printStackTrace();\n",
        "       }\n",
        "   }\n",
        "}"
      ],
      "metadata": {
        "id": "Q8pyZzcpklZV"
      },
      "execution_count": null,
      "outputs": []
    },
    {
      "cell_type": "code",
      "source": [
        "# Crear un segundo programa que cree un archivo de texto claro y ocupar el primer programa que eleaboraste, para leer el primer archivo\n",
        "import java.io.FileWriter;\n",
        "import java.io.BufferedWriter;\n",
        "import java.io.IOException;\n",
        "\n",
        "public class CrearArchivoTexto {\n",
        "    public static void main(String[] args) {\n",
        "        String nombreArchivo = \"archivo.txt\"; // Nombre del archivo\n",
        "        String contenido = \"Este es el contenido del archivo de texto.\"; // Contenido del archivo\n",
        "\n",
        "        try {\n",
        "            // Crear un objeto FileWriter con el nombre del archivo\n",
        "            FileWriter archivo = new FileWriter(nombreArchivo);\n",
        "\n",
        "            // Crear un objeto BufferedWriter para escribir en el archivo\n",
        "            BufferedWriter escritor = new BufferedWriter(archivo);\n",
        "\n",
        "            // Escribir el contenido en el archivo\n",
        "            escritor.write(contenido);\n",
        "\n",
        "            // Cerrar el BufferedWriter para asegurar que todos los datos se escriban en el archivo\n",
        "            escritor.close();\n",
        "\n",
        "            // Mostrar un mensaje de éxito\n",
        "            System.out.println(\"Se ha creado el archivo \\\"\" + nombreArchivo + \"\\\" correctamente.\");\n",
        "        } catch (IOException e) {\n",
        "            // Manejar cualquier excepción de E/S (por ejemplo, si no se puede crear el archivo)\n",
        "            System.out.println(\"Error al crear el archivo: \" + e.getMessage());\n",
        "        }\n",
        "    }\n",
        "}"
      ],
      "metadata": {
        "id": "tvm8E9rYk9O5"
      },
      "execution_count": null,
      "outputs": []
    },
    {
      "cell_type": "code",
      "source": [],
      "metadata": {
        "id": "6xQ4zcAPklWm"
      },
      "execution_count": null,
      "outputs": []
    },
    {
      "cell_type": "code",
      "source": [],
      "metadata": {
        "id": "NcwBBF-9klPA"
      },
      "execution_count": null,
      "outputs": []
    },
    {
      "cell_type": "code",
      "source": [],
      "metadata": {
        "id": "Xz5BhG3oklDA"
      },
      "execution_count": null,
      "outputs": []
    },
    {
      "cell_type": "markdown",
      "source": [],
      "metadata": {
        "id": "Cby5RRChMj3p"
      }
    },
    {
      "cell_type": "code",
      "source": [
        "import java.io.BufferedReader;\n",
        "import java.io.FileReader;\n",
        "import java.io.IOException;\n",
        "\n",
        "public class LeerArchivoFES {\n",
        "    public static void main(String[] args) {\n",
        "        String rutaArchivo = \"archivo.fes\"; // Reemplaza con la ruta correcta de tu archivo .fes\n",
        "\n",
        "        try (BufferedReader br = new BufferedReader(new FileReader(rutaArchivo))) {\n",
        "            String linea;\n",
        "            while ((linea = br.readLine()) != null) {\n",
        "                System.out.println(linea);\n",
        "            }\n",
        "        } catch (IOException e) {\n",
        "            e.printStackTrace();\n",
        "        }\n",
        "    }\n",
        "}"
      ],
      "metadata": {
        "id": "xRi4X6zpMjJR"
      },
      "execution_count": null,
      "outputs": []
    },
    {
      "cell_type": "code",
      "source": [
        "import java.io.BufferedReader;\n",
        "import java.io.FileReader;\n",
        "import java.io.IOException;\n",
        "# En estas líneas, se están importando las clases necesarias del paquete java.io.\n",
        "# Estas clases son necesarias para trabajar con entrada y salida de datos,\n",
        "# específicamente para leer archivos. BufferedReader se utiliza para leer el archivo\n",
        "# de manera eficiente, y FileReader se utiliza para abrir el archivo para lectura.\n",
        "# IOException se maneja para gestionar excepciones relacionadas con operaciones\n",
        "# de entrada/salida que pueden producirse al trabajar con archivos."
      ],
      "metadata": {
        "id": "vj0ep8N8fTMJ"
      },
      "execution_count": null,
      "outputs": []
    },
    {
      "cell_type": "markdown",
      "source": [
        "En estas líneas, se están importando las clases necesarias del paquete java.io. Estas clases son necesarias para trabajar con entrada y salida de datos, específicamente para leer archivos. BufferedReader se utiliza para leer el archivo de manera eficiente, y FileReader se utiliza para abrir el archivo para lectura. IOException se maneja para gestionar excepciones relacionadas con operaciones de entrada/salida que pueden producirse al trabajar con archivos."
      ],
      "metadata": {
        "id": "yWHqpgr_fG7E"
      }
    },
    {
      "cell_type": "code",
      "source": [
        "public class LeerArchivoFES {\n",
        "\n",
        "# Aquí se define una clase llamada LeerArchivoFES. Todas las líneas de código pertenecen a esta clase."
      ],
      "metadata": {
        "id": "1ARWhJjNfXL5"
      },
      "execution_count": null,
      "outputs": []
    },
    {
      "cell_type": "code",
      "source": [
        "public static void main(String[] args) {\n",
        "# Comienza el método principal (main) que es el punto de entrada para la ejecución del programa."
      ],
      "metadata": {
        "id": "udEn9GwKgEYF"
      },
      "execution_count": null,
      "outputs": []
    },
    {
      "cell_type": "code",
      "source": [
        "String rutaArchivo = \"archivo.fes\"; // Reemplaza con la ruta correcta de tu archivo .fes\n",
        "# Se define una cadena (String) llamada rutaArchivo que almacena la ruta del archivo que se va a leer.\n",
        "# Se proporciona un comentario para indicar que se debe reemplazar con la ruta correcta del archivo .fes."
      ],
      "metadata": {
        "id": "fnWw5bc4gfRS"
      },
      "execution_count": null,
      "outputs": []
    },
    {
      "cell_type": "code",
      "source": [
        " try (BufferedReader br = new BufferedReader(new FileReader(rutaArchivo))) {\n",
        "# Se inicia un bloque try para manejar las operaciones que pueden lanzar excepciones.\n",
        "# Aquí se está creando un objeto BufferedReader que envuelve un objeto FileReader\n",
        "# para leer el archivo especificado en rutaArchivo."
      ],
      "metadata": {
        "id": "6QONIGLEhGH-"
      },
      "execution_count": null,
      "outputs": []
    },
    {
      "cell_type": "code",
      "source": [
        "String linea;\n",
        "while ((linea = br.readLine()) != null) {\n",
        "# Dentro de un bucle while, se lee cada línea del archivo usando readLine() del objeto BufferedReader.\n",
        "# El bucle se ejecuta mientras haya más líneas en el archivo (readLine()\n",
        "# devuelve null cuando alcanza el final del archivo)."
      ],
      "metadata": {
        "id": "c36_BGqejC-C"
      },
      "execution_count": null,
      "outputs": []
    },
    {
      "cell_type": "code",
      "source": [
        "System.out.println(linea);\n",
        "# Cada línea leída se imprime en la consola usando System.out.println()."
      ],
      "metadata": {
        "id": "C-aZ5AfJjC29"
      },
      "execution_count": null,
      "outputs": []
    },
    {
      "cell_type": "code",
      "source": [
        "   }\n",
        "        } catch (IOException e) {\n",
        "            e.printStackTrace();\n",
        "        }\n",
        "# Se captura cualquier excepción de tipo IOException que pueda ocurrir durante la lectura del archivo.\n",
        "# En caso de una excepción, se imprime la traza de la excepción en la consola mediante e.printStackTrace()."
      ],
      "metadata": {
        "id": "ZUc8A82ajZi3"
      },
      "execution_count": null,
      "outputs": []
    },
    {
      "cell_type": "code",
      "source": [
        "    }\n",
        "}\n",
        "# El bloque try-catch envuelve todo el código y maneja las excepciones relacionadas con la lectura del archivo.\n",
        "# La finalidad de este programa es leer un archivo llamado \"archivo.fes\" (se espera que sea un archivo de texto)\n",
        "# y mostrar su contenido en la consola. Es una operación común al trabajar con archivos para realizar\n",
        "# tareas como la lectura de configuraciones, datos, o cualquier tipo de información almacenada en un archivo."
      ],
      "metadata": {
        "id": "RKk125iBjkho"
      },
      "execution_count": null,
      "outputs": []
    },
    {
      "cell_type": "markdown",
      "source": [],
      "metadata": {
        "id": "A4xUlov8WLa4"
      }
    },
    {
      "cell_type": "markdown",
      "source": [],
      "metadata": {
        "id": "DEkZbgkffG4I"
      }
    },
    {
      "cell_type": "markdown",
      "source": [],
      "metadata": {
        "id": "HU2N_O3FfG1i"
      }
    },
    {
      "cell_type": "markdown",
      "source": [],
      "metadata": {
        "id": "jJ21UdI5Mk6D"
      }
    },
    {
      "cell_type": "code",
      "source": [
        "import java.io.BufferedWriter;\n",
        "import java.io.FileWriter;\n",
        "import java.io.IOException;\n",
        "\n",
        "public class CrearArchivoFES {\n",
        "    public static void main(String[] args) {\n",
        "        String rutaArchivo = \"archivo.fes\"; // Nombre del archivo .fes\n",
        "\n",
        "        try (BufferedWriter bw = new BufferedWriter(new FileWriter(rutaArchivo))) {\n",
        "            // Escribir contenido en el archivo\n",
        "            bw.write(\"Hola, esto es un archivo .fes\");\n",
        "            // Puedes agregar más líneas según sea necesario\n",
        "\n",
        "            System.out.println(\"Archivo creado correctamente: \" + rutaArchivo);\n",
        "        } catch (IOException e) {\n",
        "            e.printStackTrace();\n",
        "        }\n",
        "    }\n",
        "}"
      ],
      "metadata": {
        "id": "G9jnA0zDMn6-"
      },
      "execution_count": null,
      "outputs": []
    },
    {
      "cell_type": "markdown",
      "source": [
        "El código de arriba, escrito en Java tiene el propósito de crear un archivo con extensión \".fes\" y escribir en él el texto \"Hola, esto es un archivo .fes\".\n",
        "\n",
        "1.- import java.io.BufferedWriter;: Importa la clase BufferedWriter desde el paquete java.io. Esta clase se utiliza para escribir texto de manera eficiente en un flujo de salida.\n",
        "\n",
        "2.- import java.io.FileWriter;: Importa la clase FileWriter desde el paquete java.io. Esta clase se utiliza para escribir caracteres en un archivo.\n",
        "\n",
        "3.- import java.io.IOException;: Importa la excepción IOException desde el paquete java.io. IOException es una excepción común que puede ocurrir al trabajar con operaciones de entrada/salida (I/O).\n",
        "\n",
        "4.- public class CrearArchivoFES {: Define la clase principal llamada CrearArchivoFES.\n",
        "\n",
        "5.- public static void main(String[] args) {: Define el método principal main que se ejecuta cuando se inicia el programa.\n",
        "\n",
        "6.- String rutaArchivo = \"archivo.fes\";: Crea una cadena llamada rutaArchivo y le asigna el valor \"archivo.fes\". Esta será la ruta y el nombre del archivo que se creará.\n",
        "\n",
        "7.- try (BufferedWriter bw = new BufferedWriter(new FileWriter(rutaArchivo))) {: Inicia un bloque try para manejar operaciones que pueden lanzar excepciones. Dentro de este bloque, se crea un objeto BufferedWriter que envuelve un FileWriter para escribir en el archivo especificado por rutaArchivo. El uso de try-with-resources garantiza que el BufferedWriter se cierre automáticamente al salir del bloque try.\n",
        "\n",
        "8.- bw.write(\"Hola, esto es un archivo .fes\");: Escribe la cadena \"Hola, esto es un archivo .fes\" en el archivo utilizando el BufferedWriter.\n",
        "\n",
        "9.- System.out.println(\"Archivo creado correctamente: \" + rutaArchivo);: Imprime en la consola un mensaje indicando que el archivo se ha creado correctamente, junto con la ruta y el nombre del archivo.\n",
        "\n",
        "10.- } catch (IOException e) {: Inicia el bloque catch para manejar excepciones del tipo IOException. Si ocurre algún problema durante la escritura del archivo, se imprime el rastreo de la excepción.\n",
        "\n",
        "11.- e.printStackTrace();: Imprime el rastreo de la excepción en la consola. Esto es útil para depurar y entender la causa del error en caso de que ocurra una excepción durante la escritura del archivo.\n",
        "\n",
        "12.- }: Cierra el bloque try-catch.\n",
        "\n",
        "En resumen, este programa Java crea un archivo llamado \"archivo.fes\", escribe la cadena \"Hola, esto es un archivo .fes\" en él y luego imprime un mensaje en la consola indicando que el archivo se ha creado correctamente."
      ],
      "metadata": {
        "id": "cRVVzPRjMy1N"
      }
    },
    {
      "cell_type": "code",
      "source": [
        "import java.io.BufferedReader;\n",
        "import java.io.FileReader;\n",
        "import java.io.IOException;\n",
        "\n",
        "public class LeerArchivoFES {\n",
        "    public static void main(String[] args) {\n",
        "        String rutaArchivo = \"archivo.fes\"; // Nombre del archivo .fes\n",
        "\n",
        "        try (BufferedReader br = new BufferedReader(new FileReader(rutaArchivo))) {\n",
        "            String linea;\n",
        "            while ((linea = br.readLine()) != null) {\n",
        "                System.out.println(linea);\n",
        "            }\n",
        "        } catch (IOException e) {\n",
        "            e.printStackTrace();\n",
        "        }\n",
        "    }\n",
        "}"
      ],
      "metadata": {
        "id": "_9H9now5MzNC"
      },
      "execution_count": null,
      "outputs": []
    },
    {
      "cell_type": "markdown",
      "source": [
        "1.- import java.io.BufferedReader;: Importa la clase BufferedReader desde el paquete java.io. BufferedReader se utiliza para leer texto de un flujo de entrada de caracteres de manera eficiente.\n",
        "\n",
        "2.- import java.io.FileReader;: Importa la clase FileReader desde el paquete java.io. FileReader se utiliza para leer caracteres desde un archivo.\n",
        "\n",
        "3.- import java.io.IOException;: Importa la excepción IOException desde el paquete java.io. IOException es una excepción común que puede ocurrir al trabajar con operaciones de entrada/salida (I/O).\n",
        "\n",
        "4.- public class LeerArchivoFES {: Define la clase llamada LeerArchivoFES.\n",
        "\n",
        "5.- public static void main(String[] args) {: Define el método principal main que se ejecuta cuando se inicia el programa.\n",
        "\n",
        "6.- String rutaArchivo = \"archivo.fes\";: Crea una cadena llamada rutaArchivo y le asigna el valor \"archivo.fes\". Esta será la ruta y el nombre del archivo que se leerá.\n",
        "\n",
        "7.- try (BufferedReader br = new BufferedReader(new FileReader(rutaArchivo))) {: Inicia un bloque try para manejar operaciones que pueden lanzar excepciones. Dentro de este bloque, se crea un objeto BufferedReader que envuelve un FileReader para leer el archivo especificado por rutaArchivo. El uso de try-with-resources garantiza que el BufferedReader se cierre automáticamente al salir del bloque try.\n",
        "\n",
        "8.- String linea;: Declara una variable linea de tipo String que se utilizará para almacenar cada línea leída del archivo.\n",
        "\n",
        "9.- while ((linea = br.readLine()) != null) {: Inicia un bucle while que continúa leyendo líneas del archivo hasta que se alcance el final del archivo (cuando readLine() devuelve null). Cada línea se asigna a la variable linea.\n",
        "\n",
        "10.- System.out.println(linea);: Imprime la línea actual en la consola.\n",
        "\n",
        "11.-}: Cierra el bucle while.\n",
        "\n",
        "12.- } catch (IOException e) {: Inicia el bloque catch para manejar excepciones del tipo IOException. Si ocurre algún problema durante la lectura del archivo, se imprime el rastreo de la excepción.\n",
        "\n",
        "13.- e.printStackTrace();: Imprime el rastreo de la excepción en la consola en caso de que haya un error durante la lectura del archivo.\n",
        "\n",
        "14.- }: Cierra el bloque try-catch.\n",
        "\n",
        "En resumen, este programa Java lee el contenido del archivo \"archivo.fes\" línea por línea y lo imprime en la consola. Se relaciona con el primer programa en el sentido de que ambos trabajan con el mismo archivo (\"archivo.fes\"). El primero crea el archivo y escribe en él, mientras que el segundo lo lee y muestra su contenido. Puedes pensar en ellos como un programa de escritura y un programa de lectura que trabajan juntos para manipular un archivo de texto."
      ],
      "metadata": {
        "id": "v-jfxhD3kmz5"
      }
    },
    {
      "cell_type": "code",
      "source": [
        "# Crear un programa que sea capaz de leer una cadena con números pares"
      ],
      "metadata": {
        "id": "pCeTm6PwWNn6"
      },
      "execution_count": null,
      "outputs": []
    },
    {
      "cell_type": "code",
      "source": [],
      "metadata": {
        "id": "WKxo8dRWbmhI"
      },
      "execution_count": null,
      "outputs": []
    },
    {
      "cell_type": "code",
      "source": [
        "# Crear un programa que sea capaz de leer una cadena con números impares"
      ],
      "metadata": {
        "id": "uyi81rLUWVk1"
      },
      "execution_count": null,
      "outputs": []
    },
    {
      "cell_type": "code",
      "source": [
        "# Alfabeto {0,1}\n",
        "#        0      1\n",
        "# q0*   q0    q1\n",
        "# q1    q1    q0\n",
        "\n",
        "\n",
        "# Par dl número 1\n",
        "\n",
        "package fes.aragon.pruebas;\n",
        "\n",
        "\n",
        "public class ParUno{\n",
        "    public static void main(String[ ] args){\n",
        "        String palabra = \"1010011\";\n",
        "        int indice = 0;\n",
        "        While (indice <= palabra.legth () - 1){\n",
        "            char c = palabra.charAt(indice);\n",
        "            swich (estadio){ : # if (estado == 0){\n",
        "                 case = 0:\n",
        "                 if (c == '1'){\n",
        "                     estado = 1;\n",
        "                     }else if (C == '0' ) {\n",
        "                          estado = 0;\n",
        "                     }\n",
        "                     break;\n",
        "                 case = 1:\n",
        "                 if (c == '1'){\n",
        "                     estado = 0;\n",
        "                     }else if (C == '0' ) {\n",
        "                          estado = 1;\n",
        "                     }\n",
        "                     break;\n",
        "                 }\n",
        "\n",
        "             }\n",
        "             indice++;\n",
        "        }\n",
        "\n",
        "    }\n",
        "\n",
        "}"
      ],
      "metadata": {
        "id": "uCR12xfXbnNx"
      },
      "execution_count": null,
      "outputs": []
    }
  ]
}