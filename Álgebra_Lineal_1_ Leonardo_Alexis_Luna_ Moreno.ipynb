{
  "nbformat": 4,
  "nbformat_minor": 0,
  "metadata": {
    "colab": {
      "name": "Álgebra Lineal 1 ",
      "provenance": [],
      "authorship_tag": "ABX9TyPu5Qr+pXbT0jwR36jw5COM",
      "include_colab_link": true
    },
    "kernelspec": {
      "name": "python3",
      "display_name": "Python 3"
    },
    "language_info": {
      "name": "python"
    }
  },
  "cells": [
    {
      "cell_type": "markdown",
      "metadata": {
        "id": "view-in-github",
        "colab_type": "text"
      },
      "source": [
        "<a href=\"https://colab.research.google.com/github/leonardolunamoreno/Computadoras-y-programaci-n2021-grupo-1157/blob/main/%C3%81lgebra_Lineal_1_%20Leonardo_Alexis_Luna_%20Moreno.ipynb\" target=\"_parent\"><img src=\"https://colab.research.google.com/assets/colab-badge.svg\" alt=\"Open In Colab\"/></a>"
      ]
    },
    {
      "cell_type": "markdown",
      "source": [
        "##Hechos fundamentales sobre las líneas rectas"
      ],
      "metadata": {
        "id": "vDYifwEfNRU-"
      }
    },
    {
      "cell_type": "code",
      "execution_count": 5,
      "metadata": {
        "colab": {
          "base_uri": "https://localhost:8080/"
        },
        "id": "qXmc65vdJSwy",
        "outputId": "d008a0b1-ba52-4366-cfa0-cea07fda7f9e"
      },
      "outputs": [
        {
          "output_type": "stream",
          "name": "stdout",
          "text": [
            "Ingrese la coordenada ysub2: 10\n",
            "Ingrese la coordenada ysub1: -2\n",
            "Ingrese la coordenada xsub2: 8\n",
            "Ingrese la coordenada xsub1: 2\n",
            "m = 2.0\n",
            "fin del programa\n"
          ]
        }
      ],
      "source": [
        "# Hecho 1. \n",
        "# La pendiente de una recta que pasa por los puntos (x1,y1) y (x2,y2) está dada por: \n",
        "\n",
        "#  m = (y2 -y1) / (x2 - x1) = diferencial y / diferencial x ; siempre y cuando  x1 =\n",
        "\n",
        "# El siguiente programa puede calcular la pendiente m \n",
        "y2 = int(input(\"Ingrese la coordenada ysub2: \"))\n",
        "y1 = int(input(\"Ingrese la coordenada ysub1: \"))\n",
        "x2 = int(input(\"Ingrese la coordenada xsub2: \"))\n",
        "x1 = int(input(\"Ingrese la coordenada xsub1: \"))\n",
        "if x2 - x1 is not 0:       # aquí \"is not\" es un método reservado de python que funciona como una desigualdad\n",
        "    m = (y2 -y1) / (x2 - x1)\n",
        "    print(f\"m = {m}\")\n",
        "print(\"fin del programa\")"
      ]
    },
    {
      "cell_type": "code",
      "source": [
        "y2 = int(input(\"Ingrese la coordenada ysub2: \"))\n",
        "y1 = int(input(\"Ingrese la coordenada ysub1: \"))\n",
        "x2 = int(input(\"Ingrese la coordenada xsub2: \"))\n",
        "x1 = int(input(\"Ingrese la coordenada xsub1: \"))\n",
        "if x2 - x1 != 0:       # aquí \"!=\" es un operador de python que funciona como una desigualdad\n",
        "    m = (y2 -y1) / (x2 - x1)\n",
        "    print(f\"m = {m}\")\n",
        "print(\"fin del programa\")"
      ],
      "metadata": {
        "colab": {
          "base_uri": "https://localhost:8080/"
        },
        "id": "P4IZ9fPVM_6P",
        "outputId": "adc1b19f-0419-4397-cdc5-2ff568d8adce"
      },
      "execution_count": 6,
      "outputs": [
        {
          "output_type": "stream",
          "name": "stdout",
          "text": [
            "Ingrese la coordenada ysub2: 10\n",
            "Ingrese la coordenada ysub1: -2\n",
            "Ingrese la coordenada xsub2: 8\n",
            "Ingrese la coordenada xsub1: 2\n",
            "m = 2.0\n",
            "fin del programa\n"
          ]
        }
      ]
    },
    {
      "cell_type": "markdown",
      "source": [
        "El hecho 1, está descrito mediante 2 programas que en escencia calculan el mismo valor, a saber la pendiente m. \n",
        "La diferencia es que en la sentencia condicional if, del primer código se utiliza \"is not\", y en cambio en el segundo código se utiliza \" != \", ambos operadores o métodos funcionan para indicar que un parametro es distinto respecto de otro. "
      ],
      "metadata": {
        "id": "iLmgwZrHO3xw"
      }
    },
    {
      "cell_type": "code",
      "source": [
        "# Hecho 2 \n",
        "# Sí x2 - x1 == 0   y   y2 != y1 , entonces la recta es vertical y se dice que la pendiente es indefinida. "
      ],
      "metadata": {
        "id": "o-XsF9kfO_p4"
      },
      "execution_count": 22,
      "outputs": []
    },
    {
      "cell_type": "code",
      "source": [
        "# Hecho 3 \n",
        "# Cualquier recta (a excepción de aquella que tiene una pendiente indefinida) se puede describir al escribr su ecuacón en la forma \n",
        "# pendiente - ordenada y = mx + b, donde m es la pendiente de la recta y b es la ordenada (el valor de y en el punto en el que la recta cruza el eje y) "
      ],
      "metadata": {
        "id": "N_yH43tVRW1e"
      },
      "execution_count": null,
      "outputs": []
    },
    {
      "cell_type": "code",
      "source": [
        "# Hecho 4 \n",
        "# Dos rectas distintas son paralelas si y sólo si tienen la misma pendiente\n",
        "print(\"Ingrese las coordenadas de la pendiente m1\")\n",
        "y2 = int(input(\"Ingrese la coordenada ysub2: \"))\n",
        "y1 = int(input(\"Ingrese la coordenada ysub1: \"))\n",
        "x2 = int(input(\"Ingrese la coordenada xsub2: \"))\n",
        "x1 = int(input(\"Ingrese la coordenada xsub1: \"))\n",
        "m1 = (y2 - y1) / (x2 - x1)\n",
        "print(\"Ingrese las coordenadas de la pendiente m2\")\n",
        "y2 = int(input(\"Ingrese la coordenada ysub2: \"))\n",
        "y1 = int(input(\"Ingrese la coordenada ysub1: \"))\n",
        "x2 = int(input(\"Ingrese la coordenada xsub2: \"))\n",
        "x1 = int(input(\"Ingrese la coordenada xsub1: \"))\n",
        "m2 = (y2 - y1) / (x2 - x1)\n",
        "if m1 != m2: \n",
        "    print(f\"Las rectas L1 y L2 no son paralelas por que el valor de su pendiente es diferente {m1} // = {m2}\")\n",
        "else: \n",
        "    print(f\"Las rectas L1 y L2 son paralelas por que el valor de sus pendientes es el mismo {m1} = {m2}\")\n",
        "\n",
        "# Este algoritmo determina si dos rectas L1 y L2 son paralelas, dependiendo del valor de sus pendientes "
      ],
      "metadata": {
        "colab": {
          "base_uri": "https://localhost:8080/"
        },
        "id": "MkgmnhCLUsAs",
        "outputId": "44b2881e-7ed7-4812-82c7-618b0a8b3571"
      },
      "execution_count": 20,
      "outputs": [
        {
          "output_type": "stream",
          "name": "stdout",
          "text": [
            "Ingrese las coordenadas de la pendiente m1\n",
            "Ingrese la coordenada ysub2: 7\n",
            "Ingrese la coordenada ysub1: 5\n",
            "Ingrese la coordenada xsub2: 8\n",
            "Ingrese la coordenada xsub1: 4\n",
            "Ingrese las coordenadas de la pendiente m2\n",
            "Ingrese la coordenada ysub2: 3\n",
            "Ingrese la coordenada ysub1: 7\n",
            "Ingrese la coordenada xsub2: 2\n",
            "Ingrese la coordenada xsub1: 7\n",
            "Las rectas L1 y L2 no son paralelas por que el valor de su pendiente es diferente 0.5 // = 0.8\n"
          ]
        }
      ]
    },
    {
      "cell_type": "code",
      "source": [
        "# Hecho 5 \n",
        "# Sí la ecuación de la recta se escribe en la forma ax + by = c, (b is not 0), entonces se puede calcular fácilmente,m = -(a/b)\n",
        "# Es decir sí se tiene una ecuación como 3x + 5b = c, donde a = 3 y b = 5, un algoritmo calcularia lo siguiente \n",
        "print(\"Sí se tiene una ecuación del tipo ax + by = c , ingrese los valores de a y b para obtener la pendiente de la recta dada por la ecuación.\")\n",
        "a = int(input(\"Ingrese el valor de a: \"))\n",
        "b = int(input(\"Ingrese el valor de b: \"))\n",
        "m = -(a/b)\n",
        "print(f\"m ={m}\")"
      ],
      "metadata": {
        "colab": {
          "base_uri": "https://localhost:8080/"
        },
        "id": "LcTdCEkWiUvV",
        "outputId": "71e88759-ba9c-4f9b-a407-8fb5ca8201c0"
      },
      "execution_count": 23,
      "outputs": [
        {
          "output_type": "stream",
          "name": "stdout",
          "text": [
            "Sí se tiene una ecuación del tipo ax + by = c , ingrese los valores de a y b para obtener la pendiente de la recta dada por la ecuación\n",
            "Ingrese el valor de a: 1\n",
            "Ingrese el valor de b: -1\n",
            "m =1.0\n"
          ]
        }
      ]
    },
    {
      "cell_type": "code",
      "source": [
        "# Hecho 6 \n",
        "# Sí m1 es la pendiente de la recta L1, m2 es la pendiente de la recta L2, m1 != 0 y L1 y L2 son perpendiculares, entonces \n",
        "# m2 = -1 / m1 \n",
        "print(\"Ingrese las coordenadas de la pendiente m1\")\n",
        "y2 = int(input(\"Ingrese la coordenada ysub2: \"))\n",
        "y1 = int(input(\"Ingrese la coordenada ysub1: \"))\n",
        "x2 = int(input(\"Ingrese la coordenada xsub2: \"))\n",
        "x1 = int(input(\"Ingrese la coordenada xsub1: \"))\n",
        "m1 = (y2 - y1) / (x2 - x1)\n",
        "if m1 is not 0: \n",
        "    m2 = (-1 / m1)\n",
        "    print(f\"m2 = {m2}\")\n",
        "# El programa obtiene el valor de la pendiente m2, y como puede notarse, es el negativo de la inversa de la pendiente m1"
      ],
      "metadata": {
        "colab": {
          "base_uri": "https://localhost:8080/"
        },
        "id": "RqVlTd_pR_au",
        "outputId": "3b3816e3-b913-4a71-e37f-c109dc5f66f2"
      },
      "execution_count": 9,
      "outputs": [
        {
          "output_type": "stream",
          "name": "stdout",
          "text": [
            "Ingrese las coordenadas de la pendiente m1\n",
            "Ingrese la coordenada ysub2: 15\n",
            "Ingrese la coordenada ysub1: 5\n",
            "Ingrese la coordenada xsub2: 4\n",
            "Ingrese la coordenada xsub1: 2\n",
            "m2 = -0.2\n"
          ]
        }
      ]
    },
    {
      "cell_type": "code",
      "source": [
        "# Hecho 7 \n",
        "# Las rectas paralelas al eje x tienen una pendiente cero\n",
        "y2 = int(input(\"Ingrese la coordenada ysub2: \"))\n",
        "y1 = int(input(\"Ingrese la coordenada ysub1: \"))\n",
        "x2 = int(input(\"Ingrese la coordenada xsub2: \"))\n",
        "x1 = int(input(\"Ingrese la coordenada xsub1: \"))\n",
        "m = (y2 - y1) / (x2 - x1) \n",
        "if m == 0:       # Aquí podría agregar la ecuación de la recta, es decir escribirla y agregarla como input, y después agregar tal input con una llave {}\n",
        "    print(f\"La recta tiene pendiente m = {m}, y por lo tanto es paralela al eje x\")\n",
        "else: \n",
        "    print(f\"La pendiente es m = {m}\")"
      ],
      "metadata": {
        "colab": {
          "base_uri": "https://localhost:8080/"
        },
        "id": "4GGUW5AZkeiv",
        "outputId": "4d815798-3595-489a-9c90-60e7936aec84"
      },
      "execution_count": 26,
      "outputs": [
        {
          "output_type": "stream",
          "name": "stdout",
          "text": [
            "Ingrese la coordenada ysub2: 56\n",
            "Ingrese la coordenada ysub1: 34\n",
            "Ingrese la coordenada xsub2: 4\n",
            "Ingrese la coordenada xsub1: 5\n",
            "La pendiente es m = -22.0\n"
          ]
        }
      ]
    },
    {
      "cell_type": "code",
      "source": [
        "# Hehco 8 \n",
        "# Las rectas paralelas al eje y tienen una pendiente indefinida, esto es, cuando el denominador x2 - x1 es igual a 0\n",
        "\n",
        "\n",
        "# Como python no permite la propia división por cero, omitimos el tratar de agregar la sentencia al código \n",
        "# más sin embargo si podría colocarse un letrero advirtiendo sobre la división entre cero, por otra parte, al no avisar al usuario \n",
        "# tal situaciñon podría considerarse un bug, ¿Cómo se podría solucionar ese problema? "
      ],
      "metadata": {
        "id": "21nQZthEmFXJ"
      },
      "execution_count": 27,
      "outputs": []
    },
    {
      "cell_type": "markdown",
      "source": [
        ""
      ],
      "metadata": {
        "id": "tVrrjOLJR-BZ"
      }
    }
  ]
}