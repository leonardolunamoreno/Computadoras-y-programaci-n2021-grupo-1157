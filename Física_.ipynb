{
  "nbformat": 4,
  "nbformat_minor": 0,
  "metadata": {
    "colab": {
      "name": "Física .ipynb",
      "provenance": [],
      "collapsed_sections": [],
      "authorship_tag": "ABX9TyOJlJFLqsgZGgTZYwHZrLqz",
      "include_colab_link": true
    },
    "kernelspec": {
      "name": "python3",
      "display_name": "Python 3"
    },
    "language_info": {
      "name": "python"
    }
  },
  "cells": [
    {
      "cell_type": "markdown",
      "metadata": {
        "id": "view-in-github",
        "colab_type": "text"
      },
      "source": [
        "<a href=\"https://colab.research.google.com/github/leonardolunamoreno/Computadoras-y-programaci-n2021-grupo-1157/blob/main/F%C3%ADsica_.ipynb\" target=\"_parent\"><img src=\"https://colab.research.google.com/assets/colab-badge.svg\" alt=\"Open In Colab\"/></a>"
      ]
    },
    {
      "cell_type": "code",
      "execution_count": null,
      "metadata": {
        "id": "320bBG_ewwP6"
      },
      "outputs": [],
      "source": [
        "Vsub0 = int(input(\"Ingrese el volumen inicial: \"))\n",
        "Beta = int(input(\"Ingrese el coeficiente térmico de expansión de volumen: \"))\n",
        "Tsub0 = int(input(\"Ingrese la temperatura inicial: \"))\n",
        "Tsub1 = int(input(\"Ingrese la temperatura final: \"))\n",
        "Psub0 = int(input(\"Ingrese la presión inicial: \"))\n",
        "Psub1 = int(input(\"Ingrese la presión final: \"))\n",
        "k = "
      ]
    },
    {
      "cell_type": "code",
      "source": [
        "#Capítulo 11 \n",
        "#11.4 esfuerzo, deformación y módulos de elasticidad\n",
        "#Ecuación 11.7 Ley de Hooke\n",
        "print(\"Como usted sabe, no se permite la división entre 0, así que, abstenngase de ingresar un valor 0 para la deformación\")\n",
        "Esfuerzo = int(input(\"Ingrese el Esfuerzo: \"))\n",
        "Deformación = int(input(\"Ingrese la Deformación del cuerpo: \"))\n",
        "Módulodelasticidad = (Esfuerzo / Deformación)\n",
        "print(f\"El Módulo de elasticidad es: {Módulodelasticidad}\")\n",
        "print(\"+++++++++++++++++++++++++++++++++++++++++++++\")\n",
        "\n",
        "Fsymperpendicular = float(input(\"Ingrese el valor de las fuerzas, considerese que la fuerza está dada en Newtons, 1 newton es igual al producto de la masa de un cuerpo por su aceleración en el espacio: \" ))\n",
        "A = float(input(\"Ingrese el área de la sección transversal donde actúan las fuerzas, considerese que el área está dada en metros cuadrados: \"))\n",
        "EsfuerzoDeTensión = (Fsymperpendicular / A)\n",
        "if A =\\ 0: \n",
        "    print(f\"El esfuerzo de tensión es: {EsfuerzoDeTensión} Newtons / m^2\n",
        "else:\n",
        "   print(\"No es posible la división entre 0, en este caso mientras que el área disminuye, el valor de El esfuerzo de tensión tiende al infinito\")\n",
        "# Considera que en el caso 'ideal' se aplican fuerzas de igual magnitud, pero de direcciones opuestas en los extremos de la barra, esto garantiza que el objeto no tenderá a moverse a la izquierda ni a la derecha \")\n",
        "# He encontrado un caso curioso, no se puede dividir sobre 0 tanto con la variable int como con la variable float\n",
        "# Aun no he consultado si existe solución a tal problema, pero en el código se especifica de forma explicita que no es posible \n",
        "# La división sobre 0"
      ],
      "metadata": {
        "id": "oVVzW3vxy3kN",
        "colab": {
          "base_uri": "https://localhost:8080/",
          "height": 130
        },
        "outputId": "250bc2ec-61c9-41d5-e59e-94563b78d266"
      },
      "execution_count": null,
      "outputs": [
        {
          "output_type": "error",
          "ename": "SyntaxError",
          "evalue": "ignored",
          "traceback": [
            "\u001b[0;36m  File \u001b[0;32m\"<ipython-input-28-e40b6f18e11e>\"\u001b[0;36m, line \u001b[0;32m14\u001b[0m\n\u001b[0;31m    if A =\\ 0:\u001b[0m\n\u001b[0m         ^\u001b[0m\n\u001b[0;31mSyntaxError\u001b[0m\u001b[0;31m:\u001b[0m invalid syntax\n"
          ]
        }
      ]
    },
    {
      "cell_type": "code",
      "source": [
        "Fsymperpendicular = float(input(\"Ingrese el valor de las fuerzas, considerese que la fuerza está dada en Newtons, 1 newton es igual al producto de la masa de un cuerpo por su aceleración en el espacio: \" ))\n",
        "A = float(input(\"Ingrese el área de la sección transversal donde actúan las fuerzas, considerese que el área está dada en metros cuadrados: \"))\n",
        "EsfuerzoDeTensión = (Fsymperpendicular / A)\n",
        "if A == 0: \n",
        "    print(\"No es posible la división entre 0, en este caso mientras que el área disminuye, el valor de El esfuerzo de tensión tiende al infinito\")\n",
        "else:\n",
        "    print(f\"El esfuerzo de tensión es: {EsfuerzoDeTensión} Newtons / m^2\")\n",
        " \n",
        "# Considera que en el caso 'ideal' se aplican fuerzas de igual magnitud, pero de direcciones opuestas en los extremos de la barra, esto garantiza que el objeto no tenderá a moverse a la izquierda ni a la derecha \")\n",
        "# He encontrado un caso curioso, no se puede dividir sobre 0 tanto con la variable int como con la variable float\n",
        "# Aun no he consultado si existe solución a tal problema, pero en el código se especifica de forma explicita que no es posible \n",
        "# La división sobre 0\n"
      ],
      "metadata": {
        "colab": {
          "base_uri": "https://localhost:8080/"
        },
        "id": "NbR-fdOd4G8l",
        "outputId": "648ccf12-71f3-41cf-ecd4-ab23ce2743d2"
      },
      "execution_count": null,
      "outputs": [
        {
          "output_type": "stream",
          "name": "stdout",
          "text": [
            "Ingrese el valor de las fuerzas, considerese que la fuerza está dada en Newtons, 1 newton es igual al producto de la masa de un cuerpo por su aceleración en el espacio: 100\n",
            "Ingrese el área de la sección transversal donde actúan las fuerzas, considerese que el área está dada en metros cuadrados: 5\n",
            "El esfuerzo de tensión es: 20.0 Newtons / m^2\n"
          ]
        }
      ]
    },
    {
      "cell_type": "code",
      "source": [
        "\n",
        " "
      ],
      "metadata": {
        "colab": {
          "base_uri": "https://localhost:8080/"
        },
        "id": "pNPKFO8JPAsN",
        "outputId": "b34409b8-2220-4616-cab4-cff65fd8d363"
      },
      "execution_count": null,
      "outputs": [
        {
          "output_type": "stream",
          "name": "stdout",
          "text": [
            "Ingrese el valor de las fuerzas, considerese que la fuerza está dada en Newtons, 1 newton es igual al producto de la masa de un cuerpo por su aceleración en el espacio: 29034802\n",
            "Ingrese el área de la sección transversal donde actúan las fuerzas, considerese que el área está dada en metros cuadrados: 3242\n",
            "El esfuerzo de tensión es: 8955.830351634793 Newtons / m^2\n"
          ]
        }
      ]
    }
  ]
}