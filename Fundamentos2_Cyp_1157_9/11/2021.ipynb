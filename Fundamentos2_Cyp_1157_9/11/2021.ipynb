{
  "nbformat": 4,
  "nbformat_minor": 0,
  "metadata": {
    "colab": {
      "name": "Fundamentos2_Cyp_1157.ipynb",
      "provenance": [],
      "collapsed_sections": [],
      "authorship_tag": "ABX9TyNUO+AoZPnmX/1eIowHu0Vn",
      "include_colab_link": true
    },
    "kernelspec": {
      "name": "python3",
      "display_name": "Python 3"
    },
    "language_info": {
      "name": "python"
    }
  },
  "cells": [
    {
      "cell_type": "markdown",
      "metadata": {
        "id": "view-in-github",
        "colab_type": "text"
      },
      "source": [
        "<a href=\"https://colab.research.google.com/github/leonardolunamoreno/Computadoras-y-programaci-n2021-grupo-1157/blob/main/Fundamentos2_Cyp_1157_9/11/2021.ipynb\" target=\"_parent\"><img src=\"https://colab.research.google.com/assets/colab-badge.svg\" alt=\"Open In Colab\"/></a>"
      ]
    },
    {
      "cell_type": "markdown",
      "metadata": {
        "id": "4tzSKogHwZoV"
      },
      "source": [
        "#Tuplas\n",
        "\n",
        "###Características de las tuplas \n",
        "\n",
        "-Datos agrupados \n",
        "\n",
        "-Estructura secuncial, indexada a partir de 0. \n",
        "\n",
        "-NO SON MUTABLES ( no se pueden eliminar o cambiar) \n",
        "\n",
        "-Son buenas para almacenar información de consulta \n",
        "\n",
        "-Pueden almacenar información de consulta \n",
        "\n",
        "-Pueden almacenar info. de diferentes tipos de dato\n",
        "\n",
        "-Pueden ser anidadas \n",
        "\n",
        "-Tienen métodos útiles \n",
        "\n",
        "-Se declaran de la siguiente manera \n",
        "1.-(), 2.- tuple(), 3.- \n"
      ]
    },
    {
      "cell_type": "code",
      "metadata": {
        "colab": {
          "base_uri": "https://localhost:8080/"
        },
        "id": "bc-wVU5kxWcd",
        "outputId": "07cc5207-41a9-4f48-af01-17c9544c9fa5"
      },
      "source": [
        "info = (\"juan23\" , \"dios1234\" , \"123.232.1.12\" )\n",
        "print(info)\n",
        "print(info[1])\n",
        "#info [ 1 ] = \"patito 23\" no se pueden agregar elementos a la tupla y por está razon no es mutable\n",
        "\n",
        "numeros= (0,1,2,3,4,5,6,7,8,9,10,11,12,13,14,15)\n",
        "print(numeros)\n",
        "print(numeros[5:11])\n",
        "\n",
        "cosas = (info, numeros)\n",
        "print(cosas)\n",
        "print(cosas[1][5:11]) #Aquí se selecciona la tupla 1, y después se hace slicing, en la tupla 1, seleccionando los elementos desde el 5 al 11\n",
        "\n",
        "print(cosas[0][2][4:7])\n",
        "print(cosas[0][2][-8:-5])\n",
        "\n"
      ],
      "execution_count": 14,
      "outputs": [
        {
          "output_type": "stream",
          "name": "stdout",
          "text": [
            "('juan23', 'dios1234', '123.232.1.12')\n",
            "dios1234\n",
            "(0, 1, 2, 3, 4, 5, 6, 7, 8, 9, 10, 11, 12, 13, 14, 15)\n",
            "(5, 6, 7, 8, 9, 10)\n",
            "(('juan23', 'dios1234', '123.232.1.12'), (0, 1, 2, 3, 4, 5, 6, 7, 8, 9, 10, 11, 12, 13, 14, 15))\n",
            "(5, 6, 7, 8, 9, 10)\n",
            "232\n",
            "232\n"
          ]
        }
      ]
    },
    {
      "cell_type": "markdown",
      "metadata": {
        "id": "a46bj0OC0wLe"
      },
      "source": [
        "#Métodos de las tuplas \n",
        "\n",
        "Son los mismos de las listas pero unicamente los que no involucran mutabilidad"
      ]
    },
    {
      "cell_type": "code",
      "metadata": {
        "colab": {
          "base_uri": "https://localhost:8080/"
        },
        "id": "XFD4l2ik03G9",
        "outputId": "049f90f8-4d1e-4fa1-f0ec-4d072863891e"
      },
      "source": [
        "dir(tuple)"
      ],
      "execution_count": 16,
      "outputs": [
        {
          "output_type": "execute_result",
          "data": {
            "text/plain": [
              "['__add__',\n",
              " '__class__',\n",
              " '__contains__',\n",
              " '__delattr__',\n",
              " '__dir__',\n",
              " '__doc__',\n",
              " '__eq__',\n",
              " '__format__',\n",
              " '__ge__',\n",
              " '__getattribute__',\n",
              " '__getitem__',\n",
              " '__getnewargs__',\n",
              " '__gt__',\n",
              " '__hash__',\n",
              " '__init__',\n",
              " '__init_subclass__',\n",
              " '__iter__',\n",
              " '__le__',\n",
              " '__len__',\n",
              " '__lt__',\n",
              " '__mul__',\n",
              " '__ne__',\n",
              " '__new__',\n",
              " '__reduce__',\n",
              " '__reduce_ex__',\n",
              " '__repr__',\n",
              " '__rmul__',\n",
              " '__setattr__',\n",
              " '__sizeof__',\n",
              " '__str__',\n",
              " '__subclasshook__',\n",
              " 'count',\n",
              " 'index']"
            ]
          },
          "metadata": {},
          "execution_count": 16
        }
      ]
    },
    {
      "cell_type": "markdown",
      "metadata": {
        "id": "N9jfcgTU1chu"
      },
      "source": [
        "El método \"count\" ya lo hemos revidado, y consiste en contar las veces que se repite un determinado elemento dentro de una lista en este caso dentro de la tupla, y el método \"index\" consiste en buscar un elemento dentro de una lista, en este caso de la tupla \n",
        "\n",
        "El uso de las tuplas se puede dar cuando, en una pagina web, se guardan ciertos datos que se conservan estaticos sobre cierto programa"
      ]
    },
    {
      "cell_type": "markdown",
      "metadata": {
        "id": "sShcX6vz2wue"
      },
      "source": [
        "#Diccionarios \n",
        "\n",
        "### Características de los diccionarios \n",
        "\n",
        "- Se declaran con:\n",
        "     1.-{} \n",
        "     2.-dict () \n",
        "\n",
        "-Agrupan daos pero de forma no lineal. \n",
        "\n",
        "- Formado por pares del tipo llave:valor , es decir, los diccionarios consisten en pares ordenados, donde\n",
        "      1.- llave es del tipo string (siempre) \n",
        "      2.-Valor puede ser de cualquier tipo de dato, incluyendo los diccionarios \n",
        "\n",
        "-Se seleccionan con la llave de la forma: [\"id_llave\"]\n",
        "\n",
        "-En las listas y en las tuplas, el selector se hacia con la posición () \n",
        "\n",
        "-Son mutables \n",
        "\n",
        "-Son equivalentes al tipo de dato JSON del lenguaje JavaScript (JS)\n",
        "\n",
        "-Son anidables, es decir, se pueden colocar otras cosas dentro de las tuplas "
      ]
    },
    {
      "cell_type": "code",
      "metadata": {
        "colab": {
          "base_uri": "https://localhost:8080/"
        },
        "id": "GuFmv0hE36i8",
        "outputId": "fd05f494-1b45-4e6a-f995-dd0cd4be9839"
      },
      "source": [
        "alumno = {\"nombre\" : \"José\"}\n",
        "print(alumno) #La llave es un concepto al cual se le asigna un valor \n",
        "print(alumno[\"nombre\"])\n",
        "alumno = {\"nombre\":\"José\", \"nc\":\"98210983108\", \"edad\":18}\n",
        "print(\"Edad del alumno =\" , alumno[\"edad\"])\n",
        "print(alumno[\"nombre\"].upper())\n",
        "\n",
        "print(\"alumno2:\")\n",
        "alumno2 = dict() #{}\n",
        "alumno2[\"nombre\"] = \"José\"\n",
        "print(alumno2)\n",
        "alumno2[\"nc\"] = \"98210983108\"\n",
        "alumno2[\"edad\"] = 18 \n",
        "print(alumno2)\n",
        "alumno2[\"edad\"] = alumno [\"edad\"] + 1 #Puede modificar elementos que ya esten guardados previamente\n",
        "print(alumno2)\n"
      ],
      "execution_count": 9,
      "outputs": [
        {
          "output_type": "stream",
          "name": "stdout",
          "text": [
            "{'nombre': 'José'}\n",
            "José\n",
            "Edad del alumno = 18\n",
            "JOSÉ\n",
            "alumno2:\n",
            "{'nombre': 'José'}\n",
            "{'nombre': 'José', 'nc': '98210983108', 'edad': 18}\n",
            "{'nombre': 'José', 'nc': '98210983108', 'edad': 19}\n"
          ]
        }
      ]
    },
    {
      "cell_type": "code",
      "metadata": {
        "colab": {
          "base_uri": "https://localhost:8080/"
        },
        "id": "-0pUJfVH8Oa6",
        "outputId": "0d62f63f-62c1-4bfe-94a5-494bb3ad4d37"
      },
      "source": [
        "\n",
        "cliente = {\"id\":\"CT2121\",\n",
        "           \"nombre\":\"José Eduardo Pedroza Rosales\",\n",
        "           \"Teléfono\":\"casa=5544878787 cel:044556767677\" }\n",
        "print(cliente)    \n",
        "cliente = {\"id\":\"CT2121\" ,\n",
        "           \"nombre\": {\n",
        "               \"nombres\":[\"José\",\"Eduardo\"],\n",
        "               \"paterno\":\"Pedroza\",\n",
        "               \"materno\":\"Rosales\"\n",
        "              } ,\n",
        "           \"Teléfono\": {\n",
        "               \"casa\":\"5544878787\",\n",
        "               \"trabajo\":\"55-443-3232\",\n",
        "               \"celular\":\"044556767677\"\n",
        "            } \n",
        "            }\n",
        "print(cliente[\"Teléfono\"][\"casa\"])\n",
        "\n",
        "print(cliente)    \n",
        "cliente = {\"id\":\"CT2121\" ,\n",
        "           \"nombre\": {\n",
        "               \"nombres\":[\"José\",\"Eduardo\"],\n",
        "               \"paterno\":\"Pedroza\",\n",
        "               \"materno\":\"Rosales\"\n",
        "              } ,\n",
        "           \"Teléfono\": {\n",
        "               \"casa\":\"5544878787\",\n",
        "               \"celular\":\"044556767677\"\n",
        "            } ,\n",
        "           \"Productos\":{\n",
        "                        \"ahorro\":{ \"numero_cuenta\":\"7788\", \"ahorro\":2500.5},\n",
        "                        \"t_credito\":[\n",
        "                                     {\"tipo\":\"debito\", \"saldo\":10000.5},\n",
        "                                     {\"tipo\":\"credito preferente\",\"limite\":250000.5},\n",
        "                                     {\"tipo\":\"lite\",\"limite\":15000.5}\n",
        "                        ] ,\n",
        "                       \"direccion\":{\n",
        "                           \"calle\":\"Av central\",\n",
        "                           \"numero\":1245,\n",
        "                           \"colonia\":\"impulsora\",\n",
        "                           \"delegación\":\"neza\",\n",
        "                           \"estado\": {\n",
        "                               \"clave de estado\":15,\n",
        "                               \"nombre_corto\":\"EdoMex\",\n",
        "                               \"nombre\":\"Estado de México\"\n",
        "                           }\n",
        "                       },\n",
        "                      \n",
        "            } #Esto es una lista debido a los productos que maneja un banco\n",
        "            \n",
        "            }\n",
        "print(cliente)\n",
        "print(cliente[\"Productos\"][\"ahorro\"][\"ahorro\"])\n",
        "print(cliente[\"Productos\"][\"t_credito\"][2][\"limite\"])\n",
        "#print(cliente[\"direccion\"][\"estado\"][\"nombre\"].upper())\n"
      ],
      "execution_count": 43,
      "outputs": [
        {
          "output_type": "stream",
          "name": "stdout",
          "text": [
            "{'id': 'CT2121', 'nombre': 'José Eduardo Pedroza Rosales', 'Teléfono': 'casa=5544878787 cel:044556767677'}\n",
            "5544878787\n",
            "{'id': 'CT2121', 'nombre': {'nombres': ['José', 'Eduardo'], 'paterno': 'Pedroza', 'materno': 'Rosales'}, 'Teléfono': {'casa': '5544878787', 'trabajo': '55-443-3232', 'celular': '044556767677'}}\n",
            "{'id': 'CT2121', 'nombre': {'nombres': ['José', 'Eduardo'], 'paterno': 'Pedroza', 'materno': 'Rosales'}, 'Teléfono': {'casa': '5544878787', 'celular': '044556767677'}, 'Productos': {'ahorro': {'numero_cuenta': '7788', 'ahorro': 2500.5}, 't_credito': [{'tipo': 'debito', 'saldo': 10000.5}, {'tipo': 'credito preferente', 'limite': 250000.5}, {'tipo': 'lite', 'limite': 15000.5}], 'direccion': {'calle': 'Av central', 'numero': 1245, 'colonia': 'impulsora', 'delegación': 'neza', 'estado': {'clave de estado': 15, 'nombre_corto': 'EdoMex', 'nombre': 'Estado de México'}}}}\n",
            "2500.5\n",
            "15000.5\n"
          ]
        }
      ]
    },
    {
      "cell_type": "code",
      "metadata": {
        "id": "T6jvIRMWFUOj"
      },
      "source": [
        ""
      ],
      "execution_count": null,
      "outputs": []
    }
  ]
}