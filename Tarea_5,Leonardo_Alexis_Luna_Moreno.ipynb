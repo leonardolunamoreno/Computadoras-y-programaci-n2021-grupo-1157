{
  "nbformat": 4,
  "nbformat_minor": 0,
  "metadata": {
    "colab": {
      "name": "Tarea 5,Leonardo Alexis Luna Moreno.ipynb",
      "provenance": [],
      "collapsed_sections": [],
      "authorship_tag": "ABX9TyM3HVAdjlhpqnrITkcIzmxO",
      "include_colab_link": true
    },
    "kernelspec": {
      "name": "python3",
      "display_name": "Python 3"
    },
    "language_info": {
      "name": "python"
    }
  },
  "cells": [
    {
      "cell_type": "markdown",
      "metadata": {
        "id": "view-in-github",
        "colab_type": "text"
      },
      "source": [
        "<a href=\"https://colab.research.google.com/github/leonardolunamoreno/Computadoras-y-programaci-n2021-grupo-1157/blob/main/Tarea_5%2CLeonardo_Alexis_Luna_Moreno.ipynb\" target=\"_parent\"><img src=\"https://colab.research.google.com/assets/colab-badge.svg\" alt=\"Open In Colab\"/></a>"
      ]
    },
    {
      "cell_type": "markdown",
      "metadata": {
        "id": "HViu8jAeEhNb"
      },
      "source": [
        "1.- Hacer un programa que pida dos números enteros y que imprima en pantalla lo siguiente: \n",
        "\n",
        "¿Cuál de ellos es el número mayor?\n",
        "\n",
        "¿Cuál de ellos es el número menor?\n",
        "\n",
        "o en su defecto, indicar si los valores son iguales."
      ]
    },
    {
      "cell_type": "code",
      "metadata": {
        "colab": {
          "base_uri": "https://localhost:8080/"
        },
        "id": "sXZlypx-FrQR",
        "outputId": "9e04d930-a33f-4f1d-82ef-1583cbf5f1cb"
      },
      "source": [
        "print(\"Buenos días estimado usuario\")\n",
        "n1 = int(input(\"Escribe un número:\"))\n",
        "n2 = int(input(\"Escribe un número:\"))\n",
        "if n1 == n2: \n",
        "    print(\"Los valores de ambos números son iguales\")\n",
        "elif n1>n2:\n",
        "    print(f\"El número {n1} es mayor que el número {n2}, y el número {n2} es menor que el número {n1}\")\n",
        "else:\n",
        "    print(f\"El número{n2} es mayor que el número{n1}, \")\n",
        "print(\"Fin del programa, gracias por su tiempo\")"
      ],
      "execution_count": null,
      "outputs": [
        {
          "output_type": "stream",
          "name": "stdout",
          "text": [
            "Buenos días estimado usuario\n",
            "Escribe un número:1\n",
            "Escribe un número:2\n",
            "El número2.0 es mayor que el número1.0\n",
            "Fin del programa, gracias por su tiempo\n"
          ]
        }
      ]
    },
    {
      "cell_type": "code",
      "metadata": {
        "colab": {
          "base_uri": "https://localhost:8080/"
        },
        "id": "agFzH70NN3Ol",
        "outputId": "3a7a6791-6ea2-4fd0-d6b6-5374799576d4"
      },
      "source": [
        "print(\"Buenos días estimado usuario\")\n",
        "n1 = float(input(\"Escribe un número:\"))\n",
        "n2 = float(input(\"Escribe un número:\"))\n",
        "if n1 == n2: \n",
        "    print(\"Los valores de ambos números son iguales\")\n",
        "elif n1>n2:\n",
        "    print(f\"El número {n1} es el número mayor\")\n",
        "    print(f\"El número {n2} es el número menor\")\n",
        "else:\n",
        "    print(f\"El número {n2} es el número mayor\")\n",
        "    print(f\"El número {n1} es el número menor\")\n",
        "print(\"Fin del programa, gracias por su tiempo\")"
      ],
      "execution_count": null,
      "outputs": [
        {
          "output_type": "stream",
          "name": "stdout",
          "text": [
            "Buenos días estimado usuario\n",
            "Escribe un número:1\n",
            "Escribe un número:2\n",
            "El número 2.0 es el número mayor\n",
            "El número 1.0 es el número menor\n",
            "Fin del programa, gracias por su tiempo\n"
          ]
        }
      ]
    },
    {
      "cell_type": "markdown",
      "metadata": {
        "id": "JkVDJi_tJcfr"
      },
      "source": [
        "2.- Hacer un programa que solicite 3 números enteros diferentes entre sí y que imprima cuál de los 3 es mayor"
      ]
    },
    {
      "cell_type": "code",
      "metadata": {
        "colab": {
          "base_uri": "https://localhost:8080/"
        },
        "id": "rPEH8cQaJ4Eg",
        "outputId": "b689763d-041d-47d9-f555-12792847c8e5"
      },
      "source": [
        "print(\"Buenos días estimado usuario\")\n",
        "n1 = int(input(\"Escribe un número:\"))\n",
        "n2 = int(input(\"Escribe un número:\"))\n",
        "n3 = int(input(\"Escribe un número:\"))\n",
        "if n1 == n2 == n3: \n",
        "    print(\"El valor de los 3 números es el mismo\")\n",
        "elif n1> n2 > n3:\n",
        "    print(f\"El número {n1} es el mayor de los 3 números\")\n",
        "elif n1>n3>n2:\n",
        "    print(f\"El número {n1} es el mayor de los 3 números\")\n",
        "elif n2>n1>n3:\n",
        "    print(f\"El número {n2} es el mayor de los 3 números\")\n",
        "elif n2>n3>n1:\n",
        "    print(f\"El número {n2} es el mayor de los 3 números\")\n",
        "elif n3>n1>n2:\n",
        "    print(f\"El número {n3} es el mayor de los 3 números\")\n",
        "elif n3>n2>n1:\n",
        "    print(f\"El número {n3} es el mayor de los 3 números\")\n",
        "print(\"Fin del programa, gracias por su tiempo\")"
      ],
      "execution_count": null,
      "outputs": [
        {
          "output_type": "stream",
          "name": "stdout",
          "text": [
            "Buenos días estimado usuario\n",
            "Escribe un número:1\n",
            "Escribe un número:2\n",
            "Escribe un número:3\n",
            "El número 3 es el mayor de los 3 números\n",
            "Fin del programa, gracias por su tiempo\n"
          ]
        }
      ]
    },
    {
      "cell_type": "markdown",
      "metadata": {
        "id": "KXhGJiK-QEes"
      },
      "source": [
        "3.- Hacer un programa que solicite 3 números enteros diferentes entre sí y que imprima cual de los 3 es el menor"
      ]
    },
    {
      "cell_type": "code",
      "metadata": {
        "colab": {
          "base_uri": "https://localhost:8080/"
        },
        "id": "y80aFbSSPhR2",
        "outputId": "eb35f283-bad9-4362-9462-32ef8a684bf3"
      },
      "source": [
        "print(\"Buenos días estimado usuario\")\n",
        "n1 = int(input(\"Escribe un número:\"))\n",
        "n2 = int(input(\"Escribe un número:\"))\n",
        "n3 = int(input(\"Escribe un número:\"))\n",
        "if n1 == n2 == n3: \n",
        "    print(\"El valor de los 3 números es el mismo\")\n",
        "elif n1 < n2 < n3:\n",
        "    print(f\"El número {n1} es el menor de los 3 números\")\n",
        "elif n1 < n3 < n2:\n",
        "    print(f\"El número {n1} es el menor de los 3 números\")\n",
        "elif n2 < n1 < n3:\n",
        "    print(f\"El número {n2} es el menor de los 3 números\")\n",
        "elif n2 < n3 <n1:\n",
        "    print(f\"El número {n2} es el menor de los 3 números\")\n",
        "elif n3 < n1 < n2:\n",
        "    print(f\"El número {n3} es el menor de los 3 números\")\n",
        "elif n3 < n2 < n1:\n",
        "    print(f\"El número {n3} es el menor de los 3 números\")\n",
        "print(\"Fin del programa, gracias por su tiempo\")"
      ],
      "execution_count": null,
      "outputs": [
        {
          "output_type": "stream",
          "name": "stdout",
          "text": [
            "Buenos días estimado usuario\n",
            "Escribe un número:50\n",
            "Escribe un número:267\n",
            "Escribe un número:12\n",
            "El número 12 es el menor de los 3 números\n",
            "Fin del programa, gracias por su tiempo\n"
          ]
        }
      ]
    },
    {
      "cell_type": "markdown",
      "metadata": {
        "id": "wJzrmPkqSDFZ"
      },
      "source": [
        "4.-Hacer un progra que solicite 4 números enteros diferentes entre sí y que imprima a la salida cuál de ellos es el menor y cual de ellos es el mayor"
      ]
    },
    {
      "cell_type": "code",
      "metadata": {
        "colab": {
          "base_uri": "https://localhost:8080/"
        },
        "id": "amWOSVfFSOUz",
        "outputId": "7705d863-8352-4bdb-f583-01a5d61f7d16"
      },
      "source": [
        "print(\"Buenos días estimado usuario\")\n",
        "n1 = int(input(\"Escribe un número:\"))\n",
        "n2 = int(input(\"Escribe un número:\"))\n",
        "n3 = int(input(\"Escribe un número:\"))\n",
        "n4 = int(input(\"Escribe un número:\"))\n",
        "if n1 == n2 == n3 == n4: \n",
        "    print(\"El valor de los 4 números es el mismo\")\n",
        "elif n1 < n2 < n3 < n4 and n4 > n3 > n2 > n1:\n",
        "    print(f\"El número {n1} es el menor de los 4 números\")\n",
        "    print(f\"El número {n4} es el mayor de los 4 números\")\n",
        "elif n1 < n2 < n4 < n3 and n3 > n4 > n2 > n1 :\n",
        "    print(f\"El número {n1} es el menor de los 4 números\")\n",
        "    print(f\"El número {n3} es el mayor de los 4 números\")\n",
        "elif n1 < n4 < n3 < n2 and n2 > n3 > n4 > n1:\n",
        "    print(f\"El número {n1} es el menor de los 4 números\")\n",
        "    print(f\"El número {n2} es el mayor de los 4 números\")\n",
        "elif n2 < n3 < n1 < n4 and n4 > n1 > n3 > n2:\n",
        "    print(f\"El número {n2} es el menor de los 4 números\")\n",
        "    print(f\"El número {n4} es el mayor de los 4 números\")\n",
        "elif n2 < n1 < n4 < n3 and n3 > n4 > n1 > n2:\n",
        "    print(f\"El número {n2} es el menor de los 4 números\")\n",
        "    print(f\"El número {n3} es el mayor de los 4 números\")\n",
        "elif n2 < n3 < n4 < n1 and n1 > n4 > n3 > n2:\n",
        "    print(f\"El número {n2} es el menor de los 4 números\")\n",
        "    print(f\"El número {n1} es el mayor de los 4 números\")\n",
        "elif n3 < n1 < n2 < n4 and n4 > n2 > n1 > n3:\n",
        "    print(f\"El número {n3} es el menor de los 4 números\")\n",
        "    print(f\"El número {n4} es el mayor de los 4 números\")\n",
        "elif n3 < n1 < n4 < n2 and n2 > n4 > n1 > n3:\n",
        "    print(f\"El número {n3} es el menor de los 4 números\")\n",
        "    print(f\"El número {n2} es el mayor de los 4 números\")\n",
        "elif n3 < n4 < n2 < n1 and n1 > n2 > n4 > n3:\n",
        "    print(f\"El número {n3} es el menor de los 4 números\")\n",
        "    print(f\"El número {n1} es el mayor de los 4 números\")\n",
        "elif n4 < n3 < n2 < n1 and n1 > n2 > n3 > n4:\n",
        "    print(f\"El número {n4} es el menor de los 4 números\")\n",
        "    print(f\"El número {n1} es el mayor de los 4 números\")\n",
        "elif n4 < n1 < n3 < n2 and n2 > n3 > n1 > n4:\n",
        "    print(f\"El número {n4} es el menor de los 4 números\")\n",
        "    print(f\"El número {n2} es el mayor de los 4 números\")\n",
        "elif n4 < n1 < n2 < n3 and n3 > n2 > n1 > n4:\n",
        "    print(f\"El número {n4} es el menor de los 4 números\")\n",
        "    print(f\"El número {n3} es el mayor de los 4 números\")\n",
        "print(\"Fin del programa, gracias por su tiempo\")"
      ],
      "execution_count": 22,
      "outputs": [
        {
          "output_type": "stream",
          "name": "stdout",
          "text": [
            "Buenos días estimado usuario\n",
            "Escribe un número:4\n",
            "Escribe un número:6\n",
            "Escribe un número:9\n",
            "Escribe un número2\n",
            "El número 2 es el menor de los 4 números\n",
            "El número 9 es el mayor de los 4 números\n",
            "Fin del programa, gracias por su tiempo\n"
          ]
        }
      ]
    }
  ]
}