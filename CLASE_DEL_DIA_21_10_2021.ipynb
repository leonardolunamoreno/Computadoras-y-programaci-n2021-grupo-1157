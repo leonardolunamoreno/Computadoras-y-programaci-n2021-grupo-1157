{
  "nbformat": 4,
  "nbformat_minor": 0,
  "metadata": {
    "colab": {
      "name": "CLASE DEL DIA 21/10/2021.ipynb",
      "provenance": [],
      "collapsed_sections": [],
      "authorship_tag": "ABX9TyMCzTrdufGGrnmRSzaAqiMv",
      "include_colab_link": true
    },
    "kernelspec": {
      "name": "python3",
      "display_name": "Python 3"
    },
    "language_info": {
      "name": "python"
    }
  },
  "cells": [
    {
      "cell_type": "markdown",
      "metadata": {
        "id": "view-in-github",
        "colab_type": "text"
      },
      "source": [
        "<a href=\"https://colab.research.google.com/github/leonardolunamoreno/Computadoras-y-programaci-n2021-grupo-1157/blob/main/CLASE_DEL_DIA_21_10_2021.ipynb\" target=\"_parent\"><img src=\"https://colab.research.google.com/assets/colab-badge.svg\" alt=\"Open In Colab\"/></a>"
      ]
    },
    {
      "cell_type": "code",
      "metadata": {
        "id": "HIFtHpRcvFts"
      },
      "source": [
        "print (\"\\u0065\")\n",
        "pirnt (\"\\u0444\")\n",
        "print (\"\\u0620\")\n",
        "\n",
        "print (\"\\u000\")\n"
      ],
      "execution_count": null,
      "outputs": []
    },
    {
      "cell_type": "markdown",
      "metadata": {
        "id": "EZST3K_9vIDD"
      },
      "source": [
        "unicode-table.com/es/\n",
        "\n",
        "ascci cuadros y marcos ---> funcionan como adorno\n",
        "#Como dato: los oxos solían utilizar estos marcos para adornar su pantalla. \n",
        "\n",
        "#La función print \n",
        "Es una de las más importantes, se emplea para desplegar información en la salida estándar, normalmente un monitor, aunque en otros sistemas es redireccionada dependiendo de su entorno\n",
        "*formas de usar print\n",
        "*El argumento por defecto de la función print (end) \n",
        "*format ()\n",
        "*operador f\"\" (el operador \"\", hace que aparezca un espacio entre variables) \n",
        "*"
      ]
    },
    {
      "cell_type": "code",
      "metadata": {
        "id": "YDIMHyYNxzDt",
        "colab": {
          "base_uri": "https://localhost:8080/"
        },
        "outputId": "f159aa4e-c9bc-455d-f599-acb708327d14"
      },
      "source": [
        "nombre = \"jose\"\n",
        "edad = 18 \n",
        "casado = False\n",
        "estatura = 1.67 \n",
        "\n",
        "\"\"\"Nombre: jose \n",
        "    edad: 18 \n",
        "   casado: False\n",
        "   estatura: 1.67 \n",
        "   \"\"\"\n",
        "\n",
        "#1.- con comas \"\"Concatena haciendo un casting(conversión a string automatico)\n",
        "#Ademas de agregar un espacio \n",
        "print (\"nombre, edad, casado, estatura\")\n",
        "print (\"Nombre: \"+nombre+\"\\n\\Edad\"+ str(edad)+ \"\\n\\esta casado\", casado, estatura)\n",
        "#2.- con el simbolo de \"+\"\n",
        "#concatenación en crudo, es decir, el simbolo de +, le deja al programador la tarea de la concatenación \n",
        "#print (nombre+edad+ casado+ estatura) #Esto marca un error\n",
        "# para evitar el error, debemos convertir los tipos de datos a string \n",
        "print ( nombre+ \" \" +str(edad)+ \" \" +str(casado)+ \" \" +str(estatura)) #Con str() se ha convertido el tipo de datos \n",
        "#3.-La función format, es decir, darle formato a print con la funcion format \n",
        "print (\"Nombre:{1}\\n\\tEdad:{2} \\n\\tEsta casado: {3}\\n\\testatura en metros{0}\".format(nombre, edad, casado, estatura) )\n",
        "#Si queremos cambiar el orden de las variables, dentro de {} se coloca un numero para indicar \n",
        "# en que orden existira la salida \n",
        "\n",
        "#4.- con el operador f\" \", es un mejora de la función format \n",
        "print ( \"con el operador f\\\"\\\"\")\n",
        "print ( f\"Nombre:{1}\\n\\tEdad:{2} \\n\\tEsta casado: {3}\\n\\testatura en metros{0}\")\n",
        "# Dentro de los cocrchetes se puede colocar la variable que nos interesa imprimir\n",
        "print ( f\"Nombre:{1}\\n\\tEdad:{2} \\n\\tEsta casado: {3}\\n\\testatura en metros{0}\")\n",
        "\n",
        "#¿Qué tecnología es mejor? \n",
        "#Todas y ninguna a la vez: todo depende del problema que se este resolviendo en un determinado momento \n",
        "\n",
        "#Como manejar el argumento end \n",
        "print(\"\\n Como usar el salto de linea end {nombre}\" , end=\"\\n\" )\n",
        "print(f\"Hola{nombre}\" , end=\"\\n\" )\n",
        "print(f\"Hola{nombre}\" , end=\"\" ) #\n",
        "print(\",Como estas?\", end=\"\\n\")\n",
        "\n",
        " \n",
        " #import sys\n",
        " #help(sys)\n",
        "\n",
        "\n"
      ],
      "execution_count": 5,
      "outputs": [
        {
          "output_type": "stream",
          "name": "stdout",
          "text": [
            "nombre, edad, casado, estatura\n",
            "Nombre: jose\n",
            "\\Edad18\n",
            "\\esta casado False 1.67\n",
            "jose 18 False 1.67\n",
            "Nombre:18\n",
            "\tEdad:False \n",
            "\tEsta casado: 1.67\n",
            "\testatura en metrosjose\n",
            "con el operador f\"\"\n",
            "Nombre:1\n",
            "\tEdad:2 \n",
            "\tEsta casado: 3\n",
            "\testatura en metros0\n",
            "Nombre:1\n",
            "\tEdad:2 \n",
            "\tEsta casado: 3\n",
            "\testatura en metros0\n",
            "\n",
            " Como usar el salto de linea end {nombre}\n",
            "Holajose\n",
            "Holajose,Como estas?\n"
          ]
        }
      ]
    },
    {
      "cell_type": "markdown",
      "metadata": {
        "id": "XVUf1GGP6_lv"
      },
      "source": [
        "1.- Tarea con una sola funcion print, escribir mi nombre o nombre de pila, de la siguiente forma, es decir \n",
        "\n",
        "K   K K \n",
        "k K       AA  \n",
        "Ak  K    AAAA\n",
        "k k k  A    A\n",
        "IMPRIMIR UNA SOLA FUNCION POR LETRA,\n",
        "K     K\n",
        "K    K \n",
        "K   K \n",
        "K  K\n",
        "KKK\n",
        "K  K \n",
        "K   K\n",
        "K    K\n",
        "EN MI CASO CON MI NOMBRE: LEONARDO. \n",
        "\n"
      ]
    },
    {
      "cell_type": "code",
      "metadata": {
        "id": "hLKQqTCk4f83"
      },
      "source": [
        ""
      ],
      "execution_count": null,
      "outputs": []
    }
  ]
}