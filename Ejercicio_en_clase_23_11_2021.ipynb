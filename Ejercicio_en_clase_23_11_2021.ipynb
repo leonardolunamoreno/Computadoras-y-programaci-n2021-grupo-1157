{
  "nbformat": 4,
  "nbformat_minor": 0,
  "metadata": {
    "colab": {
      "name": "Ejercicio en clase 23_11_2021.ipynb",
      "provenance": [],
      "authorship_tag": "ABX9TyN8hiIV+W7R0hntYUaCosb2",
      "include_colab_link": true
    },
    "kernelspec": {
      "name": "python3",
      "display_name": "Python 3"
    },
    "language_info": {
      "name": "python"
    }
  },
  "cells": [
    {
      "cell_type": "markdown",
      "metadata": {
        "id": "view-in-github",
        "colab_type": "text"
      },
      "source": [
        "<a href=\"https://colab.research.google.com/github/leonardolunamoreno/Computadoras-y-programaci-n2021-grupo-1157/blob/main/Ejercicio_en_clase_23_11_2021.ipynb\" target=\"_parent\"><img src=\"https://colab.research.google.com/assets/colab-badge.svg\" alt=\"Open In Colab\"/></a>"
      ]
    },
    {
      "cell_type": "code",
      "metadata": {
        "id": "67dkmD6bNULa"
      },
      "source": [
        "#Ejemplo 2.12, Ejercicio en clase\n",
        "A = int(input(\"Ingrese un número:\"))\n",
        "B = int(input(\"Ingrese otro número:\"))\n",
        "C = int(input(\"Ingrese otro número diferente de los dos números anteriores:\"))\n",
        "if A > B:\n",
        "    if A > C:\n",
        "        if B > C:\n",
        "            print(f\"El orden de los números es: {A}, {B} y {C}\")\n",
        "        else:\n",
        "            print(f\"El orden de los números es: {A}, {C} y {B}\")\n",
        "    else:\n",
        "            print(f\"El orden de los números es: {C}, {A} y {B}\")\n",
        "else:\n",
        "    if B > C:\n",
        "        if A > C:\n",
        "            print(f\"El orden de los números es: {B}, {A} y {C}\")\n",
        "        else:\n",
        "            print(f\"El orden de los números es: {B}, {C} y {A}\")\n",
        "    else:\n",
        "            print(f\"El orden de los números es: {C}, {B} y {A}\")\n",
        "print(\"Fin del programa\") \n",
        "\n",
        "#¿Este algoritmo podría escribirse con menos varialbes de entrada, y de ser así puede escribirlo?\n",
        "#¿Puede este algoritmo escribirse en menos líneas de código? de ser así trate de hacerlo \n",
        "\n",
        "#Hacer ejercicios de todo el capitulo 2"
      ],
      "execution_count": null,
      "outputs": []
    }
  ]
}