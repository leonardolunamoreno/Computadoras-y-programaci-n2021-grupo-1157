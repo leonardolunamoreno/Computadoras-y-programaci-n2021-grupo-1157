{
  "nbformat": 4,
  "nbformat_minor": 0,
  "metadata": {
    "colab": {
      "name": "Untitled4.ipynb",
      "provenance": [],
      "authorship_tag": "ABX9TyOUGySyf0O6jjXqJfo0+JuG",
      "include_colab_link": true
    },
    "kernelspec": {
      "name": "python3",
      "display_name": "Python 3"
    },
    "language_info": {
      "name": "python"
    }
  },
  "cells": [
    {
      "cell_type": "markdown",
      "metadata": {
        "id": "view-in-github",
        "colab_type": "text"
      },
      "source": [
        "<a href=\"https://colab.research.google.com/github/leonardolunamoreno/Computadoras-y-programaci-n2021-grupo-1157/blob/main/Programa%20que%20calcula%20el%20valor%20de%20un%20numero%20cualquiera%20elevado%20a%20un%20exponente%20cualquiera.ipynb\" target=\"_parent\"><img src=\"https://colab.research.google.com/assets/colab-badge.svg\" alt=\"Open In Colab\"/></a>"
      ]
    },
    {
      "cell_type": "code",
      "metadata": {
        "colab": {
          "base_uri": "https://localhost:8080/"
        },
        "id": "ej-V4flb7gzH",
        "outputId": "c4e81f69-9e25-4ec3-ca5a-8e7fbec1b8b3"
      },
      "source": [
        "n1 = float (input(\"Ingresa un número:\"))\n",
        "n2 = float (input(\"Ingrese un número como exponente\"))\n",
        "exponente = n1**n2\n",
        "print(\"El valor del número n1 elevado al exponente cuyo valor es n2, del número n1 es:\", exponente)"
      ],
      "execution_count": 4,
      "outputs": [
        {
          "output_type": "stream",
          "name": "stdout",
          "text": [
            "Ingresa un número:2\n",
            "Ingrese un número como exponente19\n",
            "El valor del número n1 elevado al exponente cuyo valor es n2, del número n1 es: 524288.0\n"
          ]
        }
      ]
    },
    {
      "cell_type": "markdown",
      "metadata": {
        "id": "LpvgF2LG8cb4"
      },
      "source": [
        "Pienso que este programa aun se puede mejorar, tanto en la forma de definir variables como en la forma de describir el restultado, así que toca estudiar la sintaxis de python con más detalle."
      ]
    }
  ]
}