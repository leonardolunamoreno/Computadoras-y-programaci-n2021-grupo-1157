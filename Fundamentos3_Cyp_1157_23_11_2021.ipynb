{
  "nbformat": 4,
  "nbformat_minor": 0,
  "metadata": {
    "colab": {
      "name": "Fundamentos3_Cyp_1157_23_11_2021.ipynb",
      "provenance": [],
      "collapsed_sections": [],
      "authorship_tag": "ABX9TyNlcgaA3HJieTve8Wyk3WWj",
      "include_colab_link": true
    },
    "kernelspec": {
      "name": "python3",
      "display_name": "Python 3"
    },
    "language_info": {
      "name": "python"
    }
  },
  "cells": [
    {
      "cell_type": "markdown",
      "metadata": {
        "id": "view-in-github",
        "colab_type": "text"
      },
      "source": [
        "<a href=\"https://colab.research.google.com/github/leonardolunamoreno/Computadoras-y-programaci-n2021-grupo-1157/blob/main/Fundamentos3_Cyp_1157_23_11_2021.ipynb\" target=\"_parent\"><img src=\"https://colab.research.google.com/assets/colab-badge.svg\" alt=\"Open In Colab\"/></a>"
      ]
    },
    {
      "cell_type": "markdown",
      "metadata": {
        "id": "cwfrScGWGRcU"
      },
      "source": [
        "#Repetición:\n",
        "\n",
        "Este tipo de estructura nos permite automatizar la ejecución repetitiva de código mientas ciertas condiciones s cumplan, tenemos 3 variantes de esta estructura en todos los lenguajes de programación:\n",
        "\n",
        "Desde...hasta (estructura for)\n",
        "haz mientras (structura While)\n",
        "haz y luego validaz mientras( estructura Do-While)\n",
        "\n",
        "#For con Python \n",
        "\n",
        "'''\n",
        "for j in range(10):\n",
        "    print(f\"Hola {j})\n",
        "'''\n",
        "\n",
        "'''\n",
        "#For con LENG C y / o Java\n",
        "\n",
        "for (int j= 0 ; j<10 ; j= j+1) {\n",
        "    printf(\"Hola &i\\n\", j) ; \n",
        "}\n",
        "'''\n",
        "\n",
        "En todos los lenguajes de programación existe un tipo espexial de for conocido como **For - each**\n",
        "\n",
        "#For- each en Python\n",
        "'''\n",
        "for color n colores🇰printf(f\"Este es el color {color})  "
      ]
    },
    {
      "cell_type": "code",
      "metadata": {
        "colab": {
          "base_uri": "https://localhost:8080/"
        },
        "id": "KvE7_ipyHxkQ",
        "outputId": "f9f9e5a9-322c-498d-d1ed-da67bba85d00"
      },
      "source": [
        "#Funcion range ()\n",
        "#range (<incio>,<stop>,<incremento>) inicio es donde empieza el slicing, el stopo es donde termina el slicing y \n",
        "#el incremento es el conteo de los elementos dentro de la lista \n",
        "x = range(10)\n",
        "print(x)\n",
        "\n",
        "x= range(0,10)\n",
        "print(x) \n",
        "\n",
        "x = range (0,10,2)\n",
        "print(x)\n",
        "\n",
        "for j in range (10): #Genera un iterador de 1 a 10, 1,2,3,4,5,6,7,8,\n",
        "    print(f\"Hola {j}\")\n",
        "\n",
        "print(\".-.-.-.-.-.-.-.-.\")\n",
        "for j in range (0,10,2): \n",
        "    print(f\"Hola {j}\")\n",
        "\n",
        "frutas = [\"uva\",\"aguacate\",\"pera\",\"manzana\",\"Sandia\"]\n",
        "\n",
        "print(frutas[0])\n",
        "print(frutas[1])\n",
        "print(frutas[2])\n",
        "print(frutas[3])\n",
        "print(frutas[4])\n",
        "\n",
        "print(\".-.-.-.-\")\n",
        "\n",
        "\n",
        "for index in range(5):\n",
        "    print(frutas[index])\n",
        "\n",
        "print(\".-.-.-.-.-.-.-\")\n",
        "\n",
        "for i in range(5):\n",
        "    print(\"+++++\")"
      ],
      "execution_count": 12,
      "outputs": [
        {
          "output_type": "stream",
          "name": "stdout",
          "text": [
            "range(0, 10)\n",
            "range(0, 10)\n",
            "range(0, 10, 2)\n",
            "Hola 0\n",
            "Hola 1\n",
            "Hola 2\n",
            "Hola 3\n",
            "Hola 4\n",
            "Hola 5\n",
            "Hola 6\n",
            "Hola 7\n",
            "Hola 8\n",
            "Hola 9\n",
            ".-.-.-.-.-.-.-.-.\n",
            "Hola 0\n",
            "Hola 2\n",
            "Hola 4\n",
            "Hola 6\n",
            "Hola 8\n",
            "uva\n",
            "aguacate\n",
            "pera\n",
            "manzana\n",
            "Sandia\n",
            ".-.-.-.-\n",
            "uva\n",
            "aguacate\n",
            "pera\n",
            "manzana\n",
            "Sandia\n",
            ".-.-.-.-.-.-.-\n",
            "+++++\n",
            "+++++\n",
            "+++++\n",
            "+++++\n",
            "+++++\n"
          ]
        }
      ]
    }
  ]
}