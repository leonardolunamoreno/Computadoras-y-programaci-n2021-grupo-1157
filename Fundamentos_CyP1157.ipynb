{
  "nbformat": 4,
  "nbformat_minor": 0,
  "metadata": {
    "colab": {
      "name": "Fundamentos CyP1157.ipynb",
      "provenance": [],
      "collapsed_sections": [],
      "toc_visible": true,
      "authorship_tag": "ABX9TyM/+ypbANMZYroA/H9r4vgD",
      "include_colab_link": true
    },
    "kernelspec": {
      "name": "python3",
      "display_name": "Python 3"
    },
    "language_info": {
      "name": "python"
    }
  },
  "cells": [
    {
      "cell_type": "markdown",
      "metadata": {
        "id": "view-in-github",
        "colab_type": "text"
      },
      "source": [
        "<a href=\"https://colab.research.google.com/github/leonardolunamoreno/Computadoras-y-programaci-n2021-grupo-1157/blob/main/Fundamentos_CyP1157.ipynb\" target=\"_parent\"><img src=\"https://colab.research.google.com/assets/colab-badge.svg\" alt=\"Open In Colab\"/></a>"
      ]
    },
    {
      "cell_type": "code",
      "metadata": {
        "id": "Y5cGCGygZQB4"
      },
      "source": [
        ""
      ],
      "execution_count": null,
      "outputs": []
    },
    {
      "cell_type": "markdown",
      "metadata": {
        "id": "4-lXPwrHZs13"
      },
      "source": [
        "str --> String cadenas de carácteres \n",
        "Tipos de datos estructurados \n",
        "list -->Listas (Arreglos en otros lenguajes \n",
        "tuple -->Listas no mutables\n",
        "dict ---> Diccionarios \n",
        "set y froze"
      ]
    },
    {
      "cell_type": "code",
      "metadata": {
        "colab": {
          "base_uri": "https://localhost:8080/"
        },
        "id": "_i7CuDRRabzI",
        "outputId": "9d4f2a93-6a61-4e90-94be-9478c384d6c9"
      },
      "source": [
        "import sys\n",
        "edad = 19 \n",
        "print (\"Tu edad es:\",edad) #Al final de una linea de codigo \n",
        "# Este es un comentario de linea simple \n",
        "\n",
        "\"\"\"\n",
        "comentario de multiple linea \n",
        "En lenguaje C, C++, y Java, los comentarios de múltiple linea es con /*........*/ \n",
        "En lenguaje C, C++, y java el comentario de un a sola linea es // \n",
        "\"\"\"\n",
        "#Tipos de datos númericos int y float \n",
        "\"\"\"Los datos numericos de tipo int, soln valores númericos, que ocupan 8 bits. \"\"\"\n",
        "print (sys.getsizeof(edad)) #Sirve para ver cuantos bites ocupa la variable 19 en la memoria del sistema\n",
        "#El tipo de dato int utiliza diferente cantidad de bits segun el lenguaje de programación utilizado\n",
        "#En C se ocupan 16 bits \n",
        "\n",
        "edad = edad + 1 \n",
        "print (edad)\n",
        "\n",
        "estatura = 1.56 \n",
        "print (estatura)\n",
        "print (sys.getsizeof(estatura))\n",
        "estatura = estatura + 0.1\n",
        "print (estatura)\n",
        "print (round(estatura,2))\n",
        "\n",
        "edad += 1 #Edad es igual a Edad +1\n",
        "print (edad)\n",
        "print ( \"Tu edad es:\", edad)\n",
        "\n",
        "edad -=1 \n",
        "print (edad)\n",
        "print (\"Tu edad es:\", edad)\n",
        "\n",
        "edad +=1 #Devuelve el valor de 21, en lugar de un numero te punto flotante \n",
        "edad /= 2 #Edad = edad /2 \n",
        "print (\"La mitad de tu edad:\", edad) \n",
        "\n",
        "edad = 21 \n",
        "#volver a calcular la mitad de la edad pero solo dejar la parte entera \n",
        "edad = edad//2 #Obliga al programa a realizar la operacion con numeros enteros \n",
        "print ( \"Lamitad de tu edad es: \", edad)\n",
        "\n",
        "#En la mayoria de los lenguajes no se permiten operaciones entre diferentes \n",
        "#Tipos de datos, en python sucede que \n",
        "numero = edad / 2.0 \n",
        "print (numero)\n",
        "\n",
        "numero = numero * 3 #Esto funciona del mismo modo que las 3 lineas de abajo\n",
        "print(numero)\n",
        "\n",
        "numero *= 3  #Esto funciona del mismo modo que las 3 lineas de arriba\n",
        "print (numero)\n",
        "\n",
        "numero = 5.0 \n",
        "numero = numero ** 2 \n",
        "print (numero)\n",
        "\n",
        "#operador modulo \n",
        "numero = 21 \n",
        "print (numero / 2)\n",
        "\n",
        "numero = 21 \n",
        "print (numero /2)\n",
        "print (numero//2)\n",
        "#El operador modulo da como resultado el residuo de una division entre algun numero entero \n",
        "print (numero %2)\n",
        "\n",
        "numero = 24 \n",
        "print (\"Residuo de 24/5:\", numero % 5)\n",
        "#operadores relacionales (logicos)\n",
        "print ( \"24 es par? = \",numero % 2 == 0 )\n",
        "#diferencia \n",
        "print ( \"24 es mayor que 23\", numero !=23)\n",
        "print (\"24 es mayor que 23\", numero >23 )\n",
        "print (\"24 es menor que 23\", numero < 23)\n",
        "\n",
        "print (\"24 es menor o igual que 24\", numero >=24)\n",
        "print (\"24 es mayor o igual que 23\", numero <=23)\n",
        "\n",
        "print(\"El tipo de dato de la varianble numero es:\", type (numero))\n",
        "print(\"El tipo de dato de la varianble numero/2.0 es:\", type (numero/2.0))\n",
        "#Esta funcion type, saca de muchos problemas, por que dice de que tipo \n",
        "# de datos estamos hablando \n",
        "\n",
        "\n",
        "\n",
        "\n",
        "\n",
        "\n"
      ],
      "execution_count": 26,
      "outputs": [
        {
          "output_type": "stream",
          "name": "stdout",
          "text": [
            "Tu edad es: 19\n",
            "28\n",
            "20\n",
            "1.56\n",
            "24\n",
            "1.6600000000000001\n",
            "1.66\n",
            "21\n",
            "Tu edad es: 21\n",
            "20\n",
            "Tu edad es: 20\n",
            "La mitad de tu edad: 10.5\n",
            "Lamitad de tu edad es:  10\n",
            "5.0\n",
            "15.0\n",
            "45.0\n",
            "25.0\n",
            "10.5\n",
            "10.5\n",
            "10\n",
            "1\n",
            "Residuo de 24/5: 4\n",
            "24 es par? =  True\n",
            "24 es mayor que 23 True\n",
            "24 es mayor que 23 True\n",
            "24 es menor que 23 False\n",
            "24 es menor o igual que 24 True\n",
            "24 es mayor o igual que 23 False\n",
            "El tipo de dato de la varianble numero es: <class 'int'>\n",
            "El tipo de dato de la varianble numero/2.0 es: <class 'float'>\n"
          ]
        }
      ]
    },
    {
      "cell_type": "markdown",
      "metadata": {
        "id": "x02knvSZphwe"
      },
      "source": [
        "Tipo de dato String (str) en python \n",
        "*Se maneja como un arreglo ( tipo de dato compuesto) \n",
        "*Se puede acceder a los elementos de el string por medio del indice del caracter \n",
        "* Un string es mutable\n",
        "*Tienen metodos utiles (potentes) \n",
        "*Slicing \n"
      ]
    },
    {
      "cell_type": "code",
      "metadata": {
        "colab": {
          "base_uri": "https://localhost:8080/"
        },
        "id": "aMYDD45uqF-h",
        "outputId": "01862a4f-f4d9-49c9-a2fe-72a2e1464b04"
      },
      "source": [
        "nombre = 'jose'\n",
        "nombre = \"jose\"\n",
        "carrera = 'Ingeniería en computación'\n",
        "frase = \"\"\"El conocimiento \n",
        "me persigue,... pero yo soy más rápido\"\"\"\n",
        "\n",
        "print (nombre)\n",
        "print (carrera)\n",
        "print (frase)\n",
        "\n",
        "#La función type de python te devuelve el tipo de dato de una variable o expresión \n",
        "print (type (nombre))\n",
        "\n",
        "print (type (nombre))\n",
        "paterno = str (\"perez\")\n",
        "print (paterno)\n",
        "\n"
      ],
      "execution_count": 24,
      "outputs": [
        {
          "output_type": "stream",
          "name": "stdout",
          "text": [
            "jose\n",
            "Ingeniería en computación\n",
            "El conocimiento \n",
            "me persigue,... pero yo soy más rápido\n",
            "<class 'str'>\n"
          ]
        }
      ]
    },
    {
      "cell_type": "code",
      "metadata": {
        "id": "EC2IIcoMjWt6"
      },
      "source": [
        "Tarea, hacer un resumen de mínimo una cuartilla, de los origenes de del lenguaje python, donde venga el porquede su creación, y sus caracteristicas del lenguaje python y diferencias con otros lenguajes. Escrito a mano en la libreta. sacarle foto o escanear y subirla, investigar mucho y muy bien   "
      ],
      "execution_count": null,
      "outputs": []
    },
    {
      "cell_type": "markdown",
      "metadata": {
        "id": "mJZ2xRbEjVXw"
      },
      "source": [
        ""
      ]
    },
    {
      "cell_type": "markdown",
      "metadata": {
        "id": "uq7r_XmuaTp2"
      },
      "source": [
        ""
      ]
    },
    {
      "cell_type": "markdown",
      "metadata": {
        "id": "yPwd32q-ZcR5"
      },
      "source": [
        "\n"
      ]
    },
    {
      "cell_type": "code",
      "metadata": {
        "id": "Uab1Q2jfZe3y"
      },
      "source": [
        "esta"
      ],
      "execution_count": null,
      "outputs": []
    },
    {
      "cell_type": "code",
      "metadata": {
        "id": "rB3nuY1MZbI3"
      },
      "source": [
        ""
      ],
      "execution_count": null,
      "outputs": []
    },
    {
      "cell_type": "code",
      "metadata": {
        "id": "-8a6-U6WZTcv"
      },
      "source": [
        ""
      ],
      "execution_count": null,
      "outputs": []
    }
  ]
}