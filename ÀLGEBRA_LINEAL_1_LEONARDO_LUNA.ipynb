{
  "nbformat": 4,
  "nbformat_minor": 0,
  "metadata": {
    "colab": {
      "name": "ÀLGEBRA LINEAL_1_LEONARDO LUNA ",
      "provenance": [],
      "authorship_tag": "ABX9TyNxUDr1c+7Vce70xZ8Zmri0",
      "include_colab_link": true
    },
    "kernelspec": {
      "name": "python3",
      "display_name": "Python 3"
    },
    "language_info": {
      "name": "python"
    }
  },
  "cells": [
    {
      "cell_type": "markdown",
      "metadata": {
        "id": "view-in-github",
        "colab_type": "text"
      },
      "source": [
        "<a href=\"https://colab.research.google.com/github/leonardolunamoreno/Computadoras-y-programaci-n2021-grupo-1157/blob/main/%C3%80LGEBRA_LINEAL_1_LEONARDO_LUNA.ipynb\" target=\"_parent\"><img src=\"https://colab.research.google.com/assets/colab-badge.svg\" alt=\"Open In Colab\"/></a>"
      ]
    },
    {
      "cell_type": "markdown",
      "source": [
        "# Algebra Lineal Cápitulo 1 \n",
        "# Sistemas de ecuaciones lineales y matrices"
      ],
      "metadata": {
        "id": "cr4NS99_pcyp"
      }
    },
    {
      "cell_type": "markdown",
      "source": [
        "## 1.1 Hechos fundamentales sobre las líneas rectas"
      ],
      "metadata": {
        "id": "vDYifwEfNRU-"
      }
    },
    {
      "cell_type": "code",
      "execution_count": null,
      "metadata": {
        "colab": {
          "base_uri": "https://localhost:8080/"
        },
        "id": "qXmc65vdJSwy",
        "outputId": "d008a0b1-ba52-4366-cfa0-cea07fda7f9e"
      },
      "outputs": [
        {
          "output_type": "stream",
          "name": "stdout",
          "text": [
            "Ingrese la coordenada ysub2: 10\n",
            "Ingrese la coordenada ysub1: -2\n",
            "Ingrese la coordenada xsub2: 8\n",
            "Ingrese la coordenada xsub1: 2\n",
            "m = 2.0\n",
            "fin del programa\n"
          ]
        }
      ],
      "source": [
        "# Las siguientes líneas de código fueron escritas con la finalidad de entender las bases Teóricas del Álgebra Lineal\n",
        "# Al tiempo que utilizaba la computadora de manera útil\n",
        "\n",
        "# Hecho 1. \n",
        "# La pendiente de una recta que pasa por los puntos (x1,y1) y (x2,y2) está dada por: \n",
        "\n",
        "#  m = (y2 -y1) / (x2 - x1) = diferencial y / diferencial x ; siempre y cuando x1 != x2\n",
        "\n",
        "# El siguiente programa puede calcular la pendiente m \n",
        "y2 = int(input(\"Ingrese la coordenada ysub2: \"))\n",
        "y1 = int(input(\"Ingrese la coordenada ysub1: \"))\n",
        "x2 = int(input(\"Ingrese la coordenada xsub2: \"))\n",
        "x1 = int(input(\"Ingrese la coordenada xsub1: \"))\n",
        "if x2 - x1 is not 0:       # aquí \"is not\" es un método reservado de python que funciona como una desigualdad\n",
        "    m = (y2 -y1) / (x2 - x1)\n",
        "    print(f\"m = {m}\")\n",
        "print(\"Fin del programa\")\n",
        "else: \n",
        "    print(\"No es posible, por que: x1 != x2 \")\n",
        "    print(\"Fin del programa.\")"
      ]
    },
    {
      "cell_type": "code",
      "source": [
        "# El mismo código, pero con extensión para float\n",
        "\n",
        "y2 = float(input(\"Ingrese la coordenada ysub2: \"))\n",
        "y1 = float(input(\"Ingrese la coordenada ysub1: \"))\n",
        "x2 = float(input(\"Ingrese la coordenada xsub2: \"))\n",
        "x1 = float(input(\"Ingrese la coordenada xsub1: \"))\n",
        "if x2 - x1 is not 0:       # aquí \"is not\" es un método reservado de python que funciona como una desigualdad\n",
        "    m = (y2 -y1) / (x2 - x1)\n",
        "    print(f\"m = {m}\")\n",
        "print(\"Fin del programa\")\n",
        "else: \n",
        "    print(\"No es posible, por que: x1 != x2 \")\n",
        "    print(\"Fin del programa.\")"
      ],
      "metadata": {
        "id": "1NSDY4Ydo-dw"
      },
      "execution_count": null,
      "outputs": []
    },
    {
      "cell_type": "code",
      "source": [
        "y2 = int(input(\"Ingrese la coordenada ysub2: \"))\n",
        "y1 = int(input(\"Ingrese la coordenada ysub1: \"))\n",
        "x2 = int(input(\"Ingrese la coordenada xsub2: \"))\n",
        "x1 = int(input(\"Ingrese la coordenada xsub1: \"))\n",
        "if x2 - x1 != 0:       # aquí \"!=\" es un operador de python que funciona como una desigualdad\n",
        "    m = (y2 -y1) / (x2 - x1)\n",
        "    print(f\"m = {m}\")\n",
        "print(\"Fin del programa.\")\n",
        "else: \n",
        "    print(\"No es posible, por que: x1 != x2 \")\n",
        "    print(\"Fin del programa.\")"
      ],
      "metadata": {
        "colab": {
          "base_uri": "https://localhost:8080/"
        },
        "id": "P4IZ9fPVM_6P",
        "outputId": "adc1b19f-0419-4397-cdc5-2ff568d8adce"
      },
      "execution_count": null,
      "outputs": [
        {
          "output_type": "stream",
          "name": "stdout",
          "text": [
            "Ingrese la coordenada ysub2: 10\n",
            "Ingrese la coordenada ysub1: -2\n",
            "Ingrese la coordenada xsub2: 8\n",
            "Ingrese la coordenada xsub1: 2\n",
            "m = 2.0\n",
            "fin del programa\n"
          ]
        }
      ]
    },
    {
      "cell_type": "markdown",
      "source": [
        "El hecho 1, está descrito mediante 2 programas que en escencia calculan el mismo valor, a saber la pendiente m. \n",
        "La diferencia es que en la sentencia condicional if, del primer código se utiliza \"is not\", y en cambio en el segundo código se utiliza \" != \", ambos operadores o métodos funcionan para indicar que un parametro es distinto respecto de otro. "
      ],
      "metadata": {
        "id": "iLmgwZrHO3xw"
      }
    },
    {
      "cell_type": "code",
      "source": [
        "# Hecho 2 \n",
        "# Sí x2 - x1 == 0   y   y2 != y1 , entonces la recta es vertical y se dice que la pendiente es indefinida. \n",
        "# No elabore ningún algoritmo como solución al respecto, porque ello implica la división sobre 0, lo cual Python prohibe de forma rotunda :V "
      ],
      "metadata": {
        "id": "o-XsF9kfO_p4"
      },
      "execution_count": null,
      "outputs": []
    },
    {
      "cell_type": "code",
      "source": [
        "# Hecho 3 \n",
        "# Cualquier recta (a excepción de aquella que tiene una pendiente indefinida) se puede describir al escribr su ecuacón en la forma \n",
        "# pendiente - ordenada y = mx + b, donde m es la pendiente de la recta y b es la ordenada\n",
        "# (el valor de y en el punto en el que la recta cruza el eje y)\n",
        "\n",
        "# Este algoritmo calcula el valor de y, dados los valores de \"x\", \"b\" y las coordenadas de la pendiente de la recta. \n",
        "print(\"A continuación obtendrás el valor de y, con la ecuación y = mx + b\")\n",
        "x = float(input(\"Ingrese el valor de x: \"))\n",
        "b = float(input(\"Ingrese el valor de b: \"))\n",
        "print(\"Ingrese las coordenadas de la pendiente m\")\n",
        "y2 = float(input(\"Ingrese la coordenada ysub2: \"))\n",
        "y1 = float(input(\"Ingrese la coordenada ysub1: \"))\n",
        "x2 = float(input(\"Ingrese la coordenada xsub2: \"))\n",
        "x1 = float(input(\"Ingrese la coordenada xsub1: \"))\n",
        "m = (y2 - y1) / (x2 - x1)\n",
        "if x2 - x1 != 0:       \n",
        "    y = m*x + b\n",
        "    print(f\"y = {y}\")\n",
        "else: \n",
        "    print(\"ingresa valores diferentes para x2 y x1\")"
      ],
      "metadata": {
        "id": "N_yH43tVRW1e",
        "colab": {
          "base_uri": "https://localhost:8080/"
        },
        "outputId": "afddad59-925e-4abe-a72f-872225395111"
      },
      "execution_count": null,
      "outputs": [
        {
          "output_type": "stream",
          "name": "stdout",
          "text": [
            "Ingrese el valor de x: 4\n",
            "Ingrese el valor de b: 3\n",
            "Ingrese las coordenadas de la pendiente m\n",
            "Ingrese la coordenada ysub2: 10\n",
            "Ingrese la coordenada ysub1: 2\n",
            "Ingrese la coordenada xsub2: 12\n",
            "Ingrese la coordenada xsub1: 4\n",
            "y = 7.0\n"
          ]
        }
      ]
    },
    {
      "cell_type": "code",
      "source": [
        "# Hecho 4 \n",
        "# Dos rectas distintas son paralelas si y sólo si tienen la misma pendiente\n",
        "print(\"Ingrese las coordenadas de la pendiente m1\")\n",
        "y2 = int(input(\"Ingrese la coordenada ysub2: \"))\n",
        "y1 = int(input(\"Ingrese la coordenada ysub1: \"))\n",
        "x2 = int(input(\"Ingrese la coordenada xsub2: \"))\n",
        "x1 = int(input(\"Ingrese la coordenada xsub1: \"))\n",
        "m1 = (y2 - y1) / (x2 - x1)\n",
        "print(\"Ingrese las coordenadas de la pendiente m2\")\n",
        "y2 = int(input(\"Ingrese la coordenada ysub2: \"))\n",
        "y1 = int(input(\"Ingrese la coordenada ysub1: \"))\n",
        "x2 = int(input(\"Ingrese la coordenada xsub2: \"))\n",
        "x1 = int(input(\"Ingrese la coordenada xsub1: \"))\n",
        "m2 = (y2 - y1) / (x2 - x1)\n",
        "if m1 != m2: \n",
        "    print(f\"Las rectas L1 y L2 no son paralelas por que el valor de su pendiente es diferente {m1} // = {m2}\")\n",
        "else: \n",
        "    print(f\"Las rectas L1 y L2 son paralelas por que el valor de sus pendientes es el mismo {m1} = {m2}\")\n",
        "\n",
        "# Este algoritmo determina si dos rectas L1 y L2 son paralelas, dependiendo del valor de sus pendientes "
      ],
      "metadata": {
        "colab": {
          "base_uri": "https://localhost:8080/"
        },
        "id": "MkgmnhCLUsAs",
        "outputId": "44b2881e-7ed7-4812-82c7-618b0a8b3571"
      },
      "execution_count": null,
      "outputs": [
        {
          "output_type": "stream",
          "name": "stdout",
          "text": [
            "Ingrese las coordenadas de la pendiente m1\n",
            "Ingrese la coordenada ysub2: 7\n",
            "Ingrese la coordenada ysub1: 5\n",
            "Ingrese la coordenada xsub2: 8\n",
            "Ingrese la coordenada xsub1: 4\n",
            "Ingrese las coordenadas de la pendiente m2\n",
            "Ingrese la coordenada ysub2: 3\n",
            "Ingrese la coordenada ysub1: 7\n",
            "Ingrese la coordenada xsub2: 2\n",
            "Ingrese la coordenada xsub1: 7\n",
            "Las rectas L1 y L2 no son paralelas por que el valor de su pendiente es diferente 0.5 // = 0.8\n"
          ]
        }
      ]
    },
    {
      "cell_type": "code",
      "source": [
        "# Extensión del algoritmo anterior, para float \n",
        "print(\"Ingrese las coordenadas de la pendiente m1\")\n",
        "y2 = float(input(\"Ingrese la coordenada ysub2: \"))\n",
        "y1 = float(input(\"Ingrese la coordenada ysub1: \"))\n",
        "x2 = float(input(\"Ingrese la coordenada xsub2: \"))\n",
        "x1 = float(input(\"Ingrese la coordenada xsub1: \"))\n",
        "m1 = (y2 - y1) / (x2 - x1)\n",
        "print(\"Ingrese las coordenadas de la pendiente m2\")\n",
        "y2 = float(input(\"Ingrese la coordenada ysub2: \"))\n",
        "y1 = float(input(\"Ingrese la coordenada ysub1: \"))\n",
        "x2 = float(input(\"Ingrese la coordenada xsub2: \"))\n",
        "x1 = float(input(\"Ingrese la coordenada xsub1: \"))\n",
        "m2 = (y2 - y1) / (x2 - x1)\n",
        "if m1 != m2: \n",
        "    print(f\"Las rectas L1 y L2 no son paralelas por que el valor de su pendiente es diferente {m1} // = {m2}\")\n",
        "else: \n",
        "    print(f\"Las rectas L1 y L2 son paralelas por que el valor de sus pendientes es el mismo {m1} = {m2}\")\n",
        "\n",
        "# Este algoritmo determina si dos rectas L1 y L2 son paralelas, dependiendo del valor de sus pendientes "
      ],
      "metadata": {
        "id": "3YFJ4XjgrZdU"
      },
      "execution_count": null,
      "outputs": []
    },
    {
      "cell_type": "code",
      "source": [
        "# Hecho 5 \n",
        "# Sí la ecuación de la recta se escribe en la forma ax + by = c, (b is not 0), entonces se puede calcular fácilmente,m = -(a/b)\n",
        "# Es decir sí se tiene una ecuación como 3x + 5b = c, donde a = 3 y b = 5, un algoritmo calcularia lo siguiente \n",
        "print(\"Sí se tiene una ecuación del tipo ax + by = c , ingrese los valores de a y b para obtener la pendiente de la recta dada por la ecuación.\")\n",
        "a = int(input(\"Ingrese el valor de a: \"))\n",
        "b = int(input(\"Ingrese el valor de b: \"))\n",
        "m = -(a/b)\n",
        "print(f\"m ={m}\")"
      ],
      "metadata": {
        "colab": {
          "base_uri": "https://localhost:8080/"
        },
        "id": "LcTdCEkWiUvV",
        "outputId": "71e88759-ba9c-4f9b-a407-8fb5ca8201c0"
      },
      "execution_count": null,
      "outputs": [
        {
          "output_type": "stream",
          "name": "stdout",
          "text": [
            "Sí se tiene una ecuación del tipo ax + by = c , ingrese los valores de a y b para obtener la pendiente de la recta dada por la ecuación\n",
            "Ingrese el valor de a: 1\n",
            "Ingrese el valor de b: -1\n",
            "m =1.0\n"
          ]
        }
      ]
    },
    {
      "cell_type": "code",
      "source": [
        "# Extensión con float \n",
        "print(\"Sí se tiene una ecuación del tipo ax + by = c , ingrese los valores de a y b para obtener la pendiente de la recta dada por la ecuación.\")\n",
        "a = float(input(\"Ingrese el valor de a: \"))\n",
        "b = float(input(\"Ingrese el valor de b: \"))\n",
        "m = -(a/b)\n",
        "print(f\"m ={m}\")"
      ],
      "metadata": {
        "id": "NDqJ42vZv0xC"
      },
      "execution_count": null,
      "outputs": []
    },
    {
      "cell_type": "code",
      "source": [
        "# Hecho 6 \n",
        "# Sí m1 es la pendiente de la recta L1, m2 es la pendiente de la recta L2, m1 != 0 y L1 y L2 son perpendiculares, entonces \n",
        "# m2 = -1 / m1 \n",
        "print(\"Ingrese las coordenadas de la pendiente m1\")\n",
        "y2 = int(input(\"Ingrese la coordenada ysub2: \"))\n",
        "y1 = int(input(\"Ingrese la coordenada ysub1: \"))\n",
        "x2 = int(input(\"Ingrese la coordenada xsub2: \"))\n",
        "x1 = int(input(\"Ingrese la coordenada xsub1: \"))\n",
        "m1 = (y2 - y1) / (x2 - x1)\n",
        "if m1 is not 0: \n",
        "    m2 = (-1 / m1)\n",
        "    print(f\"m2 = {m2}\")\n",
        "# El programa obtiene el valor de la pendiente m2, y como puede notarse, es el negativo de la inversa de la pendiente m1"
      ],
      "metadata": {
        "colab": {
          "base_uri": "https://localhost:8080/"
        },
        "id": "RqVlTd_pR_au",
        "outputId": "3b3816e3-b913-4a71-e37f-c109dc5f66f2"
      },
      "execution_count": null,
      "outputs": [
        {
          "output_type": "stream",
          "name": "stdout",
          "text": [
            "Ingrese las coordenadas de la pendiente m1\n",
            "Ingrese la coordenada ysub2: 15\n",
            "Ingrese la coordenada ysub1: 5\n",
            "Ingrese la coordenada xsub2: 4\n",
            "Ingrese la coordenada xsub1: 2\n",
            "m2 = -0.2\n"
          ]
        }
      ]
    },
    {
      "cell_type": "code",
      "source": [
        "# Extensión del algoritmo anterior con float \n",
        "print(\"Ingrese las coordenadas de la pendiente m1\")\n",
        "y2 = float(input(\"Ingrese la coordenada ysub2: \"))\n",
        "y1 = float(input(\"Ingrese la coordenada ysub1: \"))\n",
        "x2 = float(input(\"Ingrese la coordenada xsub2: \"))\n",
        "x1 = float(input(\"Ingrese la coordenada xsub1: \"))\n",
        "m1 = (y2 - y1) / (x2 - x1)\n",
        "if m1 is not 0: \n",
        "    m2 = (-1 / m1)\n",
        "    print(f\"m2 = {m2}\")"
      ],
      "metadata": {
        "id": "DApVOsGBwECZ"
      },
      "execution_count": null,
      "outputs": []
    },
    {
      "cell_type": "code",
      "source": [
        "# Hecho 7 \n",
        "# Las rectas paralelas al eje x tienen una pendiente cero\n",
        "y2 = int(input(\"Ingrese la coordenada ysub2: \"))\n",
        "y1 = int(input(\"Ingrese la coordenada ysub1: \"))\n",
        "x2 = int(input(\"Ingrese la coordenada xsub2: \"))\n",
        "x1 = int(input(\"Ingrese la coordenada xsub1: \"))\n",
        "m = (y2 - y1) / (x2 - x1) \n",
        "if m == 0:       # Aquí podría agregar la ecuación de la recta, es decir escribirla y agregarla como input, y después agregar tal input con una llave {}\n",
        "    print(f\"La recta tiene pendiente m = {m}, y por lo tanto es paralela al eje x\")\n",
        "else: \n",
        "    print(f\"La pendiente es m = {m}\")"
      ],
      "metadata": {
        "colab": {
          "base_uri": "https://localhost:8080/"
        },
        "id": "4GGUW5AZkeiv",
        "outputId": "4d815798-3595-489a-9c90-60e7936aec84"
      },
      "execution_count": null,
      "outputs": [
        {
          "output_type": "stream",
          "name": "stdout",
          "text": [
            "Ingrese la coordenada ysub2: 56\n",
            "Ingrese la coordenada ysub1: 34\n",
            "Ingrese la coordenada xsub2: 4\n",
            "Ingrese la coordenada xsub1: 5\n",
            "La pendiente es m = -22.0\n"
          ]
        }
      ]
    },
    {
      "cell_type": "code",
      "source": [
        "# Hecho 8 \n",
        "# Las rectas paralelas al eje y tienen una pendiente indefinida, esto es, cuando el denominador x2 - x1 es igual a 0\n",
        "\n",
        "\n",
        "# Como python no permite la propia división por cero, omitimos el tratar de agregar la sentencia al código \n",
        "# más sin embargo si podría colocarse un letrero advirtiendo sobre la división entre cero, por otra parte, al no avisar al usuario \n",
        "# tal situaciñon podría considerarse un bug, ¿Cómo se podría solucionar ese problema? "
      ],
      "metadata": {
        "id": "21nQZthEmFXJ"
      },
      "execution_count": null,
      "outputs": []
    },
    {
      "cell_type": "markdown",
      "source": [
        "## 1.2 Dos ecuaciones lineales con dos incógnitas "
      ],
      "metadata": {
        "id": "fqUmGnDrxLuH"
      }
    },
    {
      "cell_type": "code",
      "source": [
        "# Dos o más rectas no paralelas presentan una solución cuando dichas rectas cruzan el mismo punto.\n",
        "# Sí dos o más rectas son paralelas, entonces el sistema no tiene soluciones. \n",
        "# Sí dos o más rectas coinciden, entonces el sistema tiene muchas soluciones \n",
        "\n",
        "# Parte de la solución al problema aparece en los códigos que aparecen más abajo y se resuelve a lo largo del capítulo. \n",
        "\n",
        "print(\"Ingrese las coordenadas de la pendiente m1\")\n",
        "y2 = float(input(\"Ingrese la coordenada ysub2: \"))\n",
        "y1 = float(input(\"Ingrese la coordenada ysub1: \"))\n",
        "x2 = float(input(\"Ingrese la coordenada xsub2: \"))\n",
        "x1 = float(input(\"Ingrese la coordenada xsub1: \"))\n",
        "m1 = (y2 - y1) / (x2 - x1)\n",
        "if m1 is not 0: \n",
        "    m2 = (-1 / m1)\n",
        "    print(f\"m2 = {m2}\")"
      ],
      "metadata": {
        "id": "b8XLrgWypznF"
      },
      "execution_count": null,
      "outputs": []
    },
    {
      "cell_type": "code",
      "source": [
        "# Sea el sistema \n",
        "\n",
        "# Ecuación 1 ----->  a11x + a12y = b1 \n",
        "# Ecuación 2 ----->  a21x + a22y = b2 \n",
        "\n",
        "# Sí se consiedera a12 = 0 ,y a22 = 0  entonces se pueden despejar las variables x o y, según se considere a11 o a11 igual a 0 en la primera ec \n",
        "# o a21 o a22 igual a cero en la segunda ecuación \n",
        "print(\"El valor de x para la ecuación 1 del sistema es: \")\n",
        "a11 = float(input(\"Ingrese el valor de asub11: \"))\n",
        "b1 = float(input(\"Ingrese el valor de b1: \"))\n",
        "x = b1 / a11 \n",
        "if a11 != 0 : \n",
        "    print(\"El valor de x para la ecuación 1 es: \")\n",
        "else: \n",
        "    print(\"Ingresa un valor diferente para a11\")\n",
        "print(\"El valor de x para la ecuación 2 del sistema es: \")\n",
        "a21 = float(input(\"Ingrese el valor de asub11: \"))\n",
        "b2 = float(input(\"Ingrese el valor de b1: \"))\n",
        "x = b2 / a21 \n",
        "if a21 != 0 : \n",
        "    print(\"El valor de x para la ecuación 2 es: \")\n",
        "else: \n",
        "    print(\"Ingresa un valor diferente para a21\")\n",
        "\n",
        "# Considerar el caso en que a12 = a22 = 0 "
      ],
      "metadata": {
        "id": "vNQ6n3ucyz5o"
      },
      "execution_count": null,
      "outputs": []
    },
    {
      "cell_type": "code",
      "source": [
        "# Sea el mismo sistema \n",
        "\n",
        "# Ecuación 1 ----->  a11x + a12y = b1 \n",
        "# Ecuación 2 ----->  a21x + a22y = b2 \n",
        "\n",
        "# Este programa demuestra que cuando a11*a22 - a12*a21 is not 0 , el sistema de ecuaciones presenta una única solución. \n",
        "# Cuando a11*a22 - a12*a21 == 0 , el sistema no tiene solución o tiene soluciones infinitas \n",
        "# Nos referiremos a esta demostración como \"Teorema del resumen\"\n",
        "\n",
        "a11 = float(input(\"Ingrese el valor de a11: \"))\n",
        "a12 = float(input(\"Ingrese el valor de a12: \"))\n",
        "b1 = float(input(\"Ingrese el valor de b1: \"))\n",
        "a21 = float(input(\"Ingrese el valor de a21: \"))\n",
        "a22 = float(input(\"Ingrese el valor de a22: \"))\n",
        "b2 = float(input(\"Inbgrese el valor de b2: \"))\n",
        "m1 = - (a11/a12)\n",
        "print(f\"La pendiente de la recta a11x + a12y = b1 es m = {m1}\")\n",
        "m2 = - (a21/a22)\n",
        "print(f\"La pendiente de la recta a21x + a22y = b2 es m = {m2}\")\n",
        "x = (b1*a22 - b2*a12) / (a11*a22 - a12*a21)\n",
        "if a11*a22 - a12*a21 is not 0: \n",
        "    print(f\"x = {x}\")\n",
        "    y = (b1-a11*x) / a12\n",
        "    if a12 is not 0:            # Cuando ambas pendientes son iguales, significa que el sistema tiene infinitas soluciones o no tiene ninguna \n",
        "        print(f\"y = {y}\")\n",
        "        print(f\"Por lo tanto la solución del sistema es: ({x} , {y})\")\n",
        "        print(\"Como a11*a22 - a12*a21 != 0 el sistema únicamente presenta una solución, y las rectas no son paralelas.\")\n",
        "    else: \n",
        "        print(\"Ingresa valores diferentes para a12\")\n",
        "else:  \n",
        "   print(\"Ingresa valores diferentes para a11, a22, a12 y a21\") \n",
        "# if a11*x + a12*y == a21*x + a22*y:       # Está parte del código funciona, aunque no se aplica debido a la división por 0 \n",
        "#    c1 = a11*x + a12*y \n",
        "#    c2 = a21*x + a22*y \n",
        "#    print(f\"Como {c1} = {c2} entonces el sistema tiene infinitas soluciones.\")\n",
        "# else: \n",
        "#     print(\"Ambas rectas son paralelas, por lo tanto no tienen soluciones en común.\")"
      ],
      "metadata": {
        "id": "FFofBhIS9iGC",
        "outputId": "b4f5ff51-33c4-4483-c59e-77714b54bc93",
        "colab": {
          "base_uri": "https://localhost:8080/"
        }
      },
      "execution_count": null,
      "outputs": [
        {
          "output_type": "stream",
          "name": "stdout",
          "text": [
            "Ingrese el valor de a11: 5\n",
            "Ingrese el valor de a12: 1\n",
            "Ingrese el valor de b1: 1\n",
            "Ingrese el valor de a21: -3\n",
            "Ingrese el valor de a22: 7\n",
            "Inbgrese el valor de b2: 0\n",
            "La pendiente de la recta a11x + a12y = b1 es m = -5.0\n",
            "La pendiente de la recta a21x + a22y = b2 es m = 0.42857142857142855\n",
            "x = 0.18421052631578946\n",
            "y = 0.07894736842105265\n",
            "Por lo tanto la solución del sistema es: (0.18421052631578946 , 0.07894736842105265)\n",
            "Como a11*a22 - a12*a21 != 0 el sistema únicamente presenta una solución, y las rectas no son paralelas.\n"
          ]
        }
      ]
    },
    {
      "cell_type": "markdown",
      "source": [
        "### Para resolver sistemas de ecuaciones más complejos, se utilizan los métodos de eliminación de Gauss y Gauss-Jordan.\n",
        "### En todo caso, elaboraremos un algoritmo similar al que está aquí arriba para resolver un sistema de 3 ecuaciones con 3 incógnitas"
      ],
      "metadata": {
        "id": "tVrrjOLJR-BZ"
      }
    },
    {
      "cell_type": "code",
      "source": [
        "# Sea el sistema\n",
        "\n",
        "# a11x + a12y + a13z = b1 \n",
        "# a21x + a22y + a23z = b2 \n",
        "# a31x + a32y + a33z = b3\n",
        "\n",
        "print(\"Para despejar el valor de z, considerar a11, a12, a21, a22, a31 y a32 con valor igual a 0: \")\n",
        "a13 = float(input(\"Ingrese el valor de a13: \"))\n",
        "b1 = float(input(\"Ingrese el valor de b1: \"))\n",
        "a23 = float(input(\"Ingrese el valor de a23: \"))\n",
        "b2 = float(input(\"Ingrese el valor de b2: \"))\n",
        "a33 = float(input(\"Ingrese el valor de a33: \"))\n",
        "b3 = float(input(\"Ingrese el valor de b3: \"))\n",
        "z = (a13+a23+a33) / (b1+b2+b3)\n",
        "print(f\"z = {z}\")\n",
        "a11 = float(input(\"Ingrese el valor de a11: \"))\n",
        "a12 = float(input(\"Ingrese el valor de a12: \"))\n",
        "\n",
        "a21 = float(input(\"Ingrese el valor de a21: \"))\n",
        "a22 = float(input(\"Ingrese el valor de a22: \"))\n",
        "\n",
        "a31 = float(input(\"Ingrese el valor de a31: \"))\n",
        "a32 = float(input(\"Ingrese el valor de a32: \"))\n",
        "\n",
        "x = (b2*a32 - b3*a22 - (a23*a32 + a33*a22)*z) / (a21*a32 - a31*a22)\n",
        "if a21*a32 - a31*a22 is not 0: \n",
        "    print(f\"x = {x}\")\n",
        "    y = (b1-a13*z-a11*x) / a12\n",
        "    if a12 is not 0: \n",
        "        print(f\"y = {y}\")\n",
        "        print(f\"Por lo tanto la solución del sistema es: ({x} , {y}, {z})\")\n",
        "        print(\"Como el sistema únicamente presenta una solución, las rectas no pueden ser paralelas.\")\n",
        "    else: \n",
        "        print(\"Ingresa valores diferentes para a12\")\n",
        "else:  \n",
        "   print(\"Ingresa valores diferentes para a11, a22, a12 y a21\")"
      ],
      "metadata": {
        "colab": {
          "base_uri": "https://localhost:8080/"
        },
        "id": "mHDUugDbUl0z",
        "outputId": "d91900e6-556c-4519-d5fd-b3806b352b3c"
      },
      "execution_count": null,
      "outputs": [
        {
          "output_type": "stream",
          "name": "stdout",
          "text": [
            "Para despejar el valor de z, considerar a11, a12, a21, a22, a31 y a32 con valor igual a 0: \n",
            "Ingrese el valor de a13: 6\n",
            "Ingrese el valor de b1: 18\n",
            "Ingrese el valor de a23: 6\n",
            "Inbgrese el valor de b2: 24\n",
            "Ingrese el valor de a33: -2\n",
            "Inbgrese el valor de b3: 4\n",
            "z = 0.21739130434782608\n",
            "Ingrese el valor de a11: 2\n",
            "Ingrese el valor de a12: 4\n",
            "Ingrese el valor de a21: 4\n",
            "Ingrese el valor de a22: 5\n",
            "Ingrese el valor de a31: 3\n",
            "Ingrese el valor de a32: 1\n",
            "x = -0.4426877470355732\n",
            "y = 4.395256916996047\n",
            "Por lo tanto la solución del sistema es: (-0.4426877470355732 , 4.395256916996047, 0.21739130434782608)\n",
            "Como el sistema únicamente presenta una solución, las rectas no pueden ser paralelas.\n"
          ]
        }
      ]
    },
    {
      "cell_type": "code",
      "source": [
        "print(\"Para despejar el valor de z, considerar a11, a12, a21, a22, a31 y a32 con valor igual a 0: \")\n",
        "\n",
        "a11 = int(input(\"Ingrese el valor de a11: \"))\n",
        "a12 = int(input(\"Ingrese el valor de a12: \"))\n",
        "a13 = int(input(\"Ingrese el valor de a13: \"))\n",
        "b1 = int(input(\"Ingrese el valor de b1: \"))\n",
        "a21 = int(input(\"Ingrese el valor de a21: \"))\n",
        "a22 = int(input(\"Ingrese el valor de a22: \"))\n",
        "a23 = int(input(\"Ingrese el valor de a23: \"))\n",
        "b2 = int(input(\"Ingrese el valor de b2: \"))\n",
        "a31 = int(input(\"Ingrese el valor de a31: \"))\n",
        "a32 = int(input(\"Ingrese el valor de a32: \"))\n",
        "a33 = int(input(\"Ingrese el valor de a33: \"))\n",
        "b3 = int(input(\"Ingrese el valor de b3: \"))\n",
        "z = ((a21*a32*a22*b1) - (a21*a32*a12*b2) - (a31*a22*a22*b1) + (a31*a22*a12*b2) - (a11*a22*a32*b2) + (a11*a22*a22*b3) + (a12*a21*a32*b2) - (a12*a21*a22*b3)) / (a13*a22*a21*a32 - a21*a32*a23*a12 - a31*a22*a13*a22 + a31*a22*a23*a12 - a11*a22*a23*a32 + a11*a22*a33*a32 + a12*a21*a23*a32 - a12*a21*a33*a32)\n",
        "print(f\"z = {z}\")\n",
        "x = (b2*a32 - b3*a22 - a23*a32*z + a33*a22*z) / (a21*a32 - a31*a22)\n",
        "if a21*a32 - a31*a22 is not 0: \n",
        "    print(f\"x = {x}\")\n",
        "    y = (b1-a13*z-a11*x) / a12\n",
        "    if a12 is not 0: \n",
        "        print(f\"y = {y}\")\n",
        "        print(f\"Por lo tanto la solución del sistema es: ({x} , {y}, {z})\")\n",
        "        print(\"Como el sistema únicamente presenta una solución, las rectas no pueden ser paralelas.\")\n",
        "    else: \n",
        "        print(\"Ingresa valores diferentes para a12\")\n",
        "else:  \n",
        "   print(\"Ingresa valores diferentes para a11, a22, a12 y a21\")\n",
        "\n",
        "# Almenos, por ahora, con los métodos de programación que conozco no soy capaz de escribir un programa que pueda resolver un sistema \n",
        "# De tres ecuaciones con tres incógnitas "
      ],
      "metadata": {
        "colab": {
          "base_uri": "https://localhost:8080/"
        },
        "id": "J4uyWVsThkUf",
        "outputId": "acab278e-2184-499a-dba3-c08b5ac756f7"
      },
      "execution_count": null,
      "outputs": [
        {
          "name": "stdout",
          "output_type": "stream",
          "text": [
            "Para despejar el valor de z, considerar a11, a12, a21, a22, a31 y a32 con valor igual a 0: \n",
            "Ingrese el valor de a11: 3\n",
            "Ingrese el valor de a12: -2\n"
          ]
        }
      ]
    },
    {
      "cell_type": "code",
      "source": [
        "# Algoritmo para la resolución del ejercicio 1, problemas 1 al 16 \n",
        "\n",
        "# En los problemas 1 a 16 encuentre las soluciones (si las hay) de los sistemas dados. En cada caso calcule el valor de a11*a22 - a12*a21  \n",
        "\n",
        "a11 = float(input(\"Ingrese el valor de a11: \"))\n",
        "a12 = float(input(\"Ingrese el valor de a12: \"))\n",
        "b1 = float(input(\"Ingrese el valor de b1: \"))\n",
        "a21 = float(input(\"Ingrese el valor de a21: \"))\n",
        "a22 = float(input(\"Ingrese el valor de a22: \"))\n",
        "b2 = float(input(\"Inbgrese el valor de b2: \"))\n",
        "m1 = - (a11/a12)\n",
        "print(f\"La pendiente de la recta a11x + a12y = b1 es m = {m1}\")\n",
        "m2 = - (a21/a22)\n",
        "print(f\"La pendiente de la recta a21x + a22y = b2 es m = {m2}\")\n",
        "d = a11*a22 - a12*a21\n",
        "print(f\"El valor del determinante es d = {d}\")\n",
        "if d != 0:\n",
        "    print(\"El sistema solamente tiene una solución.\")\n",
        "else:\n",
        "    print(\"El sistema no tiene solución o tiene infinitas soluciones-\")\n",
        "x = (b1*a22 - b2*a12) / (a11*a22 - a12*a21)\n",
        "if a11*a22 - a12*a21 is not 0: \n",
        "    print(f\"x = {x}\")\n",
        "    y = (b1-a11*x) / a12\n",
        "    if a12 is not 0:            # Cuando ambas pendientes son iguales, significa que el sistema tiene infinitas soluciones o no tiene ninguna \n",
        "        print(f\"y = {y}\")\n",
        "        print(f\"Por lo tanto la solución del sistema es: ({x} , {y})\")\n",
        "        print(\"Como a11*a22 - a12*a21 != 0 el sistema únicamente presenta una solución, y las rectas no son paralelas.\")\n",
        "    else: \n",
        "        print(\"Ingresa valores diferentes para a12\")\n",
        "else:  \n",
        "   print(\"Ingresa valores diferentes para a11, a22, a12 y a21\") "
      ],
      "metadata": {
        "id": "EtL1Rh4npy4s"
      },
      "execution_count": null,
      "outputs": []
    },
    {
      "cell_type": "code",
      "source": [
        ""
      ],
      "metadata": {
        "id": "ijv55W_jLySc"
      },
      "execution_count": null,
      "outputs": []
    },
    {
      "cell_type": "code",
      "source": [
        " "
      ],
      "metadata": {
        "id": "PZ78XEOGKe8j",
        "outputId": "9ca3abc0-8771-41dc-a3d0-3dcd3624155e",
        "colab": {
          "base_uri": "https://localhost:8080/"
        }
      },
      "execution_count": null,
      "outputs": [
        {
          "output_type": "stream",
          "name": "stdout",
          "text": [
            "Ingrese el valor de a11: 1\n",
            "Ingrese el valor de a12: -3\n",
            "Ingrese el valor de b1: 4\n",
            "Ingrese el valor de a21: -4\n",
            "Ingrese el valor de a22: 2\n",
            "Inbgrese el valor de b2: 6\n",
            "La pendiente de la recta a11x + a12y = b1 es m = 0.3333333333333333\n",
            "La pendiente de la recta a21x + a22y = b2 es m = 2.0\n",
            "El valor del determinante d es -10.0\n",
            "El sistema solamente tiene una solución.\n",
            "x = -2.6\n",
            "y = -2.1999999999999997\n",
            "Por lo tanto la solución del sistema es: (-2.6 , -2.1999999999999997)\n",
            "Como a11*a22 - a12*a21 != 0 el sistema únicamente presenta una solución, y las rectas no son paralelas.\n"
          ]
        }
      ]
    }
  ]
}